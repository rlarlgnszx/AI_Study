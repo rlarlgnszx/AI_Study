{
  "cells": [
    {
      "cell_type": "markdown",
      "metadata": {
        "id": "qDadodk5TczM"
      },
      "source": [
        "#Mounting Drive"
      ]
    },
    {
      "cell_type": "code",
      "execution_count": 1,
      "metadata": {
        "id": "1nDIBNjdGL0F",
        "outputId": "9de4ea9a-a209-4b1c-943f-cfdd0a6e0a46",
        "colab": {
          "base_uri": "https://localhost:8080/"
        }
      },
      "outputs": [
        {
          "output_type": "stream",
          "name": "stdout",
          "text": [
            "Mounted at /content/drive\n"
          ]
        }
      ],
      "source": [
        "from google.colab import drive\n",
        "drive.mount('/content/drive')"
      ]
    },
    {
      "cell_type": "code",
      "source": [],
      "metadata": {
        "id": "94dgfn4KEDKC"
      },
      "execution_count": null,
      "outputs": []
    },
    {
      "cell_type": "code",
      "execution_count": 4,
      "metadata": {
        "id": "HwyDyzT2R-H7"
      },
      "outputs": [],
      "source": [
        "cp -r '/content/drive/MyDrive/computer_vision/02. 자율주행 제조/코드   데이터/05. DRAEM/DRAEM-PyTorch' drame"
      ]
    },
    {
      "cell_type": "code",
      "source": [
        "cd drame"
      ],
      "metadata": {
        "id": "zJCBBldAEPRd",
        "outputId": "752ed5f9-c61c-4368-9c63-a364c5f7ae28",
        "colab": {
          "base_uri": "https://localhost:8080/"
        }
      },
      "execution_count": 1,
      "outputs": [
        {
          "output_type": "stream",
          "name": "stdout",
          "text": [
            "/content/drame\n"
          ]
        }
      ]
    },
    {
      "cell_type": "code",
      "source": [
        "ls"
      ],
      "metadata": {
        "id": "v01X0YDwH-zg",
        "outputId": "84b09ee6-40cb-4ce9-c97e-377b75a41f38",
        "colab": {
          "base_uri": "https://localhost:8080/"
        }
      },
      "execution_count": 1,
      "outputs": [
        {
          "output_type": "stream",
          "name": "stdout",
          "text": [
            "\u001b[0m\u001b[01;34mdrame\u001b[0m/  \u001b[01;34mdrive\u001b[0m/  \u001b[01;34msample_data\u001b[0m/\n"
          ]
        }
      ]
    },
    {
      "cell_type": "markdown",
      "metadata": {
        "id": "hVMLZMCMt-xF"
      },
      "source": [
        "#Installing Libraries"
      ]
    },
    {
      "cell_type": "code",
      "execution_count": 2,
      "metadata": {
        "id": "tgcFgA4HuCmr",
        "outputId": "6340c1ff-820c-4956-c6f9-2ad441e56079",
        "colab": {
          "base_uri": "https://localhost:8080/"
        }
      },
      "outputs": [
        {
          "output_type": "stream",
          "name": "stdout",
          "text": [
            "Requirement already satisfied: gdown in /usr/local/lib/python3.10/dist-packages (4.6.6)\n",
            "Collecting gdown\n",
            "  Downloading gdown-4.7.1-py3-none-any.whl (15 kB)\n",
            "Requirement already satisfied: filelock in /usr/local/lib/python3.10/dist-packages (from gdown) (3.12.2)\n",
            "Requirement already satisfied: requests[socks] in /usr/local/lib/python3.10/dist-packages (from gdown) (2.31.0)\n",
            "Requirement already satisfied: six in /usr/local/lib/python3.10/dist-packages (from gdown) (1.16.0)\n",
            "Requirement already satisfied: tqdm in /usr/local/lib/python3.10/dist-packages (from gdown) (4.66.1)\n",
            "Requirement already satisfied: beautifulsoup4 in /usr/local/lib/python3.10/dist-packages (from gdown) (4.11.2)\n",
            "Requirement already satisfied: soupsieve>1.2 in /usr/local/lib/python3.10/dist-packages (from beautifulsoup4->gdown) (2.4.1)\n",
            "Requirement already satisfied: charset-normalizer<4,>=2 in /usr/local/lib/python3.10/dist-packages (from requests[socks]->gdown) (3.2.0)\n",
            "Requirement already satisfied: idna<4,>=2.5 in /usr/local/lib/python3.10/dist-packages (from requests[socks]->gdown) (3.4)\n",
            "Requirement already satisfied: urllib3<3,>=1.21.1 in /usr/local/lib/python3.10/dist-packages (from requests[socks]->gdown) (2.0.4)\n",
            "Requirement already satisfied: certifi>=2017.4.17 in /usr/local/lib/python3.10/dist-packages (from requests[socks]->gdown) (2023.7.22)\n",
            "Requirement already satisfied: PySocks!=1.5.7,>=1.5.6 in /usr/local/lib/python3.10/dist-packages (from requests[socks]->gdown) (1.7.1)\n",
            "Installing collected packages: gdown\n",
            "  Attempting uninstall: gdown\n",
            "    Found existing installation: gdown 4.6.6\n",
            "    Uninstalling gdown-4.6.6:\n",
            "      Successfully uninstalled gdown-4.6.6\n",
            "Successfully installed gdown-4.7.1\n"
          ]
        }
      ],
      "source": [
        "!pip install --upgrade --no-cache-dir gdown"
      ]
    },
    {
      "cell_type": "markdown",
      "metadata": {
        "id": "MZn02caWvQxs"
      },
      "source": [
        "#Importing Libraries"
      ]
    },
    {
      "cell_type": "markdown",
      "source": [
        "## dataloader에 정상영상을 비정상으로 만드는 process 포함"
      ],
      "metadata": {
        "id": "Xl0P98NvEmPj"
      }
    },
    {
      "cell_type": "code",
      "execution_count": 2,
      "metadata": {
        "id": "6-x3xwPsvTTV"
      },
      "outputs": [],
      "source": [
        "import torch\n",
        "import torch.nn as nn\n",
        "from data_loader import MVTecDRAEMTrainDataset\n",
        "from torch.utils.data import DataLoader\n",
        "from torch import optim\n",
        "from tensorboard_visualizer import TensorboardVisualizer\n",
        "# from model_unet import ReconstructiveSubNetwork, DiscriminativeSubNetwork\n",
        "from loss import FocalLoss, SSIM\n",
        "import os\n",
        "from data_loader import MVTecDRAEMTestDataset\n",
        "import torch.nn.functional as F\n",
        "\n",
        "import numpy as np\n",
        "from sklearn.metrics import roc_auc_score, average_precision_score\n",
        "\n"
      ]
    },
    {
      "cell_type": "markdown",
      "metadata": {
        "id": "DI0NUWIut5UM"
      },
      "source": [
        "#Defining Variables"
      ]
    },
    {
      "cell_type": "code",
      "execution_count": 3,
      "metadata": {
        "id": "k6ggJPCvt7mz"
      },
      "outputs": [],
      "source": [
        "dataset='./datasets'\n",
        "model='./checkpoints'\n",
        "obj_id=-1\n",
        "bs=9\n",
        "lr= 0.0001\n",
        "epochs=100\n",
        "gpu_id=0\n",
        "data_path='./datasets/mvtec/'\n",
        "anomaly_source_path='./datasets/dtd/images/'\n",
        "checkpoint_path='./checkpoints/'\n",
        "log_path='./logs/'\n",
        "visualize= False\n",
        "base_model_name='DRAEM_seg_large_ae_large_0.0001_800_bs8'\n",
        "\n"
      ]
    },
    {
      "cell_type": "markdown",
      "metadata": {
        "id": "5_itwlJR_Ccj"
      },
      "source": [
        "#Defining Model\n"
      ]
    },
    {
      "cell_type": "code",
      "execution_count": 4,
      "metadata": {
        "id": "4Y5Xozs7_EjV"
      },
      "outputs": [],
      "source": [
        "\n",
        "\n",
        "\n",
        "class ReconstructiveSubNetwork(nn.Module):\n",
        "  ## anomaly 한 데이터를 nomaly 한 데이터로 바꿔주는 네트워크\n",
        "    def __init__(self,in_channels=3, out_channels=3, base_width=128):\n",
        "        super(ReconstructiveSubNetwork, self).__init__()\n",
        "        self.encoder = EncoderReconstructive(in_channels, base_width)\n",
        "        self.decoder = DecoderReconstructive(base_width, out_channels=out_channels)\n",
        "\n",
        "    def forward(self, x):\n",
        "        b5 = self.encoder(x)\n",
        "        output = self.decoder(b5)\n",
        "        return output\n",
        "\n",
        "class DiscriminativeSubNetwork(nn.Module):\n",
        "  ## annomaly 영상을 concat한 masking 한 prediction을 내는 것\n",
        "    def __init__(self,in_channels=3, out_channels=3, base_channels=64, out_features=False):\n",
        "        super(DiscriminativeSubNetwork, self).__init__()\n",
        "        base_width = base_channels\n",
        "        self.encoder_segment = EncoderDiscriminative(in_channels, base_width)\n",
        "        self.decoder_segment = DecoderDiscriminative(base_width, out_channels=out_channels)\n",
        "        #self.segment_act = torch.nn.Sigmoid()\n",
        "        self.out_features = out_features\n",
        "    def forward(self, x):\n",
        "        b1,b2,b3,b4,b5,b6 = self.encoder_segment(x) # skip connetction?\n",
        "        output_segment = self.decoder_segment(b1,b2,b3,b4,b5,b6)\n",
        "        if self.out_features:\n",
        "            return output_segment, b2, b3, b4, b5, b6 # skip connection에 해당\n",
        "        else:\n",
        "            return output_segment\n",
        "\n",
        "class EncoderDiscriminative(nn.Module):\n",
        "    def __init__(self, in_channels, base_width):\n",
        "        super(EncoderDiscriminative, self).__init__()\n",
        "        self.block1 = nn.Sequential(\n",
        "            nn.Conv2d(in_channels,base_width, kernel_size=3, padding=1),\n",
        "            nn.BatchNorm2d(base_width),\n",
        "            nn.ReLU(inplace=True),\n",
        "            nn.Conv2d(base_width, base_width, kernel_size=3, padding=1),\n",
        "            nn.BatchNorm2d(base_width),\n",
        "            nn.ReLU(inplace=True))\n",
        "        self.mp1 = nn.Sequential(nn.MaxPool2d(2))\n",
        "        self.block2 = nn.Sequential(\n",
        "            nn.Conv2d(base_width,base_width*2, kernel_size=3, padding=1),\n",
        "            nn.BatchNorm2d(base_width*2),\n",
        "            nn.ReLU(inplace=True),\n",
        "            nn.Conv2d(base_width*2, base_width*2, kernel_size=3, padding=1),\n",
        "            nn.BatchNorm2d(base_width*2),\n",
        "            nn.ReLU(inplace=True))\n",
        "        self.mp2 = nn.Sequential(nn.MaxPool2d(2))\n",
        "        self.block3 = nn.Sequential(\n",
        "            nn.Conv2d(base_width*2,base_width*4, kernel_size=3, padding=1),\n",
        "            nn.BatchNorm2d(base_width*4),\n",
        "            nn.ReLU(inplace=True),\n",
        "            nn.Conv2d(base_width*4, base_width*4, kernel_size=3, padding=1),\n",
        "            nn.BatchNorm2d(base_width*4),\n",
        "            nn.ReLU(inplace=True))\n",
        "        self.mp3 = nn.Sequential(nn.MaxPool2d(2))\n",
        "        self.block4 = nn.Sequential(\n",
        "            nn.Conv2d(base_width*4,base_width*8, kernel_size=3, padding=1),\n",
        "            nn.BatchNorm2d(base_width*8),\n",
        "            nn.ReLU(inplace=True),\n",
        "            nn.Conv2d(base_width*8, base_width*8, kernel_size=3, padding=1),\n",
        "            nn.BatchNorm2d(base_width*8),\n",
        "            nn.ReLU(inplace=True))\n",
        "        self.mp4 = nn.Sequential(nn.MaxPool2d(2))\n",
        "        self.block5 = nn.Sequential(\n",
        "            nn.Conv2d(base_width*8,base_width*8, kernel_size=3, padding=1),\n",
        "            nn.BatchNorm2d(base_width*8),\n",
        "            nn.ReLU(inplace=True),\n",
        "            nn.Conv2d(base_width*8, base_width*8, kernel_size=3, padding=1),\n",
        "            nn.BatchNorm2d(base_width*8),\n",
        "            nn.ReLU(inplace=True))\n",
        "\n",
        "        self.mp5 = nn.Sequential(nn.MaxPool2d(2))\n",
        "        self.block6 = nn.Sequential(\n",
        "            nn.Conv2d(base_width*8,base_width*8, kernel_size=3, padding=1),\n",
        "            nn.BatchNorm2d(base_width*8),\n",
        "            nn.ReLU(inplace=True),\n",
        "            nn.Conv2d(base_width*8, base_width*8, kernel_size=3, padding=1),\n",
        "            nn.BatchNorm2d(base_width*8),\n",
        "            nn.ReLU(inplace=True))\n",
        "\n",
        "\n",
        "    def forward(self, x):\n",
        "        b1 = self.block1(x)\n",
        "        mp1 = self.mp1(b1)\n",
        "        b2 = self.block2(mp1)\n",
        "        mp2 = self.mp3(b2)\n",
        "        b3 = self.block3(mp2)\n",
        "        mp3 = self.mp3(b3)\n",
        "        b4 = self.block4(mp3)\n",
        "        mp4 = self.mp4(b4)\n",
        "        b5 = self.block5(mp4)\n",
        "        mp5 = self.mp5(b5)\n",
        "        b6 = self.block6(mp5)\n",
        "        return b1,b2,b3,b4,b5,b6\n",
        "\n",
        "class DecoderDiscriminative(nn.Module):\n",
        "    def __init__(self, base_width, out_channels=1):\n",
        "        super(DecoderDiscriminative, self).__init__()\n",
        "        #unet  모양\n",
        "        self.up_b = nn.Sequential(nn.Upsample(scale_factor=2, mode='bilinear', align_corners=True),\n",
        "                                 nn.Conv2d(base_width * 8, base_width * 8, kernel_size=3, padding=1),\n",
        "                                 nn.BatchNorm2d(base_width * 8),\n",
        "                                 nn.ReLU(inplace=True))\n",
        "        self.db_b = nn.Sequential(\n",
        "            nn.Conv2d(base_width*(8+8), base_width*8, kernel_size=3, padding=1),\n",
        "            nn.BatchNorm2d(base_width*8),\n",
        "            nn.ReLU(inplace=True),\n",
        "            nn.Conv2d(base_width * 8, base_width * 8, kernel_size=3, padding=1),\n",
        "            nn.BatchNorm2d(base_width * 8),\n",
        "            nn.ReLU(inplace=True)\n",
        "        )\n",
        "\n",
        "\n",
        "        self.up1 = nn.Sequential(nn.Upsample(scale_factor=2, mode='bilinear', align_corners=True),\n",
        "                                 nn.Conv2d(base_width * 8, base_width * 4, kernel_size=3, padding=1),\n",
        "                                 nn.BatchNorm2d(base_width * 4),\n",
        "                                 nn.ReLU(inplace=True))\n",
        "        self.db1 = nn.Sequential(\n",
        "            nn.Conv2d(base_width*(4+8), base_width*4, kernel_size=3, padding=1),\n",
        "            nn.BatchNorm2d(base_width*4),\n",
        "            nn.ReLU(inplace=True),\n",
        "            nn.Conv2d(base_width * 4, base_width * 4, kernel_size=3, padding=1),\n",
        "            nn.BatchNorm2d(base_width * 4),\n",
        "            nn.ReLU(inplace=True)\n",
        "        )\n",
        "\n",
        "        self.up2 = nn.Sequential(nn.Upsample(scale_factor=2, mode='bilinear', align_corners=True),\n",
        "                                 nn.Conv2d(base_width * 4, base_width * 2, kernel_size=3, padding=1),\n",
        "                                 nn.BatchNorm2d(base_width * 2),\n",
        "                                 nn.ReLU(inplace=True))\n",
        "        self.db2 = nn.Sequential(\n",
        "            nn.Conv2d(base_width*(2+4), base_width*2, kernel_size=3, padding=1),\n",
        "            nn.BatchNorm2d(base_width*2),\n",
        "            nn.ReLU(inplace=True),\n",
        "            nn.Conv2d(base_width * 2, base_width * 2, kernel_size=3, padding=1),\n",
        "            nn.BatchNorm2d(base_width * 2),\n",
        "            nn.ReLU(inplace=True)\n",
        "        )\n",
        "\n",
        "        self.up3 = nn.Sequential(nn.Upsample(scale_factor=2, mode='bilinear', align_corners=True),\n",
        "                                 nn.Conv2d(base_width * 2, base_width, kernel_size=3, padding=1),\n",
        "                                 nn.BatchNorm2d(base_width),\n",
        "                                 nn.ReLU(inplace=True))\n",
        "        self.db3 = nn.Sequential(\n",
        "            nn.Conv2d(base_width*(2+1), base_width, kernel_size=3, padding=1),\n",
        "            nn.BatchNorm2d(base_width),\n",
        "            nn.ReLU(inplace=True),\n",
        "            nn.Conv2d(base_width, base_width, kernel_size=3, padding=1),\n",
        "            nn.BatchNorm2d(base_width),\n",
        "            nn.ReLU(inplace=True)\n",
        "        )\n",
        "\n",
        "        self.up4 = nn.Sequential(nn.Upsample(scale_factor=2, mode='bilinear', align_corners=True),\n",
        "                                 nn.Conv2d(base_width, base_width, kernel_size=3, padding=1),\n",
        "                                 nn.BatchNorm2d(base_width),\n",
        "                                 nn.ReLU(inplace=True))\n",
        "        self.db4 = nn.Sequential(\n",
        "            nn.Conv2d(base_width*2, base_width, kernel_size=3, padding=1),\n",
        "            nn.BatchNorm2d(base_width),\n",
        "            nn.ReLU(inplace=True),\n",
        "            nn.Conv2d(base_width, base_width, kernel_size=3, padding=1),\n",
        "            nn.BatchNorm2d(base_width),\n",
        "            nn.ReLU(inplace=True)\n",
        "        )\n",
        "\n",
        "\n",
        "        # output =1 : binary mask\n",
        "        self.fin_out = nn.Sequential(nn.Conv2d(base_width, out_channels, kernel_size=3, padding=1))\n",
        "\n",
        "    def forward(self, b1,b2,b3,b4,b5,b6):\n",
        "        up_b = self.up_b(b6)\n",
        "        cat_b = torch.cat((up_b,b5),dim=1)\n",
        "        db_b = self.db_b(cat_b)\n",
        "\n",
        "        up1 = self.up1(db_b)\n",
        "        cat1 = torch.cat((up1,b4),dim=1)\n",
        "        db1 = self.db1(cat1)\n",
        "\n",
        "        up2 = self.up2(db1)\n",
        "        cat2 = torch.cat((up2,b3),dim=1)\n",
        "        db2 = self.db2(cat2)\n",
        "\n",
        "        up3 = self.up3(db2)\n",
        "        cat3 = torch.cat((up3,b2),dim=1)\n",
        "        db3 = self.db3(cat3)\n",
        "\n",
        "        up4 = self.up4(db3)\n",
        "        cat4 = torch.cat((up4,b1),dim=1)\n",
        "        db4 = self.db4(cat4)\n",
        "\n",
        "        out = self.fin_out(db4)\n",
        "        return out\n",
        "\n",
        "\n",
        "\n",
        "class EncoderReconstructive(nn.Module):\n",
        "    def __init__(self, in_channels, base_width):\n",
        "        super(EncoderReconstructive, self).__init__()\n",
        "        self.block1 = nn.Sequential(\n",
        "            nn.Conv2d(in_channels,base_width, kernel_size=3, padding=1),\n",
        "            nn.BatchNorm2d(base_width),\n",
        "            nn.ReLU(inplace=True),\n",
        "            nn.Conv2d(base_width, base_width, kernel_size=3, padding=1),\n",
        "            nn.BatchNorm2d(base_width),\n",
        "            nn.ReLU(inplace=True))\n",
        "        self.mp1 = nn.Sequential(nn.MaxPool2d(2))\n",
        "        self.block2 = nn.Sequential(\n",
        "            nn.Conv2d(base_width,base_width*2, kernel_size=3, padding=1),\n",
        "            nn.BatchNorm2d(base_width*2),\n",
        "            nn.ReLU(inplace=True),\n",
        "            nn.Conv2d(base_width*2, base_width*2, kernel_size=3, padding=1),\n",
        "            nn.BatchNorm2d(base_width*2),\n",
        "            nn.ReLU(inplace=True))\n",
        "        self.mp2 = nn.Sequential(nn.MaxPool2d(2))\n",
        "        self.block3 = nn.Sequential(\n",
        "            nn.Conv2d(base_width*2,base_width*4, kernel_size=3, padding=1),\n",
        "            nn.BatchNorm2d(base_width*4),\n",
        "            nn.ReLU(inplace=True),\n",
        "            nn.Conv2d(base_width*4, base_width*4, kernel_size=3, padding=1),\n",
        "            nn.BatchNorm2d(base_width*4),\n",
        "            nn.ReLU(inplace=True))\n",
        "        self.mp3 = nn.Sequential(nn.MaxPool2d(2))\n",
        "        self.block4 = nn.Sequential(\n",
        "            nn.Conv2d(base_width*4,base_width*8, kernel_size=3, padding=1),\n",
        "            nn.BatchNorm2d(base_width*8),\n",
        "            nn.ReLU(inplace=True),\n",
        "            nn.Conv2d(base_width*8, base_width*8, kernel_size=3, padding=1),\n",
        "            nn.BatchNorm2d(base_width*8),\n",
        "            nn.ReLU(inplace=True))\n",
        "        self.mp4 = nn.Sequential(nn.MaxPool2d(2))\n",
        "        self.block5 = nn.Sequential(\n",
        "            nn.Conv2d(base_width*8,base_width*8, kernel_size=3, padding=1),\n",
        "            nn.BatchNorm2d(base_width*8),\n",
        "            nn.ReLU(inplace=True),\n",
        "            nn.Conv2d(base_width*8, base_width*8, kernel_size=3, padding=1),\n",
        "            nn.BatchNorm2d(base_width*8),\n",
        "            nn.ReLU(inplace=True))\n",
        "\n",
        "\n",
        "    def forward(self, x):\n",
        "        b1 = self.block1(x)\n",
        "        mp1 = self.mp1(b1)\n",
        "        b2 = self.block2(mp1)\n",
        "        mp2 = self.mp3(b2)\n",
        "        b3 = self.block3(mp2)\n",
        "        mp3 = self.mp3(b3)\n",
        "        b4 = self.block4(mp3)\n",
        "        mp4 = self.mp4(b4)\n",
        "        b5 = self.block5(mp4)\n",
        "        return b5 # b5 까지만 보내줌\n",
        "\n",
        "\n",
        "class DecoderReconstructive(nn.Module):\n",
        "    def __init__(self, base_width, out_channels=1):\n",
        "        super(DecoderReconstructive, self).__init__()\n",
        "        # skip connection 없음 , 덧셈 X\n",
        "        self.up1 = nn.Sequential(nn.Upsample(scale_factor=2, mode='bilinear', align_corners=True),\n",
        "                                 nn.Conv2d(base_width * 8, base_width * 8, kernel_size=3, padding=1),\n",
        "                                 nn.BatchNorm2d(base_width * 8),\n",
        "                                 nn.ReLU(inplace=True))\n",
        "        self.db1 = nn.Sequential(\n",
        "            nn.Conv2d(base_width*8, base_width*8, kernel_size=3, padding=1),\n",
        "            nn.BatchNorm2d(base_width*8),\n",
        "            nn.ReLU(inplace=True),\n",
        "            nn.Conv2d(base_width * 8, base_width * 4, kernel_size=3, padding=1),\n",
        "            nn.BatchNorm2d(base_width * 4),\n",
        "            nn.ReLU(inplace=True)\n",
        "        )\n",
        "\n",
        "        self.up2 = nn.Sequential(nn.Upsample(scale_factor=2, mode='bilinear', align_corners=True),\n",
        "                                 nn.Conv2d(base_width * 4, base_width * 4, kernel_size=3, padding=1),\n",
        "                                 nn.BatchNorm2d(base_width * 4),\n",
        "                                 nn.ReLU(inplace=True))\n",
        "        self.db2 = nn.Sequential(\n",
        "            nn.Conv2d(base_width*4, base_width*4, kernel_size=3, padding=1),\n",
        "            nn.BatchNorm2d(base_width*4),\n",
        "            nn.ReLU(inplace=True),\n",
        "            nn.Conv2d(base_width * 4, base_width * 2, kernel_size=3, padding=1),\n",
        "            nn.BatchNorm2d(base_width * 2),\n",
        "            nn.ReLU(inplace=True)\n",
        "        )\n",
        "\n",
        "        self.up3 = nn.Sequential(nn.Upsample(scale_factor=2, mode='bilinear', align_corners=True),\n",
        "                                 nn.Conv2d(base_width * 2, base_width*2, kernel_size=3, padding=1),\n",
        "                                 nn.BatchNorm2d(base_width*2),\n",
        "                                 nn.ReLU(inplace=True))\n",
        "        # cat with base*1\n",
        "        self.db3 = nn.Sequential(\n",
        "            nn.Conv2d(base_width*2, base_width*2, kernel_size=3, padding=1),\n",
        "            nn.BatchNorm2d(base_width*2),\n",
        "            nn.ReLU(inplace=True),\n",
        "            nn.Conv2d(base_width*2, base_width*1, kernel_size=3, padding=1),\n",
        "            nn.BatchNorm2d(base_width*1),\n",
        "            nn.ReLU(inplace=True)\n",
        "        )\n",
        "\n",
        "        self.up4 = nn.Sequential(nn.Upsample(scale_factor=2, mode='bilinear', align_corners=True),\n",
        "                                 nn.Conv2d(base_width, base_width, kernel_size=3, padding=1),\n",
        "                                 nn.BatchNorm2d(base_width),\n",
        "                                 nn.ReLU(inplace=True))\n",
        "        self.db4 = nn.Sequential(\n",
        "            nn.Conv2d(base_width*1, base_width, kernel_size=3, padding=1),\n",
        "            nn.BatchNorm2d(base_width),\n",
        "            nn.ReLU(inplace=True),\n",
        "            nn.Conv2d(base_width, base_width, kernel_size=3, padding=1),\n",
        "            nn.BatchNorm2d(base_width),\n",
        "            nn.ReLU(inplace=True)\n",
        "        )\n",
        "\n",
        "        self.fin_out = nn.Sequential(nn.Conv2d(base_width, out_channels, kernel_size=3, padding=1))\n",
        "        #self.fin_out = nn.Conv2d(base_width, out_channels, kernel_size=3, padding=1)\n",
        "\n",
        "    def forward(self, b5):\n",
        "        up1 = self.up1(b5)\n",
        "        db1 = self.db1(up1)\n",
        "\n",
        "        up2 = self.up2(db1)\n",
        "        db2 = self.db2(up2)\n",
        "\n",
        "        up3 = self.up3(db2)\n",
        "        db3 = self.db3(up3)\n",
        "\n",
        "        up4 = self.up4(db3)\n",
        "        db4 = self.db4(up4)\n",
        "\n",
        "        out = self.fin_out(db4)\n",
        "        return out"
      ]
    },
    {
      "cell_type": "markdown",
      "metadata": {
        "id": "ilvq2PUDTf60"
      },
      "source": [
        "#Downloading Dataset\n",
        "\n"
      ]
    },
    {
      "cell_type": "code",
      "execution_count": 10,
      "metadata": {
        "id": "qO6RiQ3qRQvS",
        "outputId": "c1e3621c-f995-44cd-d48e-1c37c43d5b7a",
        "colab": {
          "base_uri": "https://localhost:8080/"
        }
      },
      "outputs": [
        {
          "output_type": "stream",
          "name": "stdout",
          "text": [
            "Downloading Dataset\n",
            "--2023-08-17 10:36:37--  https://www.robots.ox.ac.uk/~vgg/data/dtd/download/dtd-r1.0.1.tar.gz\n",
            "Resolving www.robots.ox.ac.uk (www.robots.ox.ac.uk)... 129.67.94.2\n",
            "Connecting to www.robots.ox.ac.uk (www.robots.ox.ac.uk)|129.67.94.2|:443... connected.\n",
            "HTTP request sent, awaiting response... 301 Moved Permanently\n",
            "Location: https://thor.robots.ox.ac.uk/datasets/dtd/dtd-r1.0.1.tar.gz [following]\n",
            "--2023-08-17 10:36:38--  https://thor.robots.ox.ac.uk/datasets/dtd/dtd-r1.0.1.tar.gz\n",
            "Resolving thor.robots.ox.ac.uk (thor.robots.ox.ac.uk)... 129.67.95.98\n",
            "Connecting to thor.robots.ox.ac.uk (thor.robots.ox.ac.uk)|129.67.95.98|:443... connected.\n",
            "HTTP request sent, awaiting response... 200 OK\n",
            "Length: 625239812 (596M) [application/octet-stream]\n",
            "Saving to: ‘dtd-r1.0.1.tar.gz’\n",
            "\n",
            "dtd-r1.0.1.tar.gz   100%[===================>] 596.27M   213MB/s    in 2.8s    \n",
            "\n",
            "2023-08-17 10:36:41 (213 MB/s) - ‘dtd-r1.0.1.tar.gz’ saved [625239812/625239812]\n",
            "\n",
            "--2023-08-17 10:36:48--  https://www.mydrive.ch/shares/38536/3830184030e49fe74747669442f0f282/download/420938113-1629952094/mvtec_anomaly_detection.tar.xz\n",
            "Resolving www.mydrive.ch (www.mydrive.ch)... 91.214.169.64\n",
            "Connecting to www.mydrive.ch (www.mydrive.ch)|91.214.169.64|:443... connected.\n",
            "HTTP request sent, awaiting response... 200 OK\n",
            "Length: 5264982680 (4.9G) [application/x-xz]\n",
            "Saving to: ‘mvtec_anomaly_detection.tar.xz’\n",
            "\n",
            "mvtec_anomaly_detec 100%[===================>]   4.90G  55.7MB/s    in 2m 24s  \n",
            "\n",
            "2023-08-17 10:39:13 (34.8 MB/s) - ‘mvtec_anomaly_detection.tar.xz’ saved [5264982680/5264982680]\n",
            "\n"
          ]
        }
      ],
      "source": [
        "if os.path.exists(dataset) is False:\n",
        "  print(\"Downloading Dataset\")\n",
        "\n",
        "\n",
        "  !mkdir datasets\n",
        "  !wget https://www.robots.ox.ac.uk/~vgg/data/dtd/download/dtd-r1.0.1.tar.gz\n",
        "  !tar -xf dtd-r1.0.1.tar.gz -C datasets\n",
        "  !rm dtd-r1.0.1.tar.gz\n",
        "\n",
        "  os.makedirs('datasets/mvtec')\n",
        "  # # Download MVTec anomaly detection dataset\n",
        "  !wget https://www.mydrive.ch/shares/38536/3830184030e49fe74747669442f0f282/download/420938113-1629952094/mvtec_anomaly_detection.tar.xz\n",
        "  !tar -xf mvtec_anomaly_detection.tar.xz -C datasets/mvtec\n",
        "  !rm mvtec_anomaly_detection.tar.xz\n",
        "\n",
        "else:\n",
        "  print('Dataset already Downloaded')"
      ]
    },
    {
      "cell_type": "markdown",
      "metadata": {
        "id": "QnoGp7CJuJtj"
      },
      "source": [
        "#Downloading PreTrained Model"
      ]
    },
    {
      "cell_type": "code",
      "execution_count": 11,
      "metadata": {
        "id": "LNbXKjNpuOb1",
        "outputId": "d5d5379c-24f6-4600-99d3-a2e0810ea9b0",
        "colab": {
          "base_uri": "https://localhost:8080/"
        }
      },
      "outputs": [
        {
          "output_type": "stream",
          "name": "stdout",
          "text": [
            "Downloading PreTrained Model\n",
            "Downloading...\n",
            "From (uriginal): https://drive.google.com/uc?id=1eOE8wXNihjsiDvDANHFbg_mQkLesDrs1\n",
            "From (redirected): https://drive.google.com/uc?id=1eOE8wXNihjsiDvDANHFbg_mQkLesDrs1&confirm=t&uuid=7fff4410-5f56-4025-adf9-86fe3ba24fba\n",
            "To: /content/drame/DRAEM_checkpoints.zip\n",
            "100% 5.43G/5.43G [01:04<00:00, 83.8MB/s]\n",
            "Archive:  DRAEM_checkpoints.zip\n",
            "   creating: checkpoints/DRAEM_checkpoints/\n",
            "  inflating: checkpoints/DRAEM_checkpoints/DRAEM_seg_large_ae_large_0.0001_800_bs8_bottle_.pckl  \n",
            "  inflating: checkpoints/DRAEM_checkpoints/DRAEM_seg_large_ae_large_0.0001_800_bs8_bottle__seg.pckl  \n",
            "  inflating: checkpoints/DRAEM_checkpoints/DRAEM_seg_large_ae_large_0.0001_800_bs8_cable_.pckl  \n",
            "  inflating: checkpoints/DRAEM_checkpoints/DRAEM_seg_large_ae_large_0.0001_800_bs8_cable__seg.pckl  \n",
            "  inflating: checkpoints/DRAEM_checkpoints/DRAEM_seg_large_ae_large_0.0001_800_bs8_capsule_.pckl  \n",
            "  inflating: checkpoints/DRAEM_checkpoints/DRAEM_seg_large_ae_large_0.0001_800_bs8_capsule__seg.pckl  \n",
            "  inflating: checkpoints/DRAEM_checkpoints/DRAEM_seg_large_ae_large_0.0001_800_bs8_carpet_.pckl  \n",
            "  inflating: checkpoints/DRAEM_checkpoints/DRAEM_seg_large_ae_large_0.0001_800_bs8_carpet__seg.pckl  \n",
            "  inflating: checkpoints/DRAEM_checkpoints/DRAEM_seg_large_ae_large_0.0001_800_bs8_grid_.pckl  \n",
            "  inflating: checkpoints/DRAEM_checkpoints/DRAEM_seg_large_ae_large_0.0001_800_bs8_grid__seg.pckl  \n",
            "  inflating: checkpoints/DRAEM_checkpoints/DRAEM_seg_large_ae_large_0.0001_800_bs8_hazelnut_.pckl  \n",
            "  inflating: checkpoints/DRAEM_checkpoints/DRAEM_seg_large_ae_large_0.0001_800_bs8_hazelnut__seg.pckl  \n",
            "  inflating: checkpoints/DRAEM_checkpoints/DRAEM_seg_large_ae_large_0.0001_800_bs8_leather_.pckl  \n",
            "  inflating: checkpoints/DRAEM_checkpoints/DRAEM_seg_large_ae_large_0.0001_800_bs8_leather__seg.pckl  \n",
            "  inflating: checkpoints/DRAEM_checkpoints/DRAEM_seg_large_ae_large_0.0001_800_bs8_metal_nut_.pckl  \n",
            "  inflating: checkpoints/DRAEM_checkpoints/DRAEM_seg_large_ae_large_0.0001_800_bs8_metal_nut__seg.pckl  \n",
            "  inflating: checkpoints/DRAEM_checkpoints/DRAEM_seg_large_ae_large_0.0001_800_bs8_pill_.pckl  \n",
            "  inflating: checkpoints/DRAEM_checkpoints/DRAEM_seg_large_ae_large_0.0001_800_bs8_pill__seg.pckl  \n",
            "  inflating: checkpoints/DRAEM_checkpoints/DRAEM_seg_large_ae_large_0.0001_800_bs8_screw_.pckl  \n",
            "  inflating: checkpoints/DRAEM_checkpoints/DRAEM_seg_large_ae_large_0.0001_800_bs8_screw__seg.pckl  \n",
            "  inflating: checkpoints/DRAEM_checkpoints/DRAEM_seg_large_ae_large_0.0001_800_bs8_tile_.pckl  \n",
            "  inflating: checkpoints/DRAEM_checkpoints/DRAEM_seg_large_ae_large_0.0001_800_bs8_tile__seg.pckl  \n",
            "  inflating: checkpoints/DRAEM_checkpoints/DRAEM_seg_large_ae_large_0.0001_800_bs8_toothbrush_.pckl  \n",
            "  inflating: checkpoints/DRAEM_checkpoints/DRAEM_seg_large_ae_large_0.0001_800_bs8_toothbrush__seg.pckl  \n",
            "  inflating: checkpoints/DRAEM_checkpoints/DRAEM_seg_large_ae_large_0.0001_800_bs8_transistor_.pckl  \n",
            "  inflating: checkpoints/DRAEM_checkpoints/DRAEM_seg_large_ae_large_0.0001_800_bs8_transistor__seg.pckl  \n",
            "  inflating: checkpoints/DRAEM_checkpoints/DRAEM_seg_large_ae_large_0.0001_800_bs8_wood_.pckl  \n",
            "  inflating: checkpoints/DRAEM_checkpoints/DRAEM_seg_large_ae_large_0.0001_800_bs8_wood__seg.pckl  \n",
            "  inflating: checkpoints/DRAEM_checkpoints/DRAEM_seg_large_ae_large_0.0001_800_bs8_zipper_.pckl  \n",
            "  inflating: checkpoints/DRAEM_checkpoints/DRAEM_seg_large_ae_large_0.0001_800_bs8_zipper__seg.pckl  \n"
          ]
        }
      ],
      "source": [
        "if os.path.exists(model) is False:\n",
        "  print(\"Downloading PreTrained Model\")\n",
        "\n",
        "\n",
        "  !mkdir checkpoints\n",
        "  !gdown https://drive.google.com/uc?id=1eOE8wXNihjsiDvDANHFbg_mQkLesDrs1\n",
        "  !unzip DRAEM_checkpoints.zip -d checkpoints\n",
        "\n",
        "else:\n",
        "  print('PreTrained Model Already Downloaded')"
      ]
    },
    {
      "cell_type": "markdown",
      "metadata": {
        "id": "-YPsfXak7lXw"
      },
      "source": [
        "#Training Script\n"
      ]
    },
    {
      "cell_type": "code",
      "execution_count": null,
      "metadata": {
        "colab": {
          "base_uri": "https://localhost:8080/",
          "height": 1000
        },
        "id": "RZkg3oya7nWQ",
        "outputId": "7b9b961b-8150-4965-c23a-978bd6e6510b"
      },
      "outputs": [
        {
          "output_type": "stream",
          "name": "stdout",
          "text": [
            "Epoch: 0\n"
          ]
        },
        {
          "output_type": "stream",
          "name": "stderr",
          "text": [
            "/usr/local/lib/python3.10/dist-packages/torch/utils/data/dataloader.py:560: UserWarning: This DataLoader will create 16 worker processes in total. Our suggested max number of worker in current system is 2, which is smaller than what this DataLoader is going to create. Please be aware that excessive worker creation might get DataLoader running slow or even freeze, lower the worker number to avoid potential slowness/freeze if necessary.\n",
            "  warnings.warn(_create_warning_msg(\n"
          ]
        },
        {
          "output_type": "stream",
          "name": "stdout",
          "text": [
            "height = 900, width = 900height = 900, width = 900\n",
            "\n",
            "resized image shape = resized image shape =  (256, 256, 3) \n",
            "(256, 256, 3)height = 900, width = 900\n",
            "/n########################################/n########################################\n",
            "\n",
            "\n",
            "resized image shape =  height = 900, width = 900height = 900, width = 900(256, 256, 3)"
          ]
        },
        {
          "output_type": "display_data",
          "data": {
            "text/plain": [
              "array([[[251, 255, 255],\n",
              "        [251, 255, 255],\n",
              "        [255, 255, 255],\n",
              "        ...,\n",
              "        [255, 255, 255],\n",
              "        [255, 255, 255],\n",
              "        [255, 255, 255]],\n",
              "\n",
              "       [[247, 251, 252],\n",
              "        [248, 253, 252],\n",
              "        [252, 254, 254],\n",
              "        ...,\n",
              "        [255, 255, 255],\n",
              "        [255, 255, 255],\n",
              "        [255, 255, 255]],\n",
              "\n",
              "       [[251, 255, 255],\n",
              "        [251, 255, 255],\n",
              "        [250, 252, 252],\n",
              "        ...,\n",
              "        [255, 255, 255],\n",
              "        [255, 255, 255],\n",
              "        [255, 255, 255]],\n",
              "\n",
              "       ...,\n",
              "\n",
              "       [[255, 255, 255],\n",
              "        [255, 255, 255],\n",
              "        [255, 255, 255],\n",
              "        ...,\n",
              "        [101, 152, 195],\n",
              "        [ 87, 140, 183],\n",
              "        [ 74, 127, 170]],\n",
              "\n",
              "       [[255, 255, 255],\n",
              "        [255, 255, 255],\n",
              "        [255, 255, 255],\n",
              "        ...,\n",
              "        [ 91, 142, 185],\n",
              "        [ 83, 136, 179],\n",
              "        [ 70, 123, 166]],\n",
              "\n",
              "       [[255, 255, 255],\n",
              "        [255, 255, 255],\n",
              "        [255, 255, 255],\n",
              "        ...,\n",
              "        [ 95, 146, 189],\n",
              "        [101, 154, 197],\n",
              "        [ 87, 140, 183]]], dtype=uint8)"
            ]
          },
          "metadata": {}
        },
        {
          "output_type": "stream",
          "name": "stdout",
          "text": [
            "\n",
            "\n",
            "\n"
          ]
        },
        {
          "output_type": "display_data",
          "data": {
            "text/plain": [
              "array([[[173, 173, 173],\n",
              "        [175, 175, 175],\n",
              "        [183, 183, 183],\n",
              "        ...,\n",
              "        [176, 176, 176],\n",
              "        [178, 178, 178],\n",
              "        [175, 175, 175]],\n",
              "\n",
              "       [[183, 183, 183],\n",
              "        [180, 180, 180],\n",
              "        [176, 176, 176],\n",
              "        ...,\n",
              "        [183, 183, 183],\n",
              "        [183, 183, 183],\n",
              "        [181, 181, 181]],\n",
              "\n",
              "       [[177, 177, 177],\n",
              "        [179, 179, 179],\n",
              "        [177, 177, 177],\n",
              "        ...,\n",
              "        [181, 181, 181],\n",
              "        [178, 178, 178],\n",
              "        [176, 176, 176]],\n",
              "\n",
              "       ...,\n",
              "\n",
              "       [[185, 185, 185],\n",
              "        [174, 174, 174],\n",
              "        [173, 173, 173],\n",
              "        ...,\n",
              "        [174, 174, 174],\n",
              "        [180, 180, 180],\n",
              "        [188, 188, 188]],\n",
              "\n",
              "       [[168, 168, 168],\n",
              "        [173, 173, 173],\n",
              "        [181, 181, 181],\n",
              "        ...,\n",
              "        [182, 182, 182],\n",
              "        [174, 174, 174],\n",
              "        [170, 170, 170]],\n",
              "\n",
              "       [[181, 181, 181],\n",
              "        [181, 181, 181],\n",
              "        [178, 178, 178],\n",
              "        ...,\n",
              "        [179, 179, 179],\n",
              "        [178, 178, 178],\n",
              "        [179, 179, 179]]], dtype=uint8)"
            ]
          },
          "metadata": {}
        },
        {
          "output_type": "stream",
          "name": "stdout",
          "text": [
            "resized image shape = "
          ]
        },
        {
          "output_type": "display_data",
          "data": {
            "text/plain": [
              "'anomaly image'"
            ],
            "application/vnd.google.colaboratory.intrinsic+json": {
              "type": "string"
            }
          },
          "metadata": {}
        },
        {
          "output_type": "display_data",
          "data": {
            "text/plain": [
              "'anomaly image'"
            ],
            "application/vnd.google.colaboratory.intrinsic+json": {
              "type": "string"
            }
          },
          "metadata": {}
        },
        {
          "output_type": "stream",
          "name": "stdout",
          "text": [
            "resized image shape = /n########################################height = 900, width = 900height = 900, width = 900\n",
            "  \n",
            "\n",
            "resized image shape = height = 900, width = 900\n",
            "(256, 256, 3)(256, 256, 3)resized image shape = height = 900, width = 900 resized image shape = height = 900, width = 900(256, 256, 3) \n",
            "\n"
          ]
        },
        {
          "output_type": "display_data",
          "data": {
            "text/plain": [
              "array([[[148, 150, 150],\n",
              "        [147, 149, 149],\n",
              "        [147, 149, 149],\n",
              "        ...,\n",
              "        [200, 195, 192],\n",
              "        [200, 195, 192],\n",
              "        [201, 196, 193]],\n",
              "\n",
              "       [[147, 149, 149],\n",
              "        [146, 148, 148],\n",
              "        [146, 148, 148],\n",
              "        ...,\n",
              "        [200, 195, 192],\n",
              "        [200, 195, 192],\n",
              "        [200, 195, 192]],\n",
              "\n",
              "       [[145, 147, 147],\n",
              "        [145, 147, 147],\n",
              "        [144, 146, 146],\n",
              "        ...,\n",
              "        [200, 195, 192],\n",
              "        [200, 195, 192],\n",
              "        [200, 195, 192]],\n",
              "\n",
              "       ...,\n",
              "\n",
              "       [[ 91, 115, 133],\n",
              "        [ 88, 112, 130],\n",
              "        [ 86, 112, 129],\n",
              "        ...,\n",
              "        [112, 130, 147],\n",
              "        [113, 131, 148],\n",
              "        [112, 130, 147]],\n",
              "\n",
              "       [[ 92, 116, 134],\n",
              "        [ 88, 112, 130],\n",
              "        [ 87, 113, 130],\n",
              "        ...,\n",
              "        [113, 131, 148],\n",
              "        [114, 132, 149],\n",
              "        [112, 130, 147]],\n",
              "\n",
              "       [[ 90, 114, 132],\n",
              "        [ 87, 111, 129],\n",
              "        [ 86, 112, 129],\n",
              "        ...,\n",
              "        [113, 131, 148],\n",
              "        [115, 133, 150],\n",
              "        [111, 129, 146]]], dtype=uint8)"
            ]
          },
          "metadata": {}
        },
        {
          "output_type": "stream",
          "name": "stdout",
          "text": [
            " \n",
            "\n",
            "(256, 256, 3)/n########################################/n########################################\n",
            "height = 900, width = 900\n"
          ]
        },
        {
          "output_type": "display_data",
          "data": {
            "text/plain": [
              "'anomaly image'"
            ],
            "application/vnd.google.colaboratory.intrinsic+json": {
              "type": "string"
            }
          },
          "metadata": {}
        },
        {
          "output_type": "stream",
          "name": "stdout",
          "text": [
            "resized image shape = \n",
            "\n",
            "/n########################################\n",
            "resized image shape = (256, 256, 3)resized image shape =  (256, 256, 3)\n",
            " \n",
            "/n########################################\n",
            " /n########################################(256, 256, 3)height = 900, width = 900(256, 256, 3)\n",
            "/n########################################\n",
            "height = 900, width = 900\n",
            "\n"
          ]
        },
        {
          "output_type": "display_data",
          "data": {
            "text/plain": [
              "array([[[249, 255, 250],\n",
              "        [249, 255, 250],\n",
              "        [249, 255, 250],\n",
              "        ...,\n",
              "        [106, 127, 142],\n",
              "        [109, 130, 145],\n",
              "        [112, 133, 148]],\n",
              "\n",
              "       [[249, 255, 250],\n",
              "        [249, 255, 250],\n",
              "        [249, 255, 250],\n",
              "        ...,\n",
              "        [103, 124, 139],\n",
              "        [106, 127, 142],\n",
              "        [109, 130, 145]],\n",
              "\n",
              "       [[249, 255, 250],\n",
              "        [249, 255, 250],\n",
              "        [249, 255, 250],\n",
              "        ...,\n",
              "        [101, 120, 135],\n",
              "        [103, 122, 137],\n",
              "        [105, 124, 139]],\n",
              "\n",
              "       ...,\n",
              "\n",
              "       [[ 93,  93,  93],\n",
              "        [ 90,  90,  90],\n",
              "        [ 80,  82,  83],\n",
              "        ...,\n",
              "        [140, 128, 124],\n",
              "        [114, 103,  99],\n",
              "        [114, 105, 101]],\n",
              "\n",
              "       [[ 85,  85,  85],\n",
              "        [ 77,  77,  77],\n",
              "        [ 64,  66,  67],\n",
              "        ...,\n",
              "        [115, 103,  99],\n",
              "        [ 92,  81,  77],\n",
              "        [ 99,  90,  86]],\n",
              "\n",
              "       [[ 82,  82,  82],\n",
              "        [ 72,  72,  72],\n",
              "        [ 57,  59,  60],\n",
              "        ...,\n",
              "        [106,  94,  90],\n",
              "        [ 94,  83,  79],\n",
              "        [113, 104, 100]]], dtype=uint8)"
            ]
          },
          "metadata": {}
        },
        {
          "output_type": "stream",
          "name": "stdout",
          "text": [
            "/n########################################height = 900, width = 900\n",
            "\n",
            "\n"
          ]
        },
        {
          "output_type": "display_data",
          "data": {
            "text/plain": [
              "array([[[ 66,  52,  29],\n",
              "        [ 66,  52,  29],\n",
              "        [ 66,  53,  27],\n",
              "        ...,\n",
              "        [143, 123,  75],\n",
              "        [143, 123,  75],\n",
              "        [143, 123,  75]],\n",
              "\n",
              "       [[ 66,  52,  29],\n",
              "        [ 66,  52,  29],\n",
              "        [ 66,  53,  27],\n",
              "        ...,\n",
              "        [144, 124,  76],\n",
              "        [144, 124,  76],\n",
              "        [143, 123,  75]],\n",
              "\n",
              "       [[ 66,  52,  29],\n",
              "        [ 66,  52,  29],\n",
              "        [ 66,  53,  27],\n",
              "        ...,\n",
              "        [144, 124,  76],\n",
              "        [144, 124,  76],\n",
              "        [144, 124,  76]],\n",
              "\n",
              "       ...,\n",
              "\n",
              "       [[133, 115,  74],\n",
              "        [109,  91,  50],\n",
              "        [ 97,  79,  38],\n",
              "        ...,\n",
              "        [161, 143,  90],\n",
              "        [160, 142,  89],\n",
              "        [159, 141,  88]],\n",
              "\n",
              "       [[218, 200, 159],\n",
              "        [175, 157, 116],\n",
              "        [109,  91,  50],\n",
              "        ...,\n",
              "        [160, 142,  89],\n",
              "        [160, 143,  87],\n",
              "        [159, 142,  86]],\n",
              "\n",
              "       [[160, 142, 101],\n",
              "        [172, 154, 113],\n",
              "        [134, 116,  75],\n",
              "        ...,\n",
              "        [158, 140,  87],\n",
              "        [160, 143,  87],\n",
              "        [161, 144,  88]]], dtype=uint8)"
            ]
          },
          "metadata": {}
        },
        {
          "output_type": "stream",
          "name": "stdout",
          "text": [
            "\n",
            "height = 900, width = 900/n########################################\n",
            "height = 900, width = 900resized image shape = \n"
          ]
        },
        {
          "output_type": "display_data",
          "data": {
            "text/plain": [
              "'anomaly image'"
            ],
            "application/vnd.google.colaboratory.intrinsic+json": {
              "type": "string"
            }
          },
          "metadata": {}
        },
        {
          "output_type": "stream",
          "name": "stdout",
          "text": [
            "resized image shape = \n"
          ]
        },
        {
          "output_type": "display_data",
          "data": {
            "text/plain": [
              "'anomaly image'"
            ],
            "application/vnd.google.colaboratory.intrinsic+json": {
              "type": "string"
            }
          },
          "metadata": {}
        },
        {
          "output_type": "stream",
          "name": "stdout",
          "text": [
            "resized image shape = \n"
          ]
        },
        {
          "output_type": "display_data",
          "data": {
            "text/plain": [
              "array([[[ 16,  19,  17],\n",
              "        [ 18,  21,  19],\n",
              "        [ 20,  23,  21],\n",
              "        ...,\n",
              "        [ 81, 106,  26],\n",
              "        [ 81, 106,  26],\n",
              "        [ 81, 106,  26]],\n",
              "\n",
              "       [[ 16,  19,  17],\n",
              "        [ 16,  19,  17],\n",
              "        [ 17,  20,  18],\n",
              "        ...,\n",
              "        [ 78, 103,  23],\n",
              "        [ 78, 103,  23],\n",
              "        [ 78, 103,  23]],\n",
              "\n",
              "       [[ 15,  18,  16],\n",
              "        [ 14,  17,  15],\n",
              "        [ 13,  16,  14],\n",
              "        ...,\n",
              "        [ 75, 100,  20],\n",
              "        [ 75, 100,  20],\n",
              "        [ 75, 100,  20]],\n",
              "\n",
              "       ...,\n",
              "\n",
              "       [[109,  93,  77],\n",
              "        [110,  94,  78],\n",
              "        [111,  96,  80],\n",
              "        ...,\n",
              "        [ 77,  68,  58],\n",
              "        [ 77,  68,  58],\n",
              "        [ 77,  68,  58]],\n",
              "\n",
              "       [[115,  99,  83],\n",
              "        [117, 101,  85],\n",
              "        [114,  99,  83],\n",
              "        ...,\n",
              "        [ 81,  72,  62],\n",
              "        [ 81,  72,  62],\n",
              "        [ 81,  72,  62]],\n",
              "\n",
              "       [[113,  97,  81],\n",
              "        [114,  98,  82],\n",
              "        [112,  97,  81],\n",
              "        ...,\n",
              "        [ 79,  70,  60],\n",
              "        [ 79,  70,  60],\n",
              "        [ 79,  70,  60]]], dtype=uint8)"
            ]
          },
          "metadata": {}
        },
        {
          "output_type": "stream",
          "name": "stdout",
          "text": [
            " resized image shape =   resized image shape = "
          ]
        },
        {
          "output_type": "display_data",
          "data": {
            "text/plain": [
              "array([[[179, 167, 155],\n",
              "        [178, 166, 154],\n",
              "        [176, 167, 154],\n",
              "        ...,\n",
              "        [213, 183, 166],\n",
              "        [213, 183, 164],\n",
              "        [216, 184, 165]],\n",
              "\n",
              "       [[179, 167, 155],\n",
              "        [178, 166, 154],\n",
              "        [178, 166, 154],\n",
              "        ...,\n",
              "        [211, 181, 164],\n",
              "        [212, 182, 165],\n",
              "        [214, 182, 163]],\n",
              "\n",
              "       [[181, 167, 155],\n",
              "        [181, 167, 155],\n",
              "        [180, 166, 154],\n",
              "        ...,\n",
              "        [209, 179, 162],\n",
              "        [209, 179, 162],\n",
              "        [211, 179, 160]],\n",
              "\n",
              "       ...,\n",
              "\n",
              "       [[ 64,  68,  69],\n",
              "        [ 67,  71,  72],\n",
              "        [ 71,  76,  75],\n",
              "        ...,\n",
              "        [219, 221, 232],\n",
              "        [222, 224, 235],\n",
              "        [226, 227, 237]],\n",
              "\n",
              "       [[ 64,  69,  68],\n",
              "        [ 70,  75,  74],\n",
              "        [ 77,  82,  81],\n",
              "        ...,\n",
              "        [219, 221, 232],\n",
              "        [222, 224, 235],\n",
              "        [226, 227, 237]],\n",
              "\n",
              "       [[ 66,  71,  70],\n",
              "        [ 73,  78,  77],\n",
              "        [ 82,  87,  86],\n",
              "        ...,\n",
              "        [220, 222, 233],\n",
              "        [222, 224, 234],\n",
              "        [226, 227, 237]]], dtype=uint8)"
            ]
          },
          "metadata": {}
        },
        {
          "output_type": "display_data",
          "data": {
            "text/plain": [
              "array([[[222, 201, 250],\n",
              "        [222, 201, 250],\n",
              "        [221, 200, 249],\n",
              "        ...,\n",
              "        [225, 208, 251],\n",
              "        [225, 208, 251],\n",
              "        [225, 208, 251]],\n",
              "\n",
              "       [[222, 201, 250],\n",
              "        [222, 201, 250],\n",
              "        [221, 200, 249],\n",
              "        ...,\n",
              "        [224, 207, 250],\n",
              "        [224, 207, 250],\n",
              "        [224, 207, 250]],\n",
              "\n",
              "       [[222, 201, 250],\n",
              "        [222, 201, 250],\n",
              "        [221, 200, 249],\n",
              "        ...,\n",
              "        [224, 207, 250],\n",
              "        [224, 207, 250],\n",
              "        [224, 207, 250]],\n",
              "\n",
              "       ...,\n",
              "\n",
              "       [[224, 205, 248],\n",
              "        [224, 205, 248],\n",
              "        [224, 205, 248],\n",
              "        ...,\n",
              "        [223, 203, 250],\n",
              "        [223, 203, 250],\n",
              "        [223, 203, 250]],\n",
              "\n",
              "       [[223, 204, 247],\n",
              "        [224, 205, 248],\n",
              "        [224, 205, 248],\n",
              "        ...,\n",
              "        [223, 203, 250],\n",
              "        [223, 203, 250],\n",
              "        [223, 203, 250]],\n",
              "\n",
              "       [[223, 204, 247],\n",
              "        [223, 204, 247],\n",
              "        [224, 205, 248],\n",
              "        ...,\n",
              "        [223, 203, 250],\n",
              "        [223, 203, 250],\n",
              "        [223, 203, 250]]], dtype=uint8)"
            ]
          },
          "metadata": {}
        },
        {
          "output_type": "stream",
          "name": "stdout",
          "text": [
            "(256, 256, 3) (256, 256, 3)(256, 256, 3)"
          ]
        },
        {
          "output_type": "display_data",
          "data": {
            "text/plain": [
              "array([[[ 75, 126,  99],\n",
              "        [ 60, 111,  84],\n",
              "        [ 41,  91,  67],\n",
              "        ...,\n",
              "        [ 57,  96,  80],\n",
              "        [ 59,  98,  82],\n",
              "        [ 62,  98,  82]],\n",
              "\n",
              "       [[ 90, 142, 118],\n",
              "        [ 74, 126, 102],\n",
              "        [ 52, 104,  80],\n",
              "        ...,\n",
              "        [ 56,  95,  79],\n",
              "        [ 58,  95,  79],\n",
              "        [ 60,  96,  80]],\n",
              "\n",
              "       [[108, 162, 139],\n",
              "        [ 92, 146, 123],\n",
              "        [ 68, 124, 101],\n",
              "        ...,\n",
              "        [ 58,  95,  79],\n",
              "        [ 58,  94,  78],\n",
              "        [ 58,  94,  78]],\n",
              "\n",
              "       ...,\n",
              "\n",
              "       [[ 42,  84,  61],\n",
              "        [ 41,  83,  60],\n",
              "        [ 37,  81,  58],\n",
              "        ...,\n",
              "        [ 53, 122,  95],\n",
              "        [ 49, 119,  89],\n",
              "        [ 47, 117,  87]],\n",
              "\n",
              "       [[ 42,  84,  61],\n",
              "        [ 44,  86,  63],\n",
              "        [ 43,  87,  64],\n",
              "        ...,\n",
              "        [ 50, 119,  92],\n",
              "        [ 48, 118,  88],\n",
              "        [ 45, 115,  85]],\n",
              "\n",
              "       [[ 42,  84,  61],\n",
              "        [ 46,  88,  65],\n",
              "        [ 46,  90,  67],\n",
              "        ...,\n",
              "        [ 50, 119,  92],\n",
              "        [ 48, 118,  88],\n",
              "        [ 45, 115,  85]]], dtype=uint8)"
            ]
          },
          "metadata": {}
        },
        {
          "output_type": "display_data",
          "data": {
            "text/plain": [
              "'anomaly image'"
            ],
            "application/vnd.google.colaboratory.intrinsic+json": {
              "type": "string"
            }
          },
          "metadata": {}
        },
        {
          "output_type": "stream",
          "name": "stdout",
          "text": [
            " "
          ]
        },
        {
          "output_type": "display_data",
          "data": {
            "text/plain": [
              "array([[[255, 255, 255],\n",
              "        [255, 255, 255],\n",
              "        [255, 255, 255],\n",
              "        ...,\n",
              "        [234, 201, 245],\n",
              "        [215, 183, 224],\n",
              "        [204, 173, 212]],\n",
              "\n",
              "       [[255, 255, 255],\n",
              "        [255, 255, 255],\n",
              "        [255, 255, 255],\n",
              "        ...,\n",
              "        [239, 206, 251],\n",
              "        [205, 173, 214],\n",
              "        [181, 150, 189]],\n",
              "\n",
              "       [[255, 255, 255],\n",
              "        [255, 255, 255],\n",
              "        [255, 255, 255],\n",
              "        ...,\n",
              "        [245, 211, 255],\n",
              "        [215, 182, 226],\n",
              "        [193, 161, 202]],\n",
              "\n",
              "       ...,\n",
              "\n",
              "       [[179, 141, 201],\n",
              "        [190, 152, 210],\n",
              "        [201, 164, 220],\n",
              "        ...,\n",
              "        [199, 165, 219],\n",
              "        [193, 159, 213],\n",
              "        [180, 146, 200]],\n",
              "\n",
              "       [[192, 154, 212],\n",
              "        [189, 151, 209],\n",
              "        [184, 147, 203],\n",
              "        ...,\n",
              "        [195, 161, 215],\n",
              "        [182, 148, 202],\n",
              "        [164, 130, 184]],\n",
              "\n",
              "       [[210, 172, 230],\n",
              "        [193, 155, 213],\n",
              "        [175, 138, 194],\n",
              "        ...,\n",
              "        [182, 148, 202],\n",
              "        [166, 132, 186],\n",
              "        [144, 110, 164]]], dtype=uint8)"
            ]
          },
          "metadata": {}
        },
        {
          "output_type": "stream",
          "name": "stdout",
          "text": [
            "\n"
          ]
        },
        {
          "output_type": "display_data",
          "data": {
            "text/plain": [
              "'anomaly image'"
            ],
            "application/vnd.google.colaboratory.intrinsic+json": {
              "type": "string"
            }
          },
          "metadata": {}
        },
        {
          "output_type": "stream",
          "name": "stdout",
          "text": [
            "\n"
          ]
        },
        {
          "output_type": "display_data",
          "data": {
            "text/plain": [
              "'anomaly image'"
            ],
            "application/vnd.google.colaboratory.intrinsic+json": {
              "type": "string"
            }
          },
          "metadata": {}
        },
        {
          "output_type": "display_data",
          "data": {
            "text/plain": [
              "'anomaly image'"
            ],
            "application/vnd.google.colaboratory.intrinsic+json": {
              "type": "string"
            }
          },
          "metadata": {}
        },
        {
          "output_type": "stream",
          "name": "stdout",
          "text": [
            "\n",
            "(256, 256, 3)"
          ]
        },
        {
          "output_type": "display_data",
          "data": {
            "text/plain": [
              "'anomaly image'"
            ],
            "application/vnd.google.colaboratory.intrinsic+json": {
              "type": "string"
            }
          },
          "metadata": {}
        },
        {
          "output_type": "stream",
          "name": "stdout",
          "text": [
            "(256, 256, 3)/n########################################\n",
            "/n########################################\n",
            "\n",
            "/n########################################/n########################################\n",
            "\n",
            "/n########################################\n",
            "\n"
          ]
        },
        {
          "output_type": "display_data",
          "data": {
            "text/plain": [
              "array([[[  5,  43,  91],\n",
              "        [  4,  41,  91],\n",
              "        [  2,  36,  95],\n",
              "        ...,\n",
              "        [ 36,  41, 102],\n",
              "        [ 37,  45, 112],\n",
              "        [ 39,  45, 120]],\n",
              "\n",
              "       [[  4,  41,  91],\n",
              "        [  3,  39,  93],\n",
              "        [  3,  37,  96],\n",
              "        ...,\n",
              "        [ 48,  54, 113],\n",
              "        [ 50,  58, 125],\n",
              "        [ 48,  55, 128]],\n",
              "\n",
              "       [[  7,  40,  96],\n",
              "        [  8,  40,  99],\n",
              "        [  9,  40, 103],\n",
              "        ...,\n",
              "        [ 51,  58, 115],\n",
              "        [ 52,  61, 125],\n",
              "        [ 46,  54, 124]],\n",
              "\n",
              "       ...,\n",
              "\n",
              "       [[187, 151,  67],\n",
              "        [198, 165,  79],\n",
              "        [219, 188,  97],\n",
              "        ...,\n",
              "        [219, 184,  74],\n",
              "        [215, 178,  68],\n",
              "        [221, 182,  73]],\n",
              "\n",
              "       [[191, 154,  69],\n",
              "        [192, 158,  69],\n",
              "        [211, 178,  85],\n",
              "        ...,\n",
              "        [214, 178,  64],\n",
              "        [222, 185,  71],\n",
              "        [222, 184,  72]],\n",
              "\n",
              "       [[192, 155,  70],\n",
              "        [181, 145,  57],\n",
              "        [191, 158,  65],\n",
              "        ...,\n",
              "        [227, 190,  74],\n",
              "        [254, 217, 101],\n",
              "        [255, 217, 104]]], dtype=uint8)"
            ]
          },
          "metadata": {}
        },
        {
          "output_type": "display_data",
          "data": {
            "text/plain": [
              "'anomaly image'"
            ],
            "application/vnd.google.colaboratory.intrinsic+json": {
              "type": "string"
            }
          },
          "metadata": {}
        },
        {
          "output_type": "display_data",
          "data": {
            "text/plain": [
              "array([[[106, 113, 122],\n",
              "        [113, 120, 129],\n",
              "        [122, 129, 138],\n",
              "        ...,\n",
              "        [129, 133, 134],\n",
              "        [131, 135, 136],\n",
              "        [133, 137, 138]],\n",
              "\n",
              "       [[116, 123, 132],\n",
              "        [115, 122, 131],\n",
              "        [113, 120, 129],\n",
              "        ...,\n",
              "        [133, 137, 138],\n",
              "        [134, 138, 139],\n",
              "        [135, 139, 140]],\n",
              "\n",
              "       [[107, 114, 123],\n",
              "        [101, 108, 117],\n",
              "        [ 94, 101, 110],\n",
              "        ...,\n",
              "        [115, 119, 120],\n",
              "        [118, 122, 123],\n",
              "        [121, 125, 126]],\n",
              "\n",
              "       ...,\n",
              "\n",
              "       [[201, 195, 196],\n",
              "        [200, 194, 195],\n",
              "        [163, 157, 158],\n",
              "        ...,\n",
              "        [153, 133, 128],\n",
              "        [164, 145, 142],\n",
              "        [164, 147, 144]],\n",
              "\n",
              "       [[113, 107, 108],\n",
              "        [ 94,  88,  89],\n",
              "        [ 82,  76,  77],\n",
              "        ...,\n",
              "        [163, 144, 139],\n",
              "        [167, 150, 147],\n",
              "        [164, 149, 146]],\n",
              "\n",
              "       [[ 84,  78,  79],\n",
              "        [ 55,  49,  50],\n",
              "        [ 85,  79,  80],\n",
              "        ...,\n",
              "        [172, 156, 150],\n",
              "        [164, 149, 146],\n",
              "        [171, 158, 156]]], dtype=uint8)"
            ]
          },
          "metadata": {}
        },
        {
          "output_type": "display_data",
          "data": {
            "text/plain": [
              "'anomaly image'"
            ],
            "application/vnd.google.colaboratory.intrinsic+json": {
              "type": "string"
            }
          },
          "metadata": {}
        },
        {
          "output_type": "display_data",
          "data": {
            "text/plain": [
              "array([[[ 65,  25,  37],\n",
              "        [ 68,  28,  40],\n",
              "        [ 64,  24,  36],\n",
              "        ...,\n",
              "        [191, 186, 177],\n",
              "        [185, 183, 173],\n",
              "        [186, 184, 174]],\n",
              "\n",
              "       [[ 82,  44,  56],\n",
              "        [ 87,  50,  60],\n",
              "        [ 81,  43,  55],\n",
              "        ...,\n",
              "        [195, 193, 183],\n",
              "        [193, 192, 182],\n",
              "        [201, 200, 190]],\n",
              "\n",
              "       [[ 91,  56,  66],\n",
              "        [122,  88,  95],\n",
              "        [156, 121, 131],\n",
              "        ...,\n",
              "        [187, 191, 180],\n",
              "        [183, 186, 177],\n",
              "        [177, 180, 171]],\n",
              "\n",
              "       ...,\n",
              "\n",
              "       [[124, 116, 116],\n",
              "        [107,  99,  99],\n",
              "        [119, 111, 111],\n",
              "        ...,\n",
              "        [170, 175, 174],\n",
              "        [167, 172, 171],\n",
              "        [165, 170, 169]],\n",
              "\n",
              "       [[122, 112, 112],\n",
              "        [ 95,  85,  85],\n",
              "        [ 85,  75,  75],\n",
              "        ...,\n",
              "        [169, 171, 171],\n",
              "        [169, 171, 171],\n",
              "        [169, 171, 171]],\n",
              "\n",
              "       [[ 99,  89,  89],\n",
              "        [109,  99,  99],\n",
              "        [106,  94,  94],\n",
              "        ...,\n",
              "        [168, 170, 170],\n",
              "        [172, 174, 174],\n",
              "        [176, 178, 178]]], dtype=uint8)"
            ]
          },
          "metadata": {}
        },
        {
          "output_type": "display_data",
          "data": {
            "text/plain": [
              "array([[[213, 224, 228],\n",
              "        [179, 191, 195],\n",
              "        [174, 186, 192],\n",
              "        ...,\n",
              "        [193, 208, 211],\n",
              "        [192, 208, 214],\n",
              "        [188, 204, 210]],\n",
              "\n",
              "       [[173, 182, 186],\n",
              "        [129, 140, 144],\n",
              "        [144, 156, 160],\n",
              "        ...,\n",
              "        [178, 193, 196],\n",
              "        [178, 194, 200],\n",
              "        [175, 191, 197]],\n",
              "\n",
              "       [[166, 173, 176],\n",
              "        [119, 128, 131],\n",
              "        [153, 162, 165],\n",
              "        ...,\n",
              "        [161, 176, 179],\n",
              "        [164, 180, 186],\n",
              "        [166, 182, 188]],\n",
              "\n",
              "       ...,\n",
              "\n",
              "       [[159, 155, 160],\n",
              "        [ 47,  43,  48],\n",
              "        [ 33,  29,  34],\n",
              "        ...,\n",
              "        [ 70,  65,  64],\n",
              "        [ 61,  56,  55],\n",
              "        [ 50,  45,  44]],\n",
              "\n",
              "       [[141, 137, 142],\n",
              "        [ 53,  49,  54],\n",
              "        [  3,   0,   4],\n",
              "        ...,\n",
              "        [ 40,  35,  34],\n",
              "        [ 59,  54,  53],\n",
              "        [ 81,  76,  75]],\n",
              "\n",
              "       [[138, 134, 139],\n",
              "        [101,  97, 102],\n",
              "        [ 33,  29,  34],\n",
              "        ...,\n",
              "        [ 35,  30,  29],\n",
              "        [ 36,  31,  30],\n",
              "        [ 45,  40,  39]]], dtype=uint8)"
            ]
          },
          "metadata": {}
        },
        {
          "output_type": "display_data",
          "data": {
            "text/plain": [
              "array([[[248, 244, 239],\n",
              "        [252, 250, 242],\n",
              "        [251, 252, 242],\n",
              "        ...,\n",
              "        [246, 250, 244],\n",
              "        [247, 251, 245],\n",
              "        [246, 250, 244]],\n",
              "\n",
              "       [[255, 255, 251],\n",
              "        [254, 251, 246],\n",
              "        [254, 253, 243],\n",
              "        ...,\n",
              "        [246, 250, 244],\n",
              "        [245, 249, 243],\n",
              "        [246, 250, 244]],\n",
              "\n",
              "       [[249, 245, 244],\n",
              "        [255, 251, 248],\n",
              "        [254, 250, 245],\n",
              "        ...,\n",
              "        [246, 250, 244],\n",
              "        [245, 249, 243],\n",
              "        [245, 249, 243]],\n",
              "\n",
              "       ...,\n",
              "\n",
              "       [[255, 254, 250],\n",
              "        [251, 248, 244],\n",
              "        [251, 246, 243],\n",
              "        ...,\n",
              "        [251, 255, 249],\n",
              "        [251, 255, 249],\n",
              "        [251, 255, 250]],\n",
              "\n",
              "       [[255, 255, 251],\n",
              "        [248, 245, 241],\n",
              "        [248, 243, 242],\n",
              "        ...,\n",
              "        [251, 255, 249],\n",
              "        [251, 255, 249],\n",
              "        [251, 255, 250]],\n",
              "\n",
              "       [[255, 255, 251],\n",
              "        [245, 241, 240],\n",
              "        [243, 238, 237],\n",
              "        ...,\n",
              "        [251, 255, 249],\n",
              "        [251, 255, 249],\n",
              "        [251, 254, 252]]], dtype=uint8)"
            ]
          },
          "metadata": {}
        },
        {
          "output_type": "display_data",
          "data": {
            "text/plain": [
              "'anomaly image'"
            ],
            "application/vnd.google.colaboratory.intrinsic+json": {
              "type": "string"
            }
          },
          "metadata": {}
        },
        {
          "output_type": "display_data",
          "data": {
            "text/plain": [
              "array([[[ 65, 120, 103],\n",
              "        [ 65, 120, 103],\n",
              "        [ 65, 119, 102],\n",
              "        ...,\n",
              "        [143, 150, 129],\n",
              "        [145, 151, 128],\n",
              "        [144, 150, 127]],\n",
              "\n",
              "       [[ 62, 117, 100],\n",
              "        [ 63, 118, 101],\n",
              "        [ 63, 117, 100],\n",
              "        ...,\n",
              "        [147, 152, 131],\n",
              "        [151, 157, 134],\n",
              "        [145, 151, 128]],\n",
              "\n",
              "       [[ 61, 117,  98],\n",
              "        [ 61, 117,  98],\n",
              "        [ 59, 115,  96],\n",
              "        ...,\n",
              "        [148, 153, 132],\n",
              "        [152, 157, 136],\n",
              "        [141, 146, 125]],\n",
              "\n",
              "       ...,\n",
              "\n",
              "       [[ 53,  74,  59],\n",
              "        [ 53,  74,  59],\n",
              "        [ 52,  75,  60],\n",
              "        ...,\n",
              "        [ 73, 122, 100],\n",
              "        [ 73, 122, 100],\n",
              "        [ 74, 123, 101]],\n",
              "\n",
              "       [[ 51,  72,  57],\n",
              "        [ 53,  74,  59],\n",
              "        [ 53,  76,  61],\n",
              "        ...,\n",
              "        [ 73, 125, 102],\n",
              "        [ 70, 122,  99],\n",
              "        [ 70, 122,  99]],\n",
              "\n",
              "       [[ 51,  72,  57],\n",
              "        [ 52,  73,  58],\n",
              "        [ 51,  74,  59],\n",
              "        ...,\n",
              "        [ 73, 125, 102],\n",
              "        [ 70, 122,  99],\n",
              "        [ 70, 122,  99]]], dtype=uint8)"
            ]
          },
          "metadata": {}
        },
        {
          "output_type": "display_data",
          "data": {
            "text/plain": [
              "'anomaly image'"
            ],
            "application/vnd.google.colaboratory.intrinsic+json": {
              "type": "string"
            }
          },
          "metadata": {}
        },
        {
          "output_type": "display_data",
          "data": {
            "text/plain": [
              "'anomaly image'"
            ],
            "application/vnd.google.colaboratory.intrinsic+json": {
              "type": "string"
            }
          },
          "metadata": {}
        },
        {
          "output_type": "display_data",
          "data": {
            "text/plain": [
              "'anomaly image'"
            ],
            "application/vnd.google.colaboratory.intrinsic+json": {
              "type": "string"
            }
          },
          "metadata": {}
        },
        {
          "output_type": "stream",
          "name": "stdout",
          "text": [
            "height = 900, width = 900\n",
            "resized image shape =  (256, 256, 3)\n",
            "/n########################################\n"
          ]
        },
        {
          "output_type": "display_data",
          "data": {
            "text/plain": [
              "array([[[ 12,   6,   1],\n",
              "        [ 10,  19,  23],\n",
              "        [  0,   4,  25],\n",
              "        ...,\n",
              "        [  1,   1,  37],\n",
              "        [ 17,  44,  70],\n",
              "        [  0,   2,   0]],\n",
              "\n",
              "       [[ 20,  25,  16],\n",
              "        [ 80, 101, 116],\n",
              "        [ 92, 117, 151],\n",
              "        ...,\n",
              "        [ 80, 116, 180],\n",
              "        [ 96, 130, 184],\n",
              "        [  6,  24,  47]],\n",
              "\n",
              "       [[  5,  17,  21],\n",
              "        [112, 144, 173],\n",
              "        [146, 187, 232],\n",
              "        ...,\n",
              "        [ 77, 114, 199],\n",
              "        [ 90, 128, 200],\n",
              "        [  0,  11,  55]],\n",
              "\n",
              "       ...,\n",
              "\n",
              "       [[  7,   4,  13],\n",
              "        [ 37,  31,  54],\n",
              "        [ 59,  57,  99],\n",
              "        ...,\n",
              "        [ 19,  14,  15],\n",
              "        [ 13,  11,  11],\n",
              "        [  3,   3,   3]],\n",
              "\n",
              "       [[ 11,  16,  19],\n",
              "        [ 13,  17,  28],\n",
              "        [ 43,  42,  68],\n",
              "        ...,\n",
              "        [ 17,  12,  13],\n",
              "        [ 12,  10,  10],\n",
              "        [  2,   2,   2]],\n",
              "\n",
              "       [[ 23,  36,  20],\n",
              "        [  7,  11,   0],\n",
              "        [ 15,  13,   5],\n",
              "        ...,\n",
              "        [ 15,  10,  11],\n",
              "        [ 11,   9,   9],\n",
              "        [  1,   1,   1]]], dtype=uint8)"
            ]
          },
          "metadata": {}
        },
        {
          "output_type": "display_data",
          "data": {
            "text/plain": [
              "'anomaly image'"
            ],
            "application/vnd.google.colaboratory.intrinsic+json": {
              "type": "string"
            }
          },
          "metadata": {}
        },
        {
          "output_type": "stream",
          "name": "stdout",
          "text": [
            "height = 900, width = 900\n",
            "resized image shape =  (256, 256, 3)\n",
            "/n########################################\n"
          ]
        },
        {
          "output_type": "display_data",
          "data": {
            "text/plain": [
              "array([[[ 73,  52, 191],\n",
              "        [ 72,  51, 190],\n",
              "        [ 72,  49, 188],\n",
              "        ...,\n",
              "        [ 55,  40, 148],\n",
              "        [ 56,  43, 153],\n",
              "        [ 56,  43, 153]],\n",
              "\n",
              "       [[ 75,  53, 195],\n",
              "        [ 72,  50, 192],\n",
              "        [ 70,  46, 188],\n",
              "        ...,\n",
              "        [ 68,  52, 163],\n",
              "        [ 65,  49, 161],\n",
              "        [ 59,  45, 157]],\n",
              "\n",
              "       [[ 81,  58, 202],\n",
              "        [ 76,  53, 197],\n",
              "        [ 71,  46, 190],\n",
              "        ...,\n",
              "        [ 68,  49, 165],\n",
              "        [ 64,  45, 161],\n",
              "        [ 60,  43, 158]],\n",
              "\n",
              "       ...,\n",
              "\n",
              "       [[ 22,  18,  93],\n",
              "        [ 25,  20,  95],\n",
              "        [ 26,  18,  95],\n",
              "        ...,\n",
              "        [ 74,  48, 166],\n",
              "        [ 73,  45, 164],\n",
              "        [ 72,  42, 161]],\n",
              "\n",
              "       [[ 28,  23, 102],\n",
              "        [ 31,  25, 104],\n",
              "        [ 30,  21, 102],\n",
              "        ...,\n",
              "        [ 72,  46, 164],\n",
              "        [ 71,  44, 161],\n",
              "        [ 69,  42, 159]],\n",
              "\n",
              "       [[ 33,  25, 108],\n",
              "        [ 35,  26, 112],\n",
              "        [ 39,  27, 115],\n",
              "        ...,\n",
              "        [ 68,  44, 156],\n",
              "        [ 69,  45, 157],\n",
              "        [ 70,  46, 158]]], dtype=uint8)"
            ]
          },
          "metadata": {}
        },
        {
          "output_type": "display_data",
          "data": {
            "text/plain": [
              "'anomaly image'"
            ],
            "application/vnd.google.colaboratory.intrinsic+json": {
              "type": "string"
            }
          },
          "metadata": {}
        },
        {
          "output_type": "stream",
          "name": "stdout",
          "text": [
            "height = 900, width = 900\n",
            "resized image shape = height = 900, width = 900 (256, 256, 3)height = 900, width = 900height = 900, width = 900\n",
            "\n",
            "\n",
            "\n",
            "/n########################################resized image shape = resized image shape =  resized image shape = \n",
            " (256, 256, 3) height = 900, width = 900(256, 256, 3)(256, 256, 3)\n",
            "height = 900, width = 900\n"
          ]
        },
        {
          "output_type": "display_data",
          "data": {
            "text/plain": [
              "array([[[111, 123, 151],\n",
              "        [ 84,  96, 124],\n",
              "        [ 88, 102, 130],\n",
              "        ...,\n",
              "        [ 58,  72, 101],\n",
              "        [ 67,  83, 112],\n",
              "        [ 50,  66,  95]],\n",
              "\n",
              "       [[116, 128, 156],\n",
              "        [ 29,  41,  69],\n",
              "        [129, 143, 171],\n",
              "        ...,\n",
              "        [106, 120, 149],\n",
              "        [ 80,  96, 125],\n",
              "        [130, 146, 175]],\n",
              "\n",
              "       [[ 56,  68,  96],\n",
              "        [114, 126, 154],\n",
              "        [ 60,  74, 102],\n",
              "        ...,\n",
              "        [ 63,  77, 106],\n",
              "        [ 53,  69,  98],\n",
              "        [ 79,  95, 124]],\n",
              "\n",
              "       ...,\n",
              "\n",
              "       [[ 96, 137, 160],\n",
              "        [125, 166, 189],\n",
              "        [110, 148, 172],\n",
              "        ...,\n",
              "        [ 49,  65,  94],\n",
              "        [ 62,  78, 107],\n",
              "        [ 60,  76, 105]],\n",
              "\n",
              "       [[ 70, 111, 134],\n",
              "        [108, 149, 172],\n",
              "        [103, 141, 165],\n",
              "        ...,\n",
              "        [ 91, 107, 136],\n",
              "        [ 71,  87, 116],\n",
              "        [ 87, 103, 132]],\n",
              "\n",
              "       [[ 68, 109, 132],\n",
              "        [ 94, 135, 158],\n",
              "        [ 84, 122, 146],\n",
              "        ...,\n",
              "        [ 86, 102, 131],\n",
              "        [ 56,  72, 101],\n",
              "        [ 73,  89, 118]]], dtype=uint8)"
            ]
          },
          "metadata": {}
        },
        {
          "output_type": "stream",
          "name": "stdout",
          "text": [
            "\n",
            "/n########################################\n",
            "height = 900, width = 900/n########################################resized image shape = \n",
            "\n",
            "height = 900, width = 900resized image shape = \n"
          ]
        },
        {
          "output_type": "display_data",
          "data": {
            "text/plain": [
              "'anomaly image'"
            ],
            "application/vnd.google.colaboratory.intrinsic+json": {
              "type": "string"
            }
          },
          "metadata": {}
        },
        {
          "output_type": "stream",
          "name": "stdout",
          "text": [
            "\n",
            "/n######################################## \n",
            " resized image shape = height = 900, width = 900\n",
            "(256, 256, 3)resized image shape = (256, 256, 3)\n",
            " "
          ]
        },
        {
          "output_type": "display_data",
          "data": {
            "text/plain": [
              "array([[[207, 195, 201],\n",
              "        [193, 182, 185],\n",
              "        [179, 165, 169],\n",
              "        ...,\n",
              "        [117, 112, 114],\n",
              "        [135, 130, 131],\n",
              "        [154, 149, 150]],\n",
              "\n",
              "       [[211, 199, 205],\n",
              "        [204, 193, 196],\n",
              "        [196, 183, 185],\n",
              "        ...,\n",
              "        [127, 122, 124],\n",
              "        [134, 129, 130],\n",
              "        [140, 135, 136]],\n",
              "\n",
              "       [[207, 196, 199],\n",
              "        [210, 199, 201],\n",
              "        [208, 195, 197],\n",
              "        ...,\n",
              "        [148, 143, 145],\n",
              "        [148, 143, 144],\n",
              "        [144, 140, 139]],\n",
              "\n",
              "       ...,\n",
              "\n",
              "       [[ 59,  65,  84],\n",
              "        [ 63,  69,  88],\n",
              "        [ 87,  91, 110],\n",
              "        ...,\n",
              "        [ 89,  90, 111],\n",
              "        [ 98,  96, 118],\n",
              "        [ 99, 100, 120]],\n",
              "\n",
              "       [[ 83,  86, 101],\n",
              "        [ 86,  89, 104],\n",
              "        [104, 104, 120],\n",
              "        ...,\n",
              "        [ 93,  97, 116],\n",
              "        [ 98, 102, 121],\n",
              "        [102, 106, 124]],\n",
              "\n",
              "       [[207, 206, 216],\n",
              "        [208, 207, 217],\n",
              "        [218, 216, 228],\n",
              "        ...,\n",
              "        [114, 121, 136],\n",
              "        [105, 112, 127],\n",
              "        [ 98, 105, 120]]], dtype=uint8)"
            ]
          },
          "metadata": {}
        },
        {
          "output_type": "stream",
          "name": "stdout",
          "text": [
            "\n",
            "\n",
            " (256, 256, 3)resized image shape = /n########################################"
          ]
        },
        {
          "output_type": "display_data",
          "data": {
            "text/plain": [
              "'anomaly image'"
            ],
            "application/vnd.google.colaboratory.intrinsic+json": {
              "type": "string"
            }
          },
          "metadata": {}
        },
        {
          "output_type": "stream",
          "name": "stdout",
          "text": [
            "height = 900, width = 900"
          ]
        },
        {
          "output_type": "display_data",
          "data": {
            "text/plain": [
              "array([[[ 98, 218, 218],\n",
              "        [ 97, 217, 216],\n",
              "        [ 98, 217, 216],\n",
              "        ...,\n",
              "        [111, 231, 231],\n",
              "        [111, 231, 230],\n",
              "        [109, 232, 230]],\n",
              "\n",
              "       [[117, 225, 226],\n",
              "        [114, 223, 221],\n",
              "        [112, 219, 216],\n",
              "        ...,\n",
              "        [111, 229, 230],\n",
              "        [111, 229, 230],\n",
              "        [110, 230, 230]],\n",
              "\n",
              "       [[126, 213, 210],\n",
              "        [129, 216, 212],\n",
              "        [136, 221, 217],\n",
              "        ...,\n",
              "        [113, 226, 229],\n",
              "        [113, 226, 229],\n",
              "        [113, 226, 229]],\n",
              "\n",
              "       ...,\n",
              "\n",
              "       [[  1,  46,  59],\n",
              "        [  3,  51,  63],\n",
              "        [  9,  57,  69],\n",
              "        ...,\n",
              "        [ 48, 170, 182],\n",
              "        [ 49, 171, 183],\n",
              "        [ 49, 171, 183]],\n",
              "\n",
              "       [[  0,  20,  35],\n",
              "        [  0,  23,  38],\n",
              "        [  0,  29,  43],\n",
              "        ...,\n",
              "        [ 48, 170, 182],\n",
              "        [ 48, 170, 182],\n",
              "        [ 49, 171, 183]],\n",
              "\n",
              "       [[  0,  11,  27],\n",
              "        [  0,  13,  29],\n",
              "        [  0,  17,  33],\n",
              "        ...,\n",
              "        [ 48, 170, 182],\n",
              "        [ 49, 171, 183],\n",
              "        [ 49, 171, 183]]], dtype=uint8)"
            ]
          },
          "metadata": {}
        },
        {
          "output_type": "stream",
          "name": "stdout",
          "text": [
            "(256, 256, 3)/n########################################\n",
            " "
          ]
        },
        {
          "output_type": "display_data",
          "data": {
            "text/plain": [
              "array([[[250, 255, 247],\n",
              "        [250, 255, 245],\n",
              "        [255, 252, 252],\n",
              "        ...,\n",
              "        [176, 172, 171],\n",
              "        [255, 255, 255],\n",
              "        [247, 252, 251]],\n",
              "\n",
              "       [[247, 255, 244],\n",
              "        [249, 252, 243],\n",
              "        [255, 250, 250],\n",
              "        ...,\n",
              "        [170, 165, 164],\n",
              "        [254, 254, 254],\n",
              "        [251, 255, 255]],\n",
              "\n",
              "       [[248, 253, 244],\n",
              "        [250, 252, 246],\n",
              "        [255, 251, 252],\n",
              "        ...,\n",
              "        [166, 161, 160],\n",
              "        [246, 246, 246],\n",
              "        [253, 255, 255]],\n",
              "\n",
              "       ...,\n",
              "\n",
              "       [[255, 255, 255],\n",
              "        [255, 255, 255],\n",
              "        [255, 255, 255],\n",
              "        ...,\n",
              "        [255, 255, 255],\n",
              "        [255, 255, 255],\n",
              "        [255, 255, 255]],\n",
              "\n",
              "       [[255, 255, 255],\n",
              "        [255, 255, 255],\n",
              "        [255, 255, 255],\n",
              "        ...,\n",
              "        [255, 255, 255],\n",
              "        [255, 255, 255],\n",
              "        [255, 255, 255]],\n",
              "\n",
              "       [[255, 255, 255],\n",
              "        [255, 255, 255],\n",
              "        [255, 255, 255],\n",
              "        ...,\n",
              "        [255, 255, 255],\n",
              "        [255, 255, 255],\n",
              "        [255, 255, 255]]], dtype=uint8)"
            ]
          },
          "metadata": {}
        },
        {
          "output_type": "stream",
          "name": "stdout",
          "text": [
            "\n",
            "/n########################################\n"
          ]
        },
        {
          "output_type": "display_data",
          "data": {
            "text/plain": [
              "'anomaly image'"
            ],
            "application/vnd.google.colaboratory.intrinsic+json": {
              "type": "string"
            }
          },
          "metadata": {}
        },
        {
          "output_type": "stream",
          "name": "stdout",
          "text": [
            "\n",
            "\n",
            "\n",
            "(256, 256, 3)"
          ]
        },
        {
          "output_type": "display_data",
          "data": {
            "text/plain": [
              "array([[[138, 165, 179],\n",
              "        [127, 154, 168],\n",
              "        [145, 168, 183],\n",
              "        ...,\n",
              "        [147, 171, 183],\n",
              "        [139, 161, 173],\n",
              "        [131, 153, 165]],\n",
              "\n",
              "       [[139, 166, 180],\n",
              "        [129, 156, 170],\n",
              "        [143, 169, 183],\n",
              "        ...,\n",
              "        [146, 170, 182],\n",
              "        [144, 168, 180],\n",
              "        [141, 165, 177]],\n",
              "\n",
              "       [[136, 165, 179],\n",
              "        [129, 158, 172],\n",
              "        [142, 169, 183],\n",
              "        ...,\n",
              "        [147, 173, 185],\n",
              "        [145, 172, 182],\n",
              "        [143, 170, 180]],\n",
              "\n",
              "       ...,\n",
              "\n",
              "       [[118, 139, 154],\n",
              "        [118, 141, 156],\n",
              "        [117, 143, 157],\n",
              "        ...,\n",
              "        [  2,   2,  14],\n",
              "        [  2,   2,  14],\n",
              "        [  2,   2,  14]],\n",
              "\n",
              "       [[116, 137, 152],\n",
              "        [117, 140, 155],\n",
              "        [119, 145, 159],\n",
              "        ...,\n",
              "        [  2,   2,  14],\n",
              "        [  2,   2,  14],\n",
              "        [  2,   2,  14]],\n",
              "\n",
              "       [[115, 136, 151],\n",
              "        [117, 140, 155],\n",
              "        [120, 146, 160],\n",
              "        ...,\n",
              "        [  2,   2,  14],\n",
              "        [  2,   2,  14],\n",
              "        [  2,   2,  14]]], dtype=uint8)"
            ]
          },
          "metadata": {}
        },
        {
          "output_type": "display_data",
          "data": {
            "text/plain": [
              "'anomaly image'"
            ],
            "application/vnd.google.colaboratory.intrinsic+json": {
              "type": "string"
            }
          },
          "metadata": {}
        },
        {
          "output_type": "stream",
          "name": "stdout",
          "text": [
            "resized image shape = "
          ]
        },
        {
          "output_type": "display_data",
          "data": {
            "text/plain": [
              "'anomaly image'"
            ],
            "application/vnd.google.colaboratory.intrinsic+json": {
              "type": "string"
            }
          },
          "metadata": {}
        },
        {
          "output_type": "display_data",
          "data": {
            "text/plain": [
              "array([[[ 46,  50,  55],\n",
              "        [ 46,  50,  55],\n",
              "        [ 46,  50,  55],\n",
              "        ...,\n",
              "        [ 21,  28,  31],\n",
              "        [ 19,  26,  29],\n",
              "        [ 18,  25,  28]],\n",
              "\n",
              "       [[ 46,  50,  55],\n",
              "        [ 46,  50,  55],\n",
              "        [ 46,  50,  55],\n",
              "        ...,\n",
              "        [ 18,  25,  28],\n",
              "        [ 16,  23,  26],\n",
              "        [ 16,  23,  26]],\n",
              "\n",
              "       [[ 46,  50,  55],\n",
              "        [ 46,  50,  55],\n",
              "        [ 46,  50,  55],\n",
              "        ...,\n",
              "        [ 14,  21,  24],\n",
              "        [ 13,  20,  23],\n",
              "        [ 12,  19,  22]],\n",
              "\n",
              "       ...,\n",
              "\n",
              "       [[ 71,  94, 110],\n",
              "        [ 69,  92, 108],\n",
              "        [ 67,  90, 106],\n",
              "        ...,\n",
              "        [ 47,  57,  74],\n",
              "        [ 42,  52,  69],\n",
              "        [ 39,  49,  66]],\n",
              "\n",
              "       [[ 68,  91, 107],\n",
              "        [ 66,  89, 105],\n",
              "        [ 64,  87, 103],\n",
              "        ...,\n",
              "        [ 46,  56,  73],\n",
              "        [ 40,  50,  67],\n",
              "        [ 38,  48,  65]],\n",
              "\n",
              "       [[ 66,  89, 105],\n",
              "        [ 64,  87, 103],\n",
              "        [ 63,  86, 102],\n",
              "        ...,\n",
              "        [ 45,  55,  72],\n",
              "        [ 39,  49,  66],\n",
              "        [ 36,  46,  63]]], dtype=uint8)"
            ]
          },
          "metadata": {}
        },
        {
          "output_type": "stream",
          "name": "stdout",
          "text": [
            "/n########################################\n"
          ]
        },
        {
          "output_type": "display_data",
          "data": {
            "text/plain": [
              "array([[[198, 192, 187],\n",
              "        [199, 193, 188],\n",
              "        [200, 193, 190],\n",
              "        ...,\n",
              "        [136, 141, 144],\n",
              "        [126, 132, 139],\n",
              "        [121, 127, 134]],\n",
              "\n",
              "       [[198, 192, 187],\n",
              "        [199, 193, 188],\n",
              "        [200, 193, 190],\n",
              "        ...,\n",
              "        [133, 138, 141],\n",
              "        [122, 128, 135],\n",
              "        [116, 122, 129]],\n",
              "\n",
              "       [[198, 192, 187],\n",
              "        [198, 192, 187],\n",
              "        [199, 192, 189],\n",
              "        ...,\n",
              "        [131, 136, 139],\n",
              "        [118, 124, 131],\n",
              "        [110, 116, 123]],\n",
              "\n",
              "       ...,\n",
              "\n",
              "       [[ 89,  97, 110],\n",
              "        [ 87,  96, 106],\n",
              "        [ 85,  89, 100],\n",
              "        ...,\n",
              "        [101, 101, 113],\n",
              "        [ 87,  86, 102],\n",
              "        [ 77,  77,  93]],\n",
              "\n",
              "       [[ 89,  97, 110],\n",
              "        [ 89,  98, 108],\n",
              "        [ 88,  92, 103],\n",
              "        ...,\n",
              "        [101, 101, 113],\n",
              "        [ 90,  89, 105],\n",
              "        [ 83,  83,  99]],\n",
              "\n",
              "       [[ 90,  98, 111],\n",
              "        [ 91, 100, 110],\n",
              "        [ 91,  95, 106],\n",
              "        ...,\n",
              "        [100, 100, 112],\n",
              "        [ 93,  92, 108],\n",
              "        [ 90,  90, 106]]], dtype=uint8)"
            ]
          },
          "metadata": {}
        },
        {
          "output_type": "stream",
          "name": "stdout",
          "text": [
            " /n########################################\n"
          ]
        },
        {
          "output_type": "display_data",
          "data": {
            "text/plain": [
              "'anomaly image'"
            ],
            "application/vnd.google.colaboratory.intrinsic+json": {
              "type": "string"
            }
          },
          "metadata": {}
        },
        {
          "output_type": "display_data",
          "data": {
            "text/plain": [
              "'anomaly image'"
            ],
            "application/vnd.google.colaboratory.intrinsic+json": {
              "type": "string"
            }
          },
          "metadata": {}
        },
        {
          "output_type": "stream",
          "name": "stdout",
          "text": [
            "\n",
            "(256, 256, 3)height = 900, width = 900\n",
            "height = 900, width = 900/n########################################\n",
            "height = 900, width = 900resized image shape = \n"
          ]
        },
        {
          "output_type": "display_data",
          "data": {
            "text/plain": [
              "array([[[ 0,  0,  0],\n",
              "        [ 0,  0,  0],\n",
              "        [ 0,  0,  0],\n",
              "        ...,\n",
              "        [ 3,  0,  2],\n",
              "        [ 4,  1,  3],\n",
              "        [ 6,  3,  5]],\n",
              "\n",
              "       [[ 0,  0,  0],\n",
              "        [ 0,  0,  0],\n",
              "        [ 0,  0,  0],\n",
              "        ...,\n",
              "        [ 5,  2,  4],\n",
              "        [ 6,  3,  5],\n",
              "        [ 5,  2,  4]],\n",
              "\n",
              "       [[ 0,  0,  0],\n",
              "        [ 0,  0,  0],\n",
              "        [ 0,  0,  0],\n",
              "        ...,\n",
              "        [ 6,  3,  5],\n",
              "        [ 7,  4,  6],\n",
              "        [ 5,  2,  4]],\n",
              "\n",
              "       ...,\n",
              "\n",
              "       [[15, 10, 19],\n",
              "        [14,  9, 18],\n",
              "        [15,  7, 18],\n",
              "        ...,\n",
              "        [ 0,  0,  0],\n",
              "        [ 0,  0,  0],\n",
              "        [ 0,  0,  0]],\n",
              "\n",
              "       [[16, 11, 20],\n",
              "        [14,  9, 18],\n",
              "        [11,  5, 16],\n",
              "        ...,\n",
              "        [ 0,  0,  0],\n",
              "        [ 0,  0,  0],\n",
              "        [ 0,  0,  0]],\n",
              "\n",
              "       [[20, 15, 24],\n",
              "        [18, 13, 22],\n",
              "        [14,  8, 19],\n",
              "        ...,\n",
              "        [ 0,  0,  0],\n",
              "        [ 0,  0,  0],\n",
              "        [ 0,  0,  0]]], dtype=uint8)"
            ]
          },
          "metadata": {}
        },
        {
          "output_type": "stream",
          "name": "stdout",
          "text": [
            "\n",
            "\n",
            " (256, 256, 3)\n",
            "resized image shape = "
          ]
        },
        {
          "output_type": "display_data",
          "data": {
            "text/plain": [
              "'anomaly image'"
            ],
            "application/vnd.google.colaboratory.intrinsic+json": {
              "type": "string"
            }
          },
          "metadata": {}
        },
        {
          "output_type": "stream",
          "name": "stdout",
          "text": [
            "/n########################################\n",
            "resized image shape = "
          ]
        },
        {
          "output_type": "display_data",
          "data": {
            "text/plain": [
              "array([[[148, 164, 146],\n",
              "        [153, 170, 149],\n",
              "        [157, 174, 153],\n",
              "        ...,\n",
              "        [154, 171, 150],\n",
              "        [157, 174, 153],\n",
              "        [159, 176, 155]],\n",
              "\n",
              "       [[148, 164, 146],\n",
              "        [153, 170, 149],\n",
              "        [157, 174, 153],\n",
              "        ...,\n",
              "        [154, 171, 150],\n",
              "        [157, 174, 153],\n",
              "        [159, 176, 155]],\n",
              "\n",
              "       [[148, 164, 146],\n",
              "        [152, 169, 148],\n",
              "        [156, 173, 152],\n",
              "        ...,\n",
              "        [154, 171, 150],\n",
              "        [157, 174, 153],\n",
              "        [159, 176, 155]],\n",
              "\n",
              "       ...,\n",
              "\n",
              "       [[148, 165, 144],\n",
              "        [152, 169, 148],\n",
              "        [155, 172, 151],\n",
              "        ...,\n",
              "        [154, 171, 150],\n",
              "        [157, 174, 153],\n",
              "        [159, 176, 155]],\n",
              "\n",
              "       [[148, 165, 144],\n",
              "        [152, 169, 148],\n",
              "        [155, 172, 151],\n",
              "        ...,\n",
              "        [154, 171, 150],\n",
              "        [157, 174, 153],\n",
              "        [159, 176, 155]],\n",
              "\n",
              "       [[148, 165, 144],\n",
              "        [152, 169, 148],\n",
              "        [155, 172, 151],\n",
              "        ...,\n",
              "        [154, 171, 150],\n",
              "        [157, 174, 153],\n",
              "        [159, 176, 155]]], dtype=uint8)"
            ]
          },
          "metadata": {}
        },
        {
          "output_type": "stream",
          "name": "stdout",
          "text": [
            " height = 900, width = 900"
          ]
        },
        {
          "output_type": "display_data",
          "data": {
            "text/plain": [
              "'anomaly image'"
            ],
            "application/vnd.google.colaboratory.intrinsic+json": {
              "type": "string"
            }
          },
          "metadata": {}
        },
        {
          "output_type": "stream",
          "name": "stdout",
          "text": [
            "(256, 256, 3)"
          ]
        },
        {
          "output_type": "display_data",
          "data": {
            "text/plain": [
              "array([[[170, 206, 230],\n",
              "        [174, 210, 234],\n",
              "        [172, 211, 233],\n",
              "        ...,\n",
              "        [169, 216, 237],\n",
              "        [169, 216, 237],\n",
              "        [168, 215, 236]],\n",
              "\n",
              "       [[173, 209, 233],\n",
              "        [179, 216, 238],\n",
              "        [181, 220, 242],\n",
              "        ...,\n",
              "        [176, 226, 246],\n",
              "        [176, 226, 246],\n",
              "        [176, 226, 246]],\n",
              "\n",
              "       [[172, 209, 231],\n",
              "        [180, 217, 239],\n",
              "        [185, 224, 246],\n",
              "        ...,\n",
              "        [175, 226, 246],\n",
              "        [175, 226, 246],\n",
              "        [175, 226, 246]],\n",
              "\n",
              "       ...,\n",
              "\n",
              "       [[238, 238, 238],\n",
              "        [173, 173, 173],\n",
              "        [115, 115, 115],\n",
              "        ...,\n",
              "        [ 91,  86,  87],\n",
              "        [ 90,  85,  86],\n",
              "        [ 88,  83,  84]],\n",
              "\n",
              "       [[236, 236, 236],\n",
              "        [172, 172, 172],\n",
              "        [114, 114, 114],\n",
              "        ...,\n",
              "        [ 86,  81,  82],\n",
              "        [ 85,  80,  81],\n",
              "        [ 84,  79,  80]],\n",
              "\n",
              "       [[234, 234, 234],\n",
              "        [170, 170, 170],\n",
              "        [113, 113, 113],\n",
              "        ...,\n",
              "        [ 86,  81,  82],\n",
              "        [ 86,  81,  82],\n",
              "        [ 86,  81,  82]]], dtype=uint8)"
            ]
          },
          "metadata": {}
        },
        {
          "output_type": "stream",
          "name": "stdout",
          "text": [
            " "
          ]
        },
        {
          "output_type": "display_data",
          "data": {
            "text/plain": [
              "'anomaly image'"
            ],
            "application/vnd.google.colaboratory.intrinsic+json": {
              "type": "string"
            }
          },
          "metadata": {}
        },
        {
          "output_type": "stream",
          "name": "stdout",
          "text": [
            "\n",
            "\n",
            "(256, 256, 3)resized image shape = /n########################################\n",
            "\n",
            " "
          ]
        },
        {
          "output_type": "display_data",
          "data": {
            "text/plain": [
              "array([[[117, 117, 117],\n",
              "        [114, 114, 114],\n",
              "        [129, 129, 129],\n",
              "        ...,\n",
              "        [ 95,  95,  95],\n",
              "        [107, 107, 107],\n",
              "        [113, 113, 113]],\n",
              "\n",
              "       [[110, 110, 110],\n",
              "        [108, 108, 108],\n",
              "        [118, 118, 118],\n",
              "        ...,\n",
              "        [ 97,  97,  97],\n",
              "        [102, 102, 102],\n",
              "        [109, 109, 109]],\n",
              "\n",
              "       [[102, 102, 102],\n",
              "        [105, 105, 105],\n",
              "        [120, 120, 120],\n",
              "        ...,\n",
              "        [ 92,  92,  92],\n",
              "        [ 97,  97,  97],\n",
              "        [ 99,  99,  99]],\n",
              "\n",
              "       ...,\n",
              "\n",
              "       [[235, 235, 235],\n",
              "        [231, 231, 231],\n",
              "        [231, 231, 231],\n",
              "        ...,\n",
              "        [237, 237, 237],\n",
              "        [239, 239, 239],\n",
              "        [238, 238, 238]],\n",
              "\n",
              "       [[222, 222, 222],\n",
              "        [223, 223, 223],\n",
              "        [228, 228, 228],\n",
              "        ...,\n",
              "        [211, 211, 211],\n",
              "        [220, 220, 220],\n",
              "        [223, 223, 223]],\n",
              "\n",
              "       [[177, 177, 177],\n",
              "        [183, 183, 183],\n",
              "        [197, 197, 197],\n",
              "        ...,\n",
              "        [149, 149, 149],\n",
              "        [170, 170, 170],\n",
              "        [177, 177, 177]]], dtype=uint8)"
            ]
          },
          "metadata": {}
        },
        {
          "output_type": "stream",
          "name": "stdout",
          "text": [
            "/n########################################"
          ]
        },
        {
          "output_type": "display_data",
          "data": {
            "text/plain": [
              "'anomaly image'"
            ],
            "application/vnd.google.colaboratory.intrinsic+json": {
              "type": "string"
            }
          },
          "metadata": {}
        },
        {
          "output_type": "stream",
          "name": "stdout",
          "text": [
            "\n",
            "(256, 256, 3)\n",
            "/n########################################\n"
          ]
        },
        {
          "output_type": "display_data",
          "data": {
            "text/plain": [
              "array([[[167, 155, 149],\n",
              "        [193, 181, 175],\n",
              "        [208, 196, 190],\n",
              "        ...,\n",
              "        [148, 139, 126],\n",
              "        [191, 182, 169],\n",
              "        [253, 244, 231]],\n",
              "\n",
              "       [[247, 235, 229],\n",
              "        [214, 202, 196],\n",
              "        [188, 176, 170],\n",
              "        ...,\n",
              "        [122, 112, 102],\n",
              "        [105,  96,  83],\n",
              "        [181, 171, 161]],\n",
              "\n",
              "       [[113, 101,  95],\n",
              "        [105,  93,  87],\n",
              "        [119, 107, 101],\n",
              "        ...,\n",
              "        [ 64,  53,  45],\n",
              "        [ 72,  62,  52],\n",
              "        [ 93,  82,  74]],\n",
              "\n",
              "       ...,\n",
              "\n",
              "       [[184, 176, 176],\n",
              "        [116, 106, 106],\n",
              "        [177, 165, 163],\n",
              "        ...,\n",
              "        [105,  94,  90],\n",
              "        [ 91,  80,  76],\n",
              "        [ 80,  68,  64]],\n",
              "\n",
              "       [[250, 245, 244],\n",
              "        [135, 128, 125],\n",
              "        [117, 108, 105],\n",
              "        ...,\n",
              "        [110, 101,  97],\n",
              "        [ 95,  86,  82],\n",
              "        [ 85,  74,  70]],\n",
              "\n",
              "       [[247, 242, 241],\n",
              "        [166, 159, 156],\n",
              "        [127, 118, 115],\n",
              "        ...,\n",
              "        [118, 109, 105],\n",
              "        [103,  94,  90],\n",
              "        [ 92,  81,  77]]], dtype=uint8)"
            ]
          },
          "metadata": {}
        },
        {
          "output_type": "display_data",
          "data": {
            "text/plain": [
              "array([[[ 69,  85,  98],\n",
              "        [ 69,  85,  98],\n",
              "        [ 69,  85,  98],\n",
              "        ...,\n",
              "        [102, 114, 124],\n",
              "        [100, 112, 122],\n",
              "        [100, 112, 122]],\n",
              "\n",
              "       [[ 69,  85,  98],\n",
              "        [ 69,  85,  98],\n",
              "        [ 69,  85,  98],\n",
              "        ...,\n",
              "        [102, 114, 124],\n",
              "        [100, 112, 122],\n",
              "        [100, 112, 122]],\n",
              "\n",
              "       [[ 69,  85,  98],\n",
              "        [ 69,  85,  98],\n",
              "        [ 69,  85,  98],\n",
              "        ...,\n",
              "        [102, 114, 124],\n",
              "        [100, 112, 122],\n",
              "        [100, 112, 122]],\n",
              "\n",
              "       ...,\n",
              "\n",
              "       [[101, 115, 127],\n",
              "        [ 95, 109, 121],\n",
              "        [ 90, 104, 116],\n",
              "        ...,\n",
              "        [ 99, 112, 126],\n",
              "        [ 97, 110, 124],\n",
              "        [ 97, 110, 124]],\n",
              "\n",
              "       [[105, 119, 131],\n",
              "        [ 95, 109, 121],\n",
              "        [ 89, 103, 115],\n",
              "        ...,\n",
              "        [ 99, 112, 126],\n",
              "        [ 97, 110, 124],\n",
              "        [ 97, 110, 124]],\n",
              "\n",
              "       [[101, 115, 127],\n",
              "        [ 93, 107, 119],\n",
              "        [ 88, 102, 114],\n",
              "        ...,\n",
              "        [100, 113, 127],\n",
              "        [ 97, 110, 124],\n",
              "        [ 97, 110, 124]]], dtype=uint8)"
            ]
          },
          "metadata": {}
        },
        {
          "output_type": "display_data",
          "data": {
            "text/plain": [
              "'anomaly image'"
            ],
            "application/vnd.google.colaboratory.intrinsic+json": {
              "type": "string"
            }
          },
          "metadata": {}
        },
        {
          "output_type": "display_data",
          "data": {
            "text/plain": [
              "'anomaly image'"
            ],
            "application/vnd.google.colaboratory.intrinsic+json": {
              "type": "string"
            }
          },
          "metadata": {}
        },
        {
          "output_type": "display_data",
          "data": {
            "text/plain": [
              "array([[[164, 163, 167],\n",
              "        [145, 144, 148],\n",
              "        [127, 123, 128],\n",
              "        ...,\n",
              "        [217, 231, 237],\n",
              "        [212, 226, 232],\n",
              "        [207, 222, 231]],\n",
              "\n",
              "       [[153, 152, 156],\n",
              "        [134, 133, 137],\n",
              "        [120, 116, 121],\n",
              "        ...,\n",
              "        [217, 229, 233],\n",
              "        [215, 229, 235],\n",
              "        [215, 228, 236]],\n",
              "\n",
              "       [[149, 150, 154],\n",
              "        [130, 131, 135],\n",
              "        [121, 120, 124],\n",
              "        ...,\n",
              "        [212, 223, 227],\n",
              "        [215, 225, 232],\n",
              "        [219, 229, 236]],\n",
              "\n",
              "       ...,\n",
              "\n",
              "       [[226, 233, 236],\n",
              "        [226, 233, 236],\n",
              "        [226, 233, 236],\n",
              "        ...,\n",
              "        [205, 217, 221],\n",
              "        [205, 217, 221],\n",
              "        [205, 217, 221]],\n",
              "\n",
              "       [[223, 230, 233],\n",
              "        [223, 230, 233],\n",
              "        [223, 230, 233],\n",
              "        ...,\n",
              "        [205, 217, 221],\n",
              "        [205, 217, 221],\n",
              "        [205, 217, 221]],\n",
              "\n",
              "       [[220, 227, 230],\n",
              "        [220, 227, 230],\n",
              "        [220, 227, 230],\n",
              "        ...,\n",
              "        [206, 218, 222],\n",
              "        [206, 218, 222],\n",
              "        [206, 218, 222]]], dtype=uint8)"
            ]
          },
          "metadata": {}
        },
        {
          "output_type": "display_data",
          "data": {
            "text/plain": [
              "'anomaly image'"
            ],
            "application/vnd.google.colaboratory.intrinsic+json": {
              "type": "string"
            }
          },
          "metadata": {}
        },
        {
          "output_type": "stream",
          "name": "stdout",
          "text": [
            "height = 900, width = 900\n",
            "resized image shape =  (256, 256, 3)\n",
            "/n########################################height = 900, width = 900\n",
            "\n",
            "resized image shape =  height = 900, width = 900(256, 256, 3)"
          ]
        },
        {
          "output_type": "display_data",
          "data": {
            "text/plain": [
              "array([[[175, 188,  12],\n",
              "        [191, 204,  28],\n",
              "        [198, 211,  35],\n",
              "        ...,\n",
              "        [215, 229,  41],\n",
              "        [214, 228,  40],\n",
              "        [214, 228,  40]],\n",
              "\n",
              "       [[180, 193,  17],\n",
              "        [195, 208,  32],\n",
              "        [201, 214,  38],\n",
              "        ...,\n",
              "        [215, 229,  41],\n",
              "        [213, 227,  39],\n",
              "        [214, 228,  40]],\n",
              "\n",
              "       [[180, 193,  18],\n",
              "        [197, 210,  35],\n",
              "        [203, 216,  41],\n",
              "        ...,\n",
              "        [210, 224,  36],\n",
              "        [208, 222,  34],\n",
              "        [208, 222,  34]],\n",
              "\n",
              "       ...,\n",
              "\n",
              "       [[ 61,  55,  14],\n",
              "        [ 59,  53,  12],\n",
              "        [ 57,  51,  10],\n",
              "        ...,\n",
              "        [ 73,  60,   4],\n",
              "        [ 66,  52,   0],\n",
              "        [ 66,  53,   1]],\n",
              "\n",
              "       [[ 62,  56,  15],\n",
              "        [ 57,  51,  10],\n",
              "        [ 52,  46,   5],\n",
              "        ...,\n",
              "        [ 69,  56,   0],\n",
              "        [ 63,  51,   0],\n",
              "        [ 65,  52,   0]],\n",
              "\n",
              "       [[ 60,  54,  13],\n",
              "        [ 58,  52,  11],\n",
              "        [ 57,  51,  10],\n",
              "        ...,\n",
              "        [ 70,  57,   1],\n",
              "        [ 65,  51,   0],\n",
              "        [ 66,  51,   2]]], dtype=uint8)"
            ]
          },
          "metadata": {}
        },
        {
          "output_type": "stream",
          "name": "stdout",
          "text": [
            "\n",
            "height = 900, width = 900\n"
          ]
        },
        {
          "output_type": "display_data",
          "data": {
            "text/plain": [
              "'anomaly image'"
            ],
            "application/vnd.google.colaboratory.intrinsic+json": {
              "type": "string"
            }
          },
          "metadata": {}
        },
        {
          "output_type": "stream",
          "name": "stdout",
          "text": [
            "resized image shape = \n",
            "/n########################################height = 900, width = 900resized image shape =  \n",
            " \n",
            "(256, 256, 3)height = 900, width = 900(256, 256, 3)resized image shape = "
          ]
        },
        {
          "output_type": "display_data",
          "data": {
            "text/plain": [
              "array([[[184, 197, 211],\n",
              "        [192, 205, 219],\n",
              "        [206, 215, 228],\n",
              "        ...,\n",
              "        [  9,  12,  10],\n",
              "        [  9,  12,  10],\n",
              "        [  5,   8,   6]],\n",
              "\n",
              "       [[192, 205, 219],\n",
              "        [198, 211, 225],\n",
              "        [208, 217, 230],\n",
              "        ...,\n",
              "        [  9,  12,  10],\n",
              "        [  9,  12,  10],\n",
              "        [  5,   8,   6]],\n",
              "\n",
              "       [[206, 219, 233],\n",
              "        [207, 220, 234],\n",
              "        [212, 221, 234],\n",
              "        ...,\n",
              "        [  9,  12,  10],\n",
              "        [  8,  11,   9],\n",
              "        [  6,   9,   7]],\n",
              "\n",
              "       ...,\n",
              "\n",
              "       [[111, 106, 107],\n",
              "        [134, 129, 130],\n",
              "        [174, 169, 170],\n",
              "        ...,\n",
              "        [176, 176, 176],\n",
              "        [176, 176, 176],\n",
              "        [161, 161, 161]],\n",
              "\n",
              "       [[119, 114, 115],\n",
              "        [123, 118, 119],\n",
              "        [139, 134, 135],\n",
              "        ...,\n",
              "        [154, 154, 154],\n",
              "        [171, 171, 171],\n",
              "        [157, 157, 157]],\n",
              "\n",
              "       [[139, 134, 135],\n",
              "        [134, 129, 130],\n",
              "        [130, 125, 126],\n",
              "        ...,\n",
              "        [160, 160, 160],\n",
              "        [167, 167, 167],\n",
              "        [161, 161, 161]]], dtype=uint8)"
            ]
          },
          "metadata": {}
        },
        {
          "output_type": "stream",
          "name": "stdout",
          "text": [
            "\n",
            "height = 900, width = 900"
          ]
        },
        {
          "output_type": "display_data",
          "data": {
            "text/plain": [
              "'anomaly image'"
            ],
            "application/vnd.google.colaboratory.intrinsic+json": {
              "type": "string"
            }
          },
          "metadata": {}
        },
        {
          "output_type": "stream",
          "name": "stdout",
          "text": [
            " \n",
            "\n",
            "resized image shape = \n",
            "/n########################################(256, 256, 3)/n######################################## resized image shape = \n",
            "\n",
            "\n",
            "/n######################################## (256, 256, 3)(256, 256, 3)\n",
            "\n"
          ]
        },
        {
          "output_type": "display_data",
          "data": {
            "text/plain": [
              "array([[[255, 255, 247],\n",
              "        [239, 239, 227],\n",
              "        [245, 243, 233],\n",
              "        ...,\n",
              "        [242, 236, 241],\n",
              "        [237, 236, 240],\n",
              "        [239, 238, 242]],\n",
              "\n",
              "       [[254, 254, 242],\n",
              "        [236, 236, 224],\n",
              "        [242, 240, 230],\n",
              "        ...,\n",
              "        [247, 241, 246],\n",
              "        [245, 241, 246],\n",
              "        [244, 243, 247]],\n",
              "\n",
              "       [[252, 251, 241],\n",
              "        [243, 242, 232],\n",
              "        [245, 243, 235],\n",
              "        ...,\n",
              "        [251, 245, 250],\n",
              "        [248, 244, 249],\n",
              "        [244, 243, 247]],\n",
              "\n",
              "       ...,\n",
              "\n",
              "       [[ 87, 104, 117],\n",
              "        [ 84, 101, 114],\n",
              "        [ 80,  96, 109],\n",
              "        ...,\n",
              "        [ 90,  85, 106],\n",
              "        [ 87,  87, 105],\n",
              "        [ 88,  88, 106]],\n",
              "\n",
              "       [[ 89, 106, 119],\n",
              "        [ 85, 102, 115],\n",
              "        [ 79,  95, 108],\n",
              "        ...,\n",
              "        [ 98,  93, 114],\n",
              "        [ 99,  99, 117],\n",
              "        [102, 102, 120]],\n",
              "\n",
              "       [[ 90, 107, 120],\n",
              "        [ 85, 102, 115],\n",
              "        [ 79,  95, 108],\n",
              "        ...,\n",
              "        [110, 105, 126],\n",
              "        [113, 113, 131],\n",
              "        [117, 117, 135]]], dtype=uint8)"
            ]
          },
          "metadata": {}
        },
        {
          "output_type": "stream",
          "name": "stdout",
          "text": [
            "height = 900, width = 900"
          ]
        },
        {
          "output_type": "display_data",
          "data": {
            "text/plain": [
              "array([[[109,  98, 170],\n",
              "        [127, 104, 178],\n",
              "        [112,  81, 156],\n",
              "        ...,\n",
              "        [  2,  12,  52],\n",
              "        [ 12,  11,  50],\n",
              "        [ 16,  12,  47]],\n",
              "\n",
              "       [[ 98,  79, 152],\n",
              "        [114,  87, 160],\n",
              "        [123,  99, 169],\n",
              "        ...,\n",
              "        [  0,   9,  53],\n",
              "        [  1,   3,  43],\n",
              "        [  2,   4,  39]],\n",
              "\n",
              "       [[ 98,  72, 150],\n",
              "        [123,  96, 169],\n",
              "        [145, 123, 188],\n",
              "        ...,\n",
              "        [  3,  18,  64],\n",
              "        [  1,   8,  51],\n",
              "        [  0,   6,  45]],\n",
              "\n",
              "       ...,\n",
              "\n",
              "       [[  4,  81,  60],\n",
              "        [  1,  79,  56],\n",
              "        [  2,  80,  57],\n",
              "        ...,\n",
              "        [  9, 160, 134],\n",
              "        [ 17, 164, 136],\n",
              "        [ 14, 145, 118]],\n",
              "\n",
              "       [[  7,  85,  62],\n",
              "        [  1,  79,  56],\n",
              "        [  2,  80,  57],\n",
              "        ...,\n",
              "        [ 10, 163, 138],\n",
              "        [ 13, 158, 130],\n",
              "        [  9, 135, 106]],\n",
              "\n",
              "       [[  8,  86,  63],\n",
              "        [  1,  79,  56],\n",
              "        [  2,  80,  57],\n",
              "        ...,\n",
              "        [  6, 158, 135],\n",
              "        [  1, 144, 117],\n",
              "        [  1, 120,  92]]], dtype=uint8)"
            ]
          },
          "metadata": {}
        },
        {
          "output_type": "stream",
          "name": "stdout",
          "text": [
            "/n########################################\n"
          ]
        },
        {
          "output_type": "display_data",
          "data": {
            "text/plain": [
              "'anomaly image'"
            ],
            "application/vnd.google.colaboratory.intrinsic+json": {
              "type": "string"
            }
          },
          "metadata": {}
        },
        {
          "output_type": "display_data",
          "data": {
            "text/plain": [
              "array([[[ 68, 127, 167],\n",
              "        [ 54, 113, 153],\n",
              "        [ 46, 101, 144],\n",
              "        ...,\n",
              "        [ 56,  74,  97],\n",
              "        [ 57,  74, 100],\n",
              "        [ 67,  84, 110]],\n",
              "\n",
              "       [[122, 178, 219],\n",
              "        [137, 193, 234],\n",
              "        [138, 193, 236],\n",
              "        ...,\n",
              "        [ 25,  41,  64],\n",
              "        [ 25,  41,  64],\n",
              "        [ 29,  45,  68]],\n",
              "\n",
              "       [[ 95, 148, 191],\n",
              "        [109, 162, 205],\n",
              "        [114, 166, 212],\n",
              "        ...,\n",
              "        [  7,  21,  43],\n",
              "        [  9,  23,  45],\n",
              "        [ 18,  32,  54]],\n",
              "\n",
              "       ...,\n",
              "\n",
              "       [[ 67, 125, 174],\n",
              "        [ 70, 124, 171],\n",
              "        [ 65, 113, 161],\n",
              "        ...,\n",
              "        [ 90, 115, 135],\n",
              "        [ 85, 110, 136],\n",
              "        [ 79, 103, 131]],\n",
              "\n",
              "       [[ 90, 164, 212],\n",
              "        [ 89, 158, 207],\n",
              "        [ 87, 150, 200],\n",
              "        ...,\n",
              "        [ 51,  78,  98],\n",
              "        [ 52,  78, 102],\n",
              "        [ 51,  78, 104]],\n",
              "\n",
              "       [[ 55, 137, 185],\n",
              "        [ 48, 125, 174],\n",
              "        [ 49, 121, 169],\n",
              "        ...,\n",
              "        [ 17,  44,  64],\n",
              "        [ 19,  47,  71],\n",
              "        [ 21,  48,  74]]], dtype=uint8)"
            ]
          },
          "metadata": {}
        },
        {
          "output_type": "stream",
          "name": "stdout",
          "text": [
            "\n"
          ]
        },
        {
          "output_type": "display_data",
          "data": {
            "text/plain": [
              "'anomaly image'"
            ],
            "application/vnd.google.colaboratory.intrinsic+json": {
              "type": "string"
            }
          },
          "metadata": {}
        },
        {
          "output_type": "stream",
          "name": "stdout",
          "text": [
            "/n########################################\n"
          ]
        },
        {
          "output_type": "display_data",
          "data": {
            "text/plain": [
              "'anomaly image'"
            ],
            "application/vnd.google.colaboratory.intrinsic+json": {
              "type": "string"
            }
          },
          "metadata": {}
        },
        {
          "output_type": "stream",
          "name": "stdout",
          "text": [
            "resized image shape = \n",
            " height = 900, width = 900height = 900, width = 900(256, 256, 3)\n",
            "height = 900, width = 900\n",
            "\n",
            "\n",
            "resized image shape = resized image shape = resized image shape = /n########################################\n",
            "  "
          ]
        },
        {
          "output_type": "display_data",
          "data": {
            "text/plain": [
              "array([[[ 54,  85, 106],\n",
              "        [ 55,  86, 107],\n",
              "        [ 61,  93, 112],\n",
              "        ...,\n",
              "        [  9,  57, 169],\n",
              "        [ 14,  66, 180],\n",
              "        [ 20,  70, 188]],\n",
              "\n",
              "       [[ 64,  95, 116],\n",
              "        [ 67,  98, 119],\n",
              "        [ 64,  96, 115],\n",
              "        ...,\n",
              "        [ 18,  68, 182],\n",
              "        [ 21,  72, 188],\n",
              "        [ 25,  78, 195]],\n",
              "\n",
              "       [[ 83, 114, 135],\n",
              "        [ 78, 109, 130],\n",
              "        [ 65,  97, 116],\n",
              "        ...,\n",
              "        [ 26,  74, 192],\n",
              "        [ 28,  78, 198],\n",
              "        [ 30,  81, 203]],\n",
              "\n",
              "       ...,\n",
              "\n",
              "       [[ 42,  74,  87],\n",
              "        [ 41,  70,  84],\n",
              "        [ 40,  66,  80],\n",
              "        ...,\n",
              "        [134, 184, 212],\n",
              "        [137, 186, 212],\n",
              "        [139, 188, 214]],\n",
              "\n",
              "       [[ 61,  97, 105],\n",
              "        [ 56,  92, 100],\n",
              "        [ 60,  90, 101],\n",
              "        ...,\n",
              "        [138, 186, 214],\n",
              "        [140, 189, 215],\n",
              "        [140, 187, 214]],\n",
              "\n",
              "       [[ 74, 112, 117],\n",
              "        [ 76, 114, 119],\n",
              "        [ 78, 111, 120],\n",
              "        ...,\n",
              "        [137, 185, 213],\n",
              "        [139, 188, 214],\n",
              "        [142, 188, 212]]], dtype=uint8)"
            ]
          },
          "metadata": {}
        },
        {
          "output_type": "stream",
          "name": "stdout",
          "text": [
            " height = 900, width = 900(256, 256, 3)(256, 256, 3)(256, 256, 3)"
          ]
        },
        {
          "output_type": "display_data",
          "data": {
            "text/plain": [
              "'anomaly image'"
            ],
            "application/vnd.google.colaboratory.intrinsic+json": {
              "type": "string"
            }
          },
          "metadata": {}
        },
        {
          "output_type": "stream",
          "name": "stdout",
          "text": [
            "\n",
            "height = 900, width = 900"
          ]
        },
        {
          "output_type": "display_data",
          "data": {
            "text/plain": [
              "array([[[139, 148, 158],\n",
              "        [121, 130, 139],\n",
              "        [112, 121, 130],\n",
              "        ...,\n",
              "        [ 64,  75, 102],\n",
              "        [ 75,  82, 107],\n",
              "        [ 90,  97, 122]],\n",
              "\n",
              "       [[127, 136, 146],\n",
              "        [121, 130, 139],\n",
              "        [122, 133, 141],\n",
              "        ...,\n",
              "        [118, 129, 151],\n",
              "        [ 98, 106, 129],\n",
              "        [ 98, 106, 129]],\n",
              "\n",
              "       [[138, 149, 157],\n",
              "        [111, 122, 130],\n",
              "        [ 89, 102, 110],\n",
              "        ...,\n",
              "        [160, 170, 188],\n",
              "        [140, 147, 166],\n",
              "        [130, 137, 156]],\n",
              "\n",
              "       ...,\n",
              "\n",
              "       [[ 99, 100, 110],\n",
              "        [105, 106, 116],\n",
              "        [ 98, 100, 110],\n",
              "        ...,\n",
              "        [ 63,  71,  84],\n",
              "        [ 40,  48,  61],\n",
              "        [ 45,  53,  66]],\n",
              "\n",
              "       [[ 76,  77,  87],\n",
              "        [ 74,  75,  85],\n",
              "        [ 95,  97, 107],\n",
              "        ...,\n",
              "        [105, 114, 124],\n",
              "        [ 90,  98, 111],\n",
              "        [ 57,  66,  79]],\n",
              "\n",
              "       [[ 83,  86,  94],\n",
              "        [ 79,  83,  88],\n",
              "        [104, 108, 113],\n",
              "        ...,\n",
              "        [119, 128, 137],\n",
              "        [108, 116, 129],\n",
              "        [ 87,  94, 109]]], dtype=uint8)"
            ]
          },
          "metadata": {}
        },
        {
          "output_type": "display_data",
          "data": {
            "text/plain": [
              "array([[[  3,   1,  60],\n",
              "        [  2,   6,  85],\n",
              "        [  6,  15, 126],\n",
              "        ...,\n",
              "        [ 73, 157, 192],\n",
              "        [  1,  67,  96],\n",
              "        [ 22,  85, 113]],\n",
              "\n",
              "       [[  1,   0,  66],\n",
              "        [  0,   0,  86],\n",
              "        [  0,   9, 126],\n",
              "        ...,\n",
              "        [ 71, 166, 199],\n",
              "        [ 59, 145, 175],\n",
              "        [  1,  75, 103]],\n",
              "\n",
              "       [[  6,   5, 108],\n",
              "        [  4,   6, 118],\n",
              "        [  0,  15, 138],\n",
              "        ...,\n",
              "        [ 29, 138, 170],\n",
              "        [ 67, 169, 198],\n",
              "        [  0,  93, 119]],\n",
              "\n",
              "       ...,\n",
              "\n",
              "       [[ 55, 145, 230],\n",
              "        [ 11, 112, 215],\n",
              "        [ 20, 112, 213],\n",
              "        ...,\n",
              "        [  3,  99, 229],\n",
              "        [ 10, 113, 240],\n",
              "        [  6,  89, 221]],\n",
              "\n",
              "       [[ 30, 120, 204],\n",
              "        [ 22, 123, 225],\n",
              "        [ 45, 139, 234],\n",
              "        ...,\n",
              "        [  0,  95, 229],\n",
              "        [  1,  88, 228],\n",
              "        [ 12,  81, 232]],\n",
              "\n",
              "       [[ 18, 110, 189],\n",
              "        [ 17, 120, 217],\n",
              "        [ 33, 126, 217],\n",
              "        ...,\n",
              "        [  1,  94, 227],\n",
              "        [  1,  72, 216],\n",
              "        [ 19,  78, 234]]], dtype=uint8)"
            ]
          },
          "metadata": {}
        },
        {
          "output_type": "stream",
          "name": "stdout",
          "text": [
            "\n",
            "\n",
            "\n",
            "\n",
            "resized image shape = "
          ]
        },
        {
          "output_type": "display_data",
          "data": {
            "text/plain": [
              "'anomaly image'"
            ],
            "application/vnd.google.colaboratory.intrinsic+json": {
              "type": "string"
            }
          },
          "metadata": {}
        },
        {
          "output_type": "display_data",
          "data": {
            "text/plain": [
              "'anomaly image'"
            ],
            "application/vnd.google.colaboratory.intrinsic+json": {
              "type": "string"
            }
          },
          "metadata": {}
        },
        {
          "output_type": "stream",
          "name": "stdout",
          "text": [
            "/n########################################resized image shape = /n########################################/n######################################## \n",
            "\n",
            "\n",
            " (256, 256, 3)"
          ]
        },
        {
          "output_type": "display_data",
          "data": {
            "text/plain": [
              "array([[[255, 255, 255],\n",
              "        [255, 255, 255],\n",
              "        [255, 255, 255],\n",
              "        ...,\n",
              "        [255, 255, 255],\n",
              "        [255, 255, 255],\n",
              "        [255, 255, 255]],\n",
              "\n",
              "       [[255, 255, 255],\n",
              "        [255, 255, 255],\n",
              "        [255, 255, 255],\n",
              "        ...,\n",
              "        [255, 255, 255],\n",
              "        [255, 255, 255],\n",
              "        [255, 255, 255]],\n",
              "\n",
              "       [[255, 255, 255],\n",
              "        [255, 255, 255],\n",
              "        [255, 255, 255],\n",
              "        ...,\n",
              "        [255, 255, 255],\n",
              "        [255, 255, 255],\n",
              "        [255, 255, 255]],\n",
              "\n",
              "       ...,\n",
              "\n",
              "       [[255, 255, 255],\n",
              "        [255, 255, 255],\n",
              "        [255, 255, 255],\n",
              "        ...,\n",
              "        [255, 255, 255],\n",
              "        [255, 255, 255],\n",
              "        [255, 255, 255]],\n",
              "\n",
              "       [[255, 255, 255],\n",
              "        [255, 255, 255],\n",
              "        [255, 255, 255],\n",
              "        ...,\n",
              "        [255, 255, 255],\n",
              "        [255, 255, 255],\n",
              "        [255, 255, 255]],\n",
              "\n",
              "       [[255, 255, 255],\n",
              "        [255, 255, 255],\n",
              "        [255, 255, 255],\n",
              "        ...,\n",
              "        [255, 255, 255],\n",
              "        [255, 255, 255],\n",
              "        [255, 255, 255]]], dtype=uint8)"
            ]
          },
          "metadata": {}
        },
        {
          "output_type": "stream",
          "name": "stdout",
          "text": [
            "(256, 256, 3)"
          ]
        },
        {
          "output_type": "display_data",
          "data": {
            "text/plain": [
              "array([[[ 20,  34,  40],\n",
              "        [ 25,  39,  45],\n",
              "        [ 34,  47,  55],\n",
              "        ...,\n",
              "        [145, 157, 167],\n",
              "        [151, 163, 173],\n",
              "        [142, 154, 164]],\n",
              "\n",
              "       [[ 20,  34,  40],\n",
              "        [ 23,  37,  43],\n",
              "        [ 31,  44,  52],\n",
              "        ...,\n",
              "        [164, 176, 186],\n",
              "        [146, 158, 168],\n",
              "        [138, 150, 160]],\n",
              "\n",
              "       [[ 33,  44,  52],\n",
              "        [ 32,  43,  51],\n",
              "        [ 34,  44,  54],\n",
              "        ...,\n",
              "        [172, 184, 194],\n",
              "        [158, 170, 180],\n",
              "        [152, 164, 174]],\n",
              "\n",
              "       ...,\n",
              "\n",
              "       [[ 42,  55,  63],\n",
              "        [ 48,  61,  69],\n",
              "        [ 52,  65,  73],\n",
              "        ...,\n",
              "        [ 41,  57,  70],\n",
              "        [ 52,  68,  81],\n",
              "        [ 94, 110, 123]],\n",
              "\n",
              "       [[ 62,  75,  83],\n",
              "        [ 67,  80,  88],\n",
              "        [ 69,  82,  90],\n",
              "        ...,\n",
              "        [ 41,  57,  70],\n",
              "        [ 45,  61,  74],\n",
              "        [ 92, 108, 121]],\n",
              "\n",
              "       [[ 79,  92, 100],\n",
              "        [ 81,  94, 102],\n",
              "        [ 80,  93, 101],\n",
              "        ...,\n",
              "        [ 32,  48,  61],\n",
              "        [ 41,  57,  70],\n",
              "        [ 90, 106, 119]]], dtype=uint8)"
            ]
          },
          "metadata": {}
        },
        {
          "output_type": "stream",
          "name": "stdout",
          "text": [
            "height = 900, width = 900"
          ]
        },
        {
          "output_type": "display_data",
          "data": {
            "text/plain": [
              "array([[[ 19,  21,  31],\n",
              "        [ 19,  21,  31],\n",
              "        [ 15,  19,  24],\n",
              "        ...,\n",
              "        [ 91, 114, 152],\n",
              "        [109, 132, 170],\n",
              "        [123, 146, 184]],\n",
              "\n",
              "       [[ 22,  25,  33],\n",
              "        [ 19,  22,  30],\n",
              "        [ 14,  18,  23],\n",
              "        ...,\n",
              "        [121, 140, 175],\n",
              "        [120, 139, 174],\n",
              "        [109, 128, 163]],\n",
              "\n",
              "       [[ 25,  28,  36],\n",
              "        [ 22,  25,  33],\n",
              "        [ 16,  20,  25],\n",
              "        ...,\n",
              "        [120, 138, 179],\n",
              "        [107, 125, 166],\n",
              "        [104, 122, 163]],\n",
              "\n",
              "       ...,\n",
              "\n",
              "       [[ 29,  35,  40],\n",
              "        [ 26,  32,  37],\n",
              "        [ 25,  30,  33],\n",
              "        ...,\n",
              "        [ 11,  15,  16],\n",
              "        [ 11,  15,  16],\n",
              "        [ 12,  16,  17]],\n",
              "\n",
              "       [[ 23,  29,  34],\n",
              "        [ 25,  29,  34],\n",
              "        [ 25,  30,  33],\n",
              "        ...,\n",
              "        [ 10,  14,  15],\n",
              "        [ 11,  15,  16],\n",
              "        [ 12,  16,  17]],\n",
              "\n",
              "       [[ 27,  33,  38],\n",
              "        [ 29,  33,  38],\n",
              "        [ 29,  33,  38],\n",
              "        ...,\n",
              "        [ 12,  14,  15],\n",
              "        [ 12,  14,  15],\n",
              "        [ 13,  15,  16]]], dtype=uint8)"
            ]
          },
          "metadata": {}
        },
        {
          "output_type": "stream",
          "name": "stdout",
          "text": [
            "\n"
          ]
        },
        {
          "output_type": "display_data",
          "data": {
            "text/plain": [
              "'anomaly image'"
            ],
            "application/vnd.google.colaboratory.intrinsic+json": {
              "type": "string"
            }
          },
          "metadata": {}
        },
        {
          "output_type": "stream",
          "name": "stdout",
          "text": [
            "\n"
          ]
        },
        {
          "output_type": "display_data",
          "data": {
            "text/plain": [
              "'anomaly image'"
            ],
            "application/vnd.google.colaboratory.intrinsic+json": {
              "type": "string"
            }
          },
          "metadata": {}
        },
        {
          "output_type": "stream",
          "name": "stdout",
          "text": [
            "/n########################################/n########################################\n"
          ]
        },
        {
          "output_type": "display_data",
          "data": {
            "text/plain": [
              "'anomaly image'"
            ],
            "application/vnd.google.colaboratory.intrinsic+json": {
              "type": "string"
            }
          },
          "metadata": {}
        },
        {
          "output_type": "stream",
          "name": "stdout",
          "text": [
            "\n",
            "\n",
            "resized image shape =  (256, 256, 3)"
          ]
        },
        {
          "output_type": "display_data",
          "data": {
            "text/plain": [
              "array([[[251, 251, 251],\n",
              "        [220, 220, 220],\n",
              "        [180, 180, 180],\n",
              "        ...,\n",
              "        [236, 236, 236],\n",
              "        [240, 240, 240],\n",
              "        [255, 255, 255]],\n",
              "\n",
              "       [[211, 211, 211],\n",
              "        [173, 173, 173],\n",
              "        [217, 217, 217],\n",
              "        ...,\n",
              "        [172, 172, 172],\n",
              "        [220, 220, 220],\n",
              "        [246, 246, 246]],\n",
              "\n",
              "       [[209, 209, 209],\n",
              "        [245, 245, 245],\n",
              "        [226, 226, 226],\n",
              "        ...,\n",
              "        [227, 227, 227],\n",
              "        [216, 216, 216],\n",
              "        [255, 255, 255]],\n",
              "\n",
              "       ...,\n",
              "\n",
              "       [[214, 214, 214],\n",
              "        [177, 177, 177],\n",
              "        [236, 236, 236],\n",
              "        ...,\n",
              "        [176, 176, 176],\n",
              "        [230, 230, 230],\n",
              "        [246, 246, 246]],\n",
              "\n",
              "       [[233, 233, 233],\n",
              "        [234, 234, 234],\n",
              "        [166, 166, 166],\n",
              "        ...,\n",
              "        [230, 230, 230],\n",
              "        [228, 228, 228],\n",
              "        [255, 255, 255]],\n",
              "\n",
              "       [[255, 255, 255],\n",
              "        [255, 255, 255],\n",
              "        [246, 246, 246],\n",
              "        ...,\n",
              "        [255, 255, 255],\n",
              "        [255, 255, 255],\n",
              "        [249, 249, 249]]], dtype=uint8)"
            ]
          },
          "metadata": {}
        },
        {
          "output_type": "stream",
          "name": "stdout",
          "text": [
            "\n"
          ]
        },
        {
          "output_type": "display_data",
          "data": {
            "text/plain": [
              "'anomaly image'"
            ],
            "application/vnd.google.colaboratory.intrinsic+json": {
              "type": "string"
            }
          },
          "metadata": {}
        },
        {
          "output_type": "display_data",
          "data": {
            "text/plain": [
              "array([[[240, 248, 247],\n",
              "        [241, 249, 248],\n",
              "        [244, 250, 249],\n",
              "        ...,\n",
              "        [239, 255, 255],\n",
              "        [207, 227, 232],\n",
              "        [158, 181, 197]],\n",
              "\n",
              "       [[241, 249, 248],\n",
              "        [242, 250, 249],\n",
              "        [245, 251, 250],\n",
              "        ...,\n",
              "        [219, 238, 241],\n",
              "        [204, 226, 232],\n",
              "        [178, 204, 220]],\n",
              "\n",
              "       [[241, 252, 250],\n",
              "        [243, 251, 250],\n",
              "        [245, 251, 250],\n",
              "        ...,\n",
              "        [213, 235, 241],\n",
              "        [224, 249, 255],\n",
              "        [201, 231, 248]],\n",
              "\n",
              "       ...,\n",
              "\n",
              "       [[ 20,  26,  25],\n",
              "        [ 21,  27,  26],\n",
              "        [ 23,  28,  27],\n",
              "        ...,\n",
              "        [ 29,  29,  29],\n",
              "        [ 32,  32,  32],\n",
              "        [ 23,  23,  23]],\n",
              "\n",
              "       [[ 24,  30,  29],\n",
              "        [ 25,  31,  30],\n",
              "        [ 26,  31,  30],\n",
              "        ...,\n",
              "        [ 23,  23,  23],\n",
              "        [ 25,  25,  25],\n",
              "        [ 25,  25,  25]],\n",
              "\n",
              "       [[ 28,  34,  33],\n",
              "        [ 29,  35,  34],\n",
              "        [ 29,  34,  33],\n",
              "        ...,\n",
              "        [ 15,  15,  15],\n",
              "        [ 17,  17,  17],\n",
              "        [ 27,  27,  27]]], dtype=uint8)"
            ]
          },
          "metadata": {}
        },
        {
          "output_type": "stream",
          "name": "stdout",
          "text": [
            "/n########################################\n"
          ]
        },
        {
          "output_type": "display_data",
          "data": {
            "text/plain": [
              "'anomaly image'"
            ],
            "application/vnd.google.colaboratory.intrinsic+json": {
              "type": "string"
            }
          },
          "metadata": {}
        },
        {
          "output_type": "display_data",
          "data": {
            "text/plain": [
              "array([[[182, 185, 190],\n",
              "        [186, 189, 194],\n",
              "        [190, 193, 197],\n",
              "        ...,\n",
              "        [137, 141, 152],\n",
              "        [170, 176, 183],\n",
              "        [164, 171, 174]],\n",
              "\n",
              "       [[202, 205, 209],\n",
              "        [205, 208, 212],\n",
              "        [211, 214, 218],\n",
              "        ...,\n",
              "        [135, 139, 150],\n",
              "        [168, 174, 181],\n",
              "        [164, 171, 174]],\n",
              "\n",
              "       [[215, 218, 222],\n",
              "        [216, 220, 221],\n",
              "        [218, 222, 223],\n",
              "        ...,\n",
              "        [129, 133, 144],\n",
              "        [160, 166, 173],\n",
              "        [158, 165, 168]],\n",
              "\n",
              "       ...,\n",
              "\n",
              "       [[180, 187, 196],\n",
              "        [181, 188, 197],\n",
              "        [183, 190, 199],\n",
              "        ...,\n",
              "        [ 83, 118, 181],\n",
              "        [ 86, 119, 182],\n",
              "        [ 86, 121, 185]],\n",
              "\n",
              "       [[181, 188, 197],\n",
              "        [182, 189, 198],\n",
              "        [183, 190, 199],\n",
              "        ...,\n",
              "        [ 81, 116, 180],\n",
              "        [ 83, 118, 182],\n",
              "        [ 84, 120, 184]],\n",
              "\n",
              "       [[182, 189, 198],\n",
              "        [182, 189, 198],\n",
              "        [182, 189, 198],\n",
              "        ...,\n",
              "        [ 80, 115, 179],\n",
              "        [ 82, 117, 181],\n",
              "        [ 83, 118, 184]]], dtype=uint8)"
            ]
          },
          "metadata": {}
        },
        {
          "output_type": "display_data",
          "data": {
            "text/plain": [
              "'anomaly image'"
            ],
            "application/vnd.google.colaboratory.intrinsic+json": {
              "type": "string"
            }
          },
          "metadata": {}
        },
        {
          "output_type": "stream",
          "name": "stdout",
          "text": [
            "height = 900, width = 900\n",
            "resized image shape =  (256, 256, 3)\n",
            "/n########################################\n"
          ]
        },
        {
          "output_type": "display_data",
          "data": {
            "text/plain": [
              "array([[[160, 156, 168],\n",
              "        [169, 165, 177],\n",
              "        [180, 176, 188],\n",
              "        ...,\n",
              "        [146, 139, 146],\n",
              "        [143, 136, 143],\n",
              "        [145, 138, 145]],\n",
              "\n",
              "       [[147, 143, 155],\n",
              "        [147, 143, 155],\n",
              "        [154, 150, 162],\n",
              "        ...,\n",
              "        [168, 161, 168],\n",
              "        [165, 158, 165],\n",
              "        [160, 153, 160]],\n",
              "\n",
              "       [[149, 145, 157],\n",
              "        [143, 139, 151],\n",
              "        [141, 137, 149],\n",
              "        ...,\n",
              "        [179, 172, 179],\n",
              "        [180, 173, 180],\n",
              "        [177, 170, 177]],\n",
              "\n",
              "       ...,\n",
              "\n",
              "       [[193, 190, 205],\n",
              "        [208, 205, 220],\n",
              "        [171, 168, 183],\n",
              "        ...,\n",
              "        [ 61,  57,  68],\n",
              "        [ 79,  75,  86],\n",
              "        [147, 143, 154]],\n",
              "\n",
              "       [[191, 188, 203],\n",
              "        [216, 213, 228],\n",
              "        [187, 184, 199],\n",
              "        ...,\n",
              "        [ 77,  73,  84],\n",
              "        [ 65,  61,  72],\n",
              "        [ 64,  60,  71]],\n",
              "\n",
              "       [[146, 143, 158],\n",
              "        [196, 193, 208],\n",
              "        [198, 195, 210],\n",
              "        ...,\n",
              "        [103,  99, 110],\n",
              "        [102,  98, 109],\n",
              "        [ 85,  81,  92]]], dtype=uint8)"
            ]
          },
          "metadata": {}
        },
        {
          "output_type": "display_data",
          "data": {
            "text/plain": [
              "'anomaly image'"
            ],
            "application/vnd.google.colaboratory.intrinsic+json": {
              "type": "string"
            }
          },
          "metadata": {}
        },
        {
          "output_type": "stream",
          "name": "stdout",
          "text": [
            "height = 900, width = 900\n",
            "resized image shape = height = 900, width = 900 \n",
            "(256, 256, 3)resized image shape = \n",
            " /n########################################(256, 256, 3)height = 900, width = 900\n",
            "\n",
            "\n",
            "/n########################################resized image shape = height = 900, width = 900 \n"
          ]
        },
        {
          "output_type": "display_data",
          "data": {
            "text/plain": [
              "array([[[  7,  11,  16],\n",
              "        [  6,  10,  15],\n",
              "        [  5,   9,  14],\n",
              "        ...,\n",
              "        [ 80,  83,  74],\n",
              "        [ 78,  79,  70],\n",
              "        [ 81,  82,  72]],\n",
              "\n",
              "       [[  5,   9,  14],\n",
              "        [  4,   8,  13],\n",
              "        [  3,   7,  12],\n",
              "        ...,\n",
              "        [ 81,  84,  75],\n",
              "        [ 80,  81,  72],\n",
              "        [ 81,  82,  72]],\n",
              "\n",
              "       [[  3,   7,  12],\n",
              "        [  2,   6,  11],\n",
              "        [  2,   6,  11],\n",
              "        ...,\n",
              "        [ 83,  86,  77],\n",
              "        [ 82,  83,  74],\n",
              "        [ 81,  82,  72]],\n",
              "\n",
              "       ...,\n",
              "\n",
              "       [[190, 202, 204],\n",
              "        [191, 203, 205],\n",
              "        [192, 204, 206],\n",
              "        ...,\n",
              "        [190, 203, 201],\n",
              "        [190, 204, 203],\n",
              "        [192, 206, 205]],\n",
              "\n",
              "       [[189, 201, 203],\n",
              "        [189, 201, 203],\n",
              "        [190, 202, 204],\n",
              "        ...,\n",
              "        [190, 203, 201],\n",
              "        [192, 206, 205],\n",
              "        [195, 209, 208]],\n",
              "\n",
              "       [[188, 200, 202],\n",
              "        [189, 201, 203],\n",
              "        [189, 201, 203],\n",
              "        ...,\n",
              "        [190, 203, 201],\n",
              "        [194, 208, 207],\n",
              "        [198, 212, 211]]], dtype=uint8)"
            ]
          },
          "metadata": {}
        },
        {
          "output_type": "stream",
          "name": "stdout",
          "text": [
            "(256, 256, 3)\n"
          ]
        },
        {
          "output_type": "display_data",
          "data": {
            "text/plain": [
              "'anomaly image'"
            ],
            "application/vnd.google.colaboratory.intrinsic+json": {
              "type": "string"
            }
          },
          "metadata": {}
        },
        {
          "output_type": "stream",
          "name": "stdout",
          "text": [
            "resized image shape = \n",
            "height = 900, width = 900/n########################################\n",
            " \n",
            "resized image shape = (256, 256, 3)"
          ]
        },
        {
          "output_type": "display_data",
          "data": {
            "text/plain": [
              "array([[[142, 153, 137],\n",
              "        [148, 159, 143],\n",
              "        [142, 153, 137],\n",
              "        ...,\n",
              "        [ 63,  78,  57],\n",
              "        [ 60,  75,  54],\n",
              "        [ 61,  76,  55]],\n",
              "\n",
              "       [[143, 154, 138],\n",
              "        [150, 161, 145],\n",
              "        [144, 155, 139],\n",
              "        ...,\n",
              "        [ 62,  77,  56],\n",
              "        [ 61,  76,  55],\n",
              "        [ 61,  76,  55]],\n",
              "\n",
              "       [[136, 147, 131],\n",
              "        [145, 156, 140],\n",
              "        [143, 154, 138],\n",
              "        ...,\n",
              "        [ 62,  77,  56],\n",
              "        [ 64,  79,  58],\n",
              "        [ 62,  77,  56]],\n",
              "\n",
              "       ...,\n",
              "\n",
              "       [[193, 192, 194],\n",
              "        [193, 192, 194],\n",
              "        [193, 192, 194],\n",
              "        ...,\n",
              "        [  0,   3,   1],\n",
              "        [  1,   2,   0],\n",
              "        [  2,   3,   1]],\n",
              "\n",
              "       [[192, 191, 193],\n",
              "        [193, 192, 194],\n",
              "        [192, 191, 193],\n",
              "        ...,\n",
              "        [  1,   1,   1],\n",
              "        [  2,   0,   0],\n",
              "        [  3,   1,   1]],\n",
              "\n",
              "       [[193, 192, 194],\n",
              "        [193, 192, 194],\n",
              "        [193, 192, 194],\n",
              "        ...,\n",
              "        [  1,   1,   1],\n",
              "        [  3,   1,   1],\n",
              "        [  3,   1,   1]]], dtype=uint8)"
            ]
          },
          "metadata": {}
        },
        {
          "output_type": "stream",
          "name": "stdout",
          "text": [
            "\n",
            " "
          ]
        },
        {
          "output_type": "display_data",
          "data": {
            "text/plain": [
              "'anomaly image'"
            ],
            "application/vnd.google.colaboratory.intrinsic+json": {
              "type": "string"
            }
          },
          "metadata": {}
        },
        {
          "output_type": "stream",
          "name": "stdout",
          "text": [
            "/n########################################(256, 256, 3)\n",
            "height = 900, width = 900\n"
          ]
        },
        {
          "output_type": "display_data",
          "data": {
            "text/plain": [
              "array([[[ 41,  98, 120],\n",
              "        [ 55, 110, 131],\n",
              "        [ 70, 123, 144],\n",
              "        ...,\n",
              "        [ 69,  99, 116],\n",
              "        [ 63,  97, 113],\n",
              "        [ 60,  94, 110]],\n",
              "\n",
              "       [[ 41,  95, 118],\n",
              "        [ 51, 104, 125],\n",
              "        [ 71, 121, 143],\n",
              "        ...,\n",
              "        [ 81, 111, 128],\n",
              "        [ 82, 115, 131],\n",
              "        [ 81, 115, 131]],\n",
              "\n",
              "       [[ 36,  84, 108],\n",
              "        [ 47,  96, 118],\n",
              "        [ 68, 115, 137],\n",
              "        ...,\n",
              "        [ 98, 128, 145],\n",
              "        [109, 142, 158],\n",
              "        [117, 151, 167]],\n",
              "\n",
              "       ...,\n",
              "\n",
              "       [[ 79, 133, 150],\n",
              "        [ 79, 133, 150],\n",
              "        [ 78, 131, 151],\n",
              "        ...,\n",
              "        [ 67, 111, 134],\n",
              "        [ 62, 109, 131],\n",
              "        [ 64, 108, 131]],\n",
              "\n",
              "       [[ 70, 126, 145],\n",
              "        [ 72, 128, 147],\n",
              "        [ 77, 133, 152],\n",
              "        ...,\n",
              "        [ 73, 120, 142],\n",
              "        [ 62, 111, 133],\n",
              "        [ 60, 106, 130]],\n",
              "\n",
              "       [[ 62, 120, 139],\n",
              "        [ 70, 128, 147],\n",
              "        [ 76, 134, 153],\n",
              "        ...,\n",
              "        [ 78, 125, 147],\n",
              "        [ 64, 113, 135],\n",
              "        [ 53, 101, 125]]], dtype=uint8)"
            ]
          },
          "metadata": {}
        },
        {
          "output_type": "stream",
          "name": "stdout",
          "text": [
            "\n"
          ]
        },
        {
          "output_type": "display_data",
          "data": {
            "text/plain": [
              "array([[[174, 202, 189],\n",
              "        [204, 233, 224],\n",
              "        [221, 246, 248],\n",
              "        ...,\n",
              "        [173, 159, 183],\n",
              "        [162, 148, 176],\n",
              "        [143, 128, 160]],\n",
              "\n",
              "       [[172, 198, 185],\n",
              "        [202, 229, 220],\n",
              "        [217, 242, 244],\n",
              "        ...,\n",
              "        [190, 178, 200],\n",
              "        [158, 145, 171],\n",
              "        [153, 141, 171]],\n",
              "\n",
              "       [[168, 192, 180],\n",
              "        [201, 224, 216],\n",
              "        [219, 240, 241],\n",
              "        ...,\n",
              "        [210, 204, 223],\n",
              "        [163, 155, 178],\n",
              "        [170, 163, 190]],\n",
              "\n",
              "       ...,\n",
              "\n",
              "       [[189, 198, 211],\n",
              "        [198, 207, 220],\n",
              "        [205, 214, 224],\n",
              "        ...,\n",
              "        [ 61, 155, 130],\n",
              "        [ 94, 182, 159],\n",
              "        [127, 209, 191]],\n",
              "\n",
              "       [[192, 201, 215],\n",
              "        [199, 208, 221],\n",
              "        [205, 214, 224],\n",
              "        ...,\n",
              "        [ 63, 163, 135],\n",
              "        [ 98, 190, 165],\n",
              "        [128, 213, 193]],\n",
              "\n",
              "       [[195, 204, 218],\n",
              "        [200, 209, 222],\n",
              "        [206, 212, 223],\n",
              "        ...,\n",
              "        [ 60, 160, 130],\n",
              "        [ 98, 192, 167],\n",
              "        [133, 218, 198]]], dtype=uint8)"
            ]
          },
          "metadata": {}
        },
        {
          "output_type": "stream",
          "name": "stdout",
          "text": [
            "/n########################################"
          ]
        },
        {
          "output_type": "display_data",
          "data": {
            "text/plain": [
              "'anomaly image'"
            ],
            "application/vnd.google.colaboratory.intrinsic+json": {
              "type": "string"
            }
          },
          "metadata": {}
        },
        {
          "output_type": "stream",
          "name": "stdout",
          "text": [
            "resized image shape = "
          ]
        },
        {
          "output_type": "display_data",
          "data": {
            "text/plain": [
              "'anomaly image'"
            ],
            "application/vnd.google.colaboratory.intrinsic+json": {
              "type": "string"
            }
          },
          "metadata": {}
        },
        {
          "output_type": "stream",
          "name": "stdout",
          "text": [
            "\n"
          ]
        },
        {
          "output_type": "display_data",
          "data": {
            "text/plain": [
              "array([[[ 18,  19,  17],\n",
              "        [ 28,  29,  27],\n",
              "        [ 14,  15,  11],\n",
              "        ...,\n",
              "        [  1,   0,   2],\n",
              "        [  2,   2,   2],\n",
              "        [  3,   3,   3]],\n",
              "\n",
              "       [[  0,   1,   0],\n",
              "        [ 19,  20,  18],\n",
              "        [ 14,  15,  11],\n",
              "        ...,\n",
              "        [  0,   0,   1],\n",
              "        [  0,   0,   1],\n",
              "        [  0,   0,   0]],\n",
              "\n",
              "       [[  0,   1,   0],\n",
              "        [  5,   6,   4],\n",
              "        [  2,   3,   0],\n",
              "        ...,\n",
              "        [  8,   7,  11],\n",
              "        [  8,   7,   9],\n",
              "        [  8,   8,   8]],\n",
              "\n",
              "       ...,\n",
              "\n",
              "       [[ 37,  40,  25],\n",
              "        [143, 146, 131],\n",
              "        [205, 208, 192],\n",
              "        ...,\n",
              "        [ 30,  36,  19],\n",
              "        [ 16,  22,   5],\n",
              "        [ 45,  50,  35]],\n",
              "\n",
              "       [[ 28,  31,  16],\n",
              "        [156, 159, 144],\n",
              "        [159, 162, 146],\n",
              "        ...,\n",
              "        [139, 145, 128],\n",
              "        [ 84,  90,  73],\n",
              "        [ 58,  63,  48]],\n",
              "\n",
              "       [[  2,   5,   0],\n",
              "        [ 34,  37,  22],\n",
              "        [ 17,  20,   5],\n",
              "        ...,\n",
              "        [ 11,  17,   0],\n",
              "        [ 21,  27,  10],\n",
              "        [ 76,  81,  66]]], dtype=uint8)"
            ]
          },
          "metadata": {}
        },
        {
          "output_type": "stream",
          "name": "stdout",
          "text": [
            "\n",
            "\n",
            "(256, 256, 3)\n",
            "height = 900, width = 900 height = 900, width = 900height = 900, width = 900height = 900, width = 900"
          ]
        },
        {
          "output_type": "display_data",
          "data": {
            "text/plain": [
              "'anomaly image'"
            ],
            "application/vnd.google.colaboratory.intrinsic+json": {
              "type": "string"
            }
          },
          "metadata": {}
        },
        {
          "output_type": "stream",
          "name": "stdout",
          "text": [
            "\n",
            "resized image shape = resized image shape = resized image shape = \n",
            "/n######################################## resized image shape =   (256, 256, 3)\n",
            "(256, 256, 3) (256, 256, 3)\n",
            "(256, 256, 3)\n",
            "\n"
          ]
        },
        {
          "output_type": "display_data",
          "data": {
            "text/plain": [
              "array([[[ 23,  32,  45],\n",
              "        [ 32,  41,  54],\n",
              "        [ 28,  36,  49],\n",
              "        ...,\n",
              "        [ 50,  62,  80],\n",
              "        [ 50,  62,  80],\n",
              "        [ 50,  62,  80]],\n",
              "\n",
              "       [[ 22,  31,  44],\n",
              "        [ 19,  28,  41],\n",
              "        [ 26,  34,  47],\n",
              "        ...,\n",
              "        [ 50,  62,  80],\n",
              "        [ 50,  62,  80],\n",
              "        [ 50,  62,  80]],\n",
              "\n",
              "       [[ 26,  35,  48],\n",
              "        [ 27,  36,  49],\n",
              "        [ 26,  34,  47],\n",
              "        ...,\n",
              "        [ 50,  62,  80],\n",
              "        [ 50,  62,  80],\n",
              "        [ 50,  62,  80]],\n",
              "\n",
              "       ...,\n",
              "\n",
              "       [[ 25,  36,  56],\n",
              "        [ 36,  47,  67],\n",
              "        [ 44,  54,  72],\n",
              "        ...,\n",
              "        [184, 183, 193],\n",
              "        [190, 189, 199],\n",
              "        [163, 164, 174]],\n",
              "\n",
              "       [[ 21,  42,  63],\n",
              "        [ 23,  43,  61],\n",
              "        [ 25,  43,  60],\n",
              "        ...,\n",
              "        [165, 168, 182],\n",
              "        [190, 191, 205],\n",
              "        [174, 176, 187]],\n",
              "\n",
              "       [[ 16,  41,  61],\n",
              "        [ 17,  41,  59],\n",
              "        [ 20,  42,  60],\n",
              "        ...,\n",
              "        [ 73,  78,  93],\n",
              "        [ 98, 101, 116],\n",
              "        [137, 138, 152]]], dtype=uint8)"
            ]
          },
          "metadata": {}
        },
        {
          "output_type": "stream",
          "name": "stdout",
          "text": [
            "/n########################################\n",
            "/n########################################height = 900, width = 900/n########################################\n",
            "/n########################################\n"
          ]
        },
        {
          "output_type": "display_data",
          "data": {
            "text/plain": [
              "'anomaly image'"
            ],
            "application/vnd.google.colaboratory.intrinsic+json": {
              "type": "string"
            }
          },
          "metadata": {}
        },
        {
          "output_type": "stream",
          "name": "stdout",
          "text": [
            "\n",
            "\n",
            "height = 900, width = 900height = 900, width = 900\n",
            "\n",
            "\n",
            "resized image shape =  resized image shape = resized image shape = "
          ]
        },
        {
          "output_type": "display_data",
          "data": {
            "text/plain": [
              "array([[[127, 157, 184],\n",
              "        [127, 157, 184],\n",
              "        [126, 156, 183],\n",
              "        ...,\n",
              "        [ 82, 108, 132],\n",
              "        [ 83, 109, 133],\n",
              "        [ 86, 110, 134]],\n",
              "\n",
              "       [[128, 158, 185],\n",
              "        [129, 159, 186],\n",
              "        [130, 160, 187],\n",
              "        ...,\n",
              "        [ 81, 107, 131],\n",
              "        [ 82, 108, 132],\n",
              "        [ 86, 110, 134]],\n",
              "\n",
              "       [[132, 162, 187],\n",
              "        [133, 163, 188],\n",
              "        [135, 165, 190],\n",
              "        ...,\n",
              "        [ 81, 107, 131],\n",
              "        [ 81, 107, 131],\n",
              "        [ 85, 109, 133]],\n",
              "\n",
              "       ...,\n",
              "\n",
              "       [[  9,  11,  22],\n",
              "        [ 13,  15,  26],\n",
              "        [ 19,  20,  34],\n",
              "        ...,\n",
              "        [ 22,  22,  34],\n",
              "        [ 24,  24,  36],\n",
              "        [ 24,  26,  37]],\n",
              "\n",
              "       [[  9,  11,  22],\n",
              "        [ 11,  13,  24],\n",
              "        [ 14,  15,  29],\n",
              "        ...,\n",
              "        [ 23,  23,  35],\n",
              "        [ 24,  24,  36],\n",
              "        [ 24,  26,  37]],\n",
              "\n",
              "       [[ 10,  12,  23],\n",
              "        [ 10,  12,  23],\n",
              "        [ 10,  11,  25],\n",
              "        ...,\n",
              "        [ 21,  21,  33],\n",
              "        [ 23,  23,  35],\n",
              "        [ 23,  25,  36]]], dtype=uint8)"
            ]
          },
          "metadata": {}
        },
        {
          "output_type": "display_data",
          "data": {
            "text/plain": [
              "array([[[125, 182, 179],\n",
              "        [119, 183, 177],\n",
              "        [127, 182, 179],\n",
              "        ...,\n",
              "        [196, 125, 122],\n",
              "        [186, 135, 132],\n",
              "        [159, 156, 152]],\n",
              "\n",
              "       [[124, 181, 178],\n",
              "        [123, 183, 177],\n",
              "        [120, 184, 179],\n",
              "        ...,\n",
              "        [163, 154, 151],\n",
              "        [128, 178, 174],\n",
              "        [118, 188, 182]],\n",
              "\n",
              "       [[123, 182, 178],\n",
              "        [123, 183, 177],\n",
              "        [124, 181, 180],\n",
              "        ...,\n",
              "        [116, 188, 182],\n",
              "        [121, 187, 182],\n",
              "        [125, 184, 180]],\n",
              "\n",
              "       ...,\n",
              "\n",
              "       [[123, 182, 178],\n",
              "        [119, 183, 178],\n",
              "        [123, 183, 177],\n",
              "        ...,\n",
              "        [139, 173, 167],\n",
              "        [122, 184, 178],\n",
              "        [123, 182, 178]],\n",
              "\n",
              "       [[124, 181, 180],\n",
              "        [126, 180, 180],\n",
              "        [123, 182, 178],\n",
              "        ...,\n",
              "        [120, 184, 179],\n",
              "        [124, 181, 178],\n",
              "        [124, 181, 178]],\n",
              "\n",
              "       [[123, 183, 177],\n",
              "        [124, 181, 178],\n",
              "        [130, 177, 175],\n",
              "        ...,\n",
              "        [124, 181, 178],\n",
              "        [124, 183, 179],\n",
              "        [124, 183, 179]]], dtype=uint8)"
            ]
          },
          "metadata": {}
        },
        {
          "output_type": "stream",
          "name": "stdout",
          "text": [
            "(256, 256, 3)"
          ]
        },
        {
          "output_type": "display_data",
          "data": {
            "text/plain": [
              "'anomaly image'"
            ],
            "application/vnd.google.colaboratory.intrinsic+json": {
              "type": "string"
            }
          },
          "metadata": {}
        },
        {
          "output_type": "stream",
          "name": "stdout",
          "text": [
            "  \n"
          ]
        },
        {
          "output_type": "display_data",
          "data": {
            "text/plain": [
              "array([[[ 33,  26,  17],\n",
              "        [ 33,  26,  17],\n",
              "        [ 35,  26,  17],\n",
              "        ...,\n",
              "        [ 21,  24,  38],\n",
              "        [ 21,  24,  38],\n",
              "        [ 22,  25,  39]],\n",
              "\n",
              "       [[ 33,  26,  17],\n",
              "        [ 33,  26,  17],\n",
              "        [ 35,  26,  17],\n",
              "        ...,\n",
              "        [ 20,  23,  37],\n",
              "        [ 20,  23,  37],\n",
              "        [ 20,  23,  37]],\n",
              "\n",
              "       [[ 35,  26,  17],\n",
              "        [ 36,  27,  18],\n",
              "        [ 35,  26,  17],\n",
              "        ...,\n",
              "        [ 19,  22,  36],\n",
              "        [ 19,  22,  36],\n",
              "        [ 19,  22,  36]],\n",
              "\n",
              "       ...,\n",
              "\n",
              "       [[ 72,  61,  47],\n",
              "        [ 70,  59,  45],\n",
              "        [ 65,  56,  43],\n",
              "        ...,\n",
              "        [ 95,  92,  84],\n",
              "        [ 96,  93,  85],\n",
              "        [ 96,  93,  85]],\n",
              "\n",
              "       [[ 73,  62,  48],\n",
              "        [ 71,  60,  46],\n",
              "        [ 66,  57,  44],\n",
              "        ...,\n",
              "        [ 95,  92,  84],\n",
              "        [ 96,  93,  85],\n",
              "        [ 97,  94,  86]],\n",
              "\n",
              "       [[ 74,  63,  49],\n",
              "        [ 72,  61,  47],\n",
              "        [ 67,  58,  45],\n",
              "        ...,\n",
              "        [100,  97,  89],\n",
              "        [ 99,  96,  88],\n",
              "        [ 98,  95,  87]]], dtype=uint8)"
            ]
          },
          "metadata": {}
        },
        {
          "output_type": "display_data",
          "data": {
            "text/plain": [
              "'anomaly image'"
            ],
            "application/vnd.google.colaboratory.intrinsic+json": {
              "type": "string"
            }
          },
          "metadata": {}
        },
        {
          "output_type": "stream",
          "name": "stdout",
          "text": [
            "(256, 256, 3)(256, 256, 3)"
          ]
        },
        {
          "output_type": "display_data",
          "data": {
            "text/plain": [
              "'anomaly image'"
            ],
            "application/vnd.google.colaboratory.intrinsic+json": {
              "type": "string"
            }
          },
          "metadata": {}
        },
        {
          "output_type": "stream",
          "name": "stdout",
          "text": [
            "/n########################################\n",
            "\n",
            "\n",
            "/n########################################/n########################################\n",
            "\n"
          ]
        },
        {
          "output_type": "display_data",
          "data": {
            "text/plain": [
              "array([[[228, 234, 233],\n",
              "        [131, 137, 136],\n",
              "        [193, 201, 200],\n",
              "        ...,\n",
              "        [ 76,  83,  80],\n",
              "        [197, 204, 201],\n",
              "        [184, 191, 188]],\n",
              "\n",
              "       [[182, 188, 187],\n",
              "        [157, 163, 162],\n",
              "        [164, 170, 169],\n",
              "        ...,\n",
              "        [ 38,  44,  43],\n",
              "        [ 46,  52,  51],\n",
              "        [ 60,  66,  65]],\n",
              "\n",
              "       [[104, 110, 109],\n",
              "        [ 68,  74,  73],\n",
              "        [122, 128, 127],\n",
              "        ...,\n",
              "        [ 67,  72,  75],\n",
              "        [ 53,  58,  61],\n",
              "        [ 60,  65,  68]],\n",
              "\n",
              "       ...,\n",
              "\n",
              "       [[143, 147, 152],\n",
              "        [ 57,  61,  66],\n",
              "        [ 75,  78,  83],\n",
              "        ...,\n",
              "        [ 69,  71,  71],\n",
              "        [123, 125, 125],\n",
              "        [214, 216, 216]],\n",
              "\n",
              "       [[128, 126, 132],\n",
              "        [142, 140, 146],\n",
              "        [136, 134, 140],\n",
              "        ...,\n",
              "        [104, 106, 106],\n",
              "        [152, 157, 156],\n",
              "        [220, 225, 224]],\n",
              "\n",
              "       [[169, 165, 171],\n",
              "        [164, 160, 166],\n",
              "        [148, 144, 150],\n",
              "        ...,\n",
              "        [141, 149, 148],\n",
              "        [166, 172, 171],\n",
              "        [213, 219, 218]]], dtype=uint8)"
            ]
          },
          "metadata": {}
        },
        {
          "output_type": "display_data",
          "data": {
            "text/plain": [
              "array([[[  5, 130,  90],\n",
              "        [  7, 132,  92],\n",
              "        [  9, 132,  92],\n",
              "        ...,\n",
              "        [ 12, 151, 107],\n",
              "        [ 19, 156, 112],\n",
              "        [ 15, 152, 108]],\n",
              "\n",
              "       [[  6, 129,  89],\n",
              "        [  9, 132,  92],\n",
              "        [ 10, 133,  93],\n",
              "        ...,\n",
              "        [ 15, 154, 110],\n",
              "        [ 21, 158, 114],\n",
              "        [ 16, 153, 109]],\n",
              "\n",
              "       [[  6, 128,  88],\n",
              "        [ 10, 132,  92],\n",
              "        [ 11, 133,  93],\n",
              "        ...,\n",
              "        [ 16, 155, 111],\n",
              "        [ 22, 159, 115],\n",
              "        [ 16, 153, 109]],\n",
              "\n",
              "       ...,\n",
              "\n",
              "       [[  4, 117,  79],\n",
              "        [  7, 120,  82],\n",
              "        [ 20, 133,  95],\n",
              "        ...,\n",
              "        [  3, 118,  78],\n",
              "        [  0, 114,  74],\n",
              "        [  0, 110,  70]],\n",
              "\n",
              "       [[  8, 119,  81],\n",
              "        [ 14, 125,  87],\n",
              "        [ 35, 146, 108],\n",
              "        ...,\n",
              "        [ 10, 125,  85],\n",
              "        [  6, 121,  81],\n",
              "        [  2, 117,  77]],\n",
              "\n",
              "       [[ 10, 119,  81],\n",
              "        [ 17, 126,  88],\n",
              "        [ 36, 147, 109],\n",
              "        ...,\n",
              "        [ 14, 129,  89],\n",
              "        [ 12, 127,  87],\n",
              "        [  7, 122,  82]]], dtype=uint8)"
            ]
          },
          "metadata": {}
        },
        {
          "output_type": "display_data",
          "data": {
            "text/plain": [
              "'anomaly image'"
            ],
            "application/vnd.google.colaboratory.intrinsic+json": {
              "type": "string"
            }
          },
          "metadata": {}
        },
        {
          "output_type": "display_data",
          "data": {
            "text/plain": [
              "array([[[255, 255, 255],\n",
              "        [255, 255, 255],\n",
              "        [230, 230, 230],\n",
              "        ...,\n",
              "        [230, 230, 230],\n",
              "        [230, 230, 230],\n",
              "        [230, 230, 230]],\n",
              "\n",
              "       [[255, 255, 255],\n",
              "        [255, 255, 255],\n",
              "        [230, 230, 230],\n",
              "        ...,\n",
              "        [230, 230, 230],\n",
              "        [230, 230, 230],\n",
              "        [230, 230, 230]],\n",
              "\n",
              "       [[255, 255, 255],\n",
              "        [255, 255, 255],\n",
              "        [230, 230, 230],\n",
              "        ...,\n",
              "        [230, 230, 230],\n",
              "        [230, 230, 230],\n",
              "        [230, 230, 230]],\n",
              "\n",
              "       ...,\n",
              "\n",
              "       [[255, 255, 255],\n",
              "        [255, 255, 255],\n",
              "        [230, 230, 230],\n",
              "        ...,\n",
              "        [230, 230, 230],\n",
              "        [230, 230, 230],\n",
              "        [230, 230, 230]],\n",
              "\n",
              "       [[255, 255, 255],\n",
              "        [255, 255, 255],\n",
              "        [230, 230, 230],\n",
              "        ...,\n",
              "        [230, 230, 230],\n",
              "        [230, 230, 230],\n",
              "        [230, 230, 230]],\n",
              "\n",
              "       [[255, 255, 255],\n",
              "        [255, 255, 255],\n",
              "        [230, 230, 230],\n",
              "        ...,\n",
              "        [230, 230, 230],\n",
              "        [230, 230, 230],\n",
              "        [230, 230, 230]]], dtype=uint8)"
            ]
          },
          "metadata": {}
        },
        {
          "output_type": "display_data",
          "data": {
            "text/plain": [
              "array([[[239, 251, 245],\n",
              "        [205, 217, 211],\n",
              "        [191, 202, 199],\n",
              "        ...,\n",
              "        [137, 134, 129],\n",
              "        [150, 147, 142],\n",
              "        [204, 200, 195]],\n",
              "\n",
              "       [[142, 154, 148],\n",
              "        [114, 126, 120],\n",
              "        [105, 116, 113],\n",
              "        ...,\n",
              "        [ 76,  73,  68],\n",
              "        [ 71,  68,  63],\n",
              "        [ 95,  91,  86]],\n",
              "\n",
              "       [[ 73,  87,  83],\n",
              "        [ 54,  68,  64],\n",
              "        [ 63,  77,  73],\n",
              "        ...,\n",
              "        [ 39,  36,  32],\n",
              "        [ 29,  26,  22],\n",
              "        [ 34,  31,  27]],\n",
              "\n",
              "       ...,\n",
              "\n",
              "       [[219, 223, 224],\n",
              "        [203, 207, 208],\n",
              "        [203, 207, 208],\n",
              "        ...,\n",
              "        [103, 105, 106],\n",
              "        [ 92,  94,  95],\n",
              "        [ 99, 101, 102]],\n",
              "\n",
              "       [[217, 221, 222],\n",
              "        [204, 208, 209],\n",
              "        [195, 199, 200],\n",
              "        ...,\n",
              "        [108, 110, 111],\n",
              "        [ 98, 100, 101],\n",
              "        [106, 108, 109]],\n",
              "\n",
              "       [[211, 215, 216],\n",
              "        [208, 212, 213],\n",
              "        [201, 205, 206],\n",
              "        ...,\n",
              "        [ 84,  86,  87],\n",
              "        [ 94,  96,  97],\n",
              "        [ 83,  85,  86]]], dtype=uint8)"
            ]
          },
          "metadata": {}
        },
        {
          "output_type": "display_data",
          "data": {
            "text/plain": [
              "'anomaly image'"
            ],
            "application/vnd.google.colaboratory.intrinsic+json": {
              "type": "string"
            }
          },
          "metadata": {}
        },
        {
          "output_type": "display_data",
          "data": {
            "text/plain": [
              "'anomaly image'"
            ],
            "application/vnd.google.colaboratory.intrinsic+json": {
              "type": "string"
            }
          },
          "metadata": {}
        },
        {
          "output_type": "display_data",
          "data": {
            "text/plain": [
              "'anomaly image'"
            ],
            "application/vnd.google.colaboratory.intrinsic+json": {
              "type": "string"
            }
          },
          "metadata": {}
        },
        {
          "output_type": "stream",
          "name": "stdout",
          "text": [
            "height = 900, width = 900\n",
            "resized image shape =  (256, 256, 3)\n",
            "/n########################################\n"
          ]
        },
        {
          "output_type": "display_data",
          "data": {
            "text/plain": [
              "array([[[ 14,  83, 116],\n",
              "        [ 14,  85, 118],\n",
              "        [ 33, 104, 137],\n",
              "        ...,\n",
              "        [ 37, 118, 209],\n",
              "        [ 34, 115, 206],\n",
              "        [ 37, 119, 208]],\n",
              "\n",
              "       [[ 33, 102, 135],\n",
              "        [ 27,  96, 129],\n",
              "        [ 34, 105, 138],\n",
              "        ...,\n",
              "        [ 39, 120, 211],\n",
              "        [ 37, 119, 208],\n",
              "        [ 39, 121, 210]],\n",
              "\n",
              "       [[ 36, 106, 136],\n",
              "        [ 24,  94, 124],\n",
              "        [ 27,  98, 131],\n",
              "        ...,\n",
              "        [ 43, 126, 212],\n",
              "        [ 40, 123, 209],\n",
              "        [ 41, 124, 210]],\n",
              "\n",
              "       ...,\n",
              "\n",
              "       [[ 74, 180, 221],\n",
              "        [ 73, 180, 218],\n",
              "        [ 72, 178, 219],\n",
              "        ...,\n",
              "        [ 63, 128, 172],\n",
              "        [ 60, 126, 167],\n",
              "        [ 58, 123, 167]],\n",
              "\n",
              "       [[ 86, 184, 224],\n",
              "        [ 84, 183, 221],\n",
              "        [ 80, 178, 218],\n",
              "        ...,\n",
              "        [ 71, 137, 178],\n",
              "        [ 69, 136, 175],\n",
              "        [ 67, 133, 174]],\n",
              "\n",
              "       [[ 21, 114, 153],\n",
              "        [ 18, 112, 148],\n",
              "        [ 16, 109, 148],\n",
              "        ...,\n",
              "        [ 11,  78, 117],\n",
              "        [ 11,  79, 116],\n",
              "        [  9,  76, 115]]], dtype=uint8)"
            ]
          },
          "metadata": {}
        },
        {
          "output_type": "display_data",
          "data": {
            "text/plain": [
              "'anomaly image'"
            ],
            "application/vnd.google.colaboratory.intrinsic+json": {
              "type": "string"
            }
          },
          "metadata": {}
        },
        {
          "output_type": "stream",
          "name": "stdout",
          "text": [
            "height = 900, width = 900height = 900, width = 900\n",
            "\n",
            "resized image shape = resized image shape = height = 900, width = 900  (256, 256, 3)(256, 256, 3)\n",
            "\n",
            "\n",
            "resized image shape = /n######################################## /n########################################\n",
            "(256, 256, 3)\n",
            "\n",
            "height = 900, width = 900/n########################################\n",
            "\n"
          ]
        },
        {
          "output_type": "display_data",
          "data": {
            "text/plain": [
              "array([[[255, 255, 255],\n",
              "        [255, 255, 255],\n",
              "        [255, 255, 255],\n",
              "        ...,\n",
              "        [255, 255, 255],\n",
              "        [255, 255, 255],\n",
              "        [255, 255, 255]],\n",
              "\n",
              "       [[255, 255, 255],\n",
              "        [255, 255, 255],\n",
              "        [255, 255, 255],\n",
              "        ...,\n",
              "        [255, 255, 255],\n",
              "        [255, 255, 255],\n",
              "        [255, 255, 255]],\n",
              "\n",
              "       [[255, 255, 255],\n",
              "        [255, 255, 255],\n",
              "        [255, 255, 255],\n",
              "        ...,\n",
              "        [255, 255, 255],\n",
              "        [255, 255, 255],\n",
              "        [255, 255, 255]],\n",
              "\n",
              "       ...,\n",
              "\n",
              "       [[255, 255, 255],\n",
              "        [255, 255, 255],\n",
              "        [255, 255, 255],\n",
              "        ...,\n",
              "        [255, 255, 255],\n",
              "        [255, 255, 255],\n",
              "        [255, 255, 255]],\n",
              "\n",
              "       [[255, 255, 255],\n",
              "        [255, 255, 255],\n",
              "        [255, 255, 255],\n",
              "        ...,\n",
              "        [255, 255, 255],\n",
              "        [255, 255, 255],\n",
              "        [255, 255, 255]],\n",
              "\n",
              "       [[255, 255, 255],\n",
              "        [255, 255, 255],\n",
              "        [255, 255, 255],\n",
              "        ...,\n",
              "        [255, 255, 255],\n",
              "        [255, 255, 255],\n",
              "        [255, 255, 255]]], dtype=uint8)"
            ]
          },
          "metadata": {}
        },
        {
          "output_type": "display_data",
          "data": {
            "text/plain": [
              "array([[[175, 174, 146],\n",
              "        [162, 161, 133],\n",
              "        [166, 165, 137],\n",
              "        ...,\n",
              "        [ 47,  40,  31],\n",
              "        [ 32,  24,  17],\n",
              "        [ 40,  32,  25]],\n",
              "\n",
              "       [[170, 169, 141],\n",
              "        [157, 156, 128],\n",
              "        [160, 159, 131],\n",
              "        ...,\n",
              "        [ 43,  36,  27],\n",
              "        [ 38,  30,  23],\n",
              "        [  9,   1,   0]],\n",
              "\n",
              "       [[153, 152, 126],\n",
              "        [141, 140, 114],\n",
              "        [144, 143, 117],\n",
              "        ...,\n",
              "        [ 30,  23,  14],\n",
              "        [ 37,  29,  22],\n",
              "        [ 25,  17,  10]],\n",
              "\n",
              "       ...,\n",
              "\n",
              "       [[134, 136, 107],\n",
              "        [133, 137, 108],\n",
              "        [109, 114,  83],\n",
              "        ...,\n",
              "        [144, 145, 111],\n",
              "        [136, 134,  99],\n",
              "        [122, 121,  83]],\n",
              "\n",
              "       [[140, 142, 113],\n",
              "        [142, 146, 117],\n",
              "        [123, 128,  97],\n",
              "        ...,\n",
              "        [129, 130,  96],\n",
              "        [120, 118,  83],\n",
              "        [118, 117,  79]],\n",
              "\n",
              "       [[140, 142, 113],\n",
              "        [142, 146, 117],\n",
              "        [129, 134, 103],\n",
              "        ...,\n",
              "        [118, 119,  85],\n",
              "        [109, 107,  72],\n",
              "        [116, 115,  77]]], dtype=uint8)"
            ]
          },
          "metadata": {}
        },
        {
          "output_type": "stream",
          "name": "stdout",
          "text": [
            "resized image shape = "
          ]
        },
        {
          "output_type": "display_data",
          "data": {
            "text/plain": [
              "array([[[255, 255, 255],\n",
              "        [255, 255, 255],\n",
              "        [255, 255, 255],\n",
              "        ...,\n",
              "        [255, 255, 255],\n",
              "        [255, 255, 255],\n",
              "        [255, 255, 255]],\n",
              "\n",
              "       [[255, 255, 255],\n",
              "        [255, 255, 255],\n",
              "        [255, 255, 255],\n",
              "        ...,\n",
              "        [255, 255, 255],\n",
              "        [255, 255, 255],\n",
              "        [255, 255, 255]],\n",
              "\n",
              "       [[255, 255, 255],\n",
              "        [255, 255, 255],\n",
              "        [255, 255, 255],\n",
              "        ...,\n",
              "        [255, 255, 255],\n",
              "        [255, 255, 255],\n",
              "        [255, 255, 255]],\n",
              "\n",
              "       ...,\n",
              "\n",
              "       [[255, 255, 255],\n",
              "        [255, 255, 255],\n",
              "        [255, 255, 255],\n",
              "        ...,\n",
              "        [255, 255, 255],\n",
              "        [255, 255, 255],\n",
              "        [255, 255, 255]],\n",
              "\n",
              "       [[255, 255, 255],\n",
              "        [255, 255, 255],\n",
              "        [255, 255, 255],\n",
              "        ...,\n",
              "        [255, 255, 255],\n",
              "        [255, 255, 255],\n",
              "        [255, 255, 255]],\n",
              "\n",
              "       [[255, 255, 255],\n",
              "        [255, 255, 255],\n",
              "        [255, 255, 255],\n",
              "        ...,\n",
              "        [255, 255, 255],\n",
              "        [255, 255, 255],\n",
              "        [255, 255, 255]]], dtype=uint8)"
            ]
          },
          "metadata": {}
        },
        {
          "output_type": "stream",
          "name": "stdout",
          "text": [
            "height = 900, width = 900"
          ]
        },
        {
          "output_type": "display_data",
          "data": {
            "text/plain": [
              "'anomaly image'"
            ],
            "application/vnd.google.colaboratory.intrinsic+json": {
              "type": "string"
            }
          },
          "metadata": {}
        },
        {
          "output_type": "display_data",
          "data": {
            "text/plain": [
              "'anomaly image'"
            ],
            "application/vnd.google.colaboratory.intrinsic+json": {
              "type": "string"
            }
          },
          "metadata": {}
        },
        {
          "output_type": "stream",
          "name": "stdout",
          "text": [
            " \n"
          ]
        },
        {
          "output_type": "display_data",
          "data": {
            "text/plain": [
              "'anomaly image'"
            ],
            "application/vnd.google.colaboratory.intrinsic+json": {
              "type": "string"
            }
          },
          "metadata": {}
        },
        {
          "output_type": "stream",
          "name": "stdout",
          "text": [
            "(256, 256, 3)resized image shape =  \n",
            "(256, 256, 3)height = 900, width = 900height = 900, width = 900\n",
            "\n",
            "\n",
            "/n########################################height = 900, width = 900resized image shape = /n########################################\n",
            "resized image shape =  \n",
            "\n",
            " (256, 256, 3)resized image shape =  (256, 256, 3)(256, 256, 3)\n"
          ]
        },
        {
          "output_type": "display_data",
          "data": {
            "text/plain": [
              "array([[[ 84, 104, 199],\n",
              "        [ 82, 102, 197],\n",
              "        [ 77,  99, 195],\n",
              "        ...,\n",
              "        [ 72, 137, 212],\n",
              "        [ 70, 138, 213],\n",
              "        [ 69, 137, 212]],\n",
              "\n",
              "       [[ 88, 108, 203],\n",
              "        [ 85, 107, 202],\n",
              "        [ 82, 104, 199],\n",
              "        ...,\n",
              "        [ 73, 138, 213],\n",
              "        [ 72, 140, 215],\n",
              "        [ 68, 139, 213]],\n",
              "\n",
              "       [[ 90, 113, 205],\n",
              "        [ 89, 112, 204],\n",
              "        [ 87, 110, 202],\n",
              "        ...,\n",
              "        [ 74, 138, 216],\n",
              "        [ 71, 139, 216],\n",
              "        [ 71, 141, 218]],\n",
              "\n",
              "       ...,\n",
              "\n",
              "       [[ 83,  99, 196],\n",
              "        [ 83,  99, 196],\n",
              "        [ 82,  97, 197],\n",
              "        ...,\n",
              "        [ 52, 110, 192],\n",
              "        [ 51, 109, 191],\n",
              "        [ 47, 107, 191]],\n",
              "\n",
              "       [[ 84, 100, 197],\n",
              "        [ 83,  99, 196],\n",
              "        [ 82,  97, 197],\n",
              "        ...,\n",
              "        [ 48, 106, 188],\n",
              "        [ 46, 104, 186],\n",
              "        [ 43, 103, 187]],\n",
              "\n",
              "       [[ 85,  97, 198],\n",
              "        [ 87,  99, 200],\n",
              "        [ 85, 101, 198],\n",
              "        ...,\n",
              "        [ 47, 106, 186],\n",
              "        [ 44, 103, 183],\n",
              "        [ 42, 102, 184]]], dtype=uint8)"
            ]
          },
          "metadata": {}
        },
        {
          "output_type": "stream",
          "name": "stdout",
          "text": [
            "/n########################################\n",
            "\n"
          ]
        },
        {
          "output_type": "display_data",
          "data": {
            "text/plain": [
              "array([[[  5,  43,  91],\n",
              "        [  4,  41,  91],\n",
              "        [  2,  36,  95],\n",
              "        ...,\n",
              "        [ 36,  41, 102],\n",
              "        [ 37,  45, 112],\n",
              "        [ 39,  45, 120]],\n",
              "\n",
              "       [[  4,  41,  91],\n",
              "        [  3,  39,  93],\n",
              "        [  3,  37,  96],\n",
              "        ...,\n",
              "        [ 48,  54, 113],\n",
              "        [ 50,  58, 125],\n",
              "        [ 48,  55, 128]],\n",
              "\n",
              "       [[  7,  40,  96],\n",
              "        [  8,  40,  99],\n",
              "        [  9,  40, 103],\n",
              "        ...,\n",
              "        [ 51,  58, 115],\n",
              "        [ 52,  61, 125],\n",
              "        [ 46,  54, 124]],\n",
              "\n",
              "       ...,\n",
              "\n",
              "       [[187, 151,  67],\n",
              "        [198, 165,  79],\n",
              "        [219, 188,  97],\n",
              "        ...,\n",
              "        [219, 184,  74],\n",
              "        [215, 178,  68],\n",
              "        [221, 182,  73]],\n",
              "\n",
              "       [[191, 154,  69],\n",
              "        [192, 158,  69],\n",
              "        [211, 178,  85],\n",
              "        ...,\n",
              "        [214, 178,  64],\n",
              "        [222, 185,  71],\n",
              "        [222, 184,  72]],\n",
              "\n",
              "       [[192, 155,  70],\n",
              "        [181, 145,  57],\n",
              "        [191, 158,  65],\n",
              "        ...,\n",
              "        [227, 190,  74],\n",
              "        [254, 217, 101],\n",
              "        [255, 217, 104]]], dtype=uint8)"
            ]
          },
          "metadata": {}
        },
        {
          "output_type": "stream",
          "name": "stdout",
          "text": [
            "/n########################################\n",
            "\n",
            "/n########################################"
          ]
        },
        {
          "output_type": "display_data",
          "data": {
            "text/plain": [
              "'anomaly image'"
            ],
            "application/vnd.google.colaboratory.intrinsic+json": {
              "type": "string"
            }
          },
          "metadata": {}
        },
        {
          "output_type": "display_data",
          "data": {
            "text/plain": [
              "array([[[ 36,  43,  22],\n",
              "        [ 36,  43,  22],\n",
              "        [ 40,  46,  27],\n",
              "        ...,\n",
              "        [ 47,  56,  43],\n",
              "        [ 35,  44,  31],\n",
              "        [ 29,  38,  25]],\n",
              "\n",
              "       [[ 39,  46,  25],\n",
              "        [ 40,  47,  26],\n",
              "        [ 44,  50,  31],\n",
              "        ...,\n",
              "        [ 48,  58,  42],\n",
              "        [ 38,  47,  34],\n",
              "        [ 31,  41,  25]],\n",
              "\n",
              "       [[ 41,  47,  28],\n",
              "        [ 42,  48,  29],\n",
              "        [ 46,  52,  33],\n",
              "        ...,\n",
              "        [ 57,  65,  48],\n",
              "        [ 54,  61,  46],\n",
              "        [ 47,  55,  38]],\n",
              "\n",
              "       ...,\n",
              "\n",
              "       [[164, 160, 142],\n",
              "        [163, 159, 141],\n",
              "        [154, 150, 132],\n",
              "        ...,\n",
              "        [ 82,  81,  55],\n",
              "        [ 83,  82,  56],\n",
              "        [ 84,  83,  57]],\n",
              "\n",
              "       [[171, 167, 149],\n",
              "        [173, 169, 151],\n",
              "        [167, 163, 145],\n",
              "        ...,\n",
              "        [ 86,  85,  57],\n",
              "        [ 88,  87,  59],\n",
              "        [ 89,  88,  60]],\n",
              "\n",
              "       [[192, 187, 172],\n",
              "        [186, 181, 166],\n",
              "        [182, 177, 162],\n",
              "        ...,\n",
              "        [ 91,  91,  61],\n",
              "        [ 89,  89,  59],\n",
              "        [ 90,  90,  60]]], dtype=uint8)"
            ]
          },
          "metadata": {}
        },
        {
          "output_type": "stream",
          "name": "stdout",
          "text": [
            "\n"
          ]
        },
        {
          "output_type": "display_data",
          "data": {
            "text/plain": [
              "'anomaly image'"
            ],
            "application/vnd.google.colaboratory.intrinsic+json": {
              "type": "string"
            }
          },
          "metadata": {}
        },
        {
          "output_type": "display_data",
          "data": {
            "text/plain": [
              "'anomaly image'"
            ],
            "application/vnd.google.colaboratory.intrinsic+json": {
              "type": "string"
            }
          },
          "metadata": {}
        },
        {
          "output_type": "display_data",
          "data": {
            "text/plain": [
              "array([[[ 15,  81,  62],\n",
              "        [ 15,  81,  62],\n",
              "        [ 15,  81,  62],\n",
              "        ...,\n",
              "        [130, 145, 147],\n",
              "        [130, 145, 147],\n",
              "        [128, 146, 147]],\n",
              "\n",
              "       [[ 14,  80,  61],\n",
              "        [ 14,  80,  61],\n",
              "        [ 14,  80,  61],\n",
              "        ...,\n",
              "        [130, 145, 147],\n",
              "        [130, 145, 147],\n",
              "        [127, 145, 146]],\n",
              "\n",
              "       [[ 15,  82,  61],\n",
              "        [ 15,  82,  61],\n",
              "        [ 14,  81,  60],\n",
              "        ...,\n",
              "        [130, 145, 147],\n",
              "        [130, 145, 147],\n",
              "        [128, 146, 147]],\n",
              "\n",
              "       ...,\n",
              "\n",
              "       [[ 71, 147, 136],\n",
              "        [ 71, 147, 136],\n",
              "        [ 69, 147, 136],\n",
              "        ...,\n",
              "        [154, 166, 138],\n",
              "        [154, 166, 138],\n",
              "        [153, 165, 137]],\n",
              "\n",
              "       [[ 68, 144, 133],\n",
              "        [ 69, 145, 134],\n",
              "        [ 67, 145, 134],\n",
              "        ...,\n",
              "        [155, 167, 139],\n",
              "        [155, 167, 139],\n",
              "        [153, 165, 137]],\n",
              "\n",
              "       [[ 66, 142, 131],\n",
              "        [ 67, 143, 132],\n",
              "        [ 65, 143, 132],\n",
              "        ...,\n",
              "        [155, 167, 139],\n",
              "        [155, 167, 139],\n",
              "        [155, 167, 139]]], dtype=uint8)"
            ]
          },
          "metadata": {}
        },
        {
          "output_type": "display_data",
          "data": {
            "text/plain": [
              "array([[[228, 228, 228],\n",
              "        [255, 255, 255],\n",
              "        [254, 254, 254],\n",
              "        ...,\n",
              "        [253, 253, 253],\n",
              "        [253, 253, 253],\n",
              "        [253, 253, 253]],\n",
              "\n",
              "       [[251, 251, 251],\n",
              "        [255, 255, 255],\n",
              "        [235, 235, 235],\n",
              "        ...,\n",
              "        [252, 252, 252],\n",
              "        [254, 254, 254],\n",
              "        [255, 255, 255]],\n",
              "\n",
              "       [[239, 239, 239],\n",
              "        [255, 255, 255],\n",
              "        [249, 249, 249],\n",
              "        ...,\n",
              "        [252, 252, 252],\n",
              "        [255, 255, 255],\n",
              "        [255, 255, 255]],\n",
              "\n",
              "       ...,\n",
              "\n",
              "       [[ 52,  52,  52],\n",
              "        [195, 195, 195],\n",
              "        [207, 207, 207],\n",
              "        ...,\n",
              "        [ 12,  12,  12],\n",
              "        [ 14,  14,  14],\n",
              "        [ 16,  16,  16]],\n",
              "\n",
              "       [[ 52,  52,  52],\n",
              "        [177, 177, 177],\n",
              "        [149, 149, 149],\n",
              "        ...,\n",
              "        [ 15,  15,  15],\n",
              "        [ 15,  15,  15],\n",
              "        [ 19,  19,  19]],\n",
              "\n",
              "       [[148, 148, 148],\n",
              "        [183, 183, 183],\n",
              "        [ 47,  47,  47],\n",
              "        ...,\n",
              "        [ 11,  11,  11],\n",
              "        [ 10,  10,  10],\n",
              "        [ 14,  14,  14]]], dtype=uint8)"
            ]
          },
          "metadata": {}
        },
        {
          "output_type": "display_data",
          "data": {
            "text/plain": [
              "'anomaly image'"
            ],
            "application/vnd.google.colaboratory.intrinsic+json": {
              "type": "string"
            }
          },
          "metadata": {}
        },
        {
          "output_type": "stream",
          "name": "stdout",
          "text": [
            "height = 900, width = 900"
          ]
        },
        {
          "output_type": "display_data",
          "data": {
            "text/plain": [
              "'anomaly image'"
            ],
            "application/vnd.google.colaboratory.intrinsic+json": {
              "type": "string"
            }
          },
          "metadata": {}
        },
        {
          "output_type": "stream",
          "name": "stdout",
          "text": [
            "\n",
            "height = 900, width = 900height = 900, width = 900\n",
            "resized image shape = height = 900, width = 900 \n",
            "resized image shape = \n",
            "height = 900, width = 900(256, 256, 3)resized image shape = resized image shape =   \n",
            "\n",
            "/n######################################## (256, 256, 3)(256, 256, 3)resized image shape = \n",
            " \n",
            "(256, 256, 3)\n",
            "\n",
            "/n########################################(256, 256, 3)/n########################################/n########################################"
          ]
        },
        {
          "output_type": "display_data",
          "data": {
            "text/plain": [
              "array([[[114, 126, 192],\n",
              "        [114, 126, 192],\n",
              "        [114, 126, 192],\n",
              "        ...,\n",
              "        [120, 124, 205],\n",
              "        [122, 125, 210],\n",
              "        [122, 125, 210]],\n",
              "\n",
              "       [[121, 131, 201],\n",
              "        [120, 131, 199],\n",
              "        [120, 130, 200],\n",
              "        ...,\n",
              "        [128, 132, 213],\n",
              "        [129, 132, 217],\n",
              "        [129, 132, 217]],\n",
              "\n",
              "       [[118, 126, 203],\n",
              "        [118, 127, 201],\n",
              "        [118, 126, 203],\n",
              "        ...,\n",
              "        [130, 134, 215],\n",
              "        [130, 133, 218],\n",
              "        [130, 133, 218]],\n",
              "\n",
              "       ...,\n",
              "\n",
              "       [[ 56,  56,  80],\n",
              "        [ 57,  57,  81],\n",
              "        [ 60,  60,  84],\n",
              "        ...,\n",
              "        [ 94,  89, 116],\n",
              "        [ 98,  93, 120],\n",
              "        [ 98,  93, 120]],\n",
              "\n",
              "       [[ 91,  91, 109],\n",
              "        [ 92,  92, 110],\n",
              "        [ 94,  94, 112],\n",
              "        ...,\n",
              "        [121, 118, 140],\n",
              "        [121, 118, 140],\n",
              "        [120, 117, 139]],\n",
              "\n",
              "       [[157, 157, 173],\n",
              "        [158, 158, 174],\n",
              "        [158, 158, 174],\n",
              "        ...,\n",
              "        [162, 160, 180],\n",
              "        [167, 165, 185],\n",
              "        [167, 165, 185]]], dtype=uint8)"
            ]
          },
          "metadata": {}
        },
        {
          "output_type": "stream",
          "name": "stdout",
          "text": [
            "\n",
            "\n",
            "\n"
          ]
        },
        {
          "output_type": "display_data",
          "data": {
            "text/plain": [
              "'anomaly image'"
            ],
            "application/vnd.google.colaboratory.intrinsic+json": {
              "type": "string"
            }
          },
          "metadata": {}
        },
        {
          "output_type": "stream",
          "name": "stdout",
          "text": [
            "/n########################################"
          ]
        },
        {
          "output_type": "display_data",
          "data": {
            "text/plain": [
              "array([[[ 46,  50,  55],\n",
              "        [ 46,  50,  55],\n",
              "        [ 46,  50,  55],\n",
              "        ...,\n",
              "        [ 21,  28,  31],\n",
              "        [ 19,  26,  29],\n",
              "        [ 18,  25,  28]],\n",
              "\n",
              "       [[ 46,  50,  55],\n",
              "        [ 46,  50,  55],\n",
              "        [ 46,  50,  55],\n",
              "        ...,\n",
              "        [ 18,  25,  28],\n",
              "        [ 16,  23,  26],\n",
              "        [ 16,  23,  26]],\n",
              "\n",
              "       [[ 46,  50,  55],\n",
              "        [ 46,  50,  55],\n",
              "        [ 46,  50,  55],\n",
              "        ...,\n",
              "        [ 14,  21,  24],\n",
              "        [ 13,  20,  23],\n",
              "        [ 12,  19,  22]],\n",
              "\n",
              "       ...,\n",
              "\n",
              "       [[ 71,  94, 110],\n",
              "        [ 69,  92, 108],\n",
              "        [ 67,  90, 106],\n",
              "        ...,\n",
              "        [ 47,  57,  74],\n",
              "        [ 42,  52,  69],\n",
              "        [ 39,  49,  66]],\n",
              "\n",
              "       [[ 68,  91, 107],\n",
              "        [ 66,  89, 105],\n",
              "        [ 64,  87, 103],\n",
              "        ...,\n",
              "        [ 46,  56,  73],\n",
              "        [ 40,  50,  67],\n",
              "        [ 38,  48,  65]],\n",
              "\n",
              "       [[ 66,  89, 105],\n",
              "        [ 64,  87, 103],\n",
              "        [ 63,  86, 102],\n",
              "        ...,\n",
              "        [ 45,  55,  72],\n",
              "        [ 39,  49,  66],\n",
              "        [ 36,  46,  63]]], dtype=uint8)"
            ]
          },
          "metadata": {}
        },
        {
          "output_type": "stream",
          "name": "stdout",
          "text": [
            "\n"
          ]
        },
        {
          "output_type": "display_data",
          "data": {
            "text/plain": [
              "array([[[174, 180, 179],\n",
              "        [174, 180, 179],\n",
              "        [174, 179, 178],\n",
              "        ...,\n",
              "        [224, 230, 229],\n",
              "        [220, 226, 225],\n",
              "        [221, 227, 226]],\n",
              "\n",
              "       [[174, 180, 179],\n",
              "        [173, 179, 178],\n",
              "        [171, 176, 175],\n",
              "        ...,\n",
              "        [213, 219, 218],\n",
              "        [214, 220, 219],\n",
              "        [215, 221, 220]],\n",
              "\n",
              "       [[174, 180, 179],\n",
              "        [172, 178, 177],\n",
              "        [167, 172, 171],\n",
              "        ...,\n",
              "        [201, 207, 206],\n",
              "        [207, 213, 212],\n",
              "        [208, 214, 213]],\n",
              "\n",
              "       ...,\n",
              "\n",
              "       [[ 36,  36,  36],\n",
              "        [ 31,  31,  31],\n",
              "        [ 32,  32,  32],\n",
              "        ...,\n",
              "        [ 45,  40,  39],\n",
              "        [ 44,  42,  41],\n",
              "        [ 41,  42,  40]],\n",
              "\n",
              "       [[ 33,  33,  33],\n",
              "        [ 21,  21,  21],\n",
              "        [ 37,  37,  37],\n",
              "        ...,\n",
              "        [ 35,  30,  29],\n",
              "        [ 39,  37,  36],\n",
              "        [ 37,  38,  36]],\n",
              "\n",
              "       [[ 26,  26,  26],\n",
              "        [ 29,  29,  29],\n",
              "        [ 31,  31,  31],\n",
              "        ...,\n",
              "        [ 30,  25,  24],\n",
              "        [ 37,  35,  34],\n",
              "        [ 37,  35,  34]]], dtype=uint8)"
            ]
          },
          "metadata": {}
        },
        {
          "output_type": "stream",
          "name": "stdout",
          "text": [
            "\n"
          ]
        },
        {
          "output_type": "display_data",
          "data": {
            "text/plain": [
              "'anomaly image'"
            ],
            "application/vnd.google.colaboratory.intrinsic+json": {
              "type": "string"
            }
          },
          "metadata": {}
        },
        {
          "output_type": "display_data",
          "data": {
            "text/plain": [
              "array([[[160, 207, 229],\n",
              "        [153, 200, 222],\n",
              "        [157, 204, 226],\n",
              "        ...,\n",
              "        [112, 166, 196],\n",
              "        [105, 159, 189],\n",
              "        [129, 183, 213]],\n",
              "\n",
              "       [[153, 200, 222],\n",
              "        [137, 184, 206],\n",
              "        [133, 180, 202],\n",
              "        ...,\n",
              "        [116, 170, 200],\n",
              "        [100, 154, 184],\n",
              "        [102, 156, 186]],\n",
              "\n",
              "       [[177, 224, 246],\n",
              "        [161, 208, 230],\n",
              "        [156, 203, 225],\n",
              "        ...,\n",
              "        [146, 200, 230],\n",
              "        [126, 180, 210],\n",
              "        [112, 166, 196]],\n",
              "\n",
              "       ...,\n",
              "\n",
              "       [[ 13,  44,  67],\n",
              "        [ 17,  48,  71],\n",
              "        [ 17,  48,  71],\n",
              "        ...,\n",
              "        [  0,  28,  61],\n",
              "        [  2,  37,  70],\n",
              "        [ 30,  65,  98]],\n",
              "\n",
              "       [[ 20,  52,  75],\n",
              "        [ 23,  55,  78],\n",
              "        [ 24,  56,  79],\n",
              "        ...,\n",
              "        [  0,  35,  67],\n",
              "        [  6,  44,  76],\n",
              "        [ 35,  73, 105]],\n",
              "\n",
              "       [[ 22,  54,  77],\n",
              "        [ 25,  57,  80],\n",
              "        [ 25,  57,  80],\n",
              "        ...,\n",
              "        [ 22,  60,  92],\n",
              "        [ 20,  58,  90],\n",
              "        [ 34,  72, 104]]], dtype=uint8)"
            ]
          },
          "metadata": {}
        },
        {
          "output_type": "display_data",
          "data": {
            "text/plain": [
              "'anomaly image'"
            ],
            "application/vnd.google.colaboratory.intrinsic+json": {
              "type": "string"
            }
          },
          "metadata": {}
        },
        {
          "output_type": "display_data",
          "data": {
            "text/plain": [
              "array([[[224, 225, 229],\n",
              "        [130, 131, 135],\n",
              "        [202, 203, 207],\n",
              "        ...,\n",
              "        [119, 122, 127],\n",
              "        [ 19,  22,  27],\n",
              "        [  1,   4,   9]],\n",
              "\n",
              "       [[157, 158, 162],\n",
              "        [  0,   0,   3],\n",
              "        [ 75,  76,  80],\n",
              "        ...,\n",
              "        [ 39,  42,  47],\n",
              "        [ 11,  14,  19],\n",
              "        [ 24,  27,  32]],\n",
              "\n",
              "       [[153, 155, 156],\n",
              "        [  5,   7,   8],\n",
              "        [ 31,  33,  34],\n",
              "        ...,\n",
              "        [  1,   4,   9],\n",
              "        [  8,  11,  16],\n",
              "        [ 31,  34,  39]],\n",
              "\n",
              "       ...,\n",
              "\n",
              "       [[ 24,  20,  31],\n",
              "        [ 13,   9,  20],\n",
              "        [ 24,  20,  31],\n",
              "        ...,\n",
              "        [ 23,  22,  32],\n",
              "        [ 18,  17,  27],\n",
              "        [ 29,  28,  38]],\n",
              "\n",
              "       [[ 20,  16,  27],\n",
              "        [  9,   5,  16],\n",
              "        [ 20,  16,  27],\n",
              "        ...,\n",
              "        [ 23,  22,  32],\n",
              "        [ 19,  18,  28],\n",
              "        [ 29,  28,  38]],\n",
              "\n",
              "       [[ 18,  14,  25],\n",
              "        [  7,   3,  14],\n",
              "        [ 17,  13,  24],\n",
              "        ...,\n",
              "        [ 22,  21,  31],\n",
              "        [ 18,  17,  27],\n",
              "        [ 29,  28,  38]]], dtype=uint8)"
            ]
          },
          "metadata": {}
        },
        {
          "output_type": "display_data",
          "data": {
            "text/plain": [
              "'anomaly image'"
            ],
            "application/vnd.google.colaboratory.intrinsic+json": {
              "type": "string"
            }
          },
          "metadata": {}
        },
        {
          "output_type": "display_data",
          "data": {
            "text/plain": [
              "'anomaly image'"
            ],
            "application/vnd.google.colaboratory.intrinsic+json": {
              "type": "string"
            }
          },
          "metadata": {}
        },
        {
          "output_type": "stream",
          "name": "stdout",
          "text": [
            "height = 900, width = 900\n",
            "resized image shape =  (256, 256, 3)\n",
            "/n########################################\n",
            "height = 900, width = 900"
          ]
        },
        {
          "output_type": "display_data",
          "data": {
            "text/plain": [
              "array([[[160, 192, 205],\n",
              "        [161, 193, 206],\n",
              "        [161, 193, 206],\n",
              "        ...,\n",
              "        [118, 129, 133],\n",
              "        [119, 130, 134],\n",
              "        [119, 130, 134]],\n",
              "\n",
              "       [[162, 194, 207],\n",
              "        [161, 193, 206],\n",
              "        [161, 193, 206],\n",
              "        ...,\n",
              "        [119, 130, 134],\n",
              "        [119, 130, 134],\n",
              "        [120, 131, 135]],\n",
              "\n",
              "       [[164, 196, 209],\n",
              "        [163, 195, 208],\n",
              "        [161, 193, 206],\n",
              "        ...,\n",
              "        [121, 130, 134],\n",
              "        [121, 130, 134],\n",
              "        [122, 131, 135]],\n",
              "\n",
              "       ...,\n",
              "\n",
              "       [[150, 181, 196],\n",
              "        [151, 185, 198],\n",
              "        [161, 192, 207],\n",
              "        ...,\n",
              "        [108, 129, 137],\n",
              "        [110, 131, 139],\n",
              "        [111, 132, 140]],\n",
              "\n",
              "       [[146, 179, 195],\n",
              "        [148, 183, 197],\n",
              "        [157, 190, 206],\n",
              "        ...,\n",
              "        [108, 129, 137],\n",
              "        [110, 131, 139],\n",
              "        [111, 132, 140]],\n",
              "\n",
              "       [[149, 183, 199],\n",
              "        [152, 186, 202],\n",
              "        [158, 192, 208],\n",
              "        ...,\n",
              "        [107, 128, 136],\n",
              "        [109, 130, 138],\n",
              "        [110, 131, 139]]], dtype=uint8)"
            ]
          },
          "metadata": {}
        },
        {
          "output_type": "stream",
          "name": "stdout",
          "text": [
            "height = 900, width = 900\n",
            "\n"
          ]
        },
        {
          "output_type": "display_data",
          "data": {
            "text/plain": [
              "'anomaly image'"
            ],
            "application/vnd.google.colaboratory.intrinsic+json": {
              "type": "string"
            }
          },
          "metadata": {}
        },
        {
          "output_type": "stream",
          "name": "stdout",
          "text": [
            "resized image shape = resized image shape =   (256, 256, 3)\n",
            "(256, 256, 3)height = 900, width = 900/n########################################\n",
            "\n",
            "\n",
            "/n########################################resized image shape = \n",
            "height = 900, width = 900height = 900, width = 900height = 900, width = 900 \n",
            "(256, 256, 3)"
          ]
        },
        {
          "output_type": "display_data",
          "data": {
            "text/plain": [
              "array([[[ 33, 133,  91],\n",
              "        [ 31, 129,  87],\n",
              "        [ 29, 124,  80],\n",
              "        ...,\n",
              "        [ 24,  77,  38],\n",
              "        [ 25,  76,  38],\n",
              "        [ 27,  75,  39]],\n",
              "\n",
              "       [[ 30, 134,  87],\n",
              "        [ 31, 130,  84],\n",
              "        [ 29, 124,  79],\n",
              "        ...,\n",
              "        [ 28,  83,  44],\n",
              "        [ 28,  81,  42],\n",
              "        [ 30,  81,  44]],\n",
              "\n",
              "       [[ 30, 135,  86],\n",
              "        [ 30, 130,  82],\n",
              "        [ 30, 125,  75],\n",
              "        ...,\n",
              "        [ 32,  90,  49],\n",
              "        [ 30,  87,  48],\n",
              "        [ 30,  85,  46]],\n",
              "\n",
              "       ...,\n",
              "\n",
              "       [[ 40,  84,  53],\n",
              "        [ 36,  81,  48],\n",
              "        [ 37,  83,  47],\n",
              "        ...,\n",
              "        [ 40,  94,  59],\n",
              "        [ 40,  94,  59],\n",
              "        [ 43,  97,  62]],\n",
              "\n",
              "       [[ 40,  82,  51],\n",
              "        [ 39,  83,  52],\n",
              "        [ 42,  86,  55],\n",
              "        ...,\n",
              "        [ 34,  92,  51],\n",
              "        [ 36,  94,  53],\n",
              "        [ 38,  96,  55]],\n",
              "\n",
              "       [[ 43,  85,  54],\n",
              "        [ 43,  87,  56],\n",
              "        [ 46,  90,  59],\n",
              "        ...,\n",
              "        [ 33,  91,  50],\n",
              "        [ 32,  90,  49],\n",
              "        [ 32,  90,  49]]], dtype=uint8)"
            ]
          },
          "metadata": {}
        },
        {
          "output_type": "stream",
          "name": "stdout",
          "text": [
            "\n"
          ]
        },
        {
          "output_type": "display_data",
          "data": {
            "text/plain": [
              "array([[[ 17,  29,  35],\n",
              "        [  8,  20,  26],\n",
              "        [ 28,  39,  47],\n",
              "        ...,\n",
              "        [ 63,  74,  94],\n",
              "        [ 75,  86, 106],\n",
              "        [ 79,  90, 110]],\n",
              "\n",
              "       [[ 13,  24,  32],\n",
              "        [ 13,  24,  32],\n",
              "        [ 37,  48,  56],\n",
              "        ...,\n",
              "        [ 52,  63,  83],\n",
              "        [ 72,  83, 103],\n",
              "        [ 81,  92, 112]],\n",
              "\n",
              "       [[ 11,  21,  31],\n",
              "        [  8,  18,  28],\n",
              "        [ 20,  30,  40],\n",
              "        ...,\n",
              "        [ 42,  53,  73],\n",
              "        [ 65,  76,  96],\n",
              "        [ 77,  88, 108]],\n",
              "\n",
              "       ...,\n",
              "\n",
              "       [[ 37,  48,  56],\n",
              "        [ 17,  28,  36],\n",
              "        [ 33,  45,  57],\n",
              "        ...,\n",
              "        [167, 172, 171],\n",
              "        [167, 172, 171],\n",
              "        [168, 173, 172]],\n",
              "\n",
              "       [[ 38,  49,  57],\n",
              "        [ 11,  22,  30],\n",
              "        [ 37,  49,  61],\n",
              "        ...,\n",
              "        [168, 173, 172],\n",
              "        [169, 174, 173],\n",
              "        [169, 174, 173]],\n",
              "\n",
              "       [[ 32,  43,  51],\n",
              "        [ 10,  21,  29],\n",
              "        [ 40,  52,  64],\n",
              "        ...,\n",
              "        [169, 174, 173],\n",
              "        [170, 175, 174],\n",
              "        [170, 175, 174]]], dtype=uint8)"
            ]
          },
          "metadata": {}
        },
        {
          "output_type": "stream",
          "name": "stdout",
          "text": [
            "resized image shape = \n",
            "resized image shape = \n"
          ]
        },
        {
          "output_type": "display_data",
          "data": {
            "text/plain": [
              "'anomaly image'"
            ],
            "application/vnd.google.colaboratory.intrinsic+json": {
              "type": "string"
            }
          },
          "metadata": {}
        },
        {
          "output_type": "stream",
          "name": "stdout",
          "text": [
            "/n######################################## "
          ]
        },
        {
          "output_type": "display_data",
          "data": {
            "text/plain": [
              "'anomaly image'"
            ],
            "application/vnd.google.colaboratory.intrinsic+json": {
              "type": "string"
            }
          },
          "metadata": {}
        },
        {
          "output_type": "stream",
          "name": "stdout",
          "text": [
            "resized image shape =  height = 900, width = 900\n",
            "(256, 256, 3)(256, 256, 3) \n",
            "\n",
            "\n",
            "(256, 256, 3)"
          ]
        },
        {
          "output_type": "display_data",
          "data": {
            "text/plain": [
              "array([[[169, 174, 175],\n",
              "        [ 96, 101, 102],\n",
              "        [161, 166, 167],\n",
              "        ...,\n",
              "        [127, 132, 133],\n",
              "        [184, 189, 190],\n",
              "        [106, 111, 112]],\n",
              "\n",
              "       [[170, 175, 176],\n",
              "        [171, 176, 177],\n",
              "        [143, 148, 149],\n",
              "        ...,\n",
              "        [117, 122, 123],\n",
              "        [166, 171, 172],\n",
              "        [114, 119, 120]],\n",
              "\n",
              "       [[176, 181, 182],\n",
              "        [237, 242, 243],\n",
              "        [192, 197, 198],\n",
              "        ...,\n",
              "        [158, 163, 164],\n",
              "        [166, 171, 172],\n",
              "        [137, 142, 143]],\n",
              "\n",
              "       ...,\n",
              "\n",
              "       [[ 74,  78,  79],\n",
              "        [ 98, 102, 103],\n",
              "        [134, 138, 139],\n",
              "        ...,\n",
              "        [179, 184, 185],\n",
              "        [168, 173, 174],\n",
              "        [177, 182, 183]],\n",
              "\n",
              "       [[  1,   5,   6],\n",
              "        [ 85,  89,  90],\n",
              "        [168, 172, 173],\n",
              "        ...,\n",
              "        [141, 146, 147],\n",
              "        [101, 106, 107],\n",
              "        [111, 116, 117]],\n",
              "\n",
              "       [[ 22,  26,  27],\n",
              "        [ 64,  68,  69],\n",
              "        [ 85,  89,  90],\n",
              "        ...,\n",
              "        [153, 158, 159],\n",
              "        [139, 144, 145],\n",
              "        [170, 175, 176]]], dtype=uint8)"
            ]
          },
          "metadata": {}
        },
        {
          "output_type": "stream",
          "name": "stdout",
          "text": [
            "resized image shape = /n########################################/n########################################"
          ]
        },
        {
          "output_type": "display_data",
          "data": {
            "text/plain": [
              "'anomaly image'"
            ],
            "application/vnd.google.colaboratory.intrinsic+json": {
              "type": "string"
            }
          },
          "metadata": {}
        },
        {
          "output_type": "stream",
          "name": "stdout",
          "text": [
            "\n",
            "\n",
            " \n",
            "/n########################################(256, 256, 3)\n"
          ]
        },
        {
          "output_type": "display_data",
          "data": {
            "text/plain": [
              "array([[[152, 132, 155],\n",
              "        [158, 138, 161],\n",
              "        [129, 108, 130],\n",
              "        ...,\n",
              "        [213, 202, 198],\n",
              "        [207, 197, 190],\n",
              "        [194, 184, 177]],\n",
              "\n",
              "       [[159, 139, 162],\n",
              "        [155, 135, 158],\n",
              "        [138, 117, 139],\n",
              "        ...,\n",
              "        [199, 188, 184],\n",
              "        [188, 178, 171],\n",
              "        [195, 185, 178]],\n",
              "\n",
              "       [[164, 146, 169],\n",
              "        [130, 112, 135],\n",
              "        [155, 136, 157],\n",
              "        ...,\n",
              "        [197, 185, 181],\n",
              "        [220, 208, 202],\n",
              "        [215, 203, 197]],\n",
              "\n",
              "       ...,\n",
              "\n",
              "       [[152, 102, 104],\n",
              "        [151, 101, 105],\n",
              "        [114,  68,  74],\n",
              "        ...,\n",
              "        [225, 181, 187],\n",
              "        [205, 161, 167],\n",
              "        [201, 157, 163]],\n",
              "\n",
              "       [[201, 151, 155],\n",
              "        [183, 136, 139],\n",
              "        [178, 134, 141],\n",
              "        ...,\n",
              "        [232, 186, 192],\n",
              "        [216, 172, 178],\n",
              "        [221, 175, 181]],\n",
              "\n",
              "       [[168, 122, 128],\n",
              "        [140,  96, 103],\n",
              "        [149, 107, 114],\n",
              "        ...,\n",
              "        [231, 184, 187],\n",
              "        [216, 171, 174],\n",
              "        [217, 170, 173]]], dtype=uint8)"
            ]
          },
          "metadata": {}
        },
        {
          "output_type": "display_data",
          "data": {
            "text/plain": [
              "array([[[255, 255, 255],\n",
              "        [255, 255, 255],\n",
              "        [255, 255, 255],\n",
              "        ...,\n",
              "        [234, 201, 245],\n",
              "        [215, 183, 224],\n",
              "        [204, 173, 212]],\n",
              "\n",
              "       [[255, 255, 255],\n",
              "        [255, 255, 255],\n",
              "        [255, 255, 255],\n",
              "        ...,\n",
              "        [239, 206, 251],\n",
              "        [205, 173, 214],\n",
              "        [181, 150, 189]],\n",
              "\n",
              "       [[255, 255, 255],\n",
              "        [255, 255, 255],\n",
              "        [255, 255, 255],\n",
              "        ...,\n",
              "        [245, 211, 255],\n",
              "        [215, 182, 226],\n",
              "        [193, 161, 202]],\n",
              "\n",
              "       ...,\n",
              "\n",
              "       [[179, 141, 201],\n",
              "        [190, 152, 210],\n",
              "        [201, 164, 220],\n",
              "        ...,\n",
              "        [199, 165, 219],\n",
              "        [193, 159, 213],\n",
              "        [180, 146, 200]],\n",
              "\n",
              "       [[192, 154, 212],\n",
              "        [189, 151, 209],\n",
              "        [184, 147, 203],\n",
              "        ...,\n",
              "        [195, 161, 215],\n",
              "        [182, 148, 202],\n",
              "        [164, 130, 184]],\n",
              "\n",
              "       [[210, 172, 230],\n",
              "        [193, 155, 213],\n",
              "        [175, 138, 194],\n",
              "        ...,\n",
              "        [182, 148, 202],\n",
              "        [166, 132, 186],\n",
              "        [144, 110, 164]]], dtype=uint8)"
            ]
          },
          "metadata": {}
        },
        {
          "output_type": "stream",
          "name": "stdout",
          "text": [
            "\n",
            "/n########################################"
          ]
        },
        {
          "output_type": "display_data",
          "data": {
            "text/plain": [
              "'anomaly image'"
            ],
            "application/vnd.google.colaboratory.intrinsic+json": {
              "type": "string"
            }
          },
          "metadata": {}
        },
        {
          "output_type": "display_data",
          "data": {
            "text/plain": [
              "'anomaly image'"
            ],
            "application/vnd.google.colaboratory.intrinsic+json": {
              "type": "string"
            }
          },
          "metadata": {}
        },
        {
          "output_type": "display_data",
          "data": {
            "text/plain": [
              "array([[[199, 179, 168],\n",
              "        [199, 179, 168],\n",
              "        [199, 179, 168],\n",
              "        ...,\n",
              "        [144, 129, 126],\n",
              "        [145, 130, 127],\n",
              "        [146, 131, 128]],\n",
              "\n",
              "       [[199, 179, 168],\n",
              "        [199, 179, 168],\n",
              "        [199, 179, 168],\n",
              "        ...,\n",
              "        [144, 129, 126],\n",
              "        [145, 130, 127],\n",
              "        [146, 131, 128]],\n",
              "\n",
              "       [[199, 179, 168],\n",
              "        [199, 179, 168],\n",
              "        [199, 179, 168],\n",
              "        ...,\n",
              "        [144, 129, 126],\n",
              "        [145, 130, 127],\n",
              "        [146, 131, 128]],\n",
              "\n",
              "       ...,\n",
              "\n",
              "       [[161, 144, 141],\n",
              "        [162, 145, 142],\n",
              "        [162, 145, 142],\n",
              "        ...,\n",
              "        [151, 140, 136],\n",
              "        [151, 140, 136],\n",
              "        [151, 140, 136]],\n",
              "\n",
              "       [[160, 143, 140],\n",
              "        [160, 143, 140],\n",
              "        [160, 143, 140],\n",
              "        ...,\n",
              "        [151, 140, 136],\n",
              "        [152, 141, 137],\n",
              "        [152, 141, 137]],\n",
              "\n",
              "       [[160, 143, 140],\n",
              "        [160, 143, 140],\n",
              "        [160, 143, 140],\n",
              "        ...,\n",
              "        [151, 140, 136],\n",
              "        [152, 141, 137],\n",
              "        [152, 141, 137]]], dtype=uint8)"
            ]
          },
          "metadata": {}
        },
        {
          "output_type": "stream",
          "name": "stdout",
          "text": [
            "\n"
          ]
        },
        {
          "output_type": "display_data",
          "data": {
            "text/plain": [
              "'anomaly image'"
            ],
            "application/vnd.google.colaboratory.intrinsic+json": {
              "type": "string"
            }
          },
          "metadata": {}
        },
        {
          "output_type": "display_data",
          "data": {
            "text/plain": [
              "array([[[ 7,  9,  9],\n",
              "        [ 7,  9,  9],\n",
              "        [ 6,  8,  8],\n",
              "        ...,\n",
              "        [27, 26, 28],\n",
              "        [27, 26, 28],\n",
              "        [27, 26, 28]],\n",
              "\n",
              "       [[ 7,  9,  9],\n",
              "        [ 7,  9,  9],\n",
              "        [ 7,  9,  9],\n",
              "        ...,\n",
              "        [27, 26, 28],\n",
              "        [28, 27, 29],\n",
              "        [28, 27, 29]],\n",
              "\n",
              "       [[ 8, 10, 10],\n",
              "        [ 8, 10, 10],\n",
              "        [ 7,  9,  9],\n",
              "        ...,\n",
              "        [27, 26, 28],\n",
              "        [27, 26, 28],\n",
              "        [28, 27, 29]],\n",
              "\n",
              "       ...,\n",
              "\n",
              "       [[59, 48, 64],\n",
              "        [58, 47, 63],\n",
              "        [57, 46, 62],\n",
              "        ...,\n",
              "        [ 0,  0,  0],\n",
              "        [ 0,  0,  0],\n",
              "        [ 0,  0,  0]],\n",
              "\n",
              "       [[61, 50, 66],\n",
              "        [60, 49, 65],\n",
              "        [60, 49, 65],\n",
              "        ...,\n",
              "        [ 1,  3,  3],\n",
              "        [ 1,  3,  3],\n",
              "        [ 1,  3,  3]],\n",
              "\n",
              "       [[56, 45, 61],\n",
              "        [55, 44, 60],\n",
              "        [54, 43, 59],\n",
              "        ...,\n",
              "        [ 5,  7,  7],\n",
              "        [ 5,  7,  7],\n",
              "        [ 5,  7,  7]]], dtype=uint8)"
            ]
          },
          "metadata": {}
        },
        {
          "output_type": "display_data",
          "data": {
            "text/plain": [
              "'anomaly image'"
            ],
            "application/vnd.google.colaboratory.intrinsic+json": {
              "type": "string"
            }
          },
          "metadata": {}
        },
        {
          "output_type": "stream",
          "name": "stdout",
          "text": [
            "height = 900, width = 900\n",
            "height = 900, width = 900height = 900, width = 900\n",
            "resized image shape =  \n",
            "resized image shape = (256, 256, 3) resized image shape =  \n",
            "height = 900, width = 900(256, 256, 3)/n########################################(256, 256, 3)\n",
            "\n",
            "\n",
            "\n",
            "/n########################################/n########################################\n",
            "height = 900, width = 900resized image shape = \n",
            "\n",
            " (256, 256, 3)resized image shape =  "
          ]
        },
        {
          "output_type": "display_data",
          "data": {
            "text/plain": [
              "array([[[133, 158, 120],\n",
              "        [127, 152, 114],\n",
              "        [122, 146, 111],\n",
              "        ...,\n",
              "        [172, 194, 165],\n",
              "        [ 64,  86,  57],\n",
              "        [ 60,  82,  53]],\n",
              "\n",
              "       [[119, 144, 106],\n",
              "        [116, 141, 103],\n",
              "        [114, 138, 103],\n",
              "        ...,\n",
              "        [161, 183, 154],\n",
              "        [138, 160, 131],\n",
              "        [ 54,  76,  47]],\n",
              "\n",
              "       [[ 77, 104,  65],\n",
              "        [ 72,  99,  60],\n",
              "        [ 78, 104,  68],\n",
              "        ...,\n",
              "        [127, 151, 121],\n",
              "        [151, 175, 145],\n",
              "        [ 29,  53,  23]],\n",
              "\n",
              "       ...,\n",
              "\n",
              "       [[ 42,  72,  31],\n",
              "        [ 36,  65,  26],\n",
              "        [ 41,  69,  33],\n",
              "        ...,\n",
              "        [ 81, 103,  75],\n",
              "        [ 85, 107,  79],\n",
              "        [ 74,  96,  68]],\n",
              "\n",
              "       [[ 47,  78,  39],\n",
              "        [ 42,  73,  34],\n",
              "        [ 46,  77,  40],\n",
              "        ...,\n",
              "        [ 69,  90,  65],\n",
              "        [ 70,  91,  66],\n",
              "        [ 58,  79,  54]],\n",
              "\n",
              "       [[ 51,  82,  43],\n",
              "        [ 45,  76,  37],\n",
              "        [ 49,  79,  44],\n",
              "        ...,\n",
              "        [ 56,  77,  52],\n",
              "        [ 57,  78,  53],\n",
              "        [ 47,  68,  43]]], dtype=uint8)"
            ]
          },
          "metadata": {}
        },
        {
          "output_type": "stream",
          "name": "stdout",
          "text": [
            "\n",
            "(256, 256, 3)"
          ]
        },
        {
          "output_type": "display_data",
          "data": {
            "text/plain": [
              "'anomaly image'"
            ],
            "application/vnd.google.colaboratory.intrinsic+json": {
              "type": "string"
            }
          },
          "metadata": {}
        },
        {
          "output_type": "stream",
          "name": "stdout",
          "text": [
            "\n"
          ]
        },
        {
          "output_type": "display_data",
          "data": {
            "text/plain": [
              "array([[[ 76,  81,  80],\n",
              "        [ 67,  72,  71],\n",
              "        [ 52,  57,  56],\n",
              "        ...,\n",
              "        [143, 149, 148],\n",
              "        [164, 169, 172],\n",
              "        [176, 183, 186]],\n",
              "\n",
              "       [[ 67,  72,  71],\n",
              "        [ 78,  83,  82],\n",
              "        [ 76,  81,  80],\n",
              "        ...,\n",
              "        [141, 146, 145],\n",
              "        [166, 171, 172],\n",
              "        [175, 182, 185]],\n",
              "\n",
              "       [[ 63,  68,  67],\n",
              "        [ 65,  70,  69],\n",
              "        [ 79,  84,  83],\n",
              "        ...,\n",
              "        [139, 144, 143],\n",
              "        [158, 162, 163],\n",
              "        [158, 163, 164]],\n",
              "\n",
              "       ...,\n",
              "\n",
              "       [[105, 111, 110],\n",
              "        [110, 116, 115],\n",
              "        [121, 127, 126],\n",
              "        ...,\n",
              "        [ 93,  99,  98],\n",
              "        [113, 119, 118],\n",
              "        [123, 129, 128]],\n",
              "\n",
              "       [[ 77,  83,  82],\n",
              "        [ 74,  80,  79],\n",
              "        [ 93,  99,  98],\n",
              "        ...,\n",
              "        [ 92,  98,  97],\n",
              "        [ 94, 100,  99],\n",
              "        [100, 106, 105]],\n",
              "\n",
              "       [[ 63,  69,  68],\n",
              "        [ 68,  74,  73],\n",
              "        [ 79,  85,  84],\n",
              "        ...,\n",
              "        [ 95, 101, 100],\n",
              "        [ 94,  99, 100],\n",
              "        [ 96, 101, 102]]], dtype=uint8)"
            ]
          },
          "metadata": {}
        },
        {
          "output_type": "stream",
          "name": "stdout",
          "text": [
            "/n########################################\n",
            "/n########################################"
          ]
        },
        {
          "output_type": "display_data",
          "data": {
            "text/plain": [
              "'anomaly image'"
            ],
            "application/vnd.google.colaboratory.intrinsic+json": {
              "type": "string"
            }
          },
          "metadata": {}
        },
        {
          "output_type": "display_data",
          "data": {
            "text/plain": [
              "array([[[209, 207, 255],\n",
              "        [186, 184, 255],\n",
              "        [112, 106, 247],\n",
              "        ...,\n",
              "        [231, 243, 255],\n",
              "        [231, 245, 255],\n",
              "        [231, 246, 255]],\n",
              "\n",
              "       [[154, 150, 253],\n",
              "        [106, 102, 221],\n",
              "        [ 53,  47, 202],\n",
              "        ...,\n",
              "        [223, 233, 255],\n",
              "        [224, 236, 255],\n",
              "        [228, 239, 255]],\n",
              "\n",
              "       [[ 57,  49, 204],\n",
              "        [ 51,  42, 206],\n",
              "        [ 53,  43, 227],\n",
              "        ...,\n",
              "        [196, 200, 255],\n",
              "        [206, 214, 255],\n",
              "        [196, 201, 255]],\n",
              "\n",
              "       ...,\n",
              "\n",
              "       [[231, 248, 244],\n",
              "        [234, 251, 248],\n",
              "        [235, 249, 248],\n",
              "        ...,\n",
              "        [239, 251, 253],\n",
              "        [237, 249, 251],\n",
              "        [238, 247, 251]],\n",
              "\n",
              "       [[235, 252, 248],\n",
              "        [233, 250, 246],\n",
              "        [235, 249, 248],\n",
              "        ...,\n",
              "        [238, 250, 252],\n",
              "        [237, 249, 251],\n",
              "        [237, 248, 252]],\n",
              "\n",
              "       [[233, 250, 246],\n",
              "        [234, 251, 247],\n",
              "        [236, 250, 249],\n",
              "        ...,\n",
              "        [233, 246, 248],\n",
              "        [236, 249, 251],\n",
              "        [237, 250, 252]]], dtype=uint8)"
            ]
          },
          "metadata": {}
        },
        {
          "output_type": "display_data",
          "data": {
            "text/plain": [
              "array([[[164, 161, 133],\n",
              "        [165, 162, 134],\n",
              "        [165, 161, 136],\n",
              "        ...,\n",
              "        [ 83,  74,  70],\n",
              "        [ 56,  47,  43],\n",
              "        [ 72,  63,  59]],\n",
              "\n",
              "       [[165, 161, 136],\n",
              "        [163, 159, 134],\n",
              "        [161, 157, 132],\n",
              "        ...,\n",
              "        [106,  97,  93],\n",
              "        [ 75,  66,  62],\n",
              "        [ 67,  58,  54]],\n",
              "\n",
              "       [[168, 162, 139],\n",
              "        [164, 158, 135],\n",
              "        [160, 154, 131],\n",
              "        ...,\n",
              "        [136, 127, 123],\n",
              "        [102,  93,  89],\n",
              "        [ 68,  59,  55]],\n",
              "\n",
              "       ...,\n",
              "\n",
              "       [[ 49,  50,  40],\n",
              "        [103, 104,  94],\n",
              "        [127, 131, 120],\n",
              "        ...,\n",
              "        [ 83,  81,  81],\n",
              "        [125, 123, 122],\n",
              "        [ 97,  95,  94]],\n",
              "\n",
              "       [[ 47,  39,  39],\n",
              "        [ 69,  64,  61],\n",
              "        [109, 109, 103],\n",
              "        ...,\n",
              "        [ 98,  99,  97],\n",
              "        [ 92,  93,  89],\n",
              "        [ 65,  66,  62]],\n",
              "\n",
              "       [[ 45,  34,  37],\n",
              "        [ 64,  56,  57],\n",
              "        [103, 102,  98],\n",
              "        ...,\n",
              "        [ 94,  95,  91],\n",
              "        [ 76,  77,  73],\n",
              "        [ 43,  45,  39]]], dtype=uint8)"
            ]
          },
          "metadata": {}
        },
        {
          "output_type": "stream",
          "name": "stdout",
          "text": [
            "\n"
          ]
        },
        {
          "output_type": "display_data",
          "data": {
            "text/plain": [
              "'anomaly image'"
            ],
            "application/vnd.google.colaboratory.intrinsic+json": {
              "type": "string"
            }
          },
          "metadata": {}
        },
        {
          "output_type": "display_data",
          "data": {
            "text/plain": [
              "'anomaly image'"
            ],
            "application/vnd.google.colaboratory.intrinsic+json": {
              "type": "string"
            }
          },
          "metadata": {}
        },
        {
          "output_type": "display_data",
          "data": {
            "text/plain": [
              "array([[[ 7, 58, 74],\n",
              "        [14, 60, 77],\n",
              "        [10, 51, 66],\n",
              "        ...,\n",
              "        [ 5,  8,  6],\n",
              "        [ 6,  9,  7],\n",
              "        [ 7, 10,  8]],\n",
              "\n",
              "       [[ 6, 55, 71],\n",
              "        [14, 58, 75],\n",
              "        [14, 53, 68],\n",
              "        ...,\n",
              "        [ 8, 11,  9],\n",
              "        [ 9, 12, 10],\n",
              "        [10, 13, 11]],\n",
              "\n",
              "       [[24, 67, 84],\n",
              "        [33, 73, 91],\n",
              "        [41, 77, 93],\n",
              "        ...,\n",
              "        [ 9, 12, 10],\n",
              "        [ 9, 12, 10],\n",
              "        [10, 13, 11]],\n",
              "\n",
              "       ...,\n",
              "\n",
              "       [[ 0,  2,  0],\n",
              "        [ 0,  3,  1],\n",
              "        [ 1,  4,  2],\n",
              "        ...,\n",
              "        [36, 36, 22],\n",
              "        [36, 36, 22],\n",
              "        [35, 35, 21]],\n",
              "\n",
              "       [[ 0,  1,  0],\n",
              "        [ 0,  2,  0],\n",
              "        [ 1,  4,  2],\n",
              "        ...,\n",
              "        [43, 43, 29],\n",
              "        [42, 42, 28],\n",
              "        [41, 41, 27]],\n",
              "\n",
              "       [[ 2,  5,  3],\n",
              "        [ 4,  7,  5],\n",
              "        [ 6,  9,  7],\n",
              "        ...,\n",
              "        [39, 39, 25],\n",
              "        [46, 46, 32],\n",
              "        [40, 40, 26]]], dtype=uint8)"
            ]
          },
          "metadata": {}
        },
        {
          "output_type": "display_data",
          "data": {
            "text/plain": [
              "'anomaly image'"
            ],
            "application/vnd.google.colaboratory.intrinsic+json": {
              "type": "string"
            }
          },
          "metadata": {}
        },
        {
          "output_type": "stream",
          "name": "stdout",
          "text": [
            "height = 900, width = 900\n",
            "resized image shape =  (256, 256, 3)\n",
            "/n########################################\n"
          ]
        },
        {
          "output_type": "display_data",
          "data": {
            "text/plain": [
              "array([[[ 91, 103, 181],\n",
              "        [ 88,  99, 179],\n",
              "        [ 85,  94, 181],\n",
              "        ...,\n",
              "        [ 71,  82,  96],\n",
              "        [ 74,  86,  98],\n",
              "        [ 76,  88, 100]],\n",
              "\n",
              "       [[ 97, 107, 184],\n",
              "        [ 83,  93, 171],\n",
              "        [ 78,  86, 169],\n",
              "        ...,\n",
              "        [ 70,  81,  95],\n",
              "        [ 72,  84,  96],\n",
              "        [ 74,  86,  98]],\n",
              "\n",
              "       [[106, 113, 186],\n",
              "        [ 86,  92, 167],\n",
              "        [ 88,  93, 172],\n",
              "        ...,\n",
              "        [ 70,  81,  95],\n",
              "        [ 71,  83,  95],\n",
              "        [ 72,  84,  96]],\n",
              "\n",
              "       ...,\n",
              "\n",
              "       [[208, 206, 205],\n",
              "        [198, 196, 195],\n",
              "        [172, 170, 169],\n",
              "        ...,\n",
              "        [129, 136, 153],\n",
              "        [106, 111, 132],\n",
              "        [162, 168, 191]],\n",
              "\n",
              "       [[182, 180, 179],\n",
              "        [199, 197, 196],\n",
              "        [195, 193, 192],\n",
              "        ...,\n",
              "        [ 90,  97, 106],\n",
              "        [ 68,  74,  87],\n",
              "        [145, 153, 166]],\n",
              "\n",
              "       [[186, 184, 183],\n",
              "        [222, 220, 219],\n",
              "        [226, 224, 223],\n",
              "        ...,\n",
              "        [108, 114, 119],\n",
              "        [113, 121, 128],\n",
              "        [159, 166, 175]]], dtype=uint8)"
            ]
          },
          "metadata": {}
        },
        {
          "output_type": "display_data",
          "data": {
            "text/plain": [
              "'anomaly image'"
            ],
            "application/vnd.google.colaboratory.intrinsic+json": {
              "type": "string"
            }
          },
          "metadata": {}
        },
        {
          "output_type": "stream",
          "name": "stdout",
          "text": [
            "height = 900, width = 900height = 900, width = 900\n",
            "\n",
            "resized image shape = resized image shape =   (256, 256, 3)(256, 256, 3)\n",
            "/n########################################\n",
            "/n########################################\n",
            "height = 900, width = 900\n",
            "height = 900, width = 900\n",
            "\n",
            "resized image shape = "
          ]
        },
        {
          "output_type": "display_data",
          "data": {
            "text/plain": [
              "array([[[ 91, 127, 151],\n",
              "        [ 90, 126, 150],\n",
              "        [ 83, 119, 143],\n",
              "        ...,\n",
              "        [152, 197, 188],\n",
              "        [149, 194, 185],\n",
              "        [146, 191, 182]],\n",
              "\n",
              "       [[ 87, 123, 147],\n",
              "        [ 89, 125, 149],\n",
              "        [ 83, 119, 143],\n",
              "        ...,\n",
              "        [151, 196, 187],\n",
              "        [149, 194, 185],\n",
              "        [147, 192, 183]],\n",
              "\n",
              "       [[ 79, 115, 139],\n",
              "        [ 83, 119, 143],\n",
              "        [ 80, 116, 140],\n",
              "        ...,\n",
              "        [150, 195, 186],\n",
              "        [149, 194, 185],\n",
              "        [149, 194, 185]],\n",
              "\n",
              "       ...,\n",
              "\n",
              "       [[ 98, 124, 154],\n",
              "        [ 94, 120, 150],\n",
              "        [ 96, 122, 152],\n",
              "        ...,\n",
              "        [  9,  31,  42],\n",
              "        [ 10,  32,  43],\n",
              "        [  9,  31,  42]],\n",
              "\n",
              "       [[100, 126, 156],\n",
              "        [ 94, 120, 150],\n",
              "        [ 93, 119, 149],\n",
              "        ...,\n",
              "        [  9,  31,  42],\n",
              "        [ 10,  32,  43],\n",
              "        [  9,  31,  42]],\n",
              "\n",
              "       [[104, 130, 160],\n",
              "        [ 94, 120, 150],\n",
              "        [ 89, 115, 145],\n",
              "        ...,\n",
              "        [  9,  31,  42],\n",
              "        [ 10,  32,  43],\n",
              "        [  9,  31,  42]]], dtype=uint8)"
            ]
          },
          "metadata": {}
        },
        {
          "output_type": "stream",
          "name": "stdout",
          "text": [
            "resized image shape = "
          ]
        },
        {
          "output_type": "display_data",
          "data": {
            "text/plain": [
              "array([[[218, 223, 222],\n",
              "        [219, 224, 223],\n",
              "        [217, 217, 217],\n",
              "        ...,\n",
              "        [199, 203, 204],\n",
              "        [203, 205, 205],\n",
              "        [207, 207, 207]],\n",
              "\n",
              "       [[199, 203, 204],\n",
              "        [202, 204, 204],\n",
              "        [201, 200, 202],\n",
              "        ...,\n",
              "        [212, 214, 215],\n",
              "        [206, 206, 206],\n",
              "        [202, 200, 200]],\n",
              "\n",
              "       [[182, 183, 187],\n",
              "        [185, 187, 188],\n",
              "        [189, 188, 192],\n",
              "        ...,\n",
              "        [195, 192, 194],\n",
              "        [197, 192, 193],\n",
              "        [200, 194, 195]],\n",
              "\n",
              "       ...,\n",
              "\n",
              "       [[135, 124, 127],\n",
              "        [174, 163, 166],\n",
              "        [228, 217, 220],\n",
              "        ...,\n",
              "        [203, 202, 204],\n",
              "        [197, 197, 197],\n",
              "        [189, 189, 189]],\n",
              "\n",
              "       [[158, 144, 148],\n",
              "        [182, 168, 172],\n",
              "        [203, 189, 193],\n",
              "        ...,\n",
              "        [190, 189, 191],\n",
              "        [205, 205, 205],\n",
              "        [236, 236, 236]],\n",
              "\n",
              "       [[193, 179, 183],\n",
              "        [168, 154, 158],\n",
              "        [144, 130, 134],\n",
              "        ...,\n",
              "        [161, 160, 162],\n",
              "        [160, 160, 160],\n",
              "        [195, 195, 195]]], dtype=uint8)"
            ]
          },
          "metadata": {}
        },
        {
          "output_type": "stream",
          "name": "stdout",
          "text": [
            " "
          ]
        },
        {
          "output_type": "display_data",
          "data": {
            "text/plain": [
              "'anomaly image'"
            ],
            "application/vnd.google.colaboratory.intrinsic+json": {
              "type": "string"
            }
          },
          "metadata": {}
        },
        {
          "output_type": "stream",
          "name": "stdout",
          "text": [
            " (256, 256, 3)(256, 256, 3)"
          ]
        },
        {
          "output_type": "display_data",
          "data": {
            "text/plain": [
              "'anomaly image'"
            ],
            "application/vnd.google.colaboratory.intrinsic+json": {
              "type": "string"
            }
          },
          "metadata": {}
        },
        {
          "output_type": "stream",
          "name": "stdout",
          "text": [
            "\n",
            "\n",
            "/n########################################/n########################################\n",
            "\n"
          ]
        },
        {
          "output_type": "display_data",
          "data": {
            "text/plain": [
              "array([[[187, 187, 187],\n",
              "        [184, 184, 184],\n",
              "        [189, 189, 189],\n",
              "        ...,\n",
              "        [252, 252, 252],\n",
              "        [246, 246, 246],\n",
              "        [239, 239, 239]],\n",
              "\n",
              "       [[197, 197, 197],\n",
              "        [172, 172, 172],\n",
              "        [167, 167, 167],\n",
              "        ...,\n",
              "        [255, 255, 255],\n",
              "        [255, 255, 255],\n",
              "        [249, 249, 249]],\n",
              "\n",
              "       [[182, 182, 182],\n",
              "        [184, 184, 184],\n",
              "        [183, 183, 183],\n",
              "        ...,\n",
              "        [245, 245, 245],\n",
              "        [241, 241, 241],\n",
              "        [237, 237, 237]],\n",
              "\n",
              "       ...,\n",
              "\n",
              "       [[141, 142, 132],\n",
              "        [131, 132, 122],\n",
              "        [123, 124, 114],\n",
              "        ...,\n",
              "        [126, 128, 108],\n",
              "        [139, 142, 120],\n",
              "        [148, 151, 129]],\n",
              "\n",
              "       [[121, 122, 113],\n",
              "        [128, 129, 120],\n",
              "        [129, 130, 121],\n",
              "        ...,\n",
              "        [142, 142, 124],\n",
              "        [144, 145, 125],\n",
              "        [145, 146, 126]],\n",
              "\n",
              "       [[126, 127, 118],\n",
              "        [133, 134, 125],\n",
              "        [135, 136, 127],\n",
              "        ...,\n",
              "        [142, 142, 124],\n",
              "        [144, 144, 126],\n",
              "        [145, 145, 127]]], dtype=uint8)"
            ]
          },
          "metadata": {}
        },
        {
          "output_type": "stream",
          "name": "stdout",
          "text": [
            "height = 900, width = 900"
          ]
        },
        {
          "output_type": "display_data",
          "data": {
            "text/plain": [
              "'anomaly image'"
            ],
            "application/vnd.google.colaboratory.intrinsic+json": {
              "type": "string"
            }
          },
          "metadata": {}
        },
        {
          "output_type": "display_data",
          "data": {
            "text/plain": [
              "array([[[ 46,  60,  56],\n",
              "        [ 54,  72,  65],\n",
              "        [ 52,  81,  66],\n",
              "        ...,\n",
              "        [108, 187, 168],\n",
              "        [114, 193, 172],\n",
              "        [110, 189, 168]],\n",
              "\n",
              "       [[ 48,  63,  59],\n",
              "        [ 53,  74,  66],\n",
              "        [ 50,  80,  67],\n",
              "        ...,\n",
              "        [119, 196, 175],\n",
              "        [121, 198, 177],\n",
              "        [112, 190, 167]],\n",
              "\n",
              "       [[ 64,  85,  82],\n",
              "        [ 69,  93,  85],\n",
              "        [ 58,  93,  79],\n",
              "        ...,\n",
              "        [124, 196, 174],\n",
              "        [122, 194, 172],\n",
              "        [111, 183, 160]],\n",
              "\n",
              "       ...,\n",
              "\n",
              "       [[ 58,  47,  25],\n",
              "        [ 86,  76,  52],\n",
              "        [130, 119,  92],\n",
              "        ...,\n",
              "        [ 56,  64,  63],\n",
              "        [ 54,  63,  60],\n",
              "        [ 57,  66,  63]],\n",
              "\n",
              "       [[ 42,  29,  13],\n",
              "        [ 42,  30,  12],\n",
              "        [ 51,  38,  16],\n",
              "        ...,\n",
              "        [ 60,  66,  65],\n",
              "        [ 59,  66,  63],\n",
              "        [ 61,  68,  65]],\n",
              "\n",
              "       [[ 43,  30,  16],\n",
              "        [ 35,  22,   6],\n",
              "        [ 22,   8,   0],\n",
              "        ...,\n",
              "        [ 63,  69,  68],\n",
              "        [ 62,  67,  65],\n",
              "        [ 61,  66,  64]]], dtype=uint8)"
            ]
          },
          "metadata": {}
        },
        {
          "output_type": "stream",
          "name": "stdout",
          "text": [
            "\n",
            "resized image shape = "
          ]
        },
        {
          "output_type": "display_data",
          "data": {
            "text/plain": [
              "'anomaly image'"
            ],
            "application/vnd.google.colaboratory.intrinsic+json": {
              "type": "string"
            }
          },
          "metadata": {}
        },
        {
          "output_type": "stream",
          "name": "stdout",
          "text": [
            " (256, 256, 3)\n",
            "/n########################################height = 900, width = 900\n",
            "\n",
            "height = 900, width = 900resized image shape = \n",
            "height = 900, width = 900 resized image shape = \n"
          ]
        },
        {
          "output_type": "display_data",
          "data": {
            "text/plain": [
              "array([[[227, 255, 255],\n",
              "        [227, 255, 255],\n",
              "        [227, 255, 255],\n",
              "        ...,\n",
              "        [125, 186, 160],\n",
              "        [241, 255, 254],\n",
              "        [229, 255, 253]],\n",
              "\n",
              "       [[227, 255, 255],\n",
              "        [227, 255, 255],\n",
              "        [227, 255, 255],\n",
              "        ...,\n",
              "        [103, 166, 134],\n",
              "        [240, 254, 253],\n",
              "        [229, 255, 255]],\n",
              "\n",
              "       [[227, 255, 255],\n",
              "        [227, 255, 255],\n",
              "        [227, 255, 255],\n",
              "        ...,\n",
              "        [108, 175, 136],\n",
              "        [240, 253, 255],\n",
              "        [229, 255, 255]],\n",
              "\n",
              "       ...,\n",
              "\n",
              "       [[228, 254, 254],\n",
              "        [226, 254, 254],\n",
              "        [213, 243, 244],\n",
              "        ...,\n",
              "        [227, 255, 255],\n",
              "        [227, 255, 255],\n",
              "        [227, 255, 255]],\n",
              "\n",
              "       [[228, 254, 254],\n",
              "        [226, 254, 254],\n",
              "        [213, 243, 244],\n",
              "        ...,\n",
              "        [227, 255, 255],\n",
              "        [227, 255, 255],\n",
              "        [227, 255, 255]],\n",
              "\n",
              "       [[228, 254, 254],\n",
              "        [226, 254, 254],\n",
              "        [213, 243, 244],\n",
              "        ...,\n",
              "        [227, 255, 255],\n",
              "        [227, 255, 255],\n",
              "        [227, 255, 255]]], dtype=uint8)"
            ]
          },
          "metadata": {}
        },
        {
          "output_type": "stream",
          "name": "stdout",
          "text": [
            "(256, 256, 3) height = 900, width = 900resized image shape = \n",
            "height = 900, width = 900/n########################################height = 900, width = 900"
          ]
        },
        {
          "output_type": "display_data",
          "data": {
            "text/plain": [
              "'anomaly image'"
            ],
            "application/vnd.google.colaboratory.intrinsic+json": {
              "type": "string"
            }
          },
          "metadata": {}
        },
        {
          "output_type": "stream",
          "name": "stdout",
          "text": [
            "(256, 256, 3)\n",
            " \n",
            "(256, 256, 3)\n",
            "resized image shape = \n",
            "\n",
            "resized image shape = resized image shape = /n######################################## "
          ]
        },
        {
          "output_type": "display_data",
          "data": {
            "text/plain": [
              "array([[[180, 181, 202],\n",
              "        [146, 147, 168],\n",
              "        [142, 140, 160],\n",
              "        ...,\n",
              "        [250, 244, 249],\n",
              "        [250, 244, 249],\n",
              "        [255, 250, 255]],\n",
              "\n",
              "       [[187, 188, 209],\n",
              "        [137, 138, 159],\n",
              "        [115, 113, 133],\n",
              "        ...,\n",
              "        [208, 202, 207],\n",
              "        [202, 196, 201],\n",
              "        [216, 210, 215]],\n",
              "\n",
              "       [[134, 135, 156],\n",
              "        [104, 105, 126],\n",
              "        [ 98,  96, 116],\n",
              "        ...,\n",
              "        [194, 188, 193],\n",
              "        [182, 176, 181],\n",
              "        [164, 158, 163]],\n",
              "\n",
              "       ...,\n",
              "\n",
              "       [[ 42,  36,  53],\n",
              "        [ 43,  37,  54],\n",
              "        [ 39,  36,  52],\n",
              "        ...,\n",
              "        [255, 253, 254],\n",
              "        [255, 253, 255],\n",
              "        [190, 179, 181]],\n",
              "\n",
              "       [[ 48,  41,  56],\n",
              "        [ 48,  43,  58],\n",
              "        [ 34,  31,  46],\n",
              "        ...,\n",
              "        [253, 245, 246],\n",
              "        [201, 190, 192],\n",
              "        [ 59,  46,  48]],\n",
              "\n",
              "       [[ 50,  43,  58],\n",
              "        [ 55,  50,  65],\n",
              "        [ 59,  54,  69],\n",
              "        ...,\n",
              "        [144, 136, 137],\n",
              "        [ 66,  53,  55],\n",
              "        [ 77,  64,  66]]], dtype=uint8)"
            ]
          },
          "metadata": {}
        },
        {
          "output_type": "stream",
          "name": "stdout",
          "text": [
            "\n",
            " \n",
            " /n########################################(256, 256, 3)(256, 256, 3)"
          ]
        },
        {
          "output_type": "display_data",
          "data": {
            "text/plain": [
              "'anomaly image'"
            ],
            "application/vnd.google.colaboratory.intrinsic+json": {
              "type": "string"
            }
          },
          "metadata": {}
        },
        {
          "output_type": "stream",
          "name": "stdout",
          "text": [
            "\n",
            "(256, 256, 3)\n",
            "\n",
            "/n########################################\n",
            "/n########################################\n",
            "/n########################################\n",
            "\n"
          ]
        },
        {
          "output_type": "display_data",
          "data": {
            "text/plain": [
              "array([[[221, 252, 255],\n",
              "        [221, 252, 255],\n",
              "        [221, 252, 255],\n",
              "        ...,\n",
              "        [205, 230, 220],\n",
              "        [223, 254, 255],\n",
              "        [221, 252, 255]],\n",
              "\n",
              "       [[221, 252, 255],\n",
              "        [221, 252, 255],\n",
              "        [221, 252, 255],\n",
              "        ...,\n",
              "        [205, 230, 220],\n",
              "        [223, 254, 255],\n",
              "        [221, 252, 255]],\n",
              "\n",
              "       [[221, 252, 255],\n",
              "        [221, 252, 255],\n",
              "        [221, 252, 255],\n",
              "        ...,\n",
              "        [205, 230, 220],\n",
              "        [223, 254, 255],\n",
              "        [221, 252, 255]],\n",
              "\n",
              "       ...,\n",
              "\n",
              "       [[221, 252, 255],\n",
              "        [221, 252, 255],\n",
              "        [221, 252, 255],\n",
              "        ...,\n",
              "        [205, 230, 220],\n",
              "        [223, 254, 255],\n",
              "        [221, 252, 255]],\n",
              "\n",
              "       [[221, 252, 255],\n",
              "        [221, 252, 255],\n",
              "        [221, 252, 255],\n",
              "        ...,\n",
              "        [205, 230, 220],\n",
              "        [223, 254, 255],\n",
              "        [221, 252, 255]],\n",
              "\n",
              "       [[221, 252, 255],\n",
              "        [221, 252, 255],\n",
              "        [221, 252, 255],\n",
              "        ...,\n",
              "        [205, 230, 220],\n",
              "        [223, 254, 255],\n",
              "        [221, 252, 255]]], dtype=uint8)"
            ]
          },
          "metadata": {}
        },
        {
          "output_type": "display_data",
          "data": {
            "text/plain": [
              "array([[[16, 38, 56],\n",
              "        [17, 39, 57],\n",
              "        [17, 39, 57],\n",
              "        ...,\n",
              "        [16, 39, 55],\n",
              "        [15, 36, 51],\n",
              "        [17, 39, 51]],\n",
              "\n",
              "       [[15, 37, 55],\n",
              "        [19, 39, 57],\n",
              "        [18, 40, 58],\n",
              "        ...,\n",
              "        [19, 42, 58],\n",
              "        [17, 40, 56],\n",
              "        [18, 39, 54]],\n",
              "\n",
              "       [[16, 38, 56],\n",
              "        [17, 39, 57],\n",
              "        [18, 40, 58],\n",
              "        ...,\n",
              "        [17, 41, 59],\n",
              "        [15, 38, 54],\n",
              "        [15, 38, 53]],\n",
              "\n",
              "       ...,\n",
              "\n",
              "       [[18, 36, 53],\n",
              "        [18, 38, 55],\n",
              "        [20, 40, 57],\n",
              "        ...,\n",
              "        [18, 41, 56],\n",
              "        [16, 39, 54],\n",
              "        [14, 37, 52]],\n",
              "\n",
              "       [[17, 35, 52],\n",
              "        [19, 37, 54],\n",
              "        [18, 38, 55],\n",
              "        ...,\n",
              "        [19, 40, 55],\n",
              "        [16, 39, 54],\n",
              "        [14, 37, 52]],\n",
              "\n",
              "       [[15, 35, 52],\n",
              "        [18, 36, 53],\n",
              "        [15, 38, 54],\n",
              "        ...,\n",
              "        [17, 36, 51],\n",
              "        [17, 38, 53],\n",
              "        [14, 37, 52]]], dtype=uint8)"
            ]
          },
          "metadata": {}
        },
        {
          "output_type": "display_data",
          "data": {
            "text/plain": [
              "array([[[25, 47, 53],\n",
              "        [25, 46, 48],\n",
              "        [25, 46, 48],\n",
              "        ...,\n",
              "        [44, 83, 81],\n",
              "        [40, 74, 74],\n",
              "        [32, 76, 69]],\n",
              "\n",
              "       [[23, 44, 46],\n",
              "        [21, 44, 46],\n",
              "        [22, 46, 46],\n",
              "        ...,\n",
              "        [44, 80, 80],\n",
              "        [35, 73, 73],\n",
              "        [34, 72, 72]],\n",
              "\n",
              "       [[17, 40, 36],\n",
              "        [18, 45, 42],\n",
              "        [20, 41, 42],\n",
              "        ...,\n",
              "        [48, 84, 84],\n",
              "        [42, 79, 77],\n",
              "        [42, 79, 77]],\n",
              "\n",
              "       ...,\n",
              "\n",
              "       [[25, 56, 49],\n",
              "        [23, 54, 47],\n",
              "        [21, 45, 43],\n",
              "        ...,\n",
              "        [36, 67, 64],\n",
              "        [37, 68, 65],\n",
              "        [37, 72, 62]],\n",
              "\n",
              "       [[20, 48, 48],\n",
              "        [19, 43, 41],\n",
              "        [19, 46, 42],\n",
              "        ...,\n",
              "        [40, 75, 71],\n",
              "        [36, 70, 69],\n",
              "        [43, 83, 71]],\n",
              "\n",
              "       [[23, 46, 42],\n",
              "        [23, 46, 42],\n",
              "        [17, 48, 41],\n",
              "        ...,\n",
              "        [41, 76, 80],\n",
              "        [40, 78, 80],\n",
              "        [42, 85, 76]]], dtype=uint8)"
            ]
          },
          "metadata": {}
        },
        {
          "output_type": "display_data",
          "data": {
            "text/plain": [
              "'anomaly image'"
            ],
            "application/vnd.google.colaboratory.intrinsic+json": {
              "type": "string"
            }
          },
          "metadata": {}
        },
        {
          "output_type": "display_data",
          "data": {
            "text/plain": [
              "'anomaly image'"
            ],
            "application/vnd.google.colaboratory.intrinsic+json": {
              "type": "string"
            }
          },
          "metadata": {}
        },
        {
          "output_type": "display_data",
          "data": {
            "text/plain": [
              "array([[[185, 179, 174],\n",
              "        [216, 211, 208],\n",
              "        [251, 246, 245],\n",
              "        ...,\n",
              "        [211, 203, 213],\n",
              "        [175, 170, 172],\n",
              "        [228, 224, 223]],\n",
              "\n",
              "       [[127, 121, 116],\n",
              "        [188, 184, 179],\n",
              "        [200, 195, 194],\n",
              "        ...,\n",
              "        [201, 196, 205],\n",
              "        [197, 193, 198],\n",
              "        [224, 222, 221]],\n",
              "\n",
              "       [[181, 178, 170],\n",
              "        [192, 188, 183],\n",
              "        [178, 173, 170],\n",
              "        ...,\n",
              "        [181, 178, 187],\n",
              "        [183, 182, 186],\n",
              "        [218, 218, 218]],\n",
              "\n",
              "       ...,\n",
              "\n",
              "       [[125, 118, 125],\n",
              "        [ 96,  90,  95],\n",
              "        [ 83,  77,  78],\n",
              "        ...,\n",
              "        [189, 175, 176],\n",
              "        [186, 173, 171],\n",
              "        [215, 200, 197]],\n",
              "\n",
              "       [[ 94,  88,  93],\n",
              "        [ 91,  86,  88],\n",
              "        [ 91,  86,  85],\n",
              "        ...,\n",
              "        [186, 174, 174],\n",
              "        [183, 170, 168],\n",
              "        [163, 148, 146]],\n",
              "\n",
              "       [[ 90,  85,  87],\n",
              "        [ 81,  76,  77],\n",
              "        [ 79,  74,  73],\n",
              "        ...,\n",
              "        [146, 134, 134],\n",
              "        [139, 126, 124],\n",
              "        [136, 121, 119]]], dtype=uint8)"
            ]
          },
          "metadata": {}
        },
        {
          "output_type": "display_data",
          "data": {
            "text/plain": [
              "array([[[255, 255, 254],\n",
              "        [249, 253, 247],\n",
              "        [180,  73,  69],\n",
              "        ...,\n",
              "        [255, 255, 255],\n",
              "        [255, 255, 255],\n",
              "        [255, 255, 255]],\n",
              "\n",
              "       [[243, 252, 255],\n",
              "        [225, 186, 178],\n",
              "        [176,   0,   0],\n",
              "        ...,\n",
              "        [255, 255, 255],\n",
              "        [255, 255, 255],\n",
              "        [255, 255, 255]],\n",
              "\n",
              "       [[215, 206, 196],\n",
              "        [196,  23,  20],\n",
              "        [246,   0,   6],\n",
              "        ...,\n",
              "        [255, 255, 255],\n",
              "        [255, 255, 255],\n",
              "        [255, 255, 255]],\n",
              "\n",
              "       ...,\n",
              "\n",
              "       [[252, 252, 252],\n",
              "        [252, 252, 252],\n",
              "        [252, 252, 252],\n",
              "        ...,\n",
              "        [238, 238, 238],\n",
              "        [224, 201, 175],\n",
              "        [221, 177, 113]],\n",
              "\n",
              "       [[253, 253, 253],\n",
              "        [253, 253, 253],\n",
              "        [253, 253, 253],\n",
              "        ...,\n",
              "        [243, 255, 255],\n",
              "        [248, 254, 253],\n",
              "        [249, 251, 251]],\n",
              "\n",
              "       [[253, 253, 253],\n",
              "        [253, 253, 253],\n",
              "        [253, 253, 253],\n",
              "        ...,\n",
              "        [251, 250, 246],\n",
              "        [248, 253, 252],\n",
              "        [248, 253, 254]]], dtype=uint8)"
            ]
          },
          "metadata": {}
        },
        {
          "output_type": "display_data",
          "data": {
            "text/plain": [
              "'anomaly image'"
            ],
            "application/vnd.google.colaboratory.intrinsic+json": {
              "type": "string"
            }
          },
          "metadata": {}
        },
        {
          "output_type": "display_data",
          "data": {
            "text/plain": [
              "'anomaly image'"
            ],
            "application/vnd.google.colaboratory.intrinsic+json": {
              "type": "string"
            }
          },
          "metadata": {}
        },
        {
          "output_type": "display_data",
          "data": {
            "text/plain": [
              "'anomaly image'"
            ],
            "application/vnd.google.colaboratory.intrinsic+json": {
              "type": "string"
            }
          },
          "metadata": {}
        },
        {
          "output_type": "stream",
          "name": "stdout",
          "text": [
            "height = 900, width = 900\n",
            "resized image shape =  (256, 256, 3)\n",
            "/n########################################\n"
          ]
        },
        {
          "output_type": "display_data",
          "data": {
            "text/plain": [
              "array([[[148, 160, 172],\n",
              "        [126, 138, 150],\n",
              "        [139, 151, 161],\n",
              "        ...,\n",
              "        [ 69,  89,  84],\n",
              "        [ 91, 111, 106],\n",
              "        [ 81, 101,  96]],\n",
              "\n",
              "       [[117, 129, 141],\n",
              "        [156, 168, 180],\n",
              "        [152, 164, 174],\n",
              "        ...,\n",
              "        [102, 122, 117],\n",
              "        [ 92, 112, 107],\n",
              "        [121, 141, 136]],\n",
              "\n",
              "       [[145, 154, 167],\n",
              "        [146, 155, 168],\n",
              "        [140, 150, 160],\n",
              "        ...,\n",
              "        [117, 138, 135],\n",
              "        [ 92, 113, 110],\n",
              "        [104, 125, 122]],\n",
              "\n",
              "       ...,\n",
              "\n",
              "       [[102,  99, 101],\n",
              "        [ 95,  94,  96],\n",
              "        [ 95, 100,  99],\n",
              "        ...,\n",
              "        [ 34,  45,  29],\n",
              "        [ 43,  53,  37],\n",
              "        [ 58,  70,  52]],\n",
              "\n",
              "       [[132, 127, 129],\n",
              "        [128, 125, 127],\n",
              "        [117, 122, 121],\n",
              "        ...,\n",
              "        [ 34,  45,  29],\n",
              "        [ 41,  53,  35],\n",
              "        [ 51,  63,  45]],\n",
              "\n",
              "       [[114, 109, 111],\n",
              "        [120, 117, 119],\n",
              "        [114, 119, 118],\n",
              "        ...,\n",
              "        [ 34,  45,  29],\n",
              "        [ 40,  52,  34],\n",
              "        [ 44,  56,  38]]], dtype=uint8)"
            ]
          },
          "metadata": {}
        },
        {
          "output_type": "display_data",
          "data": {
            "text/plain": [
              "'anomaly image'"
            ],
            "application/vnd.google.colaboratory.intrinsic+json": {
              "type": "string"
            }
          },
          "metadata": {}
        },
        {
          "output_type": "stream",
          "name": "stdout",
          "text": [
            "height = 900, width = 900height = 900, width = 900\n",
            "\n",
            "resized image shape = resized image shape = height = 900, width = 900  \n",
            "resized image shape = (256, 256, 3)(256, 256, 3)\n",
            "\n",
            " /n########################################/n########################################(256, 256, 3)\n",
            "\n",
            "\n",
            "height = 900, width = 900/n########################################"
          ]
        },
        {
          "output_type": "display_data",
          "data": {
            "text/plain": [
              "array([[[ 15,  18,   9],\n",
              "        [ 25,  28,  19],\n",
              "        [ 12,  15,   6],\n",
              "        ...,\n",
              "        [ 47, 104,  83],\n",
              "        [103, 160, 139],\n",
              "        [120, 179, 158]],\n",
              "\n",
              "       [[ 27,  30,  21],\n",
              "        [ 22,  25,  16],\n",
              "        [ 17,  20,  11],\n",
              "        ...,\n",
              "        [ 32,  91,  70],\n",
              "        [ 37,  99,  77],\n",
              "        [ 79, 141, 119]],\n",
              "\n",
              "       [[ 22,  25,  16],\n",
              "        [ 21,  24,  15],\n",
              "        [ 15,  18,   9],\n",
              "        ...,\n",
              "        [  0,  50,  28],\n",
              "        [ 58, 123, 101],\n",
              "        [ 29,  94,  72]],\n",
              "\n",
              "       ...,\n",
              "\n",
              "       [[ 99, 113, 132],\n",
              "        [108, 122, 141],\n",
              "        [114, 128, 146],\n",
              "        ...,\n",
              "        [113, 124, 151],\n",
              "        [107, 118, 145],\n",
              "        [113, 124, 151]],\n",
              "\n",
              "       [[101, 115, 134],\n",
              "        [102, 116, 135],\n",
              "        [127, 141, 159],\n",
              "        ...,\n",
              "        [112, 123, 150],\n",
              "        [101, 112, 139],\n",
              "        [120, 131, 158]],\n",
              "\n",
              "       [[101, 115, 134],\n",
              "        [102, 116, 135],\n",
              "        [127, 141, 159],\n",
              "        ...,\n",
              "        [112, 123, 150],\n",
              "        [102, 113, 140],\n",
              "        [106, 117, 144]]], dtype=uint8)"
            ]
          },
          "metadata": {}
        },
        {
          "output_type": "stream",
          "name": "stdout",
          "text": [
            "\n",
            "\n"
          ]
        },
        {
          "output_type": "display_data",
          "data": {
            "text/plain": [
              "'anomaly image'"
            ],
            "application/vnd.google.colaboratory.intrinsic+json": {
              "type": "string"
            }
          },
          "metadata": {}
        },
        {
          "output_type": "stream",
          "name": "stdout",
          "text": [
            "resized image shape =  "
          ]
        },
        {
          "output_type": "display_data",
          "data": {
            "text/plain": [
              "array([[[242, 242, 242],\n",
              "        [242, 242, 242],\n",
              "        [242, 242, 242],\n",
              "        ...,\n",
              "        [242, 242, 242],\n",
              "        [242, 242, 242],\n",
              "        [242, 242, 242]],\n",
              "\n",
              "       [[242, 242, 242],\n",
              "        [242, 242, 242],\n",
              "        [242, 242, 242],\n",
              "        ...,\n",
              "        [242, 242, 242],\n",
              "        [242, 242, 242],\n",
              "        [242, 242, 242]],\n",
              "\n",
              "       [[242, 242, 242],\n",
              "        [242, 242, 242],\n",
              "        [242, 242, 242],\n",
              "        ...,\n",
              "        [242, 242, 242],\n",
              "        [242, 242, 242],\n",
              "        [242, 242, 242]],\n",
              "\n",
              "       ...,\n",
              "\n",
              "       [[242, 242, 242],\n",
              "        [242, 242, 242],\n",
              "        [242, 242, 242],\n",
              "        ...,\n",
              "        [242, 242, 242],\n",
              "        [242, 242, 242],\n",
              "        [242, 242, 242]],\n",
              "\n",
              "       [[242, 242, 242],\n",
              "        [242, 242, 242],\n",
              "        [242, 242, 242],\n",
              "        ...,\n",
              "        [242, 242, 242],\n",
              "        [242, 242, 242],\n",
              "        [242, 242, 242]],\n",
              "\n",
              "       [[242, 242, 242],\n",
              "        [242, 242, 242],\n",
              "        [242, 242, 242],\n",
              "        ...,\n",
              "        [242, 242, 242],\n",
              "        [242, 242, 242],\n",
              "        [242, 242, 242]]], dtype=uint8)"
            ]
          },
          "metadata": {}
        },
        {
          "output_type": "stream",
          "name": "stdout",
          "text": [
            "(256, 256, 3)"
          ]
        },
        {
          "output_type": "display_data",
          "data": {
            "text/plain": [
              "'anomaly image'"
            ],
            "application/vnd.google.colaboratory.intrinsic+json": {
              "type": "string"
            }
          },
          "metadata": {}
        },
        {
          "output_type": "stream",
          "name": "stdout",
          "text": [
            "height = 900, width = 900\n",
            "\n",
            "/n########################################resized image shape = "
          ]
        },
        {
          "output_type": "display_data",
          "data": {
            "text/plain": [
              "array([[[29, 32, 30],\n",
              "        [30, 32, 32],\n",
              "        [35, 37, 37],\n",
              "        ...,\n",
              "        [ 0,  0,  0],\n",
              "        [ 0,  0,  0],\n",
              "        [ 0,  0,  0]],\n",
              "\n",
              "       [[38, 40, 40],\n",
              "        [35, 37, 37],\n",
              "        [38, 40, 40],\n",
              "        ...,\n",
              "        [ 0,  0,  0],\n",
              "        [ 0,  0,  0],\n",
              "        [ 0,  0,  0]],\n",
              "\n",
              "       [[31, 33, 33],\n",
              "        [27, 29, 29],\n",
              "        [32, 34, 34],\n",
              "        ...,\n",
              "        [ 0,  0,  0],\n",
              "        [ 0,  0,  0],\n",
              "        [ 0,  0,  0]],\n",
              "\n",
              "       ...,\n",
              "\n",
              "       [[ 0,  0,  0],\n",
              "        [ 0,  0,  0],\n",
              "        [ 0,  0,  0],\n",
              "        ...,\n",
              "        [ 0,  0,  0],\n",
              "        [ 2,  2,  2],\n",
              "        [ 3,  3,  3]],\n",
              "\n",
              "       [[ 0,  0,  0],\n",
              "        [ 0,  0,  0],\n",
              "        [ 0,  0,  0],\n",
              "        ...,\n",
              "        [ 0,  0,  0],\n",
              "        [ 1,  1,  1],\n",
              "        [ 6,  6,  6]],\n",
              "\n",
              "       [[ 0,  0,  0],\n",
              "        [ 0,  0,  0],\n",
              "        [ 0,  0,  0],\n",
              "        ...,\n",
              "        [ 0,  0,  0],\n",
              "        [ 1,  1,  1],\n",
              "        [ 6,  6,  6]]], dtype=uint8)"
            ]
          },
          "metadata": {}
        },
        {
          "output_type": "stream",
          "name": "stdout",
          "text": [
            "\n",
            " "
          ]
        },
        {
          "output_type": "display_data",
          "data": {
            "text/plain": [
              "'anomaly image'"
            ],
            "application/vnd.google.colaboratory.intrinsic+json": {
              "type": "string"
            }
          },
          "metadata": {}
        },
        {
          "output_type": "stream",
          "name": "stdout",
          "text": [
            "(256, 256, 3)"
          ]
        },
        {
          "output_type": "display_data",
          "data": {
            "text/plain": [
              "array([[[149, 149, 149],\n",
              "        [141, 141, 141],\n",
              "        [141, 141, 141],\n",
              "        ...,\n",
              "        [159, 159, 159],\n",
              "        [157, 157, 157],\n",
              "        [147, 147, 147]],\n",
              "\n",
              "       [[146, 146, 146],\n",
              "        [142, 142, 142],\n",
              "        [146, 146, 146],\n",
              "        ...,\n",
              "        [153, 153, 153],\n",
              "        [149, 149, 149],\n",
              "        [147, 147, 147]],\n",
              "\n",
              "       [[140, 140, 140],\n",
              "        [147, 147, 147],\n",
              "        [154, 154, 154],\n",
              "        ...,\n",
              "        [147, 147, 147],\n",
              "        [146, 146, 146],\n",
              "        [147, 147, 147]],\n",
              "\n",
              "       ...,\n",
              "\n",
              "       [[155, 155, 155],\n",
              "        [152, 152, 152],\n",
              "        [144, 144, 144],\n",
              "        ...,\n",
              "        [146, 146, 146],\n",
              "        [144, 144, 144],\n",
              "        [149, 149, 149]],\n",
              "\n",
              "       [[152, 152, 152],\n",
              "        [149, 149, 149],\n",
              "        [144, 144, 144],\n",
              "        ...,\n",
              "        [147, 147, 147],\n",
              "        [150, 150, 150],\n",
              "        [157, 157, 157]],\n",
              "\n",
              "       [[148, 148, 148],\n",
              "        [146, 146, 146],\n",
              "        [144, 144, 144],\n",
              "        ...,\n",
              "        [149, 149, 149],\n",
              "        [153, 153, 153],\n",
              "        [159, 159, 159]]], dtype=uint8)"
            ]
          },
          "metadata": {}
        },
        {
          "output_type": "display_data",
          "data": {
            "text/plain": [
              "'anomaly image'"
            ],
            "application/vnd.google.colaboratory.intrinsic+json": {
              "type": "string"
            }
          },
          "metadata": {}
        },
        {
          "output_type": "stream",
          "name": "stdout",
          "text": [
            "\n",
            "/n########################################\n",
            "height = 900, width = 900\n",
            "resized image shape = height = 900, width = 900 \n"
          ]
        },
        {
          "output_type": "display_data",
          "data": {
            "text/plain": [
              "array([[[150, 180, 215],\n",
              "        [156, 186, 221],\n",
              "        [139, 171, 206],\n",
              "        ...,\n",
              "        [ 63, 131, 206],\n",
              "        [ 65, 133, 208],\n",
              "        [ 71, 139, 214]],\n",
              "\n",
              "       [[131, 163, 199],\n",
              "        [143, 177, 213],\n",
              "        [139, 173, 209],\n",
              "        ...,\n",
              "        [ 71, 139, 214],\n",
              "        [ 70, 138, 213],\n",
              "        [ 71, 139, 214]],\n",
              "\n",
              "       [[118, 154, 194],\n",
              "        [129, 168, 207],\n",
              "        [125, 164, 203],\n",
              "        ...,\n",
              "        [ 76, 144, 217],\n",
              "        [ 75, 143, 216],\n",
              "        [ 77, 145, 218]],\n",
              "\n",
              "       ...,\n",
              "\n",
              "       [[ 22,  55,  51],\n",
              "        [ 23,  56,  52],\n",
              "        [ 27,  56,  53],\n",
              "        ...,\n",
              "        [107, 164, 226],\n",
              "        [106, 162, 227],\n",
              "        [108, 165, 227]],\n",
              "\n",
              "       [[ 11,  44,  40],\n",
              "        [ 17,  50,  46],\n",
              "        [ 24,  53,  50],\n",
              "        ...,\n",
              "        [ 95, 151, 216],\n",
              "        [ 93, 149, 214],\n",
              "        [ 98, 154, 219]],\n",
              "\n",
              "       [[ 23,  56,  52],\n",
              "        [ 22,  55,  51],\n",
              "        [ 25,  54,  51],\n",
              "        ...,\n",
              "        [109, 162, 229],\n",
              "        [116, 169, 236],\n",
              "        [115, 168, 235]]], dtype=uint8)"
            ]
          },
          "metadata": {}
        },
        {
          "output_type": "stream",
          "name": "stdout",
          "text": [
            "(256, 256, 3)resized image shape = "
          ]
        },
        {
          "output_type": "display_data",
          "data": {
            "text/plain": [
              "'anomaly image'"
            ],
            "application/vnd.google.colaboratory.intrinsic+json": {
              "type": "string"
            }
          },
          "metadata": {}
        },
        {
          "output_type": "stream",
          "name": "stdout",
          "text": [
            "\n",
            " height = 900, width = 900/n########################################height = 900, width = 900(256, 256, 3)height = 900, width = 900\n",
            "\n",
            "height = 900, width = 900\n",
            "\n",
            "resized image shape = \n",
            "/n########################################resized image shape = resized image shape = \n",
            " \n",
            "(256, 256, 3)resized image shape =    (256, 256, 3)\n",
            "(256, 256, 3)"
          ]
        },
        {
          "output_type": "display_data",
          "data": {
            "text/plain": [
              "array([[[ 69,  98, 119],\n",
              "        [ 62,  89, 109],\n",
              "        [ 57,  82, 102],\n",
              "        ...,\n",
              "        [  8,  35,  45],\n",
              "        [ 28,  56,  67],\n",
              "        [ 45,  73,  84]],\n",
              "\n",
              "       [[ 64,  93, 114],\n",
              "        [ 61,  88, 108],\n",
              "        [ 59,  84, 104],\n",
              "        ...,\n",
              "        [  7,  34,  44],\n",
              "        [ 27,  55,  66],\n",
              "        [ 44,  72,  83]],\n",
              "\n",
              "       [[ 65,  94, 115],\n",
              "        [ 63,  90, 110],\n",
              "        [ 62,  87, 107],\n",
              "        ...,\n",
              "        [  6,  33,  43],\n",
              "        [ 26,  54,  65],\n",
              "        [ 43,  71,  82]],\n",
              "\n",
              "       ...,\n",
              "\n",
              "       [[120, 139, 147],\n",
              "        [121, 140, 147],\n",
              "        [124, 140, 147],\n",
              "        ...,\n",
              "        [ 57,  61,  49],\n",
              "        [ 56,  61,  46],\n",
              "        [ 55,  60,  45]],\n",
              "\n",
              "       [[117, 136, 144],\n",
              "        [117, 136, 143],\n",
              "        [121, 137, 144],\n",
              "        ...,\n",
              "        [ 56,  60,  48],\n",
              "        [ 55,  60,  45],\n",
              "        [ 54,  59,  44]],\n",
              "\n",
              "       [[119, 138, 146],\n",
              "        [118, 137, 144],\n",
              "        [120, 136, 143],\n",
              "        ...,\n",
              "        [ 56,  60,  48],\n",
              "        [ 56,  61,  46],\n",
              "        [ 56,  61,  46]]], dtype=uint8)"
            ]
          },
          "metadata": {}
        },
        {
          "output_type": "stream",
          "name": "stdout",
          "text": [
            "(256, 256, 3)\n",
            "/n########################################\n",
            "/n########################################"
          ]
        },
        {
          "output_type": "display_data",
          "data": {
            "text/plain": [
              "array([[[ 84,  82,  88],\n",
              "        [ 78,  76,  82],\n",
              "        [ 83,  83,  89],\n",
              "        ...,\n",
              "        [112, 123, 137],\n",
              "        [108, 119, 133],\n",
              "        [120, 131, 145]],\n",
              "\n",
              "       [[ 87,  85,  91],\n",
              "        [ 84,  82,  88],\n",
              "        [ 90,  90,  96],\n",
              "        ...,\n",
              "        [106, 117, 131],\n",
              "        [103, 114, 128],\n",
              "        [112, 123, 137]],\n",
              "\n",
              "       [[ 88,  88,  94],\n",
              "        [ 87,  87,  93],\n",
              "        [ 97,  97, 103],\n",
              "        ...,\n",
              "        [104, 115, 129],\n",
              "        [103, 114, 128],\n",
              "        [107, 118, 132]],\n",
              "\n",
              "       ...,\n",
              "\n",
              "       [[ 59,  68,  77],\n",
              "        [ 25,  34,  43],\n",
              "        [ 16,  26,  36],\n",
              "        ...,\n",
              "        [235, 238, 236],\n",
              "        [233, 235, 235],\n",
              "        [234, 237, 235]],\n",
              "\n",
              "       [[ 62,  71,  80],\n",
              "        [ 33,  42,  51],\n",
              "        [ 21,  31,  41],\n",
              "        ...,\n",
              "        [237, 238, 234],\n",
              "        [236, 237, 235],\n",
              "        [238, 239, 235]],\n",
              "\n",
              "       [[ 61,  70,  79],\n",
              "        [ 32,  41,  50],\n",
              "        [ 21,  31,  41],\n",
              "        ...,\n",
              "        [237, 238, 234],\n",
              "        [238, 237, 233],\n",
              "        [240, 239, 235]]], dtype=uint8)"
            ]
          },
          "metadata": {}
        },
        {
          "output_type": "display_data",
          "data": {
            "text/plain": [
              "'anomaly image'"
            ],
            "application/vnd.google.colaboratory.intrinsic+json": {
              "type": "string"
            }
          },
          "metadata": {}
        },
        {
          "output_type": "stream",
          "name": "stdout",
          "text": [
            "\n",
            "/n########################################\n",
            "\n"
          ]
        },
        {
          "output_type": "display_data",
          "data": {
            "text/plain": [
              "'anomaly image'"
            ],
            "application/vnd.google.colaboratory.intrinsic+json": {
              "type": "string"
            }
          },
          "metadata": {}
        },
        {
          "output_type": "stream",
          "name": "stdout",
          "text": [
            "/n########################################\n",
            "\n"
          ]
        },
        {
          "output_type": "display_data",
          "data": {
            "text/plain": [
              "array([[[ 79,  67, 103],\n",
              "        [ 81,  73, 110],\n",
              "        [ 97,  92, 131],\n",
              "        ...,\n",
              "        [ 57,  48,  68],\n",
              "        [ 36,  27,  47],\n",
              "        [ 57,  48,  61]],\n",
              "\n",
              "       [[ 83,  78, 110],\n",
              "        [ 88,  81, 116],\n",
              "        [102,  96, 131],\n",
              "        ...,\n",
              "        [ 71,  62,  82],\n",
              "        [ 49,  40,  60],\n",
              "        [ 40,  35,  50]],\n",
              "\n",
              "       [[ 90,  86, 115],\n",
              "        [ 91,  85, 116],\n",
              "        [103,  98, 127],\n",
              "        ...,\n",
              "        [ 81,  73,  90],\n",
              "        [ 78,  72,  89],\n",
              "        [ 49,  43,  60]],\n",
              "\n",
              "       ...,\n",
              "\n",
              "       [[ 90,  83,  90],\n",
              "        [ 91,  87,  93],\n",
              "        [ 85,  85,  91],\n",
              "        ...,\n",
              "        [179, 176, 178],\n",
              "        [244, 241, 243],\n",
              "        [197, 195, 195]],\n",
              "\n",
              "       [[ 86,  84,  90],\n",
              "        [ 93,  89,  95],\n",
              "        [ 96,  89,  96],\n",
              "        ...,\n",
              "        [201, 200, 204],\n",
              "        [254, 253, 255],\n",
              "        [158, 157, 159]],\n",
              "\n",
              "       [[ 91,  91,  97],\n",
              "        [ 99,  95, 101],\n",
              "        [102,  94, 101],\n",
              "        ...,\n",
              "        [216, 216, 222],\n",
              "        [246, 246, 252],\n",
              "        [138, 139, 143]]], dtype=uint8)"
            ]
          },
          "metadata": {}
        },
        {
          "output_type": "display_data",
          "data": {
            "text/plain": [
              "array([[[ 45,  54,  74],\n",
              "        [ 40,  49,  69],\n",
              "        [ 43,  50,  70],\n",
              "        ...,\n",
              "        [225, 228, 233],\n",
              "        [230, 233, 238],\n",
              "        [230, 233, 238]],\n",
              "\n",
              "       [[ 44,  53,  73],\n",
              "        [ 41,  50,  70],\n",
              "        [ 46,  53,  73],\n",
              "        ...,\n",
              "        [223, 226, 231],\n",
              "        [227, 230, 235],\n",
              "        [229, 232, 237]],\n",
              "\n",
              "       [[ 43,  52,  72],\n",
              "        [ 41,  50,  70],\n",
              "        [ 49,  56,  76],\n",
              "        ...,\n",
              "        [224, 227, 232],\n",
              "        [224, 227, 232],\n",
              "        [223, 226, 231]],\n",
              "\n",
              "       ...,\n",
              "\n",
              "       [[121, 133, 145],\n",
              "        [118, 130, 142],\n",
              "        [119, 131, 143],\n",
              "        ...,\n",
              "        [167, 178, 192],\n",
              "        [170, 181, 195],\n",
              "        [175, 186, 200]],\n",
              "\n",
              "       [[114, 126, 138],\n",
              "        [110, 122, 134],\n",
              "        [110, 122, 134],\n",
              "        ...,\n",
              "        [158, 169, 183],\n",
              "        [162, 173, 187],\n",
              "        [170, 181, 195]],\n",
              "\n",
              "       [[111, 123, 135],\n",
              "        [106, 118, 130],\n",
              "        [106, 118, 130],\n",
              "        ...,\n",
              "        [152, 163, 177],\n",
              "        [156, 167, 181],\n",
              "        [164, 175, 189]]], dtype=uint8)"
            ]
          },
          "metadata": {}
        },
        {
          "output_type": "stream",
          "name": "stdout",
          "text": [
            "height = 900, width = 900"
          ]
        },
        {
          "output_type": "display_data",
          "data": {
            "text/plain": [
              "'anomaly image'"
            ],
            "application/vnd.google.colaboratory.intrinsic+json": {
              "type": "string"
            }
          },
          "metadata": {}
        },
        {
          "output_type": "display_data",
          "data": {
            "text/plain": [
              "'anomaly image'"
            ],
            "application/vnd.google.colaboratory.intrinsic+json": {
              "type": "string"
            }
          },
          "metadata": {}
        },
        {
          "output_type": "stream",
          "name": "stdout",
          "text": [
            "\n"
          ]
        },
        {
          "output_type": "display_data",
          "data": {
            "text/plain": [
              "array([[[53, 46, 43],\n",
              "        [53, 46, 43],\n",
              "        [57, 46, 42],\n",
              "        ...,\n",
              "        [59, 38, 36],\n",
              "        [53, 38, 36],\n",
              "        [50, 37, 35]],\n",
              "\n",
              "       [[53, 46, 43],\n",
              "        [55, 46, 43],\n",
              "        [57, 46, 42],\n",
              "        ...,\n",
              "        [60, 41, 38],\n",
              "        [61, 46, 44],\n",
              "        [58, 46, 44]],\n",
              "\n",
              "       [[55, 46, 43],\n",
              "        [55, 46, 43],\n",
              "        [58, 47, 43],\n",
              "        ...,\n",
              "        [61, 44, 41],\n",
              "        [55, 42, 40],\n",
              "        [55, 46, 43]],\n",
              "\n",
              "       ...,\n",
              "\n",
              "       [[55, 43, 39],\n",
              "        [55, 43, 39],\n",
              "        [53, 41, 37],\n",
              "        ...,\n",
              "        [52, 39, 37],\n",
              "        [53, 41, 37],\n",
              "        [53, 41, 37]],\n",
              "\n",
              "       [[57, 45, 41],\n",
              "        [56, 44, 40],\n",
              "        [54, 42, 38],\n",
              "        ...,\n",
              "        [51, 38, 36],\n",
              "        [54, 42, 38],\n",
              "        [54, 42, 38]],\n",
              "\n",
              "       [[58, 46, 42],\n",
              "        [56, 44, 40],\n",
              "        [55, 43, 39],\n",
              "        ...,\n",
              "        [51, 38, 36],\n",
              "        [53, 41, 37],\n",
              "        [53, 41, 37]]], dtype=uint8)"
            ]
          },
          "metadata": {}
        },
        {
          "output_type": "stream",
          "name": "stdout",
          "text": [
            "height = 900, width = 900"
          ]
        },
        {
          "output_type": "display_data",
          "data": {
            "text/plain": [
              "array([[[ 46,  75, 150],\n",
              "        [ 44,  84, 149],\n",
              "        [ 56, 106, 158],\n",
              "        ...,\n",
              "        [120, 177, 198],\n",
              "        [115, 173, 195],\n",
              "        [114, 174, 198]],\n",
              "\n",
              "       [[ 39,  71, 147],\n",
              "        [ 89, 144, 171],\n",
              "        [117, 180, 188],\n",
              "        ...,\n",
              "        [106, 166, 188],\n",
              "        [107, 167, 189],\n",
              "        [107, 167, 191]],\n",
              "\n",
              "       [[ 46,  83, 133],\n",
              "        [120, 180, 196],\n",
              "        [125, 189, 219],\n",
              "        ...,\n",
              "        [116, 180, 205],\n",
              "        [114, 178, 203],\n",
              "        [115, 182, 205]],\n",
              "\n",
              "       ...,\n",
              "\n",
              "       [[ 13,  17,  22],\n",
              "        [  4,  14,  21],\n",
              "        [  2,  11,  24],\n",
              "        ...,\n",
              "        [ 95, 146, 166],\n",
              "        [ 91, 145, 162],\n",
              "        [ 86, 144, 156]],\n",
              "\n",
              "       [[ 11,  14,  18],\n",
              "        [  6,  15,  24],\n",
              "        [ 10,  19,  28],\n",
              "        ...,\n",
              "        [106, 156, 174],\n",
              "        [104, 156, 172],\n",
              "        [104, 158, 169]],\n",
              "\n",
              "       [[ 13,  14,  18],\n",
              "        [  5,  11,  18],\n",
              "        [  6,  15,  24],\n",
              "        ...,\n",
              "        [ 81, 140, 156],\n",
              "        [ 83, 144, 158],\n",
              "        [ 87, 149, 159]]], dtype=uint8)"
            ]
          },
          "metadata": {}
        },
        {
          "output_type": "stream",
          "name": "stdout",
          "text": [
            "resized image shape = "
          ]
        },
        {
          "output_type": "display_data",
          "data": {
            "text/plain": [
              "'anomaly image'"
            ],
            "application/vnd.google.colaboratory.intrinsic+json": {
              "type": "string"
            }
          },
          "metadata": {}
        },
        {
          "output_type": "stream",
          "name": "stdout",
          "text": [
            "\n",
            " "
          ]
        },
        {
          "output_type": "display_data",
          "data": {
            "text/plain": [
              "'anomaly image'"
            ],
            "application/vnd.google.colaboratory.intrinsic+json": {
              "type": "string"
            }
          },
          "metadata": {}
        },
        {
          "output_type": "stream",
          "name": "stdout",
          "text": [
            "resized image shape = (256, 256, 3) \n",
            "/n########################################(256, 256, 3)\n",
            "\n"
          ]
        },
        {
          "output_type": "display_data",
          "data": {
            "text/plain": [
              "array([[[192, 184, 154],\n",
              "        [189, 181, 151],\n",
              "        [186, 178, 148],\n",
              "        ...,\n",
              "        [127, 136, 126],\n",
              "        [132, 141, 131],\n",
              "        [140, 149, 139]],\n",
              "\n",
              "       [[193, 185, 155],\n",
              "        [190, 182, 152],\n",
              "        [187, 179, 149],\n",
              "        ...,\n",
              "        [125, 133, 126],\n",
              "        [130, 139, 129],\n",
              "        [135, 143, 136]],\n",
              "\n",
              "       [[194, 186, 156],\n",
              "        [191, 183, 153],\n",
              "        [187, 179, 149],\n",
              "        ...,\n",
              "        [122, 129, 124],\n",
              "        [127, 135, 128],\n",
              "        [131, 138, 133]],\n",
              "\n",
              "       ...,\n",
              "\n",
              "       [[112, 110,  99],\n",
              "        [111, 109,  98],\n",
              "        [108, 106,  95],\n",
              "        ...,\n",
              "        [ 96, 107, 105],\n",
              "        [ 96, 107, 105],\n",
              "        [ 96, 106, 106]],\n",
              "\n",
              "       [[111, 109,  98],\n",
              "        [110, 108,  97],\n",
              "        [108, 106,  95],\n",
              "        ...,\n",
              "        [ 95, 106, 104],\n",
              "        [ 95, 106, 104],\n",
              "        [ 95, 106, 104]],\n",
              "\n",
              "       [[111, 109,  99],\n",
              "        [110, 108,  98],\n",
              "        [108, 106,  95],\n",
              "        ...,\n",
              "        [ 95, 106, 104],\n",
              "        [ 95, 106, 104],\n",
              "        [ 96, 104, 103]]], dtype=uint8)"
            ]
          },
          "metadata": {}
        },
        {
          "output_type": "stream",
          "name": "stdout",
          "text": [
            "/n########################################"
          ]
        },
        {
          "output_type": "display_data",
          "data": {
            "text/plain": [
              "'anomaly image'"
            ],
            "application/vnd.google.colaboratory.intrinsic+json": {
              "type": "string"
            }
          },
          "metadata": {}
        },
        {
          "output_type": "stream",
          "name": "stdout",
          "text": [
            "\n"
          ]
        },
        {
          "output_type": "display_data",
          "data": {
            "text/plain": [
              "array([[[216, 216, 216],\n",
              "        [204, 204, 204],\n",
              "        [213, 213, 213],\n",
              "        ...,\n",
              "        [119, 119, 119],\n",
              "        [116, 116, 116],\n",
              "        [124, 124, 124]],\n",
              "\n",
              "       [[164, 164, 164],\n",
              "        [183, 183, 183],\n",
              "        [198, 198, 198],\n",
              "        ...,\n",
              "        [119, 119, 119],\n",
              "        [144, 144, 144],\n",
              "        [150, 150, 150]],\n",
              "\n",
              "       [[157, 157, 157],\n",
              "        [173, 173, 173],\n",
              "        [184, 184, 184],\n",
              "        ...,\n",
              "        [141, 141, 141],\n",
              "        [129, 129, 129],\n",
              "        [129, 129, 129]],\n",
              "\n",
              "       ...,\n",
              "\n",
              "       [[ 97,  97,  97],\n",
              "        [103, 103, 103],\n",
              "        [111, 111, 111],\n",
              "        ...,\n",
              "        [ 51,  51,  51],\n",
              "        [ 48,  48,  48],\n",
              "        [ 48,  48,  48]],\n",
              "\n",
              "       [[ 93,  93,  93],\n",
              "        [ 97,  97,  97],\n",
              "        [116, 116, 116],\n",
              "        ...,\n",
              "        [ 51,  51,  51],\n",
              "        [ 48,  48,  48],\n",
              "        [ 48,  48,  48]],\n",
              "\n",
              "       [[ 89,  89,  89],\n",
              "        [ 86,  86,  86],\n",
              "        [112, 112, 112],\n",
              "        ...,\n",
              "        [ 48,  48,  48],\n",
              "        [ 48,  48,  48],\n",
              "        [ 48,  48,  48]]], dtype=uint8)"
            ]
          },
          "metadata": {}
        },
        {
          "output_type": "display_data",
          "data": {
            "text/plain": [
              "'anomaly image'"
            ],
            "application/vnd.google.colaboratory.intrinsic+json": {
              "type": "string"
            }
          },
          "metadata": {}
        },
        {
          "output_type": "stream",
          "name": "stdout",
          "text": [
            "height = 900, width = 900\n",
            "height = 900, width = 900resized image shape = height = 900, width = 900height = 900, width = 900\n",
            "\n",
            " resized image shape = \n",
            "(256, 256, 3)resized image shape = \n",
            "resized image shape =   /n########################################(256, 256, 3) (256, 256, 3)(256, 256, 3)\n",
            "height = 900, width = 900\n",
            "\n",
            "\n",
            "/n########################################\n",
            "/n########################################/n########################################\n",
            "resized image shape = \n"
          ]
        },
        {
          "output_type": "display_data",
          "data": {
            "text/plain": [
              "array([[[  6,  40, 184],\n",
              "        [ 14,  47, 187],\n",
              "        [ 11,  39, 177],\n",
              "        ...,\n",
              "        [  8,  33, 159],\n",
              "        [ 10,  33, 155],\n",
              "        [ 13,  34, 156]],\n",
              "\n",
              "       [[ 10,  45, 185],\n",
              "        [ 16,  50, 187],\n",
              "        [ 10,  40, 171],\n",
              "        ...,\n",
              "        [  9,  37, 162],\n",
              "        [  5,  29, 151],\n",
              "        [  2,  25, 147]],\n",
              "\n",
              "       [[ 11,  50, 179],\n",
              "        [ 14,  51, 179],\n",
              "        [  8,  41, 164],\n",
              "        ...,\n",
              "        [  6,  38, 163],\n",
              "        [  2,  30, 154],\n",
              "        [  0,  27, 148]],\n",
              "\n",
              "       ...,\n",
              "\n",
              "       [[  0,  39, 155],\n",
              "        [  0,  39, 152],\n",
              "        [  2,  37, 154],\n",
              "        ...,\n",
              "        [  0,  23, 128],\n",
              "        [  0,  24, 128],\n",
              "        [  0,  26, 130]],\n",
              "\n",
              "       [[  3,  41, 159],\n",
              "        [  2,  41, 157],\n",
              "        [  5,  39, 158],\n",
              "        ...,\n",
              "        [  0,  25, 124],\n",
              "        [  0,  26, 124],\n",
              "        [  0,  29, 127]],\n",
              "\n",
              "       [[  5,  42, 162],\n",
              "        [  4,  42, 160],\n",
              "        [  7,  41, 161],\n",
              "        ...,\n",
              "        [  5,  33, 127],\n",
              "        [  3,  32, 123],\n",
              "        [  0,  28, 122]]], dtype=uint8)"
            ]
          },
          "metadata": {}
        },
        {
          "output_type": "stream",
          "name": "stdout",
          "text": [
            "\n",
            " "
          ]
        },
        {
          "output_type": "display_data",
          "data": {
            "text/plain": [
              "'anomaly image'"
            ],
            "application/vnd.google.colaboratory.intrinsic+json": {
              "type": "string"
            }
          },
          "metadata": {}
        },
        {
          "output_type": "display_data",
          "data": {
            "text/plain": [
              "array([[[  0,  14,   7],\n",
              "        [  0,  12,   5],\n",
              "        [  0,   9,   5],\n",
              "        ...,\n",
              "        [118, 154, 170],\n",
              "        [128, 166, 178],\n",
              "        [133, 172, 181]],\n",
              "\n",
              "       [[  6,  23,  19],\n",
              "        [  3,  20,  16],\n",
              "        [  1,  16,  12],\n",
              "        ...,\n",
              "        [117, 153, 169],\n",
              "        [131, 169, 181],\n",
              "        [137, 176, 185]],\n",
              "\n",
              "       [[ 22,  41,  38],\n",
              "        [ 17,  36,  33],\n",
              "        [  9,  28,  25],\n",
              "        ...,\n",
              "        [113, 149, 165],\n",
              "        [131, 169, 181],\n",
              "        [143, 179, 189]],\n",
              "\n",
              "       ...,\n",
              "\n",
              "       [[ 26,  63,  89],\n",
              "        [ 45,  86, 111],\n",
              "        [ 62, 114, 137],\n",
              "        ...,\n",
              "        [ 15,  37,  62],\n",
              "        [ 32,  56,  80],\n",
              "        [ 41,  64,  90]],\n",
              "\n",
              "       [[ 26,  61,  87],\n",
              "        [ 43,  84, 109],\n",
              "        [ 63, 113, 136],\n",
              "        ...,\n",
              "        [  7,  25,  48],\n",
              "        [ 20,  40,  65],\n",
              "        [ 25,  46,  73]],\n",
              "\n",
              "       [[ 28,  62,  86],\n",
              "        [ 44,  82, 106],\n",
              "        [ 63, 110, 132],\n",
              "        ...,\n",
              "        [  4,  16,  40],\n",
              "        [ 10,  25,  51],\n",
              "        [ 12,  31,  58]]], dtype=uint8)"
            ]
          },
          "metadata": {}
        },
        {
          "output_type": "stream",
          "name": "stdout",
          "text": [
            "(256, 256, 3)"
          ]
        },
        {
          "output_type": "display_data",
          "data": {
            "text/plain": [
              "'anomaly image'"
            ],
            "application/vnd.google.colaboratory.intrinsic+json": {
              "type": "string"
            }
          },
          "metadata": {}
        },
        {
          "output_type": "display_data",
          "data": {
            "text/plain": [
              "array([[[121, 130, 139],\n",
              "        [128, 137, 146],\n",
              "        [140, 149, 158],\n",
              "        ...,\n",
              "        [172, 178, 183],\n",
              "        [161, 167, 172],\n",
              "        [155, 163, 170]],\n",
              "\n",
              "       [[134, 143, 152],\n",
              "        [137, 146, 155],\n",
              "        [143, 152, 161],\n",
              "        ...,\n",
              "        [170, 176, 181],\n",
              "        [158, 164, 169],\n",
              "        [155, 163, 170]],\n",
              "\n",
              "       [[140, 149, 158],\n",
              "        [142, 151, 160],\n",
              "        [149, 158, 167],\n",
              "        ...,\n",
              "        [160, 166, 171],\n",
              "        [151, 157, 162],\n",
              "        [150, 158, 165]],\n",
              "\n",
              "       ...,\n",
              "\n",
              "       [[ 60,  58,  58],\n",
              "        [ 82,  80,  80],\n",
              "        [ 98,  95,  97],\n",
              "        ...,\n",
              "        [ 42,  41,  61],\n",
              "        [ 38,  39,  59],\n",
              "        [ 59,  62,  77]],\n",
              "\n",
              "       [[ 65,  60,  61],\n",
              "        [ 85,  80,  81],\n",
              "        [ 97,  95,  95],\n",
              "        ...,\n",
              "        [ 54,  52,  74],\n",
              "        [ 50,  51,  72],\n",
              "        [ 64,  66,  84]],\n",
              "\n",
              "       [[ 76,  71,  72],\n",
              "        [ 93,  88,  89],\n",
              "        [101,  99,  99],\n",
              "        ...,\n",
              "        [ 67,  65,  87],\n",
              "        [ 68,  69,  90],\n",
              "        [ 58,  60,  78]]], dtype=uint8)"
            ]
          },
          "metadata": {}
        },
        {
          "output_type": "stream",
          "name": "stdout",
          "text": [
            "\n"
          ]
        },
        {
          "output_type": "display_data",
          "data": {
            "text/plain": [
              "'anomaly image'"
            ],
            "application/vnd.google.colaboratory.intrinsic+json": {
              "type": "string"
            }
          },
          "metadata": {}
        },
        {
          "output_type": "stream",
          "name": "stdout",
          "text": [
            "height = 900, width = 900/n########################################"
          ]
        },
        {
          "output_type": "display_data",
          "data": {
            "text/plain": [
              "array([[[ 53,  67,  89],\n",
              "        [115, 132, 153],\n",
              "        [ 48,  66,  89],\n",
              "        ...,\n",
              "        [ 95, 114, 135],\n",
              "        [ 88, 107, 128],\n",
              "        [104, 123, 144]],\n",
              "\n",
              "       [[111, 128, 149],\n",
              "        [ 65,  84, 105],\n",
              "        [124, 145, 167],\n",
              "        ...,\n",
              "        [ 80,  99, 120],\n",
              "        [114, 133, 154],\n",
              "        [120, 139, 160]],\n",
              "\n",
              "       [[ 88, 112, 132],\n",
              "        [ 92, 117, 137],\n",
              "        [126, 153, 174],\n",
              "        ...,\n",
              "        [ 85, 104, 125],\n",
              "        [102, 121, 142],\n",
              "        [ 70,  89, 110]],\n",
              "\n",
              "       ...,\n",
              "\n",
              "       [[123, 143, 161],\n",
              "        [105, 125, 142],\n",
              "        [109, 129, 147],\n",
              "        ...,\n",
              "        [ 84, 107, 129],\n",
              "        [107, 130, 152],\n",
              "        [114, 137, 159]],\n",
              "\n",
              "       [[109, 123, 141],\n",
              "        [119, 135, 151],\n",
              "        [111, 127, 144],\n",
              "        ...,\n",
              "        [ 86, 110, 130],\n",
              "        [ 94, 118, 138],\n",
              "        [137, 158, 179]],\n",
              "\n",
              "       [[111, 124, 140],\n",
              "        [123, 136, 152],\n",
              "        [116, 131, 147],\n",
              "        ...,\n",
              "        [ 77, 102, 122],\n",
              "        [ 83, 104, 125],\n",
              "        [120, 141, 162]]], dtype=uint8)"
            ]
          },
          "metadata": {}
        },
        {
          "output_type": "stream",
          "name": "stdout",
          "text": [
            "\n",
            "\n"
          ]
        },
        {
          "output_type": "display_data",
          "data": {
            "text/plain": [
              "'anomaly image'"
            ],
            "application/vnd.google.colaboratory.intrinsic+json": {
              "type": "string"
            }
          },
          "metadata": {}
        },
        {
          "output_type": "stream",
          "name": "stdout",
          "text": [
            "resized image shape = "
          ]
        },
        {
          "output_type": "display_data",
          "data": {
            "text/plain": [
              "array([[[171, 151, 198],\n",
              "        [169, 149, 196],\n",
              "        [164, 144, 191],\n",
              "        ...,\n",
              "        [171, 162, 195],\n",
              "        [170, 161, 194],\n",
              "        [169, 159, 195]],\n",
              "\n",
              "       [[169, 149, 196],\n",
              "        [164, 144, 191],\n",
              "        [161, 141, 188],\n",
              "        ...,\n",
              "        [173, 164, 197],\n",
              "        [172, 163, 196],\n",
              "        [171, 161, 197]],\n",
              "\n",
              "       [[169, 148, 197],\n",
              "        [159, 138, 187],\n",
              "        [157, 136, 185],\n",
              "        ...,\n",
              "        [176, 164, 200],\n",
              "        [174, 162, 198],\n",
              "        [172, 160, 196]],\n",
              "\n",
              "       ...,\n",
              "\n",
              "       [[222, 214, 225],\n",
              "        [222, 214, 224],\n",
              "        [222, 214, 225],\n",
              "        ...,\n",
              "        [121, 100, 179],\n",
              "        [121, 100, 179],\n",
              "        [121, 100, 179]],\n",
              "\n",
              "       [[223, 216, 223],\n",
              "        [223, 216, 223],\n",
              "        [223, 216, 223],\n",
              "        ...,\n",
              "        [122, 101, 180],\n",
              "        [121, 100, 179],\n",
              "        [121, 100, 179]],\n",
              "\n",
              "       [[224, 218, 223],\n",
              "        [224, 218, 223],\n",
              "        [224, 218, 223],\n",
              "        ...,\n",
              "        [123, 102, 181],\n",
              "        [122, 101, 180],\n",
              "        [121, 100, 179]]], dtype=uint8)"
            ]
          },
          "metadata": {}
        },
        {
          "output_type": "stream",
          "name": "stdout",
          "text": [
            " (256, 256, 3)"
          ]
        },
        {
          "output_type": "display_data",
          "data": {
            "text/plain": [
              "'anomaly image'"
            ],
            "application/vnd.google.colaboratory.intrinsic+json": {
              "type": "string"
            }
          },
          "metadata": {}
        },
        {
          "output_type": "stream",
          "name": "stdout",
          "text": [
            "\n",
            "/n########################################\n"
          ]
        },
        {
          "output_type": "display_data",
          "data": {
            "text/plain": [
              "array([[[ 49,  26,  31],\n",
              "        [ 44,  21,  26],\n",
              "        [ 35,  13,  18],\n",
              "        ...,\n",
              "        [162, 166, 167],\n",
              "        [148, 152, 153],\n",
              "        [143, 147, 148]],\n",
              "\n",
              "       [[ 46,  23,  28],\n",
              "        [ 42,  20,  25],\n",
              "        [ 36,  14,  19],\n",
              "        ...,\n",
              "        [159, 163, 164],\n",
              "        [151, 155, 156],\n",
              "        [155, 159, 160]],\n",
              "\n",
              "       [[ 77,  55,  60],\n",
              "        [ 76,  54,  59],\n",
              "        [ 74,  52,  57],\n",
              "        ...,\n",
              "        [162, 167, 168],\n",
              "        [156, 161, 162],\n",
              "        [159, 164, 165]],\n",
              "\n",
              "       ...,\n",
              "\n",
              "       [[ 91,  70,  79],\n",
              "        [ 99,  78,  87],\n",
              "        [ 99,  78,  86],\n",
              "        ...,\n",
              "        [106, 104, 104],\n",
              "        [103, 101, 101],\n",
              "        [103, 101, 101]],\n",
              "\n",
              "       [[ 90,  69,  78],\n",
              "        [ 98,  77,  86],\n",
              "        [ 98,  77,  85],\n",
              "        ...,\n",
              "        [132, 130, 130],\n",
              "        [128, 126, 126],\n",
              "        [128, 126, 126]],\n",
              "\n",
              "       [[ 90,  69,  78],\n",
              "        [ 98,  77,  86],\n",
              "        [ 97,  76,  84],\n",
              "        ...,\n",
              "        [157, 155, 155],\n",
              "        [153, 151, 151],\n",
              "        [152, 150, 150]]], dtype=uint8)"
            ]
          },
          "metadata": {}
        },
        {
          "output_type": "stream",
          "name": "stdout",
          "text": [
            "height = 900, width = 900"
          ]
        },
        {
          "output_type": "display_data",
          "data": {
            "text/plain": [
              "'anomaly image'"
            ],
            "application/vnd.google.colaboratory.intrinsic+json": {
              "type": "string"
            }
          },
          "metadata": {}
        },
        {
          "output_type": "stream",
          "name": "stdout",
          "text": [
            "\n",
            "resized image shape = height = 900, width = 900 \n",
            "resized image shape = (256, 256, 3)height = 900, width = 900height = 900, width = 900\n",
            " height = 900, width = 900\n",
            "\n",
            "/n########################################height = 900, width = 900(256, 256, 3)height = 900, width = 900\n",
            "\n",
            "resized image shape = resized image shape = height = 900, width = 900\n",
            "\n",
            "\n",
            "\n",
            "resized image shape =  resized image shape =  /n########################################resized image shape = resized image shape =  \n",
            "(256, 256, 3) (256, 256, 3)  (256, 256, 3)\n",
            "(256, 256, 3)(256, 256, 3)(256, 256, 3)\n",
            "/n########################################\n",
            "\n",
            "\n",
            "/n########################################\n",
            "\n",
            "/n########################################/n########################################\n",
            "/n########################################/n########################################\n"
          ]
        },
        {
          "output_type": "display_data",
          "data": {
            "text/plain": [
              "array([[[  0,   0,   0],\n",
              "        [  0,   0,   0],\n",
              "        [  0,   0,   0],\n",
              "        ...,\n",
              "        [ 13,  13,  13],\n",
              "        [  3,   3,   3],\n",
              "        [  1,   1,   1]],\n",
              "\n",
              "       [[ 60,  60,  60],\n",
              "        [ 56,  56,  56],\n",
              "        [ 56,  56,  56],\n",
              "        ...,\n",
              "        [  8,   8,   8],\n",
              "        [  0,   0,   0],\n",
              "        [ 18,  18,  18]],\n",
              "\n",
              "       [[176, 176, 176],\n",
              "        [207, 207, 207],\n",
              "        [240, 240, 240],\n",
              "        ...,\n",
              "        [ 83,  83,  83],\n",
              "        [  8,   8,   8],\n",
              "        [  8,   8,   8]],\n",
              "\n",
              "       ...,\n",
              "\n",
              "       [[  7,   7,   7],\n",
              "        [  0,   0,   0],\n",
              "        [  4,   4,   4],\n",
              "        ...,\n",
              "        [  0,   0,   0],\n",
              "        [  8,   8,   8],\n",
              "        [ 19,  19,  19]],\n",
              "\n",
              "       [[ 10,  10,  10],\n",
              "        [  2,   2,   2],\n",
              "        [  2,   2,   2],\n",
              "        ...,\n",
              "        [  5,   5,   5],\n",
              "        [  3,   3,   3],\n",
              "        [  7,   7,   7]],\n",
              "\n",
              "       [[  2,   2,   2],\n",
              "        [  5,   5,   5],\n",
              "        [ 11,  11,  11],\n",
              "        ...,\n",
              "        [  8,   8,   8],\n",
              "        [  9,   9,   9],\n",
              "        [  1,   1,   1]]], dtype=uint8)"
            ]
          },
          "metadata": {}
        },
        {
          "output_type": "stream",
          "name": "stdout",
          "text": [
            "\n",
            "\n"
          ]
        },
        {
          "output_type": "display_data",
          "data": {
            "text/plain": [
              "'anomaly image'"
            ],
            "application/vnd.google.colaboratory.intrinsic+json": {
              "type": "string"
            }
          },
          "metadata": {}
        },
        {
          "output_type": "stream",
          "name": "stdout",
          "text": [
            "\n"
          ]
        },
        {
          "output_type": "display_data",
          "data": {
            "text/plain": [
              "array([[[253, 251, 243],\n",
              "        [253, 251, 243],\n",
              "        [254, 252, 244],\n",
              "        ...,\n",
              "        [255, 255, 249],\n",
              "        [255, 255, 249],\n",
              "        [255, 255, 248]],\n",
              "\n",
              "       [[255, 255, 250],\n",
              "        [255, 255, 248],\n",
              "        [255, 255, 250],\n",
              "        ...,\n",
              "        [253, 253, 247],\n",
              "        [253, 253, 247],\n",
              "        [254, 254, 248]],\n",
              "\n",
              "       [[253, 252, 248],\n",
              "        [252, 252, 246],\n",
              "        [251, 250, 246],\n",
              "        ...,\n",
              "        [255, 255, 252],\n",
              "        [255, 255, 252],\n",
              "        [255, 255, 252]],\n",
              "\n",
              "       ...,\n",
              "\n",
              "       [[ 60,  49,  65],\n",
              "        [ 64,  54,  70],\n",
              "        [ 71,  61,  74],\n",
              "        ...,\n",
              "        [ 52,  71, 108],\n",
              "        [ 59,  78, 111],\n",
              "        [ 78,  96, 127]],\n",
              "\n",
              "       [[ 60,  46,  64],\n",
              "        [ 57,  46,  62],\n",
              "        [ 63,  50,  64],\n",
              "        ...,\n",
              "        [ 58,  77, 115],\n",
              "        [ 58,  76, 113],\n",
              "        [ 59,  75, 112]],\n",
              "\n",
              "       [[ 59,  45,  63],\n",
              "        [ 56,  43,  59],\n",
              "        [ 56,  43,  59],\n",
              "        ...,\n",
              "        [ 58,  76, 117],\n",
              "        [ 58,  75, 114],\n",
              "        [ 59,  74, 113]]], dtype=uint8)"
            ]
          },
          "metadata": {}
        },
        {
          "output_type": "display_data",
          "data": {
            "text/plain": [
              "array([[[ 33, 128,  84],\n",
              "        [ 37, 129,  86],\n",
              "        [ 39, 129,  86],\n",
              "        ...,\n",
              "        [ 11, 138,  82],\n",
              "        [  8, 135,  80],\n",
              "        [  7, 134,  79]],\n",
              "\n",
              "       [[ 39, 131,  88],\n",
              "        [ 46, 136,  93],\n",
              "        [ 53, 139,  97],\n",
              "        ...,\n",
              "        [  8, 135,  80],\n",
              "        [  6, 133,  78],\n",
              "        [  4, 131,  76]],\n",
              "\n",
              "       [[ 53, 140,  96],\n",
              "        [ 59, 144, 100],\n",
              "        [ 67, 147, 104],\n",
              "        ...,\n",
              "        [  7, 131,  77],\n",
              "        [  4, 131,  76],\n",
              "        [  0, 127,  72]],\n",
              "\n",
              "       ...,\n",
              "\n",
              "       [[ 65, 114,  86],\n",
              "        [ 60, 109,  81],\n",
              "        [ 59, 107,  81],\n",
              "        ...,\n",
              "        [100, 102, 103],\n",
              "        [ 95,  97,  98],\n",
              "        [ 96,  98,  99]],\n",
              "\n",
              "       [[ 66, 117,  90],\n",
              "        [ 60, 111,  84],\n",
              "        [ 59, 109,  85],\n",
              "        ...,\n",
              "        [100, 102, 103],\n",
              "        [103, 105, 106],\n",
              "        [106, 108, 109]],\n",
              "\n",
              "       [[ 64, 115,  88],\n",
              "        [ 60, 111,  84],\n",
              "        [ 58, 108,  84],\n",
              "        ...,\n",
              "        [ 93,  95,  96],\n",
              "        [ 94,  96,  97],\n",
              "        [ 90,  92,  93]]], dtype=uint8)"
            ]
          },
          "metadata": {}
        },
        {
          "output_type": "display_data",
          "data": {
            "text/plain": [
              "array([[[ 92,  84,  95],\n",
              "        [ 95,  87,  98],\n",
              "        [ 88,  80,  91],\n",
              "        ...,\n",
              "        [203, 199, 198],\n",
              "        [199, 195, 194],\n",
              "        [200, 196, 195]],\n",
              "\n",
              "       [[105,  97, 108],\n",
              "        [107,  99, 110],\n",
              "        [104,  96, 107],\n",
              "        ...,\n",
              "        [200, 196, 195],\n",
              "        [196, 192, 191],\n",
              "        [204, 200, 199]],\n",
              "\n",
              "       [[120, 112, 123],\n",
              "        [119, 111, 122],\n",
              "        [122, 114, 125],\n",
              "        ...,\n",
              "        [193, 191, 190],\n",
              "        [193, 191, 190],\n",
              "        [204, 202, 201]],\n",
              "\n",
              "       ...,\n",
              "\n",
              "       [[ 67,  67,  67],\n",
              "        [ 67,  67,  67],\n",
              "        [ 67,  66,  68],\n",
              "        ...,\n",
              "        [ 55,  51,  70],\n",
              "        [ 49,  45,  64],\n",
              "        [ 42,  38,  57]],\n",
              "\n",
              "       [[ 61,  61,  61],\n",
              "        [ 63,  63,  63],\n",
              "        [ 65,  64,  66],\n",
              "        ...,\n",
              "        [ 67,  63,  82],\n",
              "        [ 66,  62,  81],\n",
              "        [ 59,  55,  74]],\n",
              "\n",
              "       [[ 54,  53,  55],\n",
              "        [ 58,  57,  59],\n",
              "        [ 62,  61,  65],\n",
              "        ...,\n",
              "        [ 76,  72,  91],\n",
              "        [ 81,  77,  96],\n",
              "        [ 74,  70,  89]]], dtype=uint8)"
            ]
          },
          "metadata": {}
        },
        {
          "output_type": "display_data",
          "data": {
            "text/plain": [
              "'anomaly image'"
            ],
            "application/vnd.google.colaboratory.intrinsic+json": {
              "type": "string"
            }
          },
          "metadata": {}
        },
        {
          "output_type": "display_data",
          "data": {
            "text/plain": [
              "'anomaly image'"
            ],
            "application/vnd.google.colaboratory.intrinsic+json": {
              "type": "string"
            }
          },
          "metadata": {}
        },
        {
          "output_type": "display_data",
          "data": {
            "text/plain": [
              "array([[[255, 253, 252],\n",
              "        [255, 253, 252],\n",
              "        [255, 253, 252],\n",
              "        ...,\n",
              "        [255, 253, 252],\n",
              "        [255, 253, 252],\n",
              "        [255, 253, 252]],\n",
              "\n",
              "       [[255, 253, 252],\n",
              "        [255, 253, 252],\n",
              "        [255, 253, 252],\n",
              "        ...,\n",
              "        [255, 253, 252],\n",
              "        [255, 253, 252],\n",
              "        [255, 253, 252]],\n",
              "\n",
              "       [[255, 253, 252],\n",
              "        [255, 253, 252],\n",
              "        [255, 253, 252],\n",
              "        ...,\n",
              "        [255, 253, 252],\n",
              "        [255, 253, 252],\n",
              "        [255, 253, 252]],\n",
              "\n",
              "       ...,\n",
              "\n",
              "       [[ 13,  46,  32],\n",
              "        [  6,  33,  24],\n",
              "        [  3,  24,  22],\n",
              "        ...,\n",
              "        [ 48,  30,   7],\n",
              "        [ 34,  25,  11],\n",
              "        [ 49,  35,  12]],\n",
              "\n",
              "       [[ 12,  36,  24],\n",
              "        [  4,  26,  21],\n",
              "        [  2,  22,  23],\n",
              "        ...,\n",
              "        [ 43,  36,   9],\n",
              "        [ 37,  30,  15],\n",
              "        [ 60,  36,  14]],\n",
              "\n",
              "       [[ 12,  32,  20],\n",
              "        [  6,  23,  20],\n",
              "        [  5,  22,  25],\n",
              "        ...,\n",
              "        [ 35,  37,   7],\n",
              "        [ 44,  37,  20],\n",
              "        [ 57,  26,   5]]], dtype=uint8)"
            ]
          },
          "metadata": {}
        },
        {
          "output_type": "display_data",
          "data": {
            "text/plain": [
              "array([[[117, 123, 118],\n",
              "        [117, 123, 118],\n",
              "        [117, 123, 118],\n",
              "        ...,\n",
              "        [151, 222, 242],\n",
              "        [143, 214, 234],\n",
              "        [141, 214, 234]],\n",
              "\n",
              "       [[117, 123, 118],\n",
              "        [117, 123, 118],\n",
              "        [117, 123, 118],\n",
              "        ...,\n",
              "        [146, 215, 235],\n",
              "        [136, 207, 227],\n",
              "        [139, 210, 230]],\n",
              "\n",
              "       [[117, 123, 118],\n",
              "        [117, 123, 118],\n",
              "        [117, 123, 118],\n",
              "        ...,\n",
              "        [156, 223, 246],\n",
              "        [153, 220, 243],\n",
              "        [151, 218, 241]],\n",
              "\n",
              "       ...,\n",
              "\n",
              "       [[ 70,  94,  94],\n",
              "        [ 71,  95,  95],\n",
              "        [ 73,  92,  95],\n",
              "        ...,\n",
              "        [137, 150, 152],\n",
              "        [135, 148, 150],\n",
              "        [134, 147, 149]],\n",
              "\n",
              "       [[ 78,  99, 100],\n",
              "        [ 78,  99, 100],\n",
              "        [ 76,  95,  98],\n",
              "        ...,\n",
              "        [137, 150, 152],\n",
              "        [135, 148, 150],\n",
              "        [134, 147, 149]],\n",
              "\n",
              "       [[ 83, 102, 105],\n",
              "        [ 81, 100, 103],\n",
              "        [ 80,  97, 100],\n",
              "        ...,\n",
              "        [137, 150, 152],\n",
              "        [135, 148, 150],\n",
              "        [134, 147, 149]]], dtype=uint8)"
            ]
          },
          "metadata": {}
        },
        {
          "output_type": "display_data",
          "data": {
            "text/plain": [
              "'anomaly image'"
            ],
            "application/vnd.google.colaboratory.intrinsic+json": {
              "type": "string"
            }
          },
          "metadata": {}
        },
        {
          "output_type": "stream",
          "name": "stdout",
          "text": [
            "height = 900, width = 900"
          ]
        },
        {
          "output_type": "display_data",
          "data": {
            "text/plain": [
              "'anomaly image'"
            ],
            "application/vnd.google.colaboratory.intrinsic+json": {
              "type": "string"
            }
          },
          "metadata": {}
        },
        {
          "output_type": "stream",
          "name": "stdout",
          "text": [
            "\n"
          ]
        },
        {
          "output_type": "display_data",
          "data": {
            "text/plain": [
              "array([[[ 23,  35,  53],\n",
              "        [ 23,  35,  53],\n",
              "        [ 22,  34,  52],\n",
              "        ...,\n",
              "        [ 56,  82, 119],\n",
              "        [ 59,  85, 122],\n",
              "        [ 61,  87, 124]],\n",
              "\n",
              "       [[ 24,  36,  54],\n",
              "        [ 23,  35,  53],\n",
              "        [ 23,  35,  53],\n",
              "        ...,\n",
              "        [ 56,  82, 119],\n",
              "        [ 58,  84, 121],\n",
              "        [ 61,  87, 124]],\n",
              "\n",
              "       [[ 25,  37,  55],\n",
              "        [ 24,  36,  54],\n",
              "        [ 24,  36,  54],\n",
              "        ...,\n",
              "        [ 55,  81, 118],\n",
              "        [ 58,  84, 121],\n",
              "        [ 60,  86, 123]],\n",
              "\n",
              "       ...,\n",
              "\n",
              "       [[ 94,  94,  40],\n",
              "        [ 95,  95,  41],\n",
              "        [ 95,  95,  41],\n",
              "        ...,\n",
              "        [152, 152, 152],\n",
              "        [156, 156, 156],\n",
              "        [156, 156, 156]],\n",
              "\n",
              "       [[ 94,  94,  40],\n",
              "        [ 93,  93,  39],\n",
              "        [ 93,  93,  39],\n",
              "        ...,\n",
              "        [153, 153, 153],\n",
              "        [153, 153, 153],\n",
              "        [151, 151, 151]],\n",
              "\n",
              "       [[ 94,  94,  40],\n",
              "        [ 93,  93,  39],\n",
              "        [ 93,  93,  39],\n",
              "        ...,\n",
              "        [153, 153, 153],\n",
              "        [153, 153, 153],\n",
              "        [151, 151, 151]]], dtype=uint8)"
            ]
          },
          "metadata": {}
        },
        {
          "output_type": "display_data",
          "data": {
            "text/plain": [
              "array([[[ 33, 128,  84],\n",
              "        [ 37, 129,  86],\n",
              "        [ 39, 129,  86],\n",
              "        ...,\n",
              "        [ 11, 138,  82],\n",
              "        [  8, 135,  80],\n",
              "        [  7, 134,  79]],\n",
              "\n",
              "       [[ 39, 131,  88],\n",
              "        [ 46, 136,  93],\n",
              "        [ 53, 139,  97],\n",
              "        ...,\n",
              "        [  8, 135,  80],\n",
              "        [  6, 133,  78],\n",
              "        [  4, 131,  76]],\n",
              "\n",
              "       [[ 53, 140,  96],\n",
              "        [ 59, 144, 100],\n",
              "        [ 67, 147, 104],\n",
              "        ...,\n",
              "        [  7, 131,  77],\n",
              "        [  4, 131,  76],\n",
              "        [  0, 127,  72]],\n",
              "\n",
              "       ...,\n",
              "\n",
              "       [[ 65, 114,  86],\n",
              "        [ 60, 109,  81],\n",
              "        [ 59, 107,  81],\n",
              "        ...,\n",
              "        [100, 102, 103],\n",
              "        [ 95,  97,  98],\n",
              "        [ 96,  98,  99]],\n",
              "\n",
              "       [[ 66, 117,  90],\n",
              "        [ 60, 111,  84],\n",
              "        [ 59, 109,  85],\n",
              "        ...,\n",
              "        [100, 102, 103],\n",
              "        [103, 105, 106],\n",
              "        [106, 108, 109]],\n",
              "\n",
              "       [[ 64, 115,  88],\n",
              "        [ 60, 111,  84],\n",
              "        [ 58, 108,  84],\n",
              "        ...,\n",
              "        [ 93,  95,  96],\n",
              "        [ 94,  96,  97],\n",
              "        [ 90,  92,  93]]], dtype=uint8)"
            ]
          },
          "metadata": {}
        },
        {
          "output_type": "stream",
          "name": "stdout",
          "text": [
            "resized image shape = "
          ]
        },
        {
          "output_type": "display_data",
          "data": {
            "text/plain": [
              "'anomaly image'"
            ],
            "application/vnd.google.colaboratory.intrinsic+json": {
              "type": "string"
            }
          },
          "metadata": {}
        },
        {
          "output_type": "display_data",
          "data": {
            "text/plain": [
              "'anomaly image'"
            ],
            "application/vnd.google.colaboratory.intrinsic+json": {
              "type": "string"
            }
          },
          "metadata": {}
        },
        {
          "output_type": "stream",
          "name": "stdout",
          "text": [
            " "
          ]
        },
        {
          "output_type": "display_data",
          "data": {
            "text/plain": [
              "'anomaly image'"
            ],
            "application/vnd.google.colaboratory.intrinsic+json": {
              "type": "string"
            }
          },
          "metadata": {}
        },
        {
          "output_type": "stream",
          "name": "stdout",
          "text": [
            "(256, 256, 3)\n",
            "/n########################################\n"
          ]
        },
        {
          "output_type": "display_data",
          "data": {
            "text/plain": [
              "array([[[101, 103, 103],\n",
              "        [100, 101, 105],\n",
              "        [111, 114, 118],\n",
              "        ...,\n",
              "        [120, 125, 128],\n",
              "        [118, 123, 126],\n",
              "        [138, 143, 146]],\n",
              "\n",
              "       [[ 76,  75,  79],\n",
              "        [ 92,  90,  96],\n",
              "        [118, 119, 123],\n",
              "        ...,\n",
              "        [117, 121, 126],\n",
              "        [115, 119, 124],\n",
              "        [140, 145, 148]],\n",
              "\n",
              "       [[ 76,  68,  78],\n",
              "        [ 90,  85,  94],\n",
              "        [117, 116, 120],\n",
              "        ...,\n",
              "        [108, 111, 116],\n",
              "        [108, 111, 116],\n",
              "        [147, 150, 154]],\n",
              "\n",
              "       ...,\n",
              "\n",
              "       [[145, 143, 142],\n",
              "        [108, 104, 103],\n",
              "        [117, 114, 110],\n",
              "        ...,\n",
              "        [129, 107,  96],\n",
              "        [117,  96,  81],\n",
              "        [154, 138, 126]],\n",
              "\n",
              "       [[141, 139, 138],\n",
              "        [104, 100,  99],\n",
              "        [114, 111, 107],\n",
              "        ...,\n",
              "        [125, 103,  91],\n",
              "        [119,  99,  82],\n",
              "        [154, 138, 126]],\n",
              "\n",
              "       [[144, 142, 141],\n",
              "        [106, 102, 101],\n",
              "        [116, 113, 109],\n",
              "        ...,\n",
              "        [126, 102,  90],\n",
              "        [120, 100,  83],\n",
              "        [151, 135, 123]]], dtype=uint8)"
            ]
          },
          "metadata": {}
        },
        {
          "output_type": "display_data",
          "data": {
            "text/plain": [
              "'anomaly image'"
            ],
            "application/vnd.google.colaboratory.intrinsic+json": {
              "type": "string"
            }
          },
          "metadata": {}
        },
        {
          "output_type": "stream",
          "name": "stdout",
          "text": [
            "height = 900, width = 900height = 900, width = 900\n",
            "\n",
            "resized image shape = resized image shape = height = 900, width = 900 \n",
            " (256, 256, 3)height = 900, width = 900(256, 256, 3)\n",
            "resized image shape = \n",
            " \n",
            "/n########################################resized image shape = (256, 256, 3)/n########################################\n",
            " \n",
            "\n",
            "(256, 256, 3)"
          ]
        },
        {
          "output_type": "display_data",
          "data": {
            "text/plain": [
              "array([[[126, 140, 162],\n",
              "        [127, 141, 163],\n",
              "        [127, 141, 163],\n",
              "        ...,\n",
              "        [  2,  15,   1],\n",
              "        [  2,  15,   1],\n",
              "        [  2,  15,   1]],\n",
              "\n",
              "       [[126, 140, 162],\n",
              "        [127, 141, 163],\n",
              "        [127, 141, 163],\n",
              "        ...,\n",
              "        [  2,  15,   1],\n",
              "        [  2,  15,   1],\n",
              "        [  2,  15,   1]],\n",
              "\n",
              "       [[127, 140, 162],\n",
              "        [128, 141, 163],\n",
              "        [128, 141, 163],\n",
              "        ...,\n",
              "        [  2,  15,   1],\n",
              "        [  2,  15,   1],\n",
              "        [  2,  15,   1]],\n",
              "\n",
              "       ...,\n",
              "\n",
              "       [[ 38,  66,  90],\n",
              "        [ 39,  67,  91],\n",
              "        [ 40,  68,  92],\n",
              "        ...,\n",
              "        [  0,   1,   5],\n",
              "        [  4,   6,   7],\n",
              "        [  5,   7,   8]],\n",
              "\n",
              "       [[ 38,  66,  90],\n",
              "        [ 38,  66,  90],\n",
              "        [ 39,  67,  91],\n",
              "        ...,\n",
              "        [  0,   0,   3],\n",
              "        [  0,   0,   1],\n",
              "        [  1,   3,   4]],\n",
              "\n",
              "       [[ 37,  65,  89],\n",
              "        [ 38,  66,  90],\n",
              "        [ 39,  67,  91],\n",
              "        ...,\n",
              "        [  3,   8,  11],\n",
              "        [  2,   6,   7],\n",
              "        [  7,  12,  11]]], dtype=uint8)"
            ]
          },
          "metadata": {}
        },
        {
          "output_type": "stream",
          "name": "stdout",
          "text": [
            "/n########################################\n"
          ]
        },
        {
          "output_type": "display_data",
          "data": {
            "text/plain": [
              "'anomaly image'"
            ],
            "application/vnd.google.colaboratory.intrinsic+json": {
              "type": "string"
            }
          },
          "metadata": {}
        },
        {
          "output_type": "stream",
          "name": "stdout",
          "text": [
            "height = 900, width = 900\n",
            "\n",
            "resized image shape = "
          ]
        },
        {
          "output_type": "display_data",
          "data": {
            "text/plain": [
              "array([[[145, 153, 230],\n",
              "        [144, 153, 227],\n",
              "        [143, 152, 226],\n",
              "        ...,\n",
              "        [118, 163, 236],\n",
              "        [103, 153, 225],\n",
              "        [102, 152, 224]],\n",
              "\n",
              "       [[147, 155, 232],\n",
              "        [144, 155, 229],\n",
              "        [144, 153, 227],\n",
              "        ...,\n",
              "        [ 72, 117, 190],\n",
              "        [ 86, 134, 206],\n",
              "        [108, 158, 230]],\n",
              "\n",
              "       [[146, 156, 233],\n",
              "        [143, 156, 230],\n",
              "        [143, 154, 228],\n",
              "        ...,\n",
              "        [ 57, 103, 174],\n",
              "        [ 79, 128, 198],\n",
              "        [102, 153, 223]],\n",
              "\n",
              "       ...,\n",
              "\n",
              "       [[ 48,  52,  77],\n",
              "        [ 46,  52,  75],\n",
              "        [ 34,  38,  63],\n",
              "        ...,\n",
              "        [ 21,  35,  58],\n",
              "        [ 26,  40,  63],\n",
              "        [ 30,  44,  67]],\n",
              "\n",
              "       [[ 48,  52,  80],\n",
              "        [ 45,  52,  77],\n",
              "        [ 32,  36,  64],\n",
              "        ...,\n",
              "        [ 19,  32,  58],\n",
              "        [ 24,  37,  63],\n",
              "        [ 26,  39,  65]],\n",
              "\n",
              "       [[ 41,  48,  75],\n",
              "        [ 42,  49,  76],\n",
              "        [ 27,  34,  61],\n",
              "        ...,\n",
              "        [ 17,  30,  56],\n",
              "        [ 21,  34,  60],\n",
              "        [ 23,  36,  62]]], dtype=uint8)"
            ]
          },
          "metadata": {}
        },
        {
          "output_type": "stream",
          "name": "stdout",
          "text": [
            "/n######################################## \n"
          ]
        },
        {
          "output_type": "display_data",
          "data": {
            "text/plain": [
              "'anomaly image'"
            ],
            "application/vnd.google.colaboratory.intrinsic+json": {
              "type": "string"
            }
          },
          "metadata": {}
        },
        {
          "output_type": "stream",
          "name": "stdout",
          "text": [
            "(256, 256, 3)\n"
          ]
        },
        {
          "output_type": "display_data",
          "data": {
            "text/plain": [
              "array([[[ 61,  56,  57],\n",
              "        [ 65,  60,  61],\n",
              "        [ 69,  64,  65],\n",
              "        ...,\n",
              "        [235, 234, 236],\n",
              "        [236, 238, 239],\n",
              "        [221, 223, 224]],\n",
              "\n",
              "       [[ 64,  59,  60],\n",
              "        [ 67,  62,  63],\n",
              "        [ 69,  64,  65],\n",
              "        ...,\n",
              "        [228, 227, 229],\n",
              "        [237, 239, 240],\n",
              "        [232, 234, 235]],\n",
              "\n",
              "       [[ 67,  62,  63],\n",
              "        [ 68,  63,  64],\n",
              "        [ 69,  64,  65],\n",
              "        ...,\n",
              "        [197, 196, 198],\n",
              "        [234, 236, 237],\n",
              "        [239, 241, 242]],\n",
              "\n",
              "       ...,\n",
              "\n",
              "       [[ 40,  40,  40],\n",
              "        [ 37,  37,  37],\n",
              "        [ 35,  35,  35],\n",
              "        ...,\n",
              "        [121, 123, 123],\n",
              "        [125, 130, 129],\n",
              "        [128, 133, 132]],\n",
              "\n",
              "       [[ 38,  40,  40],\n",
              "        [ 36,  38,  38],\n",
              "        [ 33,  35,  35],\n",
              "        ...,\n",
              "        [127, 129, 129],\n",
              "        [130, 135, 134],\n",
              "        [134, 139, 138]],\n",
              "\n",
              "       [[ 39,  41,  41],\n",
              "        [ 36,  38,  38],\n",
              "        [ 34,  36,  36],\n",
              "        ...,\n",
              "        [131, 133, 133],\n",
              "        [134, 139, 138],\n",
              "        [138, 143, 142]]], dtype=uint8)"
            ]
          },
          "metadata": {}
        },
        {
          "output_type": "stream",
          "name": "stdout",
          "text": [
            "/n########################################"
          ]
        },
        {
          "output_type": "display_data",
          "data": {
            "text/plain": [
              "array([[[139, 208, 255],\n",
              "        [138, 206, 253],\n",
              "        [145, 210, 254],\n",
              "        ...,\n",
              "        [ 13, 130, 227],\n",
              "        [ 12, 132, 231],\n",
              "        [ 13, 136, 234]],\n",
              "\n",
              "       [[100, 159, 209],\n",
              "        [ 98, 158, 204],\n",
              "        [101, 161, 203],\n",
              "        ...,\n",
              "        [ 21, 137, 224],\n",
              "        [ 29, 147, 236],\n",
              "        [ 33, 153, 242]],\n",
              "\n",
              "       [[ 45,  87, 134],\n",
              "        [ 48,  90, 135],\n",
              "        [ 38,  84, 125],\n",
              "        ...,\n",
              "        [ 38, 150, 220],\n",
              "        [ 52, 164, 234],\n",
              "        [ 64, 176, 246]],\n",
              "\n",
              "       ...,\n",
              "\n",
              "       [[ 98,  94, 113],\n",
              "        [152, 150, 170],\n",
              "        [235, 232, 255],\n",
              "        ...,\n",
              "        [ 25,  15,  31],\n",
              "        [ 21,  14,  27],\n",
              "        [ 21,  14,  27]],\n",
              "\n",
              "       [[ 58,  51,  66],\n",
              "        [ 74,  68,  85],\n",
              "        [ 90,  84, 103],\n",
              "        ...,\n",
              "        [ 28,  17,  33],\n",
              "        [ 27,  18,  31],\n",
              "        [ 27,  20,  33]],\n",
              "\n",
              "       [[ 24,  14,  30],\n",
              "        [ 15,   8,  23],\n",
              "        [  3,   0,  12],\n",
              "        ...,\n",
              "        [ 31,  21,  34],\n",
              "        [ 31,  21,  37],\n",
              "        [ 32,  22,  38]]], dtype=uint8)"
            ]
          },
          "metadata": {}
        },
        {
          "output_type": "display_data",
          "data": {
            "text/plain": [
              "'anomaly image'"
            ],
            "application/vnd.google.colaboratory.intrinsic+json": {
              "type": "string"
            }
          },
          "metadata": {}
        },
        {
          "output_type": "stream",
          "name": "stdout",
          "text": [
            "\n"
          ]
        },
        {
          "output_type": "display_data",
          "data": {
            "text/plain": [
              "'anomaly image'"
            ],
            "application/vnd.google.colaboratory.intrinsic+json": {
              "type": "string"
            }
          },
          "metadata": {}
        },
        {
          "output_type": "display_data",
          "data": {
            "text/plain": [
              "array([[[ 51,  69, 106],\n",
              "        [ 53,  71, 108],\n",
              "        [ 55,  73, 110],\n",
              "        ...,\n",
              "        [116, 140, 176],\n",
              "        [121, 145, 181],\n",
              "        [115, 139, 175]],\n",
              "\n",
              "       [[ 54,  72, 109],\n",
              "        [ 55,  73, 110],\n",
              "        [ 55,  73, 110],\n",
              "        ...,\n",
              "        [124, 148, 184],\n",
              "        [127, 151, 187],\n",
              "        [121, 145, 181]],\n",
              "\n",
              "       [[ 62,  80, 117],\n",
              "        [ 62,  80, 117],\n",
              "        [ 61,  79, 116],\n",
              "        ...,\n",
              "        [127, 151, 187],\n",
              "        [126, 150, 186],\n",
              "        [119, 143, 179]],\n",
              "\n",
              "       ...,\n",
              "\n",
              "       [[137, 187, 217],\n",
              "        [128, 178, 206],\n",
              "        [119, 169, 199],\n",
              "        ...,\n",
              "        [138, 149, 169],\n",
              "        [145, 156, 176],\n",
              "        [133, 144, 166]],\n",
              "\n",
              "       [[135, 185, 213],\n",
              "        [129, 179, 207],\n",
              "        [123, 171, 199],\n",
              "        ...,\n",
              "        [136, 147, 167],\n",
              "        [142, 153, 173],\n",
              "        [123, 134, 156]],\n",
              "\n",
              "       [[134, 182, 210],\n",
              "        [128, 176, 204],\n",
              "        [123, 170, 198],\n",
              "        ...,\n",
              "        [137, 148, 168],\n",
              "        [129, 140, 160],\n",
              "        [109, 120, 142]]], dtype=uint8)"
            ]
          },
          "metadata": {}
        },
        {
          "output_type": "display_data",
          "data": {
            "text/plain": [
              "'anomaly image'"
            ],
            "application/vnd.google.colaboratory.intrinsic+json": {
              "type": "string"
            }
          },
          "metadata": {}
        },
        {
          "output_type": "stream",
          "name": "stdout",
          "text": [
            "height = 900, width = 900\n",
            "resized image shape =  (256, 256, 3)height = 900, width = 900height = 900, width = 900\n",
            "\n",
            "height = 900, width = 900height = 900, width = 900\n",
            "\n",
            "/n########################################resized image shape = \n",
            "resized image shape = resized image shape = \n",
            "height = 900, width = 900(256, 256, 3)  resized image shape =  height = 900, width = 900(256, 256, 3)\n",
            "(256, 256, 3)\n",
            " \n",
            "/n########################################\n",
            "\n",
            "(256, 256, 3)resized image shape = resized image shape = /n########################################\n",
            " /n########################################\n",
            "\n",
            "/n########################################(256, 256, 3) \n",
            "\n"
          ]
        },
        {
          "output_type": "display_data",
          "data": {
            "text/plain": [
              "array([[[255, 233,   3],\n",
              "        [254, 222,   2],\n",
              "        [249, 210,   1],\n",
              "        ...,\n",
              "        [253, 219,   5],\n",
              "        [235, 188,   2],\n",
              "        [216, 166,   0]],\n",
              "\n",
              "       [[254, 250,   1],\n",
              "        [254, 242,   0],\n",
              "        [254, 231,   2],\n",
              "        ...,\n",
              "        [254, 226,   1],\n",
              "        [243, 201,   4],\n",
              "        [224, 174,   0]],\n",
              "\n",
              "       [[255, 255,   1],\n",
              "        [254, 250,   1],\n",
              "        [252, 241,   0],\n",
              "        ...,\n",
              "        [252, 229,   0],\n",
              "        [249, 211,   3],\n",
              "        [227, 176,   2]],\n",
              "\n",
              "       ...,\n",
              "\n",
              "       [[254, 250,   1],\n",
              "        [254, 250,   1],\n",
              "        [255, 250,   1],\n",
              "        ...,\n",
              "        [195, 143,   0],\n",
              "        [191, 139,   2],\n",
              "        [181, 129,   0]],\n",
              "\n",
              "       [[255, 249,   0],\n",
              "        [254, 250,   1],\n",
              "        [255, 253,   1],\n",
              "        ...,\n",
              "        [193, 138,   3],\n",
              "        [186, 136,   6],\n",
              "        [175, 131,   6]],\n",
              "\n",
              "       [[255, 247,   0],\n",
              "        [255, 250,   1],\n",
              "        [254, 254,   0],\n",
              "        ...,\n",
              "        [181, 125,   0],\n",
              "        [168, 118,   0],\n",
              "        [156, 111,   0]]], dtype=uint8)"
            ]
          },
          "metadata": {}
        },
        {
          "output_type": "stream",
          "name": "stdout",
          "text": [
            "\n",
            "/n########################################(256, 256, 3)"
          ]
        },
        {
          "output_type": "display_data",
          "data": {
            "text/plain": [
              "array([[[114, 111, 156],\n",
              "        [112, 109, 154],\n",
              "        [110, 107, 152],\n",
              "        ...,\n",
              "        [146,  56,  26],\n",
              "        [146,  56,  26],\n",
              "        [146,  56,  26]],\n",
              "\n",
              "       [[111, 108, 153],\n",
              "        [113, 110, 155],\n",
              "        [116, 113, 158],\n",
              "        ...,\n",
              "        [142,  52,  22],\n",
              "        [142,  52,  22],\n",
              "        [141,  51,  21]],\n",
              "\n",
              "       [[106, 103, 148],\n",
              "        [108, 105, 150],\n",
              "        [109, 107, 149],\n",
              "        ...,\n",
              "        [153,  62,  35],\n",
              "        [152,  61,  34],\n",
              "        [150,  61,  34]],\n",
              "\n",
              "       ...,\n",
              "\n",
              "       [[ 71,  76, 198],\n",
              "        [ 71,  79, 200],\n",
              "        [ 73,  80, 203],\n",
              "        ...,\n",
              "        [117,  92, 102],\n",
              "        [111,  88,  96],\n",
              "        [111,  89,  94]],\n",
              "\n",
              "       [[ 78,  85, 208],\n",
              "        [ 74,  82, 205],\n",
              "        [ 73,  81, 205],\n",
              "        ...,\n",
              "        [117,  92, 102],\n",
              "        [110,  87,  95],\n",
              "        [110,  88,  93]],\n",
              "\n",
              "       [[ 77,  85, 208],\n",
              "        [ 74,  82, 205],\n",
              "        [ 73,  81, 205],\n",
              "        ...,\n",
              "        [117,  92, 102],\n",
              "        [111,  88,  93],\n",
              "        [110,  88,  93]]], dtype=uint8)"
            ]
          },
          "metadata": {}
        },
        {
          "output_type": "display_data",
          "data": {
            "text/plain": [
              "array([[[255, 255, 255],\n",
              "        [255, 255, 255],\n",
              "        [255, 255, 255],\n",
              "        ...,\n",
              "        [227, 219, 226],\n",
              "        [225, 217, 224],\n",
              "        [225, 217, 224]],\n",
              "\n",
              "       [[255, 255, 255],\n",
              "        [255, 255, 255],\n",
              "        [255, 255, 255],\n",
              "        ...,\n",
              "        [227, 219, 226],\n",
              "        [225, 217, 224],\n",
              "        [225, 217, 224]],\n",
              "\n",
              "       [[255, 255, 255],\n",
              "        [255, 255, 255],\n",
              "        [255, 255, 255],\n",
              "        ...,\n",
              "        [227, 219, 226],\n",
              "        [226, 218, 225],\n",
              "        [226, 218, 225]],\n",
              "\n",
              "       ...,\n",
              "\n",
              "       [[ 42,  40, 190],\n",
              "        [ 44,  42, 192],\n",
              "        [ 46,  44, 194],\n",
              "        ...,\n",
              "        [255, 255, 255],\n",
              "        [255, 255, 255],\n",
              "        [255, 255, 255]],\n",
              "\n",
              "       [[ 43,  41, 191],\n",
              "        [ 45,  43, 193],\n",
              "        [ 45,  43, 193],\n",
              "        ...,\n",
              "        [255, 255, 255],\n",
              "        [255, 255, 255],\n",
              "        [255, 255, 255]],\n",
              "\n",
              "       [[ 44,  42, 192],\n",
              "        [ 45,  43, 193],\n",
              "        [ 44,  42, 192],\n",
              "        ...,\n",
              "        [255, 255, 255],\n",
              "        [255, 255, 255],\n",
              "        [255, 255, 255]]], dtype=uint8)"
            ]
          },
          "metadata": {}
        },
        {
          "output_type": "display_data",
          "data": {
            "text/plain": [
              "'anomaly image'"
            ],
            "application/vnd.google.colaboratory.intrinsic+json": {
              "type": "string"
            }
          },
          "metadata": {}
        },
        {
          "output_type": "display_data",
          "data": {
            "text/plain": [
              "array([[[160, 190, 195],\n",
              "        [153, 183, 188],\n",
              "        [143, 173, 178],\n",
              "        ...,\n",
              "        [142, 164, 170],\n",
              "        [162, 183, 191],\n",
              "        [133, 154, 162]],\n",
              "\n",
              "       [[166, 198, 203],\n",
              "        [153, 185, 190],\n",
              "        [150, 182, 187],\n",
              "        ...,\n",
              "        [143, 165, 171],\n",
              "        [157, 178, 186],\n",
              "        [135, 156, 164]],\n",
              "\n",
              "       [[175, 210, 214],\n",
              "        [158, 193, 197],\n",
              "        [165, 200, 204],\n",
              "        ...,\n",
              "        [138, 160, 166],\n",
              "        [139, 161, 167],\n",
              "        [128, 150, 156]],\n",
              "\n",
              "       ...,\n",
              "\n",
              "       [[188, 219, 218],\n",
              "        [192, 223, 222],\n",
              "        [191, 222, 221],\n",
              "        ...,\n",
              "        [100, 138, 140],\n",
              "        [ 79, 117, 119],\n",
              "        [ 59,  97,  99]],\n",
              "\n",
              "       [[184, 215, 214],\n",
              "        [181, 212, 211],\n",
              "        [174, 205, 204],\n",
              "        ...,\n",
              "        [106, 145, 147],\n",
              "        [ 83, 122, 124],\n",
              "        [ 58,  97,  99]],\n",
              "\n",
              "       [[175, 206, 205],\n",
              "        [172, 203, 202],\n",
              "        [161, 192, 191],\n",
              "        ...,\n",
              "        [114, 153, 155],\n",
              "        [ 87, 126, 128],\n",
              "        [ 56,  95,  97]]], dtype=uint8)"
            ]
          },
          "metadata": {}
        },
        {
          "output_type": "stream",
          "name": "stdout",
          "text": [
            "\n"
          ]
        },
        {
          "output_type": "display_data",
          "data": {
            "text/plain": [
              "'anomaly image'"
            ],
            "application/vnd.google.colaboratory.intrinsic+json": {
              "type": "string"
            }
          },
          "metadata": {}
        },
        {
          "output_type": "stream",
          "name": "stdout",
          "text": [
            "\n"
          ]
        },
        {
          "output_type": "display_data",
          "data": {
            "text/plain": [
              "'anomaly image'"
            ],
            "application/vnd.google.colaboratory.intrinsic+json": {
              "type": "string"
            }
          },
          "metadata": {}
        },
        {
          "output_type": "display_data",
          "data": {
            "text/plain": [
              "'anomaly image'"
            ],
            "application/vnd.google.colaboratory.intrinsic+json": {
              "type": "string"
            }
          },
          "metadata": {}
        },
        {
          "output_type": "stream",
          "name": "stdout",
          "text": [
            "/n########################################\n"
          ]
        },
        {
          "output_type": "display_data",
          "data": {
            "text/plain": [
              "array([[[  1,   8,   3],\n",
              "        [  1,   8,   3],\n",
              "        [  1,   8,   3],\n",
              "        ...,\n",
              "        [  7,  54,  28],\n",
              "        [  7,  54,  28],\n",
              "        [  7,  54,  28]],\n",
              "\n",
              "       [[  1,   8,   3],\n",
              "        [  1,   8,   3],\n",
              "        [  1,   8,   3],\n",
              "        ...,\n",
              "        [  7,  54,  28],\n",
              "        [  7,  54,  28],\n",
              "        [  7,  54,  28]],\n",
              "\n",
              "       [[  1,   8,   3],\n",
              "        [  1,   8,   3],\n",
              "        [  1,   8,   3],\n",
              "        ...,\n",
              "        [  7,  54,  28],\n",
              "        [  7,  54,  28],\n",
              "        [  7,  54,  28]],\n",
              "\n",
              "       ...,\n",
              "\n",
              "       [[  5,  49, 144],\n",
              "        [  4,  48, 143],\n",
              "        [  3,  46, 143],\n",
              "        ...,\n",
              "        [  4, 148, 189],\n",
              "        [  6, 146, 187],\n",
              "        [  5, 145, 186]],\n",
              "\n",
              "       [[  8,  52, 147],\n",
              "        [  8,  52, 147],\n",
              "        [  7,  50, 147],\n",
              "        ...,\n",
              "        [  4, 148, 189],\n",
              "        [  6, 146, 187],\n",
              "        [  5, 145, 186]],\n",
              "\n",
              "       [[ 10,  54, 149],\n",
              "        [  9,  53, 148],\n",
              "        [  9,  52, 149],\n",
              "        ...,\n",
              "        [  4, 148, 189],\n",
              "        [  6, 146, 187],\n",
              "        [  5, 145, 186]]], dtype=uint8)"
            ]
          },
          "metadata": {}
        },
        {
          "output_type": "display_data",
          "data": {
            "text/plain": [
              "'anomaly image'"
            ],
            "application/vnd.google.colaboratory.intrinsic+json": {
              "type": "string"
            }
          },
          "metadata": {}
        },
        {
          "output_type": "display_data",
          "data": {
            "text/plain": [
              "array([[[102,  94,  77],\n",
              "        [ 71,  63,  46],\n",
              "        [ 47,  39,  22],\n",
              "        ...,\n",
              "        [ 12,  11,   0],\n",
              "        [ 29,  30,  10],\n",
              "        [ 19,  20,   0]],\n",
              "\n",
              "       [[100,  92,  75],\n",
              "        [ 65,  58,  41],\n",
              "        [ 42,  34,  17],\n",
              "        ...,\n",
              "        [ 18,  19,   0],\n",
              "        [ 36,  37,  17],\n",
              "        [ 28,  29,   9]],\n",
              "\n",
              "       [[102,  96,  77],\n",
              "        [ 65,  61,  42],\n",
              "        [ 43,  37,  18],\n",
              "        ...,\n",
              "        [ 16,  17,   0],\n",
              "        [ 30,  30,  12],\n",
              "        [ 23,  25,   6]],\n",
              "\n",
              "       ...,\n",
              "\n",
              "       [[106, 109,  83],\n",
              "        [ 82,  86,  57],\n",
              "        [ 57,  60,  34],\n",
              "        ...,\n",
              "        [ 31,  29,  19],\n",
              "        [ 40,  34,  23],\n",
              "        [ 50,  42,  29]],\n",
              "\n",
              "       [[110, 114,  89],\n",
              "        [ 84,  89,  62],\n",
              "        [ 63,  67,  42],\n",
              "        ...,\n",
              "        [ 37,  32,  23],\n",
              "        [ 46,  37,  27],\n",
              "        [ 54,  45,  32]],\n",
              "\n",
              "       [[108, 114,  89],\n",
              "        [ 85,  91,  66],\n",
              "        [ 74,  78,  53],\n",
              "        ...,\n",
              "        [ 40,  35,  26],\n",
              "        [ 51,  42,  32],\n",
              "        [ 60,  51,  38]]], dtype=uint8)"
            ]
          },
          "metadata": {}
        },
        {
          "output_type": "display_data",
          "data": {
            "text/plain": [
              "'anomaly image'"
            ],
            "application/vnd.google.colaboratory.intrinsic+json": {
              "type": "string"
            }
          },
          "metadata": {}
        },
        {
          "output_type": "display_data",
          "data": {
            "text/plain": [
              "array([[[ 60, 132, 202],\n",
              "        [ 50, 122, 194],\n",
              "        [ 83, 155, 225],\n",
              "        ...,\n",
              "        [ 68, 141, 209],\n",
              "        [ 77, 151, 217],\n",
              "        [ 84, 158, 224]],\n",
              "\n",
              "       [[ 63, 135, 205],\n",
              "        [ 47, 119, 191],\n",
              "        [ 79, 151, 221],\n",
              "        ...,\n",
              "        [ 69, 142, 210],\n",
              "        [ 78, 152, 218],\n",
              "        [ 82, 156, 222]],\n",
              "\n",
              "       [[ 62, 134, 206],\n",
              "        [ 54, 126, 198],\n",
              "        [ 65, 137, 207],\n",
              "        ...,\n",
              "        [ 76, 149, 217],\n",
              "        [ 81, 155, 221],\n",
              "        [ 80, 154, 218]],\n",
              "\n",
              "       ...,\n",
              "\n",
              "       [[ 40, 108, 183],\n",
              "        [ 38, 104, 185],\n",
              "        [ 31,  97, 176],\n",
              "        ...,\n",
              "        [ 44, 112, 189],\n",
              "        [ 35, 102, 181],\n",
              "        [ 27,  94, 173]],\n",
              "\n",
              "       [[ 41, 109, 186],\n",
              "        [ 36, 103, 182],\n",
              "        [ 36, 102, 181],\n",
              "        ...,\n",
              "        [ 42, 110, 187],\n",
              "        [ 39, 106, 185],\n",
              "        [ 28,  95, 174]],\n",
              "\n",
              "       [[ 41, 109, 186],\n",
              "        [ 37, 104, 183],\n",
              "        [ 46, 112, 191],\n",
              "        ...,\n",
              "        [ 44, 112, 189],\n",
              "        [ 41, 108, 187],\n",
              "        [ 31,  98, 177]]], dtype=uint8)"
            ]
          },
          "metadata": {}
        },
        {
          "output_type": "display_data",
          "data": {
            "text/plain": [
              "'anomaly image'"
            ],
            "application/vnd.google.colaboratory.intrinsic+json": {
              "type": "string"
            }
          },
          "metadata": {}
        },
        {
          "output_type": "stream",
          "name": "stdout",
          "text": [
            "height = 900, width = 900\n",
            "resized image shape =  (256, 256, 3)height = 900, width = 900\n",
            "\n",
            "height = 900, width = 900/n########################################resized image shape = \n",
            "\n",
            " resized image shape = (256, 256, 3) \n",
            "(256, 256, 3)/n########################################\n",
            "\n",
            "height = 900, width = 900/n########################################\n"
          ]
        },
        {
          "output_type": "display_data",
          "data": {
            "text/plain": [
              "array([[[150, 166, 173],\n",
              "        [152, 165, 173],\n",
              "        [154, 163, 172],\n",
              "        ...,\n",
              "        [157, 162, 171],\n",
              "        [157, 162, 171],\n",
              "        [157, 162, 171]],\n",
              "\n",
              "       [[150, 166, 173],\n",
              "        [152, 165, 173],\n",
              "        [155, 164, 173],\n",
              "        ...,\n",
              "        [157, 162, 171],\n",
              "        [157, 162, 171],\n",
              "        [157, 162, 171]],\n",
              "\n",
              "       [[149, 165, 172],\n",
              "        [152, 165, 173],\n",
              "        [155, 164, 173],\n",
              "        ...,\n",
              "        [157, 162, 171],\n",
              "        [157, 162, 171],\n",
              "        [157, 162, 171]],\n",
              "\n",
              "       ...,\n",
              "\n",
              "       [[158, 159, 169],\n",
              "        [158, 159, 169],\n",
              "        [158, 159, 169],\n",
              "        ...,\n",
              "        [ 91,  91, 115],\n",
              "        [ 47,  44,  70],\n",
              "        [ 34,  30,  59]],\n",
              "\n",
              "       [[157, 160, 168],\n",
              "        [157, 160, 168],\n",
              "        [157, 160, 168],\n",
              "        ...,\n",
              "        [ 93,  90, 115],\n",
              "        [ 54,  49,  76],\n",
              "        [ 41,  36,  63]],\n",
              "\n",
              "       [[157, 160, 168],\n",
              "        [157, 160, 168],\n",
              "        [157, 160, 168],\n",
              "        ...,\n",
              "        [ 93,  91, 113],\n",
              "        [ 61,  56,  83],\n",
              "        [ 48,  43,  70]]], dtype=uint8)"
            ]
          },
          "metadata": {}
        },
        {
          "output_type": "display_data",
          "data": {
            "text/plain": [
              "'anomaly image'"
            ],
            "application/vnd.google.colaboratory.intrinsic+json": {
              "type": "string"
            }
          },
          "metadata": {}
        },
        {
          "output_type": "stream",
          "name": "stdout",
          "text": [
            "\n",
            "resized image shape = "
          ]
        },
        {
          "output_type": "display_data",
          "data": {
            "text/plain": [
              "array([[[ 82, 159, 175],\n",
              "        [ 68, 145, 161],\n",
              "        [ 63, 141, 157],\n",
              "        ...,\n",
              "        [109, 190, 205],\n",
              "        [ 99, 180, 195],\n",
              "        [ 95, 176, 191]],\n",
              "\n",
              "       [[ 88, 165, 181],\n",
              "        [ 98, 175, 191],\n",
              "        [104, 182, 198],\n",
              "        ...,\n",
              "        [ 90, 171, 186],\n",
              "        [ 83, 164, 179],\n",
              "        [ 91, 172, 187]],\n",
              "\n",
              "       [[114, 191, 207],\n",
              "        [101, 178, 194],\n",
              "        [ 93, 171, 187],\n",
              "        ...,\n",
              "        [111, 192, 207],\n",
              "        [103, 184, 199],\n",
              "        [ 87, 168, 183]],\n",
              "\n",
              "       ...,\n",
              "\n",
              "       [[ 68, 133, 147],\n",
              "        [ 59, 122, 136],\n",
              "        [ 46, 101, 114],\n",
              "        ...,\n",
              "        [ 62, 130, 153],\n",
              "        [ 67, 135, 158],\n",
              "        [ 76, 144, 167]],\n",
              "\n",
              "       [[ 84, 149, 163],\n",
              "        [ 43, 106, 120],\n",
              "        [ 38,  93, 106],\n",
              "        ...,\n",
              "        [ 63, 131, 154],\n",
              "        [ 67, 135, 158],\n",
              "        [ 76, 144, 167]],\n",
              "\n",
              "       [[ 78, 143, 157],\n",
              "        [ 11,  74,  88],\n",
              "        [ 48, 103, 116],\n",
              "        ...,\n",
              "        [ 79, 147, 170],\n",
              "        [ 72, 140, 163],\n",
              "        [ 77, 145, 168]]], dtype=uint8)"
            ]
          },
          "metadata": {}
        },
        {
          "output_type": "stream",
          "name": "stdout",
          "text": [
            " "
          ]
        },
        {
          "output_type": "display_data",
          "data": {
            "text/plain": [
              "'anomaly image'"
            ],
            "application/vnd.google.colaboratory.intrinsic+json": {
              "type": "string"
            }
          },
          "metadata": {}
        },
        {
          "output_type": "stream",
          "name": "stdout",
          "text": [
            "(256, 256, 3)\n",
            "/n########################################height = 900, width = 900\n"
          ]
        },
        {
          "output_type": "display_data",
          "data": {
            "text/plain": [
              "array([[[24, 60, 66],\n",
              "        [23, 38, 47],\n",
              "        [ 0, 11,  9],\n",
              "        ...,\n",
              "        [36, 41, 32],\n",
              "        [33, 44, 36],\n",
              "        [ 1,  8,  1]],\n",
              "\n",
              "       [[ 6, 19, 17],\n",
              "        [30, 81, 84],\n",
              "        [14, 48, 41],\n",
              "        ...,\n",
              "        [ 2,  0,  0],\n",
              "        [ 6,  1,  2],\n",
              "        [16, 33, 30]],\n",
              "\n",
              "       [[ 2, 15, 17],\n",
              "        [14, 39, 41],\n",
              "        [28, 62, 51],\n",
              "        ...,\n",
              "        [60, 76, 69],\n",
              "        [22, 30, 30],\n",
              "        [11, 29, 28]],\n",
              "\n",
              "       ...,\n",
              "\n",
              "       [[31, 51, 16],\n",
              "        [21, 35, 11],\n",
              "        [13, 26, 10],\n",
              "        ...,\n",
              "        [ 2, 10,  0],\n",
              "        [ 2,  1,  3],\n",
              "        [ 0,  3,  1]],\n",
              "\n",
              "       [[40, 63,  9],\n",
              "        [37, 65, 12],\n",
              "        [37, 64, 20],\n",
              "        ...,\n",
              "        [52, 69, 18],\n",
              "        [ 5,  9,  3],\n",
              "        [ 2,  3,  0]],\n",
              "\n",
              "       [[ 9, 38,  0],\n",
              "        [17, 45,  2],\n",
              "        [23, 54,  3],\n",
              "        ...,\n",
              "        [42, 67,  9],\n",
              "        [41, 58, 15],\n",
              "        [ 3,  4,  2]]], dtype=uint8)"
            ]
          },
          "metadata": {}
        },
        {
          "output_type": "stream",
          "name": "stdout",
          "text": [
            "\n"
          ]
        },
        {
          "output_type": "display_data",
          "data": {
            "text/plain": [
              "'anomaly image'"
            ],
            "application/vnd.google.colaboratory.intrinsic+json": {
              "type": "string"
            }
          },
          "metadata": {}
        },
        {
          "output_type": "stream",
          "name": "stdout",
          "text": [
            "resized image shape =  (256, 256, 3)"
          ]
        },
        {
          "output_type": "display_data",
          "data": {
            "text/plain": [
              "array([[[ 80,  79, 235],\n",
              "        [ 77,  76, 232],\n",
              "        [ 75,  74, 232],\n",
              "        ...,\n",
              "        [242, 243, 233],\n",
              "        [245, 242, 234],\n",
              "        [244, 240, 235]],\n",
              "\n",
              "       [[103, 102, 255],\n",
              "        [ 96,  95, 251],\n",
              "        [ 91,  90, 248],\n",
              "        ...,\n",
              "        [242, 243, 234],\n",
              "        [244, 241, 237],\n",
              "        [244, 239, 238]],\n",
              "\n",
              "       [[103, 101, 255],\n",
              "        [ 92,  90, 244],\n",
              "        [ 84,  81, 237],\n",
              "        ...,\n",
              "        [243, 241, 241],\n",
              "        [244, 238, 243],\n",
              "        [244, 238, 243]],\n",
              "\n",
              "       ...,\n",
              "\n",
              "       [[137,  91,   0],\n",
              "        [156, 110,   3],\n",
              "        [181, 134,  29],\n",
              "        ...,\n",
              "        [203, 205, 205],\n",
              "        [203, 205, 205],\n",
              "        [202, 204, 204]],\n",
              "\n",
              "       [[157, 117,   0],\n",
              "        [181, 141,  23],\n",
              "        [202, 160,  47],\n",
              "        ...,\n",
              "        [206, 208, 208],\n",
              "        [208, 210, 210],\n",
              "        [207, 209, 209]],\n",
              "\n",
              "       [[182, 149,  16],\n",
              "        [199, 165,  35],\n",
              "        [209, 173,  49],\n",
              "        ...,\n",
              "        [208, 210, 210],\n",
              "        [201, 203, 203],\n",
              "        [204, 206, 206]]], dtype=uint8)"
            ]
          },
          "metadata": {}
        },
        {
          "output_type": "stream",
          "name": "stdout",
          "text": [
            "\n"
          ]
        },
        {
          "output_type": "display_data",
          "data": {
            "text/plain": [
              "'anomaly image'"
            ],
            "application/vnd.google.colaboratory.intrinsic+json": {
              "type": "string"
            }
          },
          "metadata": {}
        },
        {
          "output_type": "stream",
          "name": "stdout",
          "text": [
            "/n########################################\n",
            "height = 900, width = 900"
          ]
        },
        {
          "output_type": "display_data",
          "data": {
            "text/plain": [
              "array([[[144, 244, 249],\n",
              "        [145, 245, 250],\n",
              "        [146, 244, 252],\n",
              "        ...,\n",
              "        [ 45, 135,  45],\n",
              "        [ 45, 135,  45],\n",
              "        [ 46, 136,  46]],\n",
              "\n",
              "       [[145, 245, 250],\n",
              "        [145, 245, 250],\n",
              "        [145, 244, 252],\n",
              "        ...,\n",
              "        [ 45, 135,  45],\n",
              "        [ 46, 136,  46],\n",
              "        [ 47, 137,  47]],\n",
              "\n",
              "       [[144, 246, 251],\n",
              "        [144, 246, 251],\n",
              "        [144, 246, 251],\n",
              "        ...,\n",
              "        [ 46, 136,  46],\n",
              "        [ 47, 137,  47],\n",
              "        [ 48, 138,  48]],\n",
              "\n",
              "       ...,\n",
              "\n",
              "       [[ 35, 109,  19],\n",
              "        [ 37, 111,  21],\n",
              "        [ 39, 113,  23],\n",
              "        ...,\n",
              "        [ 16,  16,  32],\n",
              "        [ 18,  18,  34],\n",
              "        [ 19,  19,  35]],\n",
              "\n",
              "       [[ 38, 112,  22],\n",
              "        [ 40, 114,  24],\n",
              "        [ 43, 117,  27],\n",
              "        ...,\n",
              "        [ 23,  23,  39],\n",
              "        [ 20,  20,  36],\n",
              "        [ 18,  18,  34]],\n",
              "\n",
              "       [[ 38, 112,  22],\n",
              "        [ 40, 114,  24],\n",
              "        [ 43, 117,  27],\n",
              "        ...,\n",
              "        [ 23,  23,  39],\n",
              "        [ 20,  20,  36],\n",
              "        [ 18,  18,  34]]], dtype=uint8)"
            ]
          },
          "metadata": {}
        },
        {
          "output_type": "stream",
          "name": "stdout",
          "text": [
            "\n",
            "height = 900, width = 900height = 900, width = 900\n",
            "\n",
            "resized image shape = "
          ]
        },
        {
          "output_type": "display_data",
          "data": {
            "text/plain": [
              "'anomaly image'"
            ],
            "application/vnd.google.colaboratory.intrinsic+json": {
              "type": "string"
            }
          },
          "metadata": {}
        },
        {
          "output_type": "stream",
          "name": "stdout",
          "text": [
            "resized image shape = height = 900, width = 900\n",
            "resized image shape =   resized image shape =  (256, 256, 3) (256, 256, 3)\n",
            "\n",
            "(256, 256, 3)/n########################################\n",
            "\n",
            "/n########################################\n",
            "/n########################################(256, 256, 3)"
          ]
        },
        {
          "output_type": "display_data",
          "data": {
            "text/plain": [
              "array([[[ 91, 154, 182],\n",
              "        [ 90, 153, 181],\n",
              "        [ 88, 151, 179],\n",
              "        ...,\n",
              "        [ 42,  47,  48],\n",
              "        [ 45,  50,  51],\n",
              "        [ 48,  53,  54]],\n",
              "\n",
              "       [[ 88, 150, 180],\n",
              "        [ 87, 149, 179],\n",
              "        [ 86, 148, 178],\n",
              "        ...,\n",
              "        [ 37,  45,  45],\n",
              "        [ 42,  47,  48],\n",
              "        [ 43,  51,  51]],\n",
              "\n",
              "       [[ 84, 145, 179],\n",
              "        [ 83, 144, 178],\n",
              "        [ 82, 143, 177],\n",
              "        ...,\n",
              "        [ 40,  49,  52],\n",
              "        [ 44,  51,  54],\n",
              "        [ 45,  54,  57]],\n",
              "\n",
              "       ...,\n",
              "\n",
              "       [[ 57, 121, 253],\n",
              "        [ 57, 121, 253],\n",
              "        [ 57, 121, 253],\n",
              "        ...,\n",
              "        [ 30,  46,  75],\n",
              "        [ 38,  54,  83],\n",
              "        [ 40,  56,  85]],\n",
              "\n",
              "       [[ 57, 121, 253],\n",
              "        [ 57, 121, 253],\n",
              "        [ 57, 121, 253],\n",
              "        ...,\n",
              "        [ 31,  47,  76],\n",
              "        [ 40,  56,  85],\n",
              "        [ 43,  59,  88]],\n",
              "\n",
              "       [[ 57, 121, 253],\n",
              "        [ 57, 121, 253],\n",
              "        [ 57, 121, 253],\n",
              "        ...,\n",
              "        [ 30,  46,  75],\n",
              "        [ 40,  56,  85],\n",
              "        [ 44,  60,  89]]], dtype=uint8)"
            ]
          },
          "metadata": {}
        },
        {
          "output_type": "display_data",
          "data": {
            "text/plain": [
              "'anomaly image'"
            ],
            "application/vnd.google.colaboratory.intrinsic+json": {
              "type": "string"
            }
          },
          "metadata": {}
        },
        {
          "output_type": "stream",
          "name": "stdout",
          "text": [
            "\n",
            "\n",
            "/n########################################\n",
            "height = 900, width = 900"
          ]
        },
        {
          "output_type": "display_data",
          "data": {
            "text/plain": [
              "array([[[ 20,  47, 104],\n",
              "        [ 21,  48, 105],\n",
              "        [ 14,  41,  97],\n",
              "        ...,\n",
              "        [ 78,  40, 254],\n",
              "        [ 74,  36, 250],\n",
              "        [ 72,  34, 248]],\n",
              "\n",
              "       [[ 12,  39,  96],\n",
              "        [ 17,  44, 101],\n",
              "        [ 15,  42,  99],\n",
              "        ...,\n",
              "        [ 70,  32, 246],\n",
              "        [ 73,  34, 250],\n",
              "        [ 78,  40, 254]],\n",
              "\n",
              "       [[ 11,  37,  97],\n",
              "        [ 17,  44, 101],\n",
              "        [ 15,  42,  99],\n",
              "        ...,\n",
              "        [ 61,  22, 238],\n",
              "        [ 72,  32, 251],\n",
              "        [ 83,  44, 255]],\n",
              "\n",
              "       ...,\n",
              "\n",
              "       [[ 61,  57, 128],\n",
              "        [ 55,  53, 123],\n",
              "        [ 54,  50, 121],\n",
              "        ...,\n",
              "        [163, 181, 204],\n",
              "        [174, 192, 215],\n",
              "        [168, 186, 209]],\n",
              "\n",
              "       [[ 58,  57, 113],\n",
              "        [ 53,  54, 110],\n",
              "        [ 58,  57, 113],\n",
              "        ...,\n",
              "        [172, 189, 215],\n",
              "        [170, 188, 211],\n",
              "        [158, 176, 199]],\n",
              "\n",
              "       [[ 51,  52, 102],\n",
              "        [ 51,  52, 102],\n",
              "        [ 58,  59, 109],\n",
              "        ...,\n",
              "        [161, 178, 204],\n",
              "        [162, 180, 203],\n",
              "        [164, 182, 205]]], dtype=uint8)"
            ]
          },
          "metadata": {}
        },
        {
          "output_type": "stream",
          "name": "stdout",
          "text": [
            "\n"
          ]
        },
        {
          "output_type": "display_data",
          "data": {
            "text/plain": [
              "'anomaly image'"
            ],
            "application/vnd.google.colaboratory.intrinsic+json": {
              "type": "string"
            }
          },
          "metadata": {}
        },
        {
          "output_type": "stream",
          "name": "stdout",
          "text": [
            "resized image shape =  "
          ]
        },
        {
          "output_type": "display_data",
          "data": {
            "text/plain": [
              "array([[[ 56,  61,  62],\n",
              "        [ 42,  47,  50],\n",
              "        [ 29,  35,  42],\n",
              "        ...,\n",
              "        [113, 130,  97],\n",
              "        [113, 130,  96],\n",
              "        [113, 131,  94]],\n",
              "\n",
              "       [[ 62,  67,  68],\n",
              "        [ 48,  53,  56],\n",
              "        [ 33,  39,  46],\n",
              "        ...,\n",
              "        [114, 129,  98],\n",
              "        [114, 129,  97],\n",
              "        [114, 130,  96]],\n",
              "\n",
              "       [[ 67,  72,  75],\n",
              "        [ 53,  57,  62],\n",
              "        [ 36,  41,  50],\n",
              "        ...,\n",
              "        [116, 128, 100],\n",
              "        [116, 128,  98],\n",
              "        [116, 128,  98]],\n",
              "\n",
              "       ...,\n",
              "\n",
              "       [[156, 158, 116],\n",
              "        [155, 157, 115],\n",
              "        [153, 156, 111],\n",
              "        ...,\n",
              "        [ 12,  37,  77],\n",
              "        [ 18,  39,  84],\n",
              "        [  6,  24,  71]],\n",
              "\n",
              "       [[146, 150, 114],\n",
              "        [156, 160, 124],\n",
              "        [156, 157, 123],\n",
              "        ...,\n",
              "        [  6,  37,  68],\n",
              "        [  0,  26,  61],\n",
              "        [  0,  25,  61]],\n",
              "\n",
              "       [[144, 149, 117],\n",
              "        [154, 159, 127],\n",
              "        [154, 156, 126],\n",
              "        ...,\n",
              "        [ 13,  48,  74],\n",
              "        [  6,  37,  68],\n",
              "        [  9,  38,  69]]], dtype=uint8)"
            ]
          },
          "metadata": {}
        },
        {
          "output_type": "display_data",
          "data": {
            "text/plain": [
              "array([[[233, 180, 207],\n",
              "        [255, 205, 232],\n",
              "        [255, 206, 230],\n",
              "        ...,\n",
              "        [245, 190, 215],\n",
              "        [238, 183, 210],\n",
              "        [240, 182, 211]],\n",
              "\n",
              "       [[199, 146, 173],\n",
              "        [220, 169, 196],\n",
              "        [230, 179, 206],\n",
              "        ...,\n",
              "        [240, 185, 212],\n",
              "        [226, 170, 199],\n",
              "        [219, 160, 191]],\n",
              "\n",
              "       [[222, 172, 196],\n",
              "        [235, 184, 211],\n",
              "        [228, 177, 204],\n",
              "        ...,\n",
              "        [231, 173, 202],\n",
              "        [209, 149, 183],\n",
              "        [200, 137, 176]],\n",
              "\n",
              "       ...,\n",
              "\n",
              "       [[225, 176, 198],\n",
              "        [231, 179, 202],\n",
              "        [230, 174, 203],\n",
              "        ...,\n",
              "        [238, 189, 211],\n",
              "        [240, 191, 213],\n",
              "        [234, 187, 209]],\n",
              "\n",
              "       [[237, 180, 205],\n",
              "        [229, 171, 199],\n",
              "        [213, 156, 189],\n",
              "        ...,\n",
              "        [229, 179, 203],\n",
              "        [255, 214, 236],\n",
              "        [249, 211, 229]],\n",
              "\n",
              "       [[222, 164, 189],\n",
              "        [227, 169, 198],\n",
              "        [211, 150, 186],\n",
              "        ...,\n",
              "        [217, 167, 191],\n",
              "        [244, 201, 222],\n",
              "        [255, 222, 239]]], dtype=uint8)"
            ]
          },
          "metadata": {}
        },
        {
          "output_type": "stream",
          "name": "stdout",
          "text": [
            "(256, 256, 3)"
          ]
        },
        {
          "output_type": "display_data",
          "data": {
            "text/plain": [
              "'anomaly image'"
            ],
            "application/vnd.google.colaboratory.intrinsic+json": {
              "type": "string"
            }
          },
          "metadata": {}
        },
        {
          "output_type": "display_data",
          "data": {
            "text/plain": [
              "'anomaly image'"
            ],
            "application/vnd.google.colaboratory.intrinsic+json": {
              "type": "string"
            }
          },
          "metadata": {}
        },
        {
          "output_type": "stream",
          "name": "stdout",
          "text": [
            "\n",
            "/n########################################\n",
            "height = 900, width = 900height = 900, width = 900height = 900, width = 900"
          ]
        },
        {
          "output_type": "display_data",
          "data": {
            "text/plain": [
              "array([[[  8,  68, 158],\n",
              "        [ 10,  67, 158],\n",
              "        [ 13,  69, 158],\n",
              "        ...,\n",
              "        [ 48, 108, 174],\n",
              "        [ 20,  80, 146],\n",
              "        [  9,  69, 135]],\n",
              "\n",
              "       [[ 15,  75, 165],\n",
              "        [ 15,  72, 163],\n",
              "        [ 16,  72, 161],\n",
              "        ...,\n",
              "        [ 37,  97, 163],\n",
              "        [ 15,  75, 141],\n",
              "        [  8,  68, 134]],\n",
              "\n",
              "       [[ 23,  83, 173],\n",
              "        [ 22,  79, 170],\n",
              "        [ 19,  75, 164],\n",
              "        ...,\n",
              "        [ 33,  93, 159],\n",
              "        [ 21,  81, 147],\n",
              "        [ 19,  79, 145]],\n",
              "\n",
              "       ...,\n",
              "\n",
              "       [[ 16,  35, 110],\n",
              "        [ 17,  36, 109],\n",
              "        [ 16,  31, 104],\n",
              "        ...,\n",
              "        [ 19,  77, 159],\n",
              "        [ 20,  78, 160],\n",
              "        [ 21,  79, 161]],\n",
              "\n",
              "       [[ 31,  50, 125],\n",
              "        [ 34,  53, 126],\n",
              "        [ 32,  47, 120],\n",
              "        ...,\n",
              "        [ 22,  80, 162],\n",
              "        [ 23,  81, 163],\n",
              "        [ 24,  82, 164]],\n",
              "\n",
              "       [[ 37,  56, 131],\n",
              "        [ 39,  58, 131],\n",
              "        [ 36,  51, 124],\n",
              "        ...,\n",
              "        [ 23,  83, 165],\n",
              "        [ 24,  84, 166],\n",
              "        [ 25,  85, 167]]], dtype=uint8)"
            ]
          },
          "metadata": {}
        },
        {
          "output_type": "stream",
          "name": "stdout",
          "text": [
            "\n",
            "\n",
            "height = 900, width = 900\n",
            "resized image shape = "
          ]
        },
        {
          "output_type": "display_data",
          "data": {
            "text/plain": [
              "'anomaly image'"
            ],
            "application/vnd.google.colaboratory.intrinsic+json": {
              "type": "string"
            }
          },
          "metadata": {}
        },
        {
          "output_type": "stream",
          "name": "stdout",
          "text": [
            " resized image shape = \n",
            "resized image shape =   resized image shape = (256, 256, 3)(256, 256, 3)(256, 256, 3) \n",
            "\n",
            "\n",
            "(256, 256, 3)/n########################################/n########################################/n########################################\n",
            "\n",
            "\n",
            "\n",
            "/n########################################"
          ]
        },
        {
          "output_type": "display_data",
          "data": {
            "text/plain": [
              "array([[[193, 187, 198],\n",
              "        [189, 183, 194],\n",
              "        [191, 185, 196],\n",
              "        ...,\n",
              "        [183, 179, 191],\n",
              "        [198, 194, 205],\n",
              "        [212, 208, 219]],\n",
              "\n",
              "       [[221, 215, 226],\n",
              "        [184, 178, 189],\n",
              "        [163, 157, 168],\n",
              "        ...,\n",
              "        [213, 209, 221],\n",
              "        [169, 165, 176],\n",
              "        [141, 137, 148]],\n",
              "\n",
              "       [[169, 163, 174],\n",
              "        [183, 177, 188],\n",
              "        [206, 200, 211],\n",
              "        ...,\n",
              "        [173, 169, 180],\n",
              "        [169, 165, 176],\n",
              "        [164, 160, 171]],\n",
              "\n",
              "       ...,\n",
              "\n",
              "       [[ 86,  86,  98],\n",
              "        [ 82,  82,  94],\n",
              "        [112, 112, 124],\n",
              "        ...,\n",
              "        [173, 174, 195],\n",
              "        [170, 171, 192],\n",
              "        [169, 170, 191]],\n",
              "\n",
              "       [[140, 140, 152],\n",
              "        [133, 133, 145],\n",
              "        [146, 146, 158],\n",
              "        ...,\n",
              "        [117, 118, 139],\n",
              "        [105, 106, 127],\n",
              "        [ 95,  96, 117]],\n",
              "\n",
              "       [[145, 145, 157],\n",
              "        [160, 160, 172],\n",
              "        [169, 169, 181],\n",
              "        ...,\n",
              "        [103, 104, 125],\n",
              "        [ 90,  91, 112],\n",
              "        [ 82,  83, 104]]], dtype=uint8)"
            ]
          },
          "metadata": {}
        },
        {
          "output_type": "stream",
          "name": "stdout",
          "text": [
            "\n"
          ]
        },
        {
          "output_type": "display_data",
          "data": {
            "text/plain": [
              "array([[[  9,  47,  25],\n",
              "        [ 10,  48,  26],\n",
              "        [ 10,  49,  27],\n",
              "        ...,\n",
              "        [ 28,  85,  70],\n",
              "        [ 23,  86,  70],\n",
              "        [ 23,  86,  70]],\n",
              "\n",
              "       [[ 13,  51,  29],\n",
              "        [ 12,  51,  29],\n",
              "        [ 13,  52,  30],\n",
              "        ...,\n",
              "        [ 30,  87,  72],\n",
              "        [ 26,  88,  72],\n",
              "        [ 26,  88,  72]],\n",
              "\n",
              "       [[ 16,  55,  33],\n",
              "        [ 15,  57,  34],\n",
              "        [ 15,  57,  34],\n",
              "        ...,\n",
              "        [ 32,  87,  72],\n",
              "        [ 28,  87,  72],\n",
              "        [ 28,  87,  72]],\n",
              "\n",
              "       ...,\n",
              "\n",
              "       [[ 54,  71,  62],\n",
              "        [ 51,  68,  59],\n",
              "        [ 52,  69,  60],\n",
              "        ...,\n",
              "        [141, 147, 142],\n",
              "        [142, 148, 143],\n",
              "        [144, 148, 143]],\n",
              "\n",
              "       [[ 58,  75,  66],\n",
              "        [ 50,  67,  58],\n",
              "        [ 46,  63,  54],\n",
              "        ...,\n",
              "        [132, 136, 131],\n",
              "        [132, 136, 131],\n",
              "        [133, 137, 132]],\n",
              "\n",
              "       [[ 49,  66,  57],\n",
              "        [ 53,  70,  61],\n",
              "        [ 54,  71,  62],\n",
              "        ...,\n",
              "        [123, 127, 122],\n",
              "        [124, 128, 122],\n",
              "        [125, 129, 123]]], dtype=uint8)"
            ]
          },
          "metadata": {}
        },
        {
          "output_type": "display_data",
          "data": {
            "text/plain": [
              "'anomaly image'"
            ],
            "application/vnd.google.colaboratory.intrinsic+json": {
              "type": "string"
            }
          },
          "metadata": {}
        },
        {
          "output_type": "display_data",
          "data": {
            "text/plain": [
              "'anomaly image'"
            ],
            "application/vnd.google.colaboratory.intrinsic+json": {
              "type": "string"
            }
          },
          "metadata": {}
        },
        {
          "output_type": "display_data",
          "data": {
            "text/plain": [
              "array([[[ 54,  97, 114],\n",
              "        [ 87, 130, 147],\n",
              "        [136, 179, 198],\n",
              "        ...,\n",
              "        [134, 180, 198],\n",
              "        [133, 179, 197],\n",
              "        [ 65, 111, 129]],\n",
              "\n",
              "       [[ 86, 129, 146],\n",
              "        [131, 174, 191],\n",
              "        [125, 168, 187],\n",
              "        ...,\n",
              "        [133, 179, 197],\n",
              "        [132, 178, 196],\n",
              "        [133, 179, 197]],\n",
              "\n",
              "       [[134, 177, 194],\n",
              "        [125, 168, 185],\n",
              "        [129, 172, 191],\n",
              "        ...,\n",
              "        [139, 182, 201],\n",
              "        [133, 176, 195],\n",
              "        [133, 176, 195]],\n",
              "\n",
              "       ...,\n",
              "\n",
              "       [[138, 184, 202],\n",
              "        [145, 191, 209],\n",
              "        [127, 174, 195],\n",
              "        ...,\n",
              "        [124, 167, 186],\n",
              "        [124, 167, 186],\n",
              "        [137, 180, 199]],\n",
              "\n",
              "       [[133, 179, 196],\n",
              "        [136, 182, 199],\n",
              "        [144, 192, 210],\n",
              "        ...,\n",
              "        [131, 175, 192],\n",
              "        [125, 167, 186],\n",
              "        [ 80, 122, 141]],\n",
              "\n",
              "       [[ 69, 115, 132],\n",
              "        [136, 182, 199],\n",
              "        [136, 184, 202],\n",
              "        ...,\n",
              "        [136, 180, 197],\n",
              "        [ 89, 129, 148],\n",
              "        [ 59,  99, 118]]], dtype=uint8)"
            ]
          },
          "metadata": {}
        },
        {
          "output_type": "display_data",
          "data": {
            "text/plain": [
              "array([[[ 60,  92,  87],\n",
              "        [ 53,  85,  80],\n",
              "        [ 49,  81,  76],\n",
              "        ...,\n",
              "        [ 69, 102,  95],\n",
              "        [ 70, 100,  95],\n",
              "        [ 70, 100,  95]],\n",
              "\n",
              "       [[ 61,  93,  88],\n",
              "        [ 56,  88,  83],\n",
              "        [ 55,  87,  82],\n",
              "        ...,\n",
              "        [ 79, 112, 105],\n",
              "        [ 73, 103,  98],\n",
              "        [ 73, 103,  98]],\n",
              "\n",
              "       [[ 59,  91,  86],\n",
              "        [ 55,  87,  82],\n",
              "        [ 57,  89,  84],\n",
              "        ...,\n",
              "        [ 76, 109, 102],\n",
              "        [ 76, 108, 103],\n",
              "        [ 76, 108, 103]],\n",
              "\n",
              "       ...,\n",
              "\n",
              "       [[ 68,  99,  92],\n",
              "        [ 69, 100,  93],\n",
              "        [ 69, 100,  93],\n",
              "        ...,\n",
              "        [ 78, 111, 104],\n",
              "        [ 75, 107, 102],\n",
              "        [ 75, 107, 102]],\n",
              "\n",
              "       [[ 69, 100,  93],\n",
              "        [ 69, 100,  93],\n",
              "        [ 70, 101,  94],\n",
              "        ...,\n",
              "        [ 78, 111, 104],\n",
              "        [ 76, 108, 103],\n",
              "        [ 76, 108, 103]],\n",
              "\n",
              "       [[ 71, 102,  95],\n",
              "        [ 72, 103,  96],\n",
              "        [ 71, 102,  95],\n",
              "        ...,\n",
              "        [ 75, 108, 101],\n",
              "        [ 73, 105, 100],\n",
              "        [ 73, 105, 100]]], dtype=uint8)"
            ]
          },
          "metadata": {}
        },
        {
          "output_type": "display_data",
          "data": {
            "text/plain": [
              "'anomaly image'"
            ],
            "application/vnd.google.colaboratory.intrinsic+json": {
              "type": "string"
            }
          },
          "metadata": {}
        },
        {
          "output_type": "display_data",
          "data": {
            "text/plain": [
              "'anomaly image'"
            ],
            "application/vnd.google.colaboratory.intrinsic+json": {
              "type": "string"
            }
          },
          "metadata": {}
        },
        {
          "output_type": "stream",
          "name": "stdout",
          "text": [
            "height = 900, width = 900\n",
            "resized image shape =  (256, 256, 3)\n",
            "/n########################################\n",
            "height = 900, width = 900"
          ]
        },
        {
          "output_type": "display_data",
          "data": {
            "text/plain": [
              "array([[[108, 133, 173],\n",
              "        [126, 151, 191],\n",
              "        [128, 153, 193],\n",
              "        ...,\n",
              "        [ 70,  81, 125],\n",
              "        [ 67,  79, 121],\n",
              "        [ 65,  77, 119]],\n",
              "\n",
              "       [[117, 142, 182],\n",
              "        [127, 152, 192],\n",
              "        [127, 152, 192],\n",
              "        ...,\n",
              "        [ 74,  85, 129],\n",
              "        [ 76,  88, 130],\n",
              "        [ 75,  87, 129]],\n",
              "\n",
              "       [[128, 153, 193],\n",
              "        [128, 153, 193],\n",
              "        [127, 152, 192],\n",
              "        ...,\n",
              "        [ 76,  89, 133],\n",
              "        [ 77,  89, 131],\n",
              "        [ 77,  89, 131]],\n",
              "\n",
              "       ...,\n",
              "\n",
              "       [[105, 131, 168],\n",
              "        [107, 133, 170],\n",
              "        [107, 133, 170],\n",
              "        ...,\n",
              "        [ 98, 124, 154],\n",
              "        [103, 129, 159],\n",
              "        [103, 129, 159]],\n",
              "\n",
              "       [[100, 126, 163],\n",
              "        [104, 130, 167],\n",
              "        [110, 136, 173],\n",
              "        ...,\n",
              "        [105, 134, 161],\n",
              "        [104, 133, 160],\n",
              "        [104, 133, 160]],\n",
              "\n",
              "       [[ 90, 116, 153],\n",
              "        [ 98, 124, 161],\n",
              "        [108, 134, 171],\n",
              "        ...,\n",
              "        [113, 142, 169],\n",
              "        [107, 136, 163],\n",
              "        [107, 136, 163]]], dtype=uint8)"
            ]
          },
          "metadata": {}
        },
        {
          "output_type": "stream",
          "name": "stdout",
          "text": [
            "\n"
          ]
        },
        {
          "output_type": "display_data",
          "data": {
            "text/plain": [
              "'anomaly image'"
            ],
            "application/vnd.google.colaboratory.intrinsic+json": {
              "type": "string"
            }
          },
          "metadata": {}
        },
        {
          "output_type": "stream",
          "name": "stdout",
          "text": [
            "height = 900, width = 900resized image shape = \n",
            "resized image shape =   (256, 256, 3)(256, 256, 3)\n",
            "\n",
            "/n########################################\n",
            "height = 900, width = 900/n########################################\n",
            "\n",
            "resized image shape =  "
          ]
        },
        {
          "output_type": "display_data",
          "data": {
            "text/plain": [
              "array([[[ 22,  33,  30],\n",
              "        [ 30,  41,  38],\n",
              "        [ 32,  46,  40],\n",
              "        ...,\n",
              "        [ 45, 147, 182],\n",
              "        [ 48, 148, 183],\n",
              "        [ 42, 140, 174]],\n",
              "\n",
              "       [[ 60,  71,  68],\n",
              "        [ 59,  70,  67],\n",
              "        [ 48,  62,  58],\n",
              "        ...,\n",
              "        [ 38, 140, 175],\n",
              "        [ 40, 140, 174],\n",
              "        [ 36, 134, 168]],\n",
              "\n",
              "       [[ 56,  69,  67],\n",
              "        [ 63,  77,  73],\n",
              "        [ 62,  76,  72],\n",
              "        ...,\n",
              "        [ 32, 134, 169],\n",
              "        [ 33, 133, 167],\n",
              "        [ 32, 132, 166]],\n",
              "\n",
              "       ...,\n",
              "\n",
              "       [[108, 164, 143],\n",
              "        [ 62, 122, 104],\n",
              "        [ 44, 111, 102],\n",
              "        ...,\n",
              "        [144, 163, 148],\n",
              "        [166, 185, 170],\n",
              "        [166, 185, 170]],\n",
              "\n",
              "       [[ 48, 109,  89],\n",
              "        [ 25,  90,  74],\n",
              "        [ 30, 103,  95],\n",
              "        ...,\n",
              "        [154, 175, 160],\n",
              "        [170, 191, 176],\n",
              "        [150, 171, 156]],\n",
              "\n",
              "       [[  6,  71,  50],\n",
              "        [  9,  79,  62],\n",
              "        [ 36, 113, 106],\n",
              "        ...,\n",
              "        [162, 183, 168],\n",
              "        [178, 199, 184],\n",
              "        [149, 170, 155]]], dtype=uint8)"
            ]
          },
          "metadata": {}
        },
        {
          "output_type": "stream",
          "name": "stdout",
          "text": [
            "(256, 256, 3)"
          ]
        },
        {
          "output_type": "display_data",
          "data": {
            "text/plain": [
              "'anomaly image'"
            ],
            "application/vnd.google.colaboratory.intrinsic+json": {
              "type": "string"
            }
          },
          "metadata": {}
        },
        {
          "output_type": "stream",
          "name": "stdout",
          "text": [
            "height = 900, width = 900\n",
            "\n",
            "height = 900, width = 900/n########################################resized image shape = \n",
            "\n",
            " resized image shape = "
          ]
        },
        {
          "output_type": "display_data",
          "data": {
            "text/plain": [
              "array([[[ 57, 147, 235],\n",
              "        [ 81, 168, 224],\n",
              "        [ 84, 177, 210],\n",
              "        ...,\n",
              "        [  2,  40, 218],\n",
              "        [ 33, 140, 231],\n",
              "        [116, 181, 226]],\n",
              "\n",
              "       [[ 74, 155, 236],\n",
              "        [101, 203, 186],\n",
              "        [ 98, 211, 154],\n",
              "        ...,\n",
              "        [ 25, 121, 228],\n",
              "        [ 24,  87, 209],\n",
              "        [ 31,  57, 187]],\n",
              "\n",
              "       [[ 65, 150, 236],\n",
              "        [ 99, 197, 191],\n",
              "        [ 99, 215, 148],\n",
              "        ...,\n",
              "        [ 16,  18, 196],\n",
              "        [ 29,  27, 157],\n",
              "        [ 50,  46, 111]],\n",
              "\n",
              "       ...,\n",
              "\n",
              "       [[ 43,  64, 173],\n",
              "        [ 88, 125, 175],\n",
              "        [150, 161, 145],\n",
              "        ...,\n",
              "        [188, 149,  74],\n",
              "        [201, 154,  80],\n",
              "        [203, 151,  74]],\n",
              "\n",
              "       [[ 54,  86, 169],\n",
              "        [125, 166, 175],\n",
              "        [177, 185, 168],\n",
              "        ...,\n",
              "        [190, 139,  53],\n",
              "        [194, 144,  61],\n",
              "        [201, 149,  59]],\n",
              "\n",
              "       [[ 53,  81, 168],\n",
              "        [110, 150, 175],\n",
              "        [171, 189, 188],\n",
              "        ...,\n",
              "        [188, 139,  65],\n",
              "        [187, 135,  52],\n",
              "        [193, 135,  40]]], dtype=uint8)"
            ]
          },
          "metadata": {}
        },
        {
          "output_type": "stream",
          "name": "stdout",
          "text": [
            "(256, 256, 3)"
          ]
        },
        {
          "output_type": "display_data",
          "data": {
            "text/plain": [
              "array([[[ 17,  30,  76],\n",
              "        [ 17,  30,  76],\n",
              "        [ 26,  33,  82],\n",
              "        ...,\n",
              "        [ 79,  69, 169],\n",
              "        [ 84,  77, 168],\n",
              "        [116, 115, 195]],\n",
              "\n",
              "       [[ 23,  33,  80],\n",
              "        [ 17,  27,  74],\n",
              "        [ 21,  28,  77],\n",
              "        ...,\n",
              "        [ 77,  67, 167],\n",
              "        [ 84,  78, 167],\n",
              "        [118, 117, 197]],\n",
              "\n",
              "       [[ 27,  34,  83],\n",
              "        [ 17,  24,  73],\n",
              "        [ 15,  22,  71],\n",
              "        ...,\n",
              "        [ 74,  66, 161],\n",
              "        [ 87,  81, 168],\n",
              "        [127, 124, 203]],\n",
              "\n",
              "       ...,\n",
              "\n",
              "       [[ 68,  46, 104],\n",
              "        [ 69,  46, 108],\n",
              "        [ 67,  44, 112],\n",
              "        ...,\n",
              "        [ 24,  19,  28],\n",
              "        [ 22,  19,  28],\n",
              "        [ 20,  19,  29]],\n",
              "\n",
              "       [[ 63,  41,  99],\n",
              "        [ 69,  46, 108],\n",
              "        [ 69,  46, 114],\n",
              "        ...,\n",
              "        [ 23,  18,  27],\n",
              "        [ 22,  19,  28],\n",
              "        [ 20,  19,  29]],\n",
              "\n",
              "       [[ 58,  36,  94],\n",
              "        [ 68,  45, 107],\n",
              "        [ 71,  48, 116],\n",
              "        ...,\n",
              "        [ 21,  16,  25],\n",
              "        [ 19,  16,  25],\n",
              "        [ 18,  17,  27]]], dtype=uint8)"
            ]
          },
          "metadata": {}
        },
        {
          "output_type": "stream",
          "name": "stdout",
          "text": [
            " "
          ]
        },
        {
          "output_type": "display_data",
          "data": {
            "text/plain": [
              "'anomaly image'"
            ],
            "application/vnd.google.colaboratory.intrinsic+json": {
              "type": "string"
            }
          },
          "metadata": {}
        },
        {
          "output_type": "stream",
          "name": "stdout",
          "text": [
            "\n"
          ]
        },
        {
          "output_type": "display_data",
          "data": {
            "text/plain": [
              "'anomaly image'"
            ],
            "application/vnd.google.colaboratory.intrinsic+json": {
              "type": "string"
            }
          },
          "metadata": {}
        },
        {
          "output_type": "stream",
          "name": "stdout",
          "text": [
            "(256, 256, 3)/n########################################\n",
            "height = 900, width = 900/n########################################\n",
            "\n",
            "\n",
            "resized image shape =  (256, 256, 3)"
          ]
        },
        {
          "output_type": "display_data",
          "data": {
            "text/plain": [
              "array([[[ 70, 100, 127],\n",
              "        [ 64,  94, 121],\n",
              "        [ 68, 100, 129],\n",
              "        ...,\n",
              "        [ 91, 120, 141],\n",
              "        [ 92, 127, 147],\n",
              "        [106, 144, 162]],\n",
              "\n",
              "       [[ 65,  95, 122],\n",
              "        [ 59,  92, 118],\n",
              "        [ 68, 100, 129],\n",
              "        ...,\n",
              "        [109, 140, 163],\n",
              "        [110, 147, 167],\n",
              "        [114, 156, 175]],\n",
              "\n",
              "       [[ 71, 103, 132],\n",
              "        [ 66, 100, 129],\n",
              "        [ 76, 111, 137],\n",
              "        ...,\n",
              "        [110, 146, 170],\n",
              "        [111, 153, 176],\n",
              "        [111, 158, 180]],\n",
              "\n",
              "       ...,\n",
              "\n",
              "       [[ 71, 110, 142],\n",
              "        [ 72, 111, 143],\n",
              "        [ 75, 115, 144],\n",
              "        ...,\n",
              "        [107, 116, 126],\n",
              "        [ 51,  50,  54],\n",
              "        [ 38,  32,  33]],\n",
              "\n",
              "       [[ 71, 110, 142],\n",
              "        [ 77, 116, 148],\n",
              "        [ 82, 122, 151],\n",
              "        ...,\n",
              "        [128, 140, 152],\n",
              "        [ 92,  95, 100],\n",
              "        [ 56,  55,  59]],\n",
              "\n",
              "       [[ 74, 113, 145],\n",
              "        [ 77, 116, 148],\n",
              "        [ 81, 120, 152],\n",
              "        ...,\n",
              "        [142, 155, 169],\n",
              "        [125, 132, 141],\n",
              "        [101, 105, 110]]], dtype=uint8)"
            ]
          },
          "metadata": {}
        },
        {
          "output_type": "stream",
          "name": "stdout",
          "text": [
            "\n"
          ]
        },
        {
          "output_type": "display_data",
          "data": {
            "text/plain": [
              "'anomaly image'"
            ],
            "application/vnd.google.colaboratory.intrinsic+json": {
              "type": "string"
            }
          },
          "metadata": {}
        },
        {
          "output_type": "stream",
          "name": "stdout",
          "text": [
            "/n########################################\n"
          ]
        },
        {
          "output_type": "display_data",
          "data": {
            "text/plain": [
              "array([[[ 43,  40,  42],\n",
              "        [ 33,  41,  41],\n",
              "        [ 23,  39,  38],\n",
              "        ...,\n",
              "        [ 39,  51,  51],\n",
              "        [ 37,  49,  49],\n",
              "        [ 39,  53,  49]],\n",
              "\n",
              "       [[ 16,  37,  35],\n",
              "        [ 18,  32,  31],\n",
              "        [ 43,  48,  49],\n",
              "        ...,\n",
              "        [ 39,  52,  50],\n",
              "        [ 36,  48,  48],\n",
              "        [ 37,  49,  49]],\n",
              "\n",
              "       [[ 86, 126, 124],\n",
              "        [ 61,  82,  83],\n",
              "        [ 28,  29,  33],\n",
              "        ...,\n",
              "        [ 42,  55,  53],\n",
              "        [ 39,  52,  50],\n",
              "        [ 39,  51,  51]],\n",
              "\n",
              "       ...,\n",
              "\n",
              "       [[210, 217, 212],\n",
              "        [238, 243, 241],\n",
              "        [253, 255, 255],\n",
              "        ...,\n",
              "        [ 32,  28,  33],\n",
              "        [156, 165, 169],\n",
              "        [ 78,  73,  82]],\n",
              "\n",
              "       [[209, 216, 211],\n",
              "        [246, 251, 249],\n",
              "        [253, 255, 255],\n",
              "        ...,\n",
              "        [  5,   0,   1],\n",
              "        [144, 150, 155],\n",
              "        [ 92,  85,  92]],\n",
              "\n",
              "       [[221, 227, 222],\n",
              "        [252, 255, 253],\n",
              "        [254, 254, 254],\n",
              "        ...,\n",
              "        [ 71,  82,  96],\n",
              "        [174, 182, 175],\n",
              "        [164, 160, 166]]], dtype=uint8)"
            ]
          },
          "metadata": {}
        },
        {
          "output_type": "display_data",
          "data": {
            "text/plain": [
              "'anomaly image'"
            ],
            "application/vnd.google.colaboratory.intrinsic+json": {
              "type": "string"
            }
          },
          "metadata": {}
        },
        {
          "output_type": "display_data",
          "data": {
            "text/plain": [
              "array([[[ 46,  68,  96],\n",
              "        [ 38,  64,  88],\n",
              "        [ 44,  79,  93],\n",
              "        ...,\n",
              "        [ 69,  78,  91],\n",
              "        [ 87,  90,  98],\n",
              "        [105, 103, 109]],\n",
              "\n",
              "       [[ 83,  93, 117],\n",
              "        [ 73,  88, 107],\n",
              "        [ 71,  99, 110],\n",
              "        ...,\n",
              "        [ 78,  84,  89],\n",
              "        [ 83,  88,  86],\n",
              "        [103, 104, 100]],\n",
              "\n",
              "       [[ 95, 121, 133],\n",
              "        [ 92, 117, 127],\n",
              "        [ 95, 122, 126],\n",
              "        ...,\n",
              "        [ 74,  78,  83],\n",
              "        [ 84,  89,  88],\n",
              "        [101, 107, 102]],\n",
              "\n",
              "       ...,\n",
              "\n",
              "       [[117, 139, 127],\n",
              "        [ 93, 116, 108],\n",
              "        [ 72,  97,  99],\n",
              "        ...,\n",
              "        [254, 250, 221],\n",
              "        [254, 252, 222],\n",
              "        [255, 252, 224]],\n",
              "\n",
              "       [[118, 141, 127],\n",
              "        [ 96, 120, 112],\n",
              "        [ 70, 102, 101],\n",
              "        ...,\n",
              "        [252, 253, 227],\n",
              "        [255, 254, 230],\n",
              "        [255, 253, 229]],\n",
              "\n",
              "       [[132, 143, 127],\n",
              "        [106, 126, 114],\n",
              "        [ 66, 100, 100],\n",
              "        ...,\n",
              "        [253, 253, 229],\n",
              "        [253, 253, 229],\n",
              "        [254, 253, 232]]], dtype=uint8)"
            ]
          },
          "metadata": {}
        },
        {
          "output_type": "display_data",
          "data": {
            "text/plain": [
              "'anomaly image'"
            ],
            "application/vnd.google.colaboratory.intrinsic+json": {
              "type": "string"
            }
          },
          "metadata": {}
        },
        {
          "output_type": "stream",
          "name": "stdout",
          "text": [
            "height = 900, width = 900\n",
            "resized image shape =  (256, 256, 3)\n",
            "/n########################################\n",
            "height = 900, width = 900"
          ]
        },
        {
          "output_type": "display_data",
          "data": {
            "text/plain": [
              "array([[[ 52,  24,  70],\n",
              "        [ 13,   0,  33],\n",
              "        [ 44,  15,  70],\n",
              "        ...,\n",
              "        [ 15,   0,  62],\n",
              "        [ 19,   0,  62],\n",
              "        [ 19,   0,  62]],\n",
              "\n",
              "       [[ 74,  47,  91],\n",
              "        [ 67,  39,  85],\n",
              "        [ 72,  42,  95],\n",
              "        ...,\n",
              "        [ 17,   0,  63],\n",
              "        [ 19,   0,  64],\n",
              "        [ 21,   0,  63]],\n",
              "\n",
              "       [[121,  94, 134],\n",
              "        [146, 119, 162],\n",
              "        [147, 118, 167],\n",
              "        ...,\n",
              "        [ 18,   2,  63],\n",
              "        [ 20,   1,  64],\n",
              "        [ 20,   2,  63]],\n",
              "\n",
              "       ...,\n",
              "\n",
              "       [[110,  94, 105],\n",
              "        [142, 125, 138],\n",
              "        [167, 147, 166],\n",
              "        ...,\n",
              "        [191, 177, 213],\n",
              "        [189, 169, 204],\n",
              "        [172, 151, 184]],\n",
              "\n",
              "       [[ 62,  44,  51],\n",
              "        [138, 119, 128],\n",
              "        [170, 147, 162],\n",
              "        ...,\n",
              "        [180, 162, 185],\n",
              "        [153, 131, 150],\n",
              "        [106,  79,  99]],\n",
              "\n",
              "       [[225, 205, 210],\n",
              "        [255, 247, 255],\n",
              "        [250, 224, 238],\n",
              "        ...,\n",
              "        [164, 145, 160],\n",
              "        [155, 130, 144],\n",
              "        [113,  85,  98]]], dtype=uint8)"
            ]
          },
          "metadata": {}
        },
        {
          "output_type": "stream",
          "name": "stdout",
          "text": [
            "\n"
          ]
        },
        {
          "output_type": "display_data",
          "data": {
            "text/plain": [
              "'anomaly image'"
            ],
            "application/vnd.google.colaboratory.intrinsic+json": {
              "type": "string"
            }
          },
          "metadata": {}
        },
        {
          "output_type": "stream",
          "name": "stdout",
          "text": [
            "resized image shape =  (256, 256, 3)\n",
            "/n########################################height = 900, width = 900height = 900, width = 900\n",
            "\n",
            "\n",
            "resized image shape = resized image shape =   (256, 256, 3)(256, 256, 3)"
          ]
        },
        {
          "output_type": "display_data",
          "data": {
            "text/plain": [
              "array([[[155, 157, 168],\n",
              "        [156, 158, 169],\n",
              "        [158, 160, 171],\n",
              "        ...,\n",
              "        [212, 216, 227],\n",
              "        [212, 216, 227],\n",
              "        [212, 216, 227]],\n",
              "\n",
              "       [[155, 157, 168],\n",
              "        [157, 159, 170],\n",
              "        [159, 161, 172],\n",
              "        ...,\n",
              "        [212, 216, 227],\n",
              "        [212, 216, 227],\n",
              "        [212, 216, 227]],\n",
              "\n",
              "       [[156, 158, 169],\n",
              "        [159, 161, 172],\n",
              "        [162, 164, 175],\n",
              "        ...,\n",
              "        [212, 216, 227],\n",
              "        [212, 216, 227],\n",
              "        [212, 216, 227]],\n",
              "\n",
              "       ...,\n",
              "\n",
              "       [[217, 216, 218],\n",
              "        [217, 216, 218],\n",
              "        [218, 217, 219],\n",
              "        ...,\n",
              "        [226, 224, 224],\n",
              "        [226, 224, 224],\n",
              "        [227, 225, 225]],\n",
              "\n",
              "       [[217, 216, 218],\n",
              "        [217, 216, 218],\n",
              "        [218, 217, 219],\n",
              "        ...,\n",
              "        [226, 224, 224],\n",
              "        [226, 224, 224],\n",
              "        [227, 225, 225]],\n",
              "\n",
              "       [[219, 218, 220],\n",
              "        [219, 218, 220],\n",
              "        [218, 217, 219],\n",
              "        ...,\n",
              "        [227, 225, 225],\n",
              "        [227, 225, 225],\n",
              "        [228, 226, 226]]], dtype=uint8)"
            ]
          },
          "metadata": {}
        },
        {
          "output_type": "stream",
          "name": "stdout",
          "text": [
            "\n",
            "\n"
          ]
        },
        {
          "output_type": "display_data",
          "data": {
            "text/plain": [
              "'anomaly image'"
            ],
            "application/vnd.google.colaboratory.intrinsic+json": {
              "type": "string"
            }
          },
          "metadata": {}
        },
        {
          "output_type": "stream",
          "name": "stdout",
          "text": [
            "/n########################################/n########################################\n",
            "\n",
            "height = 900, width = 900height = 900, width = 900"
          ]
        },
        {
          "output_type": "display_data",
          "data": {
            "text/plain": [
              "array([[[ 44,  85,  87],\n",
              "        [ 46,  85,  87],\n",
              "        [ 41,  79,  79],\n",
              "        ...,\n",
              "        [119, 178, 187],\n",
              "        [110, 167, 176],\n",
              "        [ 95, 150, 159]],\n",
              "\n",
              "       [[ 48,  87,  89],\n",
              "        [ 47,  86,  88],\n",
              "        [ 45,  85,  84],\n",
              "        ...,\n",
              "        [116, 175, 184],\n",
              "        [109, 166, 175],\n",
              "        [ 97, 152, 161]],\n",
              "\n",
              "       [[ 47,  85,  87],\n",
              "        [ 52,  91,  93],\n",
              "        [ 44,  85,  87],\n",
              "        ...,\n",
              "        [114, 171, 180],\n",
              "        [108, 163, 172],\n",
              "        [ 97, 152, 161]],\n",
              "\n",
              "       ...,\n",
              "\n",
              "       [[  1,   1,   1],\n",
              "        [  2,   2,   2],\n",
              "        [  2,   2,   2],\n",
              "        ...,\n",
              "        [  0,   0,   0],\n",
              "        [  0,   0,   0],\n",
              "        [  0,   0,   0]],\n",
              "\n",
              "       [[  1,   1,   1],\n",
              "        [  1,   1,   1],\n",
              "        [  1,   1,   1],\n",
              "        ...,\n",
              "        [  0,   0,   0],\n",
              "        [  0,   0,   0],\n",
              "        [  0,   0,   0]],\n",
              "\n",
              "       [[  1,   1,   1],\n",
              "        [  1,   1,   1],\n",
              "        [  2,   2,   2],\n",
              "        ...,\n",
              "        [  0,   0,   0],\n",
              "        [  0,   0,   0],\n",
              "        [  0,   0,   0]]], dtype=uint8)"
            ]
          },
          "metadata": {}
        },
        {
          "output_type": "stream",
          "name": "stdout",
          "text": [
            "\n"
          ]
        },
        {
          "output_type": "display_data",
          "data": {
            "text/plain": [
              "'anomaly image'"
            ],
            "application/vnd.google.colaboratory.intrinsic+json": {
              "type": "string"
            }
          },
          "metadata": {}
        },
        {
          "output_type": "stream",
          "name": "stdout",
          "text": [
            "resized image shape = \n"
          ]
        },
        {
          "output_type": "display_data",
          "data": {
            "text/plain": [
              "array([[[191, 200, 255],\n",
              "        [189, 200, 255],\n",
              "        [187, 202, 255],\n",
              "        ...,\n",
              "        [ 39,  31,  38],\n",
              "        [ 43,  36,  43],\n",
              "        [ 49,  42,  49]],\n",
              "\n",
              "       [[190, 200, 255],\n",
              "        [189, 201, 255],\n",
              "        [187, 203, 255],\n",
              "        ...,\n",
              "        [ 46,  38,  45],\n",
              "        [ 49,  42,  49],\n",
              "        [ 54,  47,  54]],\n",
              "\n",
              "       [[189, 200, 255],\n",
              "        [188, 201, 255],\n",
              "        [186, 203, 254],\n",
              "        ...,\n",
              "        [ 51,  40,  48],\n",
              "        [ 52,  44,  51],\n",
              "        [ 55,  47,  54]],\n",
              "\n",
              "       ...,\n",
              "\n",
              "       [[166, 171, 202],\n",
              "        [166, 171, 202],\n",
              "        [166, 171, 202],\n",
              "        ...,\n",
              "        [ 80,  75,  74],\n",
              "        [ 87,  82,  83],\n",
              "        [ 93,  88,  89]],\n",
              "\n",
              "       [[167, 172, 203],\n",
              "        [167, 172, 203],\n",
              "        [167, 172, 203],\n",
              "        ...,\n",
              "        [ 79,  74,  73],\n",
              "        [ 87,  82,  83],\n",
              "        [ 93,  88,  89]],\n",
              "\n",
              "       [[168, 173, 204],\n",
              "        [168, 173, 204],\n",
              "        [168, 173, 204],\n",
              "        ...,\n",
              "        [ 79,  74,  73],\n",
              "        [ 86,  81,  82],\n",
              "        [ 92,  87,  88]]], dtype=uint8)"
            ]
          },
          "metadata": {}
        },
        {
          "output_type": "stream",
          "name": "stdout",
          "text": [
            " resized image shape = (256, 256, 3)"
          ]
        },
        {
          "output_type": "display_data",
          "data": {
            "text/plain": [
              "'anomaly image'"
            ],
            "application/vnd.google.colaboratory.intrinsic+json": {
              "type": "string"
            }
          },
          "metadata": {}
        },
        {
          "output_type": "stream",
          "name": "stdout",
          "text": [
            "\n",
            " height = 900, width = 900/n########################################\n",
            "(256, 256, 3)\n",
            "\n",
            "resized image shape = /n######################################## \n",
            "(256, 256, 3)"
          ]
        },
        {
          "output_type": "display_data",
          "data": {
            "text/plain": [
              "array([[[ 97,  96, 100],\n",
              "        [ 99,  98, 102],\n",
              "        [102, 101, 105],\n",
              "        ...,\n",
              "        [  9,  17,  17],\n",
              "        [  7,  14,  17],\n",
              "        [  9,  18,  21]],\n",
              "\n",
              "       [[ 96,  95,  99],\n",
              "        [ 98,  97, 101],\n",
              "        [101, 100, 104],\n",
              "        ...,\n",
              "        [ 11,  19,  19],\n",
              "        [ 18,  25,  28],\n",
              "        [ 27,  36,  39]],\n",
              "\n",
              "       [[ 98,  97, 101],\n",
              "        [100,  99, 103],\n",
              "        [102, 101, 105],\n",
              "        ...,\n",
              "        [ 14,  22,  22],\n",
              "        [ 17,  25,  25],\n",
              "        [ 21,  31,  31]],\n",
              "\n",
              "       ...,\n",
              "\n",
              "       [[167, 167, 181],\n",
              "        [104, 104, 118],\n",
              "        [ 76,  76,  90],\n",
              "        ...,\n",
              "        [ 58,  57,  61],\n",
              "        [ 38,  35,  44],\n",
              "        [  3,   0,  10]],\n",
              "\n",
              "       [[157, 157, 169],\n",
              "        [102, 102, 114],\n",
              "        [ 85,  85,  97],\n",
              "        ...,\n",
              "        [ 60,  59,  63],\n",
              "        [ 40,  36,  47],\n",
              "        [ 11,   7,  19]],\n",
              "\n",
              "       [[148, 148, 160],\n",
              "        [ 99,  99, 111],\n",
              "        [ 88,  88, 100],\n",
              "        ...,\n",
              "        [ 56,  55,  59],\n",
              "        [ 36,  32,  44],\n",
              "        [ 16,  11,  26]]], dtype=uint8)"
            ]
          },
          "metadata": {}
        },
        {
          "output_type": "stream",
          "name": "stdout",
          "text": [
            "\n"
          ]
        },
        {
          "output_type": "display_data",
          "data": {
            "text/plain": [
              "'anomaly image'"
            ],
            "application/vnd.google.colaboratory.intrinsic+json": {
              "type": "string"
            }
          },
          "metadata": {}
        },
        {
          "output_type": "display_data",
          "data": {
            "text/plain": [
              "array([[[ 34, 136, 135],\n",
              "        [ 33, 136, 133],\n",
              "        [ 34, 134, 129],\n",
              "        ...,\n",
              "        [ 37, 232, 160],\n",
              "        [ 37, 231, 161],\n",
              "        [ 36, 230, 160]],\n",
              "\n",
              "       [[ 41, 141, 141],\n",
              "        [ 37, 138, 136],\n",
              "        [ 33, 133, 128],\n",
              "        ...,\n",
              "        [ 38, 233, 161],\n",
              "        [ 36, 230, 160],\n",
              "        [ 36, 230, 160]],\n",
              "\n",
              "       [[ 44, 143, 141],\n",
              "        [ 40, 140, 135],\n",
              "        [ 33, 133, 127],\n",
              "        ...,\n",
              "        [ 37, 232, 159],\n",
              "        [ 36, 231, 159],\n",
              "        [ 36, 231, 159]],\n",
              "\n",
              "       ...,\n",
              "\n",
              "       [[ 17, 110,  29],\n",
              "        [ 11, 107,  23],\n",
              "        [  7, 107,  19],\n",
              "        ...,\n",
              "        [ 61, 191, 106],\n",
              "        [ 55, 185, 100],\n",
              "        [ 54, 184,  99]],\n",
              "\n",
              "       [[  9, 105,  21],\n",
              "        [  8, 107,  21],\n",
              "        [ 12, 117,  26],\n",
              "        ...,\n",
              "        [ 65, 191, 109],\n",
              "        [ 61, 186, 106],\n",
              "        [ 65, 187, 109]],\n",
              "\n",
              "       [[ 17, 116,  30],\n",
              "        [ 22, 124,  36],\n",
              "        [ 40, 145,  54],\n",
              "        ...,\n",
              "        [ 65, 190, 110],\n",
              "        [ 65, 185, 107],\n",
              "        [ 67, 186, 111]]], dtype=uint8)"
            ]
          },
          "metadata": {}
        },
        {
          "output_type": "stream",
          "name": "stdout",
          "text": [
            "/n########################################"
          ]
        },
        {
          "output_type": "display_data",
          "data": {
            "text/plain": [
              "'anomaly image'"
            ],
            "application/vnd.google.colaboratory.intrinsic+json": {
              "type": "string"
            }
          },
          "metadata": {}
        },
        {
          "output_type": "stream",
          "name": "stdout",
          "text": [
            "\n"
          ]
        },
        {
          "output_type": "display_data",
          "data": {
            "text/plain": [
              "array([[[208, 172, 218],\n",
              "        [208, 172, 218],\n",
              "        [209, 174, 218],\n",
              "        ...,\n",
              "        [242, 245, 253],\n",
              "        [242, 245, 253],\n",
              "        [242, 245, 253]],\n",
              "\n",
              "       [[208, 172, 218],\n",
              "        [209, 173, 219],\n",
              "        [209, 174, 218],\n",
              "        ...,\n",
              "        [242, 245, 253],\n",
              "        [242, 245, 253],\n",
              "        [242, 245, 253]],\n",
              "\n",
              "       [[209, 173, 219],\n",
              "        [209, 173, 219],\n",
              "        [208, 175, 219],\n",
              "        ...,\n",
              "        [242, 245, 253],\n",
              "        [242, 245, 253],\n",
              "        [242, 245, 253]],\n",
              "\n",
              "       ...,\n",
              "\n",
              "       [[206, 170, 214],\n",
              "        [206, 170, 214],\n",
              "        [207, 171, 215],\n",
              "        ...,\n",
              "        [ 49,  40,  13],\n",
              "        [ 52,  43,  16],\n",
              "        [ 58,  49,  22]],\n",
              "\n",
              "       [[204, 167, 213],\n",
              "        [204, 167, 213],\n",
              "        [205, 168, 214],\n",
              "        ...,\n",
              "        [ 54,  45,  12],\n",
              "        [ 55,  46,  13],\n",
              "        [ 58,  49,  16]],\n",
              "\n",
              "       [[203, 166, 212],\n",
              "        [203, 166, 212],\n",
              "        [204, 167, 213],\n",
              "        ...,\n",
              "        [ 50,  42,   5],\n",
              "        [ 49,  41,   4],\n",
              "        [ 48,  40,   3]]], dtype=uint8)"
            ]
          },
          "metadata": {}
        },
        {
          "output_type": "display_data",
          "data": {
            "text/plain": [
              "'anomaly image'"
            ],
            "application/vnd.google.colaboratory.intrinsic+json": {
              "type": "string"
            }
          },
          "metadata": {}
        },
        {
          "output_type": "stream",
          "name": "stdout",
          "text": [
            "height = 900, width = 900\n",
            "resized image shape =  (256, 256, 3)\n",
            "/n########################################height = 900, width = 900\n",
            "\n",
            "resized image shape =  (256, 256, 3)\n",
            "height = 900, width = 900/n########################################\n",
            "\n"
          ]
        },
        {
          "output_type": "display_data",
          "data": {
            "text/plain": [
              "array([[[255, 255, 255],\n",
              "        [255, 255, 255],\n",
              "        [255, 255, 255],\n",
              "        ...,\n",
              "        [231, 229, 228],\n",
              "        [232, 229, 225],\n",
              "        [234, 231, 227]],\n",
              "\n",
              "       [[255, 255, 255],\n",
              "        [255, 255, 255],\n",
              "        [255, 255, 255],\n",
              "        ...,\n",
              "        [233, 231, 230],\n",
              "        [235, 232, 228],\n",
              "        [237, 234, 230]],\n",
              "\n",
              "       [[255, 255, 255],\n",
              "        [255, 255, 255],\n",
              "        [255, 255, 255],\n",
              "        ...,\n",
              "        [233, 231, 230],\n",
              "        [235, 232, 228],\n",
              "        [237, 234, 230]],\n",
              "\n",
              "       ...,\n",
              "\n",
              "       [[249, 247, 239],\n",
              "        [251, 249, 241],\n",
              "        [253, 251, 243],\n",
              "        ...,\n",
              "        [158, 163, 164],\n",
              "        [162, 166, 167],\n",
              "        [162, 166, 167]],\n",
              "\n",
              "       [[255, 253, 245],\n",
              "        [255, 253, 245],\n",
              "        [255, 252, 244],\n",
              "        ...,\n",
              "        [159, 164, 165],\n",
              "        [162, 166, 167],\n",
              "        [162, 166, 167]],\n",
              "\n",
              "       [[255, 253, 245],\n",
              "        [255, 253, 245],\n",
              "        [255, 252, 244],\n",
              "        ...,\n",
              "        [159, 164, 165],\n",
              "        [162, 166, 167],\n",
              "        [162, 166, 167]]], dtype=uint8)"
            ]
          },
          "metadata": {}
        },
        {
          "output_type": "stream",
          "name": "stdout",
          "text": [
            "resized image shape = height = 900, width = 900"
          ]
        },
        {
          "output_type": "display_data",
          "data": {
            "text/plain": [
              "'anomaly image'"
            ],
            "application/vnd.google.colaboratory.intrinsic+json": {
              "type": "string"
            }
          },
          "metadata": {}
        },
        {
          "output_type": "stream",
          "name": "stdout",
          "text": [
            "height = 900, width = 900 \n",
            "\n",
            "(256, 256, 3)resized image shape = \n",
            " resized image shape =  /n########################################(256, 256, 3)\n",
            "(256, 256, 3)"
          ]
        },
        {
          "output_type": "display_data",
          "data": {
            "text/plain": [
              "array([[[  9,   5,  81],\n",
              "        [  0,   0,  65],\n",
              "        [ 10,  29,  96],\n",
              "        ...,\n",
              "        [ 22,  21, 195],\n",
              "        [  9,   5, 178],\n",
              "        [  2,   0, 169]],\n",
              "\n",
              "       [[  4,   0,  78],\n",
              "        [  0,   0,  74],\n",
              "        [  0,  19,  87],\n",
              "        ...,\n",
              "        [  2,   2, 170],\n",
              "        [  0,   1, 159],\n",
              "        [  2,   5, 157]],\n",
              "\n",
              "       [[  8,   5,  85],\n",
              "        [  0,   1,  78],\n",
              "        [  0,  10,  85],\n",
              "        ...,\n",
              "        [  9,  11, 166],\n",
              "        [  8,  17, 145],\n",
              "        [  4,  17, 133]],\n",
              "\n",
              "       ...,\n",
              "\n",
              "       [[  0,   2,  57],\n",
              "        [  1,   6,  55],\n",
              "        [  0,   5,  44],\n",
              "        ...,\n",
              "        [ 10,   9, 197],\n",
              "        [ 19,  17, 193],\n",
              "        [  6,   5, 175]],\n",
              "\n",
              "       [[  0,   1,  59],\n",
              "        [  2,   5,  56],\n",
              "        [  8,  12,  53],\n",
              "        ...,\n",
              "        [  3,   0, 188],\n",
              "        [ 15,  13, 187],\n",
              "        [  0,   0, 149]],\n",
              "\n",
              "       [[  0,   0,  58],\n",
              "        [  0,   1,  56],\n",
              "        [  1,   2,  52],\n",
              "        ...,\n",
              "        [  0,   0, 172],\n",
              "        [  6,   4, 170],\n",
              "        [  0,   0, 148]]], dtype=uint8)"
            ]
          },
          "metadata": {}
        },
        {
          "output_type": "stream",
          "name": "stdout",
          "text": [
            "\n",
            "\n",
            "/n########################################/n########################################"
          ]
        },
        {
          "output_type": "display_data",
          "data": {
            "text/plain": [
              "'anomaly image'"
            ],
            "application/vnd.google.colaboratory.intrinsic+json": {
              "type": "string"
            }
          },
          "metadata": {}
        },
        {
          "output_type": "stream",
          "name": "stdout",
          "text": [
            "\n"
          ]
        },
        {
          "output_type": "display_data",
          "data": {
            "text/plain": [
              "array([[[ 17, 150, 164],\n",
              "        [ 43, 174, 194],\n",
              "        [ 29, 157, 192],\n",
              "        ...,\n",
              "        [ 55, 134,  31],\n",
              "        [ 33, 154,  19],\n",
              "        [ 16, 160,   8]],\n",
              "\n",
              "       [[ 34, 177, 198],\n",
              "        [ 42, 184, 209],\n",
              "        [ 43, 183, 219],\n",
              "        ...,\n",
              "        [ 26, 115,  12],\n",
              "        [  4, 127,   0],\n",
              "        [  0, 131,   0]],\n",
              "\n",
              "       [[  0, 156, 192],\n",
              "        [ 12, 174, 209],\n",
              "        [ 27, 192, 225],\n",
              "        ...,\n",
              "        [ 11, 119,  20],\n",
              "        [  0, 122,  12],\n",
              "        [  0, 124,   6]],\n",
              "\n",
              "       ...,\n",
              "\n",
              "       [[ 17, 149, 203],\n",
              "        [ 42, 180, 233],\n",
              "        [ 25, 176, 227],\n",
              "        ...,\n",
              "        [ 24, 119,   0],\n",
              "        [ 18, 120,   8],\n",
              "        [ 12, 119,  16]],\n",
              "\n",
              "       [[ 41, 166, 204],\n",
              "        [ 48, 179, 218],\n",
              "        [ 37, 181, 222],\n",
              "        ...,\n",
              "        [ 23, 121,  15],\n",
              "        [ 16, 117,  12],\n",
              "        [ 12, 117,  14]],\n",
              "\n",
              "       [[ 30, 153, 181],\n",
              "        [ 38, 166, 195],\n",
              "        [ 26, 166, 202],\n",
              "        ...,\n",
              "        [ 40, 136,  45],\n",
              "        [ 41, 142,  44],\n",
              "        [ 41, 143,  41]]], dtype=uint8)"
            ]
          },
          "metadata": {}
        },
        {
          "output_type": "stream",
          "name": "stdout",
          "text": [
            "height = 900, width = 900\n"
          ]
        },
        {
          "output_type": "display_data",
          "data": {
            "text/plain": [
              "'anomaly image'"
            ],
            "application/vnd.google.colaboratory.intrinsic+json": {
              "type": "string"
            }
          },
          "metadata": {}
        },
        {
          "output_type": "stream",
          "name": "stdout",
          "text": [
            "height = 900, width = 900\n",
            "\n"
          ]
        },
        {
          "output_type": "display_data",
          "data": {
            "text/plain": [
              "array([[[ 22,  38,  54],\n",
              "        [ 20,  36,  52],\n",
              "        [ 20,  36,  53],\n",
              "        ...,\n",
              "        [165, 210, 213],\n",
              "        [181, 224, 227],\n",
              "        [195, 236, 239]],\n",
              "\n",
              "       [[ 27,  50,  66],\n",
              "        [ 25,  48,  64],\n",
              "        [ 25,  48,  64],\n",
              "        ...,\n",
              "        [174, 222, 224],\n",
              "        [185, 230, 233],\n",
              "        [193, 234, 237]],\n",
              "\n",
              "       [[ 38,  71,  87],\n",
              "        [ 34,  67,  83],\n",
              "        [ 32,  64,  83],\n",
              "        ...,\n",
              "        [170, 219, 221],\n",
              "        [182, 230, 232],\n",
              "        [189, 234, 238]],\n",
              "\n",
              "       ...,\n",
              "\n",
              "       [[ 22,  29,  22],\n",
              "        [ 23,  30,  23],\n",
              "        [ 24,  31,  24],\n",
              "        ...,\n",
              "        [ 62,  54,  55],\n",
              "        [ 55,  47,  48],\n",
              "        [ 56,  48,  49]],\n",
              "\n",
              "       [[ 22,  29,  22],\n",
              "        [ 23,  30,  23],\n",
              "        [ 24,  31,  24],\n",
              "        ...,\n",
              "        [ 64,  56,  57],\n",
              "        [ 55,  47,  48],\n",
              "        [ 51,  43,  44]],\n",
              "\n",
              "       [[ 22,  29,  22],\n",
              "        [ 23,  30,  23],\n",
              "        [ 24,  31,  24],\n",
              "        ...,\n",
              "        [ 67,  59,  60],\n",
              "        [ 54,  46,  47],\n",
              "        [ 45,  37,  38]]], dtype=uint8)"
            ]
          },
          "metadata": {}
        },
        {
          "output_type": "stream",
          "name": "stdout",
          "text": [
            "resized image shape = "
          ]
        },
        {
          "output_type": "display_data",
          "data": {
            "text/plain": [
              "'anomaly image'"
            ],
            "application/vnd.google.colaboratory.intrinsic+json": {
              "type": "string"
            }
          },
          "metadata": {}
        },
        {
          "output_type": "stream",
          "name": "stdout",
          "text": [
            "resized image shape =   (256, 256, 3)(256, 256, 3)\n",
            "\n",
            "/n########################################/n########################################\n",
            "\n"
          ]
        },
        {
          "output_type": "display_data",
          "data": {
            "text/plain": [
              "array([[[176, 212, 188],\n",
              "        [182, 218, 196],\n",
              "        [173, 206, 185],\n",
              "        ...,\n",
              "        [209, 238, 213],\n",
              "        [216, 242, 218],\n",
              "        [217, 243, 219]],\n",
              "\n",
              "       [[209, 242, 221],\n",
              "        [200, 232, 213],\n",
              "        [214, 243, 227],\n",
              "        ...,\n",
              "        [206, 234, 211],\n",
              "        [197, 223, 199],\n",
              "        [210, 236, 212]],\n",
              "\n",
              "       [[213, 241, 222],\n",
              "        [182, 208, 192],\n",
              "        [233, 253, 241],\n",
              "        ...,\n",
              "        [204, 232, 209],\n",
              "        [199, 228, 203],\n",
              "        [209, 238, 213]],\n",
              "\n",
              "       ...,\n",
              "\n",
              "       [[ 98, 103, 102],\n",
              "        [121, 123, 123],\n",
              "        [101, 101, 101],\n",
              "        ...,\n",
              "        [194, 215, 200],\n",
              "        [234, 253, 238],\n",
              "        [224, 242, 229]],\n",
              "\n",
              "       [[ 89, 102, 100],\n",
              "        [ 71,  82,  80],\n",
              "        [ 29,  34,  33],\n",
              "        ...,\n",
              "        [199, 221, 203],\n",
              "        [230, 252, 234],\n",
              "        [219, 240, 225]],\n",
              "\n",
              "       [[ 50,  67,  63],\n",
              "        [ 22,  36,  32],\n",
              "        [  0,   3,   2],\n",
              "        ...,\n",
              "        [197, 225, 202],\n",
              "        [220, 248, 225],\n",
              "        [206, 234, 211]]], dtype=uint8)"
            ]
          },
          "metadata": {}
        },
        {
          "output_type": "display_data",
          "data": {
            "text/plain": [
              "'anomaly image'"
            ],
            "application/vnd.google.colaboratory.intrinsic+json": {
              "type": "string"
            }
          },
          "metadata": {}
        },
        {
          "output_type": "display_data",
          "data": {
            "text/plain": [
              "array([[[138, 163, 189],\n",
              "        [139, 164, 190],\n",
              "        [140, 165, 191],\n",
              "        ...,\n",
              "        [ 62, 143, 204],\n",
              "        [ 84, 158, 222],\n",
              "        [ 14,  86, 150]],\n",
              "\n",
              "       [[114, 139, 165],\n",
              "        [115, 140, 166],\n",
              "        [115, 140, 166],\n",
              "        ...,\n",
              "        [ 66, 146, 207],\n",
              "        [ 84, 159, 221],\n",
              "        [ 16,  89, 151]],\n",
              "\n",
              "       [[151, 175, 199],\n",
              "        [153, 177, 201],\n",
              "        [154, 178, 202],\n",
              "        ...,\n",
              "        [ 71, 151, 210],\n",
              "        [ 84, 160, 219],\n",
              "        [ 20,  93, 153]],\n",
              "\n",
              "       ...,\n",
              "\n",
              "       [[ 43, 120, 193],\n",
              "        [ 17,  95, 164],\n",
              "        [ 59, 136, 198],\n",
              "        ...,\n",
              "        [193, 205, 223],\n",
              "        [190, 204, 222],\n",
              "        [192, 207, 223]],\n",
              "\n",
              "       [[ 42, 122, 193],\n",
              "        [ 22, 101, 168],\n",
              "        [ 66, 144, 203],\n",
              "        ...,\n",
              "        [143, 154, 174],\n",
              "        [142, 156, 175],\n",
              "        [142, 158, 175]],\n",
              "\n",
              "       [[ 43, 123, 194],\n",
              "        [ 26, 105, 172],\n",
              "        [ 70, 148, 207],\n",
              "        ...,\n",
              "        [158, 171, 193],\n",
              "        [156, 170, 189],\n",
              "        [155, 170, 189]]], dtype=uint8)"
            ]
          },
          "metadata": {}
        },
        {
          "output_type": "display_data",
          "data": {
            "text/plain": [
              "'anomaly image'"
            ],
            "application/vnd.google.colaboratory.intrinsic+json": {
              "type": "string"
            }
          },
          "metadata": {}
        },
        {
          "output_type": "display_data",
          "data": {
            "text/plain": [
              "array([[[ 68, 131, 169],\n",
              "        [ 51, 114, 152],\n",
              "        [ 52, 114, 152],\n",
              "        ...,\n",
              "        [ 67, 119, 156],\n",
              "        [ 59, 111, 148],\n",
              "        [ 58, 110, 147]],\n",
              "\n",
              "       [[ 76, 139, 177],\n",
              "        [ 71, 134, 172],\n",
              "        [ 75, 137, 175],\n",
              "        ...,\n",
              "        [ 68, 120, 157],\n",
              "        [ 64, 116, 153],\n",
              "        [ 60, 112, 149]],\n",
              "\n",
              "       [[ 86, 149, 187],\n",
              "        [ 83, 146, 184],\n",
              "        [ 84, 146, 184],\n",
              "        ...,\n",
              "        [ 69, 121, 158],\n",
              "        [ 70, 122, 159],\n",
              "        [ 63, 115, 152]],\n",
              "\n",
              "       ...,\n",
              "\n",
              "       [[ 77, 136, 176],\n",
              "        [ 70, 129, 169],\n",
              "        [ 72, 131, 171],\n",
              "        ...,\n",
              "        [ 76, 128, 165],\n",
              "        [ 76, 128, 165],\n",
              "        [ 61, 113, 150]],\n",
              "\n",
              "       [[ 82, 141, 181],\n",
              "        [ 77, 136, 176],\n",
              "        [ 78, 137, 177],\n",
              "        ...,\n",
              "        [ 66, 118, 155],\n",
              "        [ 78, 130, 167],\n",
              "        [ 71, 123, 160]],\n",
              "\n",
              "       [[ 80, 139, 179],\n",
              "        [ 80, 139, 179],\n",
              "        [ 83, 142, 182],\n",
              "        ...,\n",
              "        [ 63, 115, 152],\n",
              "        [ 70, 122, 159],\n",
              "        [ 75, 127, 164]]], dtype=uint8)"
            ]
          },
          "metadata": {}
        },
        {
          "output_type": "display_data",
          "data": {
            "text/plain": [
              "'anomaly image'"
            ],
            "application/vnd.google.colaboratory.intrinsic+json": {
              "type": "string"
            }
          },
          "metadata": {}
        },
        {
          "output_type": "stream",
          "name": "stdout",
          "text": [
            "height = 900, width = 900\n",
            "resized image shape =  (256, 256, 3)\n",
            "/n########################################\n"
          ]
        },
        {
          "output_type": "display_data",
          "data": {
            "text/plain": [
              "array([[[128, 107, 105],\n",
              "        [134, 113, 111],\n",
              "        [141, 120, 118],\n",
              "        ...,\n",
              "        [143, 133, 123],\n",
              "        [142, 132, 122],\n",
              "        [142, 132, 122]],\n",
              "\n",
              "       [[135, 114, 112],\n",
              "        [139, 118, 116],\n",
              "        [144, 123, 121],\n",
              "        ...,\n",
              "        [143, 133, 123],\n",
              "        [142, 132, 122],\n",
              "        [142, 132, 122]],\n",
              "\n",
              "       [[140, 121, 118],\n",
              "        [142, 123, 120],\n",
              "        [144, 125, 122],\n",
              "        ...,\n",
              "        [145, 133, 123],\n",
              "        [145, 133, 123],\n",
              "        [144, 132, 122]],\n",
              "\n",
              "       ...,\n",
              "\n",
              "       [[131, 116, 113],\n",
              "        [131, 116, 113],\n",
              "        [131, 116, 113],\n",
              "        ...,\n",
              "        [140, 121, 116],\n",
              "        [140, 121, 116],\n",
              "        [139, 120, 115]],\n",
              "\n",
              "       [[131, 116, 113],\n",
              "        [131, 116, 113],\n",
              "        [131, 116, 113],\n",
              "        ...,\n",
              "        [138, 120, 113],\n",
              "        [138, 120, 113],\n",
              "        [138, 120, 113]],\n",
              "\n",
              "       [[131, 116, 113],\n",
              "        [131, 116, 113],\n",
              "        [131, 116, 113],\n",
              "        ...,\n",
              "        [138, 120, 113],\n",
              "        [138, 120, 113],\n",
              "        [138, 120, 113]]], dtype=uint8)"
            ]
          },
          "metadata": {}
        },
        {
          "output_type": "display_data",
          "data": {
            "text/plain": [
              "'anomaly image'"
            ],
            "application/vnd.google.colaboratory.intrinsic+json": {
              "type": "string"
            }
          },
          "metadata": {}
        },
        {
          "output_type": "stream",
          "name": "stdout",
          "text": [
            "height = 900, width = 900height = 900, width = 900\n",
            "resized image shape = \n",
            " (256, 256, 3)resized image shape = height = 900, width = 900 \n",
            "\n",
            "(256, 256, 3)/n########################################resized image shape = \n",
            "\n",
            "/n######################################## height = 900, width = 900(256, 256, 3)\n",
            "\n"
          ]
        },
        {
          "output_type": "display_data",
          "data": {
            "text/plain": [
              "array([[[145, 138,  45],\n",
              "        [191, 184,  91],\n",
              "        [143, 136,  43],\n",
              "        ...,\n",
              "        [156, 153,  45],\n",
              "        [159, 156,  48],\n",
              "        [166, 163,  55]],\n",
              "\n",
              "       [[144, 137,  44],\n",
              "        [179, 172,  79],\n",
              "        [159, 152,  59],\n",
              "        ...,\n",
              "        [186, 183,  75],\n",
              "        [194, 191,  83],\n",
              "        [212, 209, 101]],\n",
              "\n",
              "       [[164, 157,  64],\n",
              "        [160, 153,  60],\n",
              "        [139, 132,  39],\n",
              "        ...,\n",
              "        [149, 146,  38],\n",
              "        [145, 142,  34],\n",
              "        [155, 152,  44]],\n",
              "\n",
              "       ...,\n",
              "\n",
              "       [[149, 145,  67],\n",
              "        [148, 144,  66],\n",
              "        [130, 126,  48],\n",
              "        ...,\n",
              "        [ 78,  72,  31],\n",
              "        [ 80,  73,  34],\n",
              "        [ 87,  80,  41]],\n",
              "\n",
              "       [[133, 129,  51],\n",
              "        [139, 135,  57],\n",
              "        [127, 123,  45],\n",
              "        ...,\n",
              "        [ 79,  73,  32],\n",
              "        [ 77,  70,  31],\n",
              "        [ 76,  69,  30]],\n",
              "\n",
              "       [[122, 116,  39],\n",
              "        [133, 127,  50],\n",
              "        [127, 121,  44],\n",
              "        ...,\n",
              "        [ 89,  83,  42],\n",
              "        [ 83,  76,  37],\n",
              "        [ 72,  65,  26]]], dtype=uint8)"
            ]
          },
          "metadata": {}
        },
        {
          "output_type": "stream",
          "name": "stdout",
          "text": [
            "resized image shape = \n",
            " "
          ]
        },
        {
          "output_type": "display_data",
          "data": {
            "text/plain": [
              "array([[[  7,   9,   9],\n",
              "        [  9,  11,  11],\n",
              "        [ 10,  12,  12],\n",
              "        ...,\n",
              "        [ 19,  20,  16],\n",
              "        [ 15,  21,  16],\n",
              "        [ 12,  19,  14]],\n",
              "\n",
              "       [[  8,  10,  10],\n",
              "        [  9,  11,  11],\n",
              "        [ 10,  12,  12],\n",
              "        ...,\n",
              "        [ 18,  19,  15],\n",
              "        [ 13,  19,  14],\n",
              "        [ 11,  18,  13]],\n",
              "\n",
              "       [[  8,  10,  10],\n",
              "        [  9,  11,  11],\n",
              "        [ 10,  12,  12],\n",
              "        ...,\n",
              "        [ 21,  20,  16],\n",
              "        [ 16,  20,  15],\n",
              "        [ 12,  19,  14]],\n",
              "\n",
              "       ...,\n",
              "\n",
              "       [[ 57,  40, 145],\n",
              "        [ 67,  52, 144],\n",
              "        [ 59,  49, 119],\n",
              "        ...,\n",
              "        [164, 211, 209],\n",
              "        [173, 213, 212],\n",
              "        [179, 215, 215]],\n",
              "\n",
              "       [[ 55,  36, 139],\n",
              "        [ 63,  48, 140],\n",
              "        [ 53,  43, 113],\n",
              "        ...,\n",
              "        [170, 212, 211],\n",
              "        [179, 213, 213],\n",
              "        [185, 214, 218]],\n",
              "\n",
              "       [[ 54,  35, 138],\n",
              "        [ 57,  42, 133],\n",
              "        [ 47,  37, 107],\n",
              "        ...,\n",
              "        [174, 212, 212],\n",
              "        [182, 213, 214],\n",
              "        [188, 215, 219]]], dtype=uint8)"
            ]
          },
          "metadata": {}
        },
        {
          "output_type": "display_data",
          "data": {
            "text/plain": [
              "'anomaly image'"
            ],
            "application/vnd.google.colaboratory.intrinsic+json": {
              "type": "string"
            }
          },
          "metadata": {}
        },
        {
          "output_type": "stream",
          "name": "stdout",
          "text": [
            "/n########################################(256, 256, 3)"
          ]
        },
        {
          "output_type": "display_data",
          "data": {
            "text/plain": [
              "'anomaly image'"
            ],
            "application/vnd.google.colaboratory.intrinsic+json": {
              "type": "string"
            }
          },
          "metadata": {}
        },
        {
          "output_type": "stream",
          "name": "stdout",
          "text": [
            "\n",
            "\n"
          ]
        },
        {
          "output_type": "display_data",
          "data": {
            "text/plain": [
              "array([[[215, 221, 220],\n",
              "        [214, 220, 219],\n",
              "        [219, 227, 227],\n",
              "        ...,\n",
              "        [233, 235, 235],\n",
              "        [233, 235, 235],\n",
              "        [233, 235, 235]],\n",
              "\n",
              "       [[215, 221, 220],\n",
              "        [213, 219, 218],\n",
              "        [218, 226, 226],\n",
              "        ...,\n",
              "        [233, 235, 235],\n",
              "        [233, 235, 235],\n",
              "        [233, 235, 235]],\n",
              "\n",
              "       [[216, 222, 221],\n",
              "        [213, 219, 218],\n",
              "        [217, 225, 225],\n",
              "        ...,\n",
              "        [233, 235, 235],\n",
              "        [233, 235, 235],\n",
              "        [233, 235, 235]],\n",
              "\n",
              "       ...,\n",
              "\n",
              "       [[225, 229, 230],\n",
              "        [222, 226, 227],\n",
              "        [223, 227, 228],\n",
              "        ...,\n",
              "        [219, 232, 234],\n",
              "        [217, 230, 232],\n",
              "        [216, 229, 231]],\n",
              "\n",
              "       [[225, 229, 230],\n",
              "        [222, 226, 227],\n",
              "        [223, 227, 228],\n",
              "        ...,\n",
              "        [207, 220, 222],\n",
              "        [205, 218, 220],\n",
              "        [202, 215, 217]],\n",
              "\n",
              "       [[225, 229, 230],\n",
              "        [222, 226, 227],\n",
              "        [223, 227, 228],\n",
              "        ...,\n",
              "        [221, 234, 236],\n",
              "        [217, 230, 232],\n",
              "        [213, 226, 228]]], dtype=uint8)"
            ]
          },
          "metadata": {}
        },
        {
          "output_type": "stream",
          "name": "stdout",
          "text": [
            "/n########################################"
          ]
        },
        {
          "output_type": "display_data",
          "data": {
            "text/plain": [
              "'anomaly image'"
            ],
            "application/vnd.google.colaboratory.intrinsic+json": {
              "type": "string"
            }
          },
          "metadata": {}
        },
        {
          "output_type": "stream",
          "name": "stdout",
          "text": [
            "\n",
            "height = 900, width = 900\n",
            "height = 900, width = 900"
          ]
        },
        {
          "output_type": "display_data",
          "data": {
            "text/plain": [
              "array([[[ 59, 112, 125],\n",
              "        [103, 155, 167],\n",
              "        [139, 190, 200],\n",
              "        ...,\n",
              "        [159, 200, 209],\n",
              "        [163, 206, 215],\n",
              "        [148, 204, 209]],\n",
              "\n",
              "       [[ 21,  77,  88],\n",
              "        [ 75, 129, 140],\n",
              "        [121, 174, 184],\n",
              "        ...,\n",
              "        [170, 205, 215],\n",
              "        [172, 211, 220],\n",
              "        [160, 210, 216]],\n",
              "\n",
              "       [[ 65, 124, 133],\n",
              "        [106, 165, 174],\n",
              "        [143, 198, 207],\n",
              "        ...,\n",
              "        [151, 187, 197],\n",
              "        [165, 200, 210],\n",
              "        [160, 199, 207]],\n",
              "\n",
              "       ...,\n",
              "\n",
              "       [[ 65, 117, 124],\n",
              "        [ 52,  98, 106],\n",
              "        [ 25,  63,  68],\n",
              "        ...,\n",
              "        [ 60, 110, 122],\n",
              "        [ 44,  94, 106],\n",
              "        [ 15,  65,  77]],\n",
              "\n",
              "       [[ 43,  91,  97],\n",
              "        [ 20,  64,  71],\n",
              "        [ 13,  53,  58],\n",
              "        ...,\n",
              "        [100, 153, 166],\n",
              "        [ 62, 111, 125],\n",
              "        [ 29,  76,  90]],\n",
              "\n",
              "       [[ 17,  64,  72],\n",
              "        [  0,  44,  51],\n",
              "        [  3,  42,  50],\n",
              "        ...,\n",
              "        [114, 171, 186],\n",
              "        [ 62, 113, 129],\n",
              "        [ 29,  75,  92]]], dtype=uint8)"
            ]
          },
          "metadata": {}
        },
        {
          "output_type": "stream",
          "name": "stdout",
          "text": [
            "resized image shape = "
          ]
        },
        {
          "output_type": "display_data",
          "data": {
            "text/plain": [
              "'anomaly image'"
            ],
            "application/vnd.google.colaboratory.intrinsic+json": {
              "type": "string"
            }
          },
          "metadata": {}
        },
        {
          "output_type": "stream",
          "name": "stdout",
          "text": [
            "\n",
            " resized image shape = (256, 256, 3) \n",
            "(256, 256, 3)/n########################################\n",
            "\n",
            "/n########################################\n"
          ]
        },
        {
          "output_type": "display_data",
          "data": {
            "text/plain": [
              "array([[[208, 217, 220],\n",
              "        [210, 219, 223],\n",
              "        [211, 220, 224],\n",
              "        ...,\n",
              "        [201, 205, 216],\n",
              "        [206, 210, 221],\n",
              "        [207, 211, 222]],\n",
              "\n",
              "       [[196, 204, 211],\n",
              "        [198, 206, 213],\n",
              "        [202, 210, 217],\n",
              "        ...,\n",
              "        [198, 203, 212],\n",
              "        [207, 211, 222],\n",
              "        [212, 216, 227]],\n",
              "\n",
              "       [[207, 214, 223],\n",
              "        [206, 213, 222],\n",
              "        [207, 214, 223],\n",
              "        ...,\n",
              "        [190, 194, 205],\n",
              "        [203, 207, 218],\n",
              "        [214, 218, 229]],\n",
              "\n",
              "       ...,\n",
              "\n",
              "       [[110, 124, 142],\n",
              "        [105, 119, 137],\n",
              "        [124, 139, 155],\n",
              "        ...,\n",
              "        [145, 136, 133],\n",
              "        [151, 146, 148],\n",
              "        [140, 142, 150]],\n",
              "\n",
              "       [[127, 135, 152],\n",
              "        [125, 133, 150],\n",
              "        [136, 149, 163],\n",
              "        ...,\n",
              "        [121, 103,  86],\n",
              "        [140, 125, 116],\n",
              "        [143, 134, 130]],\n",
              "\n",
              "       [[130, 133, 147],\n",
              "        [120, 123, 137],\n",
              "        [125, 134, 144],\n",
              "        ...,\n",
              "        [102,  76,  46],\n",
              "        [124, 103,  81],\n",
              "        [141, 125, 109]]], dtype=uint8)"
            ]
          },
          "metadata": {}
        },
        {
          "output_type": "display_data",
          "data": {
            "text/plain": [
              "array([[[163, 163, 163],\n",
              "        [148, 148, 148],\n",
              "        [150, 150, 150],\n",
              "        ...,\n",
              "        [124, 124, 124],\n",
              "        [116, 116, 116],\n",
              "        [ 93,  93,  93]],\n",
              "\n",
              "       [[168, 168, 168],\n",
              "        [140, 140, 140],\n",
              "        [137, 137, 137],\n",
              "        ...,\n",
              "        [116, 116, 116],\n",
              "        [120, 120, 120],\n",
              "        [103, 103, 103]],\n",
              "\n",
              "       [[127, 127, 127],\n",
              "        [111, 111, 111],\n",
              "        [126, 126, 126],\n",
              "        ...,\n",
              "        [109, 109, 109],\n",
              "        [122, 122, 122],\n",
              "        [115, 115, 115]],\n",
              "\n",
              "       ...,\n",
              "\n",
              "       [[ 34,  34,  34],\n",
              "        [ 36,  36,  36],\n",
              "        [ 42,  42,  42],\n",
              "        ...,\n",
              "        [ 49,  49,  49],\n",
              "        [ 51,  51,  51],\n",
              "        [ 45,  45,  45]],\n",
              "\n",
              "       [[ 54,  54,  54],\n",
              "        [ 37,  37,  37],\n",
              "        [ 33,  33,  33],\n",
              "        ...,\n",
              "        [ 52,  52,  52],\n",
              "        [ 53,  53,  53],\n",
              "        [ 63,  63,  63]],\n",
              "\n",
              "       [[ 59,  59,  59],\n",
              "        [ 42,  42,  42],\n",
              "        [ 38,  38,  38],\n",
              "        ...,\n",
              "        [ 52,  52,  52],\n",
              "        [ 53,  53,  53],\n",
              "        [ 53,  53,  53]]], dtype=uint8)"
            ]
          },
          "metadata": {}
        },
        {
          "output_type": "display_data",
          "data": {
            "text/plain": [
              "'anomaly image'"
            ],
            "application/vnd.google.colaboratory.intrinsic+json": {
              "type": "string"
            }
          },
          "metadata": {}
        },
        {
          "output_type": "display_data",
          "data": {
            "text/plain": [
              "'anomaly image'"
            ],
            "application/vnd.google.colaboratory.intrinsic+json": {
              "type": "string"
            }
          },
          "metadata": {}
        },
        {
          "output_type": "stream",
          "name": "stdout",
          "text": [
            "height = 900, width = 900\n",
            "resized image shape =  (256, 256, 3)\n",
            "/n########################################\n"
          ]
        },
        {
          "output_type": "display_data",
          "data": {
            "text/plain": [
              "array([[[212, 127, 135],\n",
              "        [196, 111, 119],\n",
              "        [203, 116, 126],\n",
              "        ...,\n",
              "        [255, 242, 253],\n",
              "        [255, 241, 252],\n",
              "        [255, 240, 251]],\n",
              "\n",
              "       [[212, 127, 135],\n",
              "        [201, 116, 124],\n",
              "        [205, 119, 129],\n",
              "        ...,\n",
              "        [250, 230, 242],\n",
              "        [252, 230, 242],\n",
              "        [249, 227, 239]],\n",
              "\n",
              "       [[204, 121, 130],\n",
              "        [230, 147, 156],\n",
              "        [235, 152, 161],\n",
              "        ...,\n",
              "        [240, 215, 225],\n",
              "        [240, 213, 223],\n",
              "        [239, 212, 222]],\n",
              "\n",
              "       ...,\n",
              "\n",
              "       [[225, 146, 159],\n",
              "        [232, 153, 166],\n",
              "        [229, 147, 160],\n",
              "        ...,\n",
              "        [213, 130, 138],\n",
              "        [219, 136, 144],\n",
              "        [231, 148, 156]],\n",
              "\n",
              "       [[217, 138, 151],\n",
              "        [224, 145, 158],\n",
              "        [219, 139, 152],\n",
              "        ...,\n",
              "        [212, 132, 139],\n",
              "        [214, 131, 139],\n",
              "        [224, 141, 149]],\n",
              "\n",
              "       [[214, 135, 148],\n",
              "        [220, 141, 154],\n",
              "        [217, 137, 150],\n",
              "        ...,\n",
              "        [223, 143, 150],\n",
              "        [215, 135, 142],\n",
              "        [220, 140, 147]]], dtype=uint8)"
            ]
          },
          "metadata": {}
        },
        {
          "output_type": "display_data",
          "data": {
            "text/plain": [
              "'anomaly image'"
            ],
            "application/vnd.google.colaboratory.intrinsic+json": {
              "type": "string"
            }
          },
          "metadata": {}
        },
        {
          "output_type": "stream",
          "name": "stdout",
          "text": [
            "height = 900, width = 900\n",
            "height = 900, width = 900resized image shape = \n",
            " resized image shape = (256, 256, 3)\n",
            "/n######################################## \n",
            "(256, 256, 3)\n"
          ]
        },
        {
          "output_type": "display_data",
          "data": {
            "text/plain": [
              "array([[[ 60, 111, 161],\n",
              "        [ 66, 117, 167],\n",
              "        [ 62, 116, 163],\n",
              "        ...,\n",
              "        [219, 156,   4],\n",
              "        [217, 157,   3],\n",
              "        [216, 156,   2]],\n",
              "\n",
              "       [[ 62, 113, 163],\n",
              "        [ 72, 123, 173],\n",
              "        [ 69, 123, 170],\n",
              "        ...,\n",
              "        [221, 158,   6],\n",
              "        [218, 158,   4],\n",
              "        [217, 157,   3]],\n",
              "\n",
              "       [[ 55, 108, 158],\n",
              "        [ 65, 118, 168],\n",
              "        [ 64, 117, 167],\n",
              "        ...,\n",
              "        [219, 156,   4],\n",
              "        [219, 159,   5],\n",
              "        [218, 159,   3]],\n",
              "\n",
              "       ...,\n",
              "\n",
              "       [[134, 182, 230],\n",
              "        [145, 193, 241],\n",
              "        [139, 188, 236],\n",
              "        ...,\n",
              "        [203, 212, 225],\n",
              "        [212, 222, 232],\n",
              "        [209, 219, 229]],\n",
              "\n",
              "       [[139, 187, 235],\n",
              "        [148, 196, 244],\n",
              "        [144, 193, 241],\n",
              "        ...,\n",
              "        [210, 218, 231],\n",
              "        [213, 223, 233],\n",
              "        [210, 220, 230]],\n",
              "\n",
              "       [[138, 186, 234],\n",
              "        [147, 195, 243],\n",
              "        [146, 195, 243],\n",
              "        ...,\n",
              "        [208, 216, 229],\n",
              "        [213, 223, 233],\n",
              "        [210, 220, 230]]], dtype=uint8)"
            ]
          },
          "metadata": {}
        },
        {
          "output_type": "stream",
          "name": "stdout",
          "text": [
            "height = 900, width = 900/n########################################"
          ]
        },
        {
          "output_type": "display_data",
          "data": {
            "text/plain": [
              "'anomaly image'"
            ],
            "application/vnd.google.colaboratory.intrinsic+json": {
              "type": "string"
            }
          },
          "metadata": {}
        },
        {
          "output_type": "stream",
          "name": "stdout",
          "text": [
            "\n",
            "\n",
            "height = 900, width = 900resized image shape = \n",
            "resized image shape = "
          ]
        },
        {
          "output_type": "display_data",
          "data": {
            "text/plain": [
              "array([[[ 12,  13,  11],\n",
              "        [ 13,  14,  12],\n",
              "        [ 13,  14,  12],\n",
              "        ...,\n",
              "        [ 70,  85,  81],\n",
              "        [ 76,  87,  85],\n",
              "        [ 77,  88,  86]],\n",
              "\n",
              "       [[ 12,  13,  11],\n",
              "        [ 13,  14,  12],\n",
              "        [ 13,  14,  12],\n",
              "        ...,\n",
              "        [ 80,  92,  86],\n",
              "        [ 87,  96,  93],\n",
              "        [ 90,  99,  96]],\n",
              "\n",
              "       [[ 12,  13,   9],\n",
              "        [ 12,  13,   9],\n",
              "        [ 13,  14,  12],\n",
              "        ...,\n",
              "        [ 90,  99,  89],\n",
              "        [ 95, 103,  93],\n",
              "        [ 98, 106,  96]],\n",
              "\n",
              "       ...,\n",
              "\n",
              "       [[ 14,  14,  14],\n",
              "        [ 14,  14,  14],\n",
              "        [ 14,  14,  14],\n",
              "        ...,\n",
              "        [126, 121, 100],\n",
              "        [123, 118,  97],\n",
              "        [121, 116,  95]],\n",
              "\n",
              "       [[ 14,  14,  14],\n",
              "        [ 14,  14,  14],\n",
              "        [ 14,  14,  14],\n",
              "        ...,\n",
              "        [127, 122, 101],\n",
              "        [125, 120,  99],\n",
              "        [124, 119,  98]],\n",
              "\n",
              "       [[ 14,  14,  14],\n",
              "        [ 14,  14,  14],\n",
              "        [ 13,  13,  13],\n",
              "        ...,\n",
              "        [130, 123, 103],\n",
              "        [129, 122, 102],\n",
              "        [128, 121, 101]]], dtype=uint8)"
            ]
          },
          "metadata": {}
        },
        {
          "output_type": "stream",
          "name": "stdout",
          "text": [
            "  (256, 256, 3)"
          ]
        },
        {
          "output_type": "display_data",
          "data": {
            "text/plain": [
              "'anomaly image'"
            ],
            "application/vnd.google.colaboratory.intrinsic+json": {
              "type": "string"
            }
          },
          "metadata": {}
        },
        {
          "output_type": "stream",
          "name": "stdout",
          "text": [
            "(256, 256, 3)\n",
            "\n",
            "/n########################################/n########################################\n",
            "\n",
            "height = 900, width = 900\n"
          ]
        },
        {
          "output_type": "display_data",
          "data": {
            "text/plain": [
              "array([[[ 82,  75,  78],\n",
              "        [103,  96,  99],\n",
              "        [ 72,  65,  68],\n",
              "        ...,\n",
              "        [ 63,  58,  59],\n",
              "        [ 61,  56,  57],\n",
              "        [ 57,  52,  53]],\n",
              "\n",
              "       [[ 83,  76,  79],\n",
              "        [ 93,  86,  89],\n",
              "        [ 81,  74,  77],\n",
              "        ...,\n",
              "        [ 72,  67,  68],\n",
              "        [ 64,  59,  60],\n",
              "        [ 56,  51,  52]],\n",
              "\n",
              "       [[ 87,  80,  83],\n",
              "        [ 77,  70,  73],\n",
              "        [ 88,  81,  84],\n",
              "        ...,\n",
              "        [ 75,  70,  71],\n",
              "        [ 65,  60,  61],\n",
              "        [ 57,  52,  53]],\n",
              "\n",
              "       ...,\n",
              "\n",
              "       [[ 96,  64,  58],\n",
              "        [ 88,  56,  50],\n",
              "        [ 80,  48,  42],\n",
              "        ...,\n",
              "        [ 64,  62,  68],\n",
              "        [ 64,  62,  68],\n",
              "        [ 71,  69,  75]],\n",
              "\n",
              "       [[ 91,  59,  53],\n",
              "        [ 87,  55,  49],\n",
              "        [ 81,  49,  43],\n",
              "        ...,\n",
              "        [ 68,  66,  72],\n",
              "        [ 68,  66,  72],\n",
              "        [ 73,  71,  77]],\n",
              "\n",
              "       [[ 83,  51,  45],\n",
              "        [ 81,  49,  43],\n",
              "        [ 77,  45,  39],\n",
              "        ...,\n",
              "        [ 74,  74,  80],\n",
              "        [ 77,  77,  83],\n",
              "        [ 82,  82,  88]]], dtype=uint8)"
            ]
          },
          "metadata": {}
        },
        {
          "output_type": "stream",
          "name": "stdout",
          "text": [
            "height = 900, width = 900resized image shape = "
          ]
        },
        {
          "output_type": "display_data",
          "data": {
            "text/plain": [
              "'anomaly image'"
            ],
            "application/vnd.google.colaboratory.intrinsic+json": {
              "type": "string"
            }
          },
          "metadata": {}
        },
        {
          "output_type": "stream",
          "name": "stdout",
          "text": [
            " "
          ]
        },
        {
          "output_type": "display_data",
          "data": {
            "text/plain": [
              "array([[[ 27,  94, 133],\n",
              "        [ 27,  94, 133],\n",
              "        [ 30,  95, 134],\n",
              "        ...,\n",
              "        [ 81,  91, 101],\n",
              "        [ 61,  71,  81],\n",
              "        [ 36,  46,  56]],\n",
              "\n",
              "       [[ 35, 102, 141],\n",
              "        [ 33, 100, 139],\n",
              "        [ 33,  98, 137],\n",
              "        ...,\n",
              "        [ 67,  77,  87],\n",
              "        [ 50,  60,  70],\n",
              "        [ 28,  38,  48]],\n",
              "\n",
              "       [[ 39, 106, 145],\n",
              "        [ 32,  99, 138],\n",
              "        [ 25,  92, 131],\n",
              "        ...,\n",
              "        [ 34,  43,  56],\n",
              "        [ 20,  29,  42],\n",
              "        [  3,  12,  25]],\n",
              "\n",
              "       ...,\n",
              "\n",
              "       [[  7,  54, 116],\n",
              "        [ 14,  61, 123],\n",
              "        [ 21,  68, 129],\n",
              "        ...,\n",
              "        [ 83, 153, 206],\n",
              "        [ 76, 146, 199],\n",
              "        [ 72, 142, 195]],\n",
              "\n",
              "       [[ 15,  62, 124],\n",
              "        [ 44,  91, 153],\n",
              "        [ 32,  79, 140],\n",
              "        ...,\n",
              "        [ 81, 154, 206],\n",
              "        [ 77, 147, 200],\n",
              "        [ 70, 143, 195]],\n",
              "\n",
              "       [[ 25,  75, 135],\n",
              "        [ 25,  75, 135],\n",
              "        [ 10,  57, 118],\n",
              "        ...,\n",
              "        [ 78, 153, 205],\n",
              "        [ 71, 144, 196],\n",
              "        [ 64, 139, 191]]], dtype=uint8)"
            ]
          },
          "metadata": {}
        },
        {
          "output_type": "stream",
          "name": "stdout",
          "text": [
            "(256, 256, 3)\n",
            "\n",
            "/n########################################\n",
            "resized image shape = "
          ]
        },
        {
          "output_type": "display_data",
          "data": {
            "text/plain": [
              "'anomaly image'"
            ],
            "application/vnd.google.colaboratory.intrinsic+json": {
              "type": "string"
            }
          },
          "metadata": {}
        },
        {
          "output_type": "stream",
          "name": "stdout",
          "text": [
            " "
          ]
        },
        {
          "output_type": "display_data",
          "data": {
            "text/plain": [
              "array([[[ 69, 162, 133],\n",
              "        [ 62, 155, 126],\n",
              "        [ 49, 145, 115],\n",
              "        ...,\n",
              "        [ 64, 167, 130],\n",
              "        [  3, 108,  71],\n",
              "        [ 28, 133,  96]],\n",
              "\n",
              "       [[ 67, 160, 131],\n",
              "        [ 58, 154, 124],\n",
              "        [ 49, 145, 115],\n",
              "        ...,\n",
              "        [ 93, 196, 159],\n",
              "        [ 13, 118,  81],\n",
              "        [ 10, 115,  78]],\n",
              "\n",
              "       [[ 47, 143, 113],\n",
              "        [ 41, 139, 109],\n",
              "        [ 34, 132, 102],\n",
              "        ...,\n",
              "        [ 83, 186, 149],\n",
              "        [  1, 106,  69],\n",
              "        [  0,  80,  43]],\n",
              "\n",
              "       ...,\n",
              "\n",
              "       [[ 43, 109,  80],\n",
              "        [  2,  68,  39],\n",
              "        [  1,  65,  36],\n",
              "        ...,\n",
              "        [  0,  66,  36],\n",
              "        [  4,  76,  46],\n",
              "        [ 13,  85,  55]],\n",
              "\n",
              "       [[ 28,  92,  63],\n",
              "        [  0,  63,  34],\n",
              "        [  0,  62,  33],\n",
              "        ...,\n",
              "        [  0,  60,  30],\n",
              "        [  0,  68,  38],\n",
              "        [  4,  76,  46]],\n",
              "\n",
              "       [[ 27,  91,  62],\n",
              "        [  2,  66,  37],\n",
              "        [  0,  62,  33],\n",
              "        ...,\n",
              "        [  0,  67,  37],\n",
              "        [  0,  70,  40],\n",
              "        [  0,  69,  39]]], dtype=uint8)"
            ]
          },
          "metadata": {}
        },
        {
          "output_type": "display_data",
          "data": {
            "text/plain": [
              "'anomaly image'"
            ],
            "application/vnd.google.colaboratory.intrinsic+json": {
              "type": "string"
            }
          },
          "metadata": {}
        },
        {
          "output_type": "stream",
          "name": "stdout",
          "text": [
            "(256, 256, 3)\n",
            "/n########################################\n"
          ]
        },
        {
          "output_type": "display_data",
          "data": {
            "text/plain": [
              "array([[[125, 130, 103],\n",
              "        [118, 122,  97],\n",
              "        [110, 112,  93],\n",
              "        ...,\n",
              "        [205, 211, 192],\n",
              "        [204, 210, 193],\n",
              "        [203, 209, 192]],\n",
              "\n",
              "       [[123, 128, 101],\n",
              "        [117, 121,  96],\n",
              "        [112, 114,  95],\n",
              "        ...,\n",
              "        [209, 215, 196],\n",
              "        [209, 215, 198],\n",
              "        [208, 214, 197]],\n",
              "\n",
              "       [[119, 123,  98],\n",
              "        [117, 120,  98],\n",
              "        [117, 119, 100],\n",
              "        ...,\n",
              "        [213, 219, 200],\n",
              "        [214, 220, 203],\n",
              "        [214, 220, 203]],\n",
              "\n",
              "       ...,\n",
              "\n",
              "       [[116, 123, 120],\n",
              "        [117, 124, 121],\n",
              "        [119, 126, 123],\n",
              "        ...,\n",
              "        [194, 195, 191],\n",
              "        [198, 199, 195],\n",
              "        [199, 200, 196]],\n",
              "\n",
              "       [[116, 123, 120],\n",
              "        [117, 124, 121],\n",
              "        [120, 127, 124],\n",
              "        ...,\n",
              "        [193, 194, 190],\n",
              "        [197, 198, 194],\n",
              "        [199, 200, 196]],\n",
              "\n",
              "       [[117, 124, 121],\n",
              "        [118, 125, 122],\n",
              "        [120, 127, 124],\n",
              "        ...,\n",
              "        [191, 192, 188],\n",
              "        [195, 196, 192],\n",
              "        [198, 199, 195]]], dtype=uint8)"
            ]
          },
          "metadata": {}
        },
        {
          "output_type": "display_data",
          "data": {
            "text/plain": [
              "'anomaly image'"
            ],
            "application/vnd.google.colaboratory.intrinsic+json": {
              "type": "string"
            }
          },
          "metadata": {}
        },
        {
          "output_type": "stream",
          "name": "stdout",
          "text": [
            "height = 900, width = 900\n",
            "height = 900, width = 900resized image shape = \n",
            "resized image shape =  height = 900, width = 900 (256, 256, 3)\n",
            "\n",
            "(256, 256, 3)/n########################################resized image shape =  \n",
            "\n",
            "(256, 256, 3)/n########################################\n",
            "\n",
            "/n########################################"
          ]
        },
        {
          "output_type": "display_data",
          "data": {
            "text/plain": [
              "array([[[111, 111, 111],\n",
              "        [ 29,  29,  29],\n",
              "        [  2,   2,   2],\n",
              "        ...,\n",
              "        [195, 195, 195],\n",
              "        [251, 251, 251],\n",
              "        [179, 179, 179]],\n",
              "\n",
              "       [[255, 255, 255],\n",
              "        [205, 205, 205],\n",
              "        [ 86,  86,  86],\n",
              "        ...,\n",
              "        [250, 250, 250],\n",
              "        [254, 254, 254],\n",
              "        [255, 255, 255]],\n",
              "\n",
              "       [[255, 255, 255],\n",
              "        [254, 254, 254],\n",
              "        [243, 243, 243],\n",
              "        ...,\n",
              "        [255, 255, 255],\n",
              "        [254, 254, 254],\n",
              "        [254, 254, 254]],\n",
              "\n",
              "       ...,\n",
              "\n",
              "       [[255, 255, 255],\n",
              "        [255, 255, 255],\n",
              "        [255, 255, 255],\n",
              "        ...,\n",
              "        [255, 255, 255],\n",
              "        [255, 255, 255],\n",
              "        [255, 255, 255]],\n",
              "\n",
              "       [[255, 255, 255],\n",
              "        [255, 255, 255],\n",
              "        [255, 255, 255],\n",
              "        ...,\n",
              "        [255, 255, 255],\n",
              "        [255, 255, 255],\n",
              "        [255, 255, 255]],\n",
              "\n",
              "       [[255, 255, 255],\n",
              "        [255, 255, 255],\n",
              "        [255, 255, 255],\n",
              "        ...,\n",
              "        [255, 255, 255],\n",
              "        [255, 255, 255],\n",
              "        [255, 255, 255]]], dtype=uint8)"
            ]
          },
          "metadata": {}
        },
        {
          "output_type": "stream",
          "name": "stdout",
          "text": [
            "\n"
          ]
        },
        {
          "output_type": "display_data",
          "data": {
            "text/plain": [
              "'anomaly image'"
            ],
            "application/vnd.google.colaboratory.intrinsic+json": {
              "type": "string"
            }
          },
          "metadata": {}
        },
        {
          "output_type": "display_data",
          "data": {
            "text/plain": [
              "array([[[153, 171, 172],\n",
              "        [149, 170, 171],\n",
              "        [153, 171, 172],\n",
              "        ...,\n",
              "        [146, 154, 154],\n",
              "        [167, 173, 178],\n",
              "        [ 63,  68,  67]],\n",
              "\n",
              "       [[148, 169, 171],\n",
              "        [153, 170, 173],\n",
              "        [153, 169, 168],\n",
              "        ...,\n",
              "        [149, 157, 156],\n",
              "        [168, 174, 181],\n",
              "        [ 62,  65,  69]],\n",
              "\n",
              "       [[151, 170, 173],\n",
              "        [153, 172, 175],\n",
              "        [153, 173, 174],\n",
              "        ...,\n",
              "        [145, 152, 149],\n",
              "        [162, 170, 169],\n",
              "        [ 64,  66,  66]],\n",
              "\n",
              "       ...,\n",
              "\n",
              "       [[209, 213, 194],\n",
              "        [209, 212, 197],\n",
              "        [211, 212, 202],\n",
              "        ...,\n",
              "        [190, 195, 186],\n",
              "        [217, 219, 207],\n",
              "        [ 80,  82,  76]],\n",
              "\n",
              "       [[228, 232, 213],\n",
              "        [227, 233, 214],\n",
              "        [227, 230, 215],\n",
              "        ...,\n",
              "        [211, 215, 203],\n",
              "        [240, 243, 227],\n",
              "        [ 93,  95,  89]],\n",
              "\n",
              "       [[ 86,  86,  80],\n",
              "        [ 89,  89,  83],\n",
              "        [ 89,  89,  83],\n",
              "        ...,\n",
              "        [ 79,  78,  74],\n",
              "        [ 90,  92,  86],\n",
              "        [ 37,  38,  34]]], dtype=uint8)"
            ]
          },
          "metadata": {}
        },
        {
          "output_type": "display_data",
          "data": {
            "text/plain": [
              "array([[[ 39,  53,  51],\n",
              "        [ 40,  54,  52],\n",
              "        [ 23,  37,  35],\n",
              "        ...,\n",
              "        [138, 152, 150],\n",
              "        [120, 134, 132],\n",
              "        [ 93, 107, 105]],\n",
              "\n",
              "       [[ 44,  58,  56],\n",
              "        [ 48,  62,  60],\n",
              "        [ 30,  44,  42],\n",
              "        ...,\n",
              "        [ 94, 108, 106],\n",
              "        [ 77,  91,  89],\n",
              "        [ 58,  72,  70]],\n",
              "\n",
              "       [[ 28,  42,  40],\n",
              "        [ 52,  66,  64],\n",
              "        [ 49,  63,  61],\n",
              "        ...,\n",
              "        [ 79,  93,  91],\n",
              "        [ 70,  84,  82],\n",
              "        [ 63,  77,  75]],\n",
              "\n",
              "       ...,\n",
              "\n",
              "       [[ 47,  57,  51],\n",
              "        [ 44,  55,  47],\n",
              "        [ 47,  57,  51],\n",
              "        ...,\n",
              "        [130, 144, 140],\n",
              "        [134, 148, 144],\n",
              "        [128, 142, 138]],\n",
              "\n",
              "       [[ 22,  30,  23],\n",
              "        [ 18,  26,  19],\n",
              "        [ 20,  28,  21],\n",
              "        ...,\n",
              "        [ 52,  66,  62],\n",
              "        [155, 169, 165],\n",
              "        [169, 183, 179]],\n",
              "\n",
              "       [[ 29,  37,  27],\n",
              "        [ 24,  32,  22],\n",
              "        [ 24,  32,  22],\n",
              "        ...,\n",
              "        [ 34,  48,  44],\n",
              "        [ 88, 102,  98],\n",
              "        [120, 134, 130]]], dtype=uint8)"
            ]
          },
          "metadata": {}
        },
        {
          "output_type": "stream",
          "name": "stdout",
          "text": [
            "height = 900, width = 900\n"
          ]
        },
        {
          "output_type": "display_data",
          "data": {
            "text/plain": [
              "'anomaly image'"
            ],
            "application/vnd.google.colaboratory.intrinsic+json": {
              "type": "string"
            }
          },
          "metadata": {}
        },
        {
          "output_type": "display_data",
          "data": {
            "text/plain": [
              "'anomaly image'"
            ],
            "application/vnd.google.colaboratory.intrinsic+json": {
              "type": "string"
            }
          },
          "metadata": {}
        },
        {
          "output_type": "stream",
          "name": "stdout",
          "text": [
            "resized image shape =  (256, 256, 3)\n",
            "/n########################################height = 900, width = 900\n",
            "\n",
            "resized image shape =  (256, 256, 3)\n",
            "height = 900, width = 900/n########################################\n",
            "\n",
            "resized image shape = "
          ]
        },
        {
          "output_type": "display_data",
          "data": {
            "text/plain": [
              "array([[[ 32,  31,  27],\n",
              "        [ 74,  73,  69],\n",
              "        [ 88,  87,  83],\n",
              "        ...,\n",
              "        [144, 146, 146],\n",
              "        [205, 210, 209],\n",
              "        [213, 218, 217]],\n",
              "\n",
              "       [[ 56,  55,  51],\n",
              "        [ 38,  37,  33],\n",
              "        [ 51,  50,  46],\n",
              "        ...,\n",
              "        [156, 158, 158],\n",
              "        [201, 206, 205],\n",
              "        [205, 210, 209]],\n",
              "\n",
              "       [[100,  99,  95],\n",
              "        [ 29,  28,  24],\n",
              "        [ 27,  26,  22],\n",
              "        ...,\n",
              "        [186, 188, 188],\n",
              "        [221, 226, 225],\n",
              "        [228, 233, 232]],\n",
              "\n",
              "       ...,\n",
              "\n",
              "       [[100,  96,  95],\n",
              "        [171, 169, 168],\n",
              "        [204, 202, 201],\n",
              "        ...,\n",
              "        [ 30,  34,  29],\n",
              "        [ 45,  49,  44],\n",
              "        [ 61,  65,  60]],\n",
              "\n",
              "       [[ 60,  56,  55],\n",
              "        [ 94,  92,  91],\n",
              "        [105, 103, 102],\n",
              "        ...,\n",
              "        [ 44,  48,  43],\n",
              "        [ 93,  97,  92],\n",
              "        [127, 131, 126]],\n",
              "\n",
              "       [[ 61,  57,  56],\n",
              "        [ 56,  54,  53],\n",
              "        [ 33,  31,  30],\n",
              "        ...,\n",
              "        [117, 121, 116],\n",
              "        [189, 193, 188],\n",
              "        [218, 222, 217]]], dtype=uint8)"
            ]
          },
          "metadata": {}
        },
        {
          "output_type": "display_data",
          "data": {
            "text/plain": [
              "array([[[173,  82, 105],\n",
              "        [157,  66, 115],\n",
              "        [158,  67, 116],\n",
              "        ...,\n",
              "        [141,  57,  99],\n",
              "        [131,  57,  99],\n",
              "        [160,  66, 130]],\n",
              "\n",
              "       [[186,  99, 119],\n",
              "        [172,  82, 105],\n",
              "        [148,  66, 108],\n",
              "        ...,\n",
              "        [115,  41,  89],\n",
              "        [148,  66, 115],\n",
              "        [146,  74, 140]],\n",
              "\n",
              "       [[171,  82, 115],\n",
              "        [165,  74, 123],\n",
              "        [141,  57, 115],\n",
              "        ...,\n",
              "        [130,  48,  97],\n",
              "        [115,  33,  56],\n",
              "        [172, 100, 152]],\n",
              "\n",
              "       ...,\n",
              "\n",
              "       [[147,  66,  99],\n",
              "        [135,  53,  88],\n",
              "        [131,  49,  98],\n",
              "        ...,\n",
              "        [ 71,  22,  50],\n",
              "        [ 72,  21,  49],\n",
              "        [ 85,  33,  57]],\n",
              "\n",
              "       [[138,  54,  89],\n",
              "        [131,  56, 108],\n",
              "        [124,  49, 105],\n",
              "        ...,\n",
              "        [ 86,  34,  58],\n",
              "        [ 73,  22,  50],\n",
              "        [ 73,  22,  50]],\n",
              "\n",
              "       [[131,  57, 105],\n",
              "        [124,  49, 103],\n",
              "        [130,  56, 114],\n",
              "        ...,\n",
              "        [ 68,  16,  40],\n",
              "        [ 91,  33,  68],\n",
              "        [ 73,  22,  50]]], dtype=uint8)"
            ]
          },
          "metadata": {}
        },
        {
          "output_type": "stream",
          "name": "stdout",
          "text": [
            " "
          ]
        },
        {
          "output_type": "display_data",
          "data": {
            "text/plain": [
              "'anomaly image'"
            ],
            "application/vnd.google.colaboratory.intrinsic+json": {
              "type": "string"
            }
          },
          "metadata": {}
        },
        {
          "output_type": "stream",
          "name": "stdout",
          "text": [
            "height = 900, width = 900"
          ]
        },
        {
          "output_type": "display_data",
          "data": {
            "text/plain": [
              "'anomaly image'"
            ],
            "application/vnd.google.colaboratory.intrinsic+json": {
              "type": "string"
            }
          },
          "metadata": {}
        },
        {
          "output_type": "stream",
          "name": "stdout",
          "text": [
            "(256, 256, 3)\n",
            "\n",
            "/n########################################resized image shape = \n",
            " "
          ]
        },
        {
          "output_type": "display_data",
          "data": {
            "text/plain": [
              "array([[[  2,   2,   2],\n",
              "        [  3,   2,   4],\n",
              "        [ 12,  13,  17],\n",
              "        ...,\n",
              "        [  0,   3,   7],\n",
              "        [  2,   1,   5],\n",
              "        [  2,   1,   3]],\n",
              "\n",
              "       [[  2,   1,   3],\n",
              "        [  0,   0,   1],\n",
              "        [ 65,  65,  71],\n",
              "        ...,\n",
              "        [ 26,  29,  34],\n",
              "        [  0,   0,   3],\n",
              "        [  0,   0,   1]],\n",
              "\n",
              "       [[  9,  10,  14],\n",
              "        [ 65,  66,  70],\n",
              "        [219, 219, 225],\n",
              "        ...,\n",
              "        [111, 114, 119],\n",
              "        [ 39,  42,  47],\n",
              "        [ 13,  16,  20]],\n",
              "\n",
              "       ...,\n",
              "\n",
              "       [[  0,   2,  10],\n",
              "        [ 27,  30,  38],\n",
              "        [111, 113, 123],\n",
              "        ...,\n",
              "        [112, 115, 123],\n",
              "        [ 27,  29,  37],\n",
              "        [  0,   3,   8]],\n",
              "\n",
              "       [[  1,   1,   7],\n",
              "        [  0,   1,   6],\n",
              "        [ 42,  44,  52],\n",
              "        ...,\n",
              "        [ 27,  30,  38],\n",
              "        [  0,   0,   5],\n",
              "        [  0,   0,   4]],\n",
              "\n",
              "       [[  1,   2,   6],\n",
              "        [  0,   1,   5],\n",
              "        [ 15,  17,  25],\n",
              "        ...,\n",
              "        [  0,   3,   8],\n",
              "        [  0,   0,   6],\n",
              "        [  0,   0,   4]]], dtype=uint8)"
            ]
          },
          "metadata": {}
        },
        {
          "output_type": "stream",
          "name": "stdout",
          "text": [
            "(256, 256, 3)"
          ]
        },
        {
          "output_type": "display_data",
          "data": {
            "text/plain": [
              "'anomaly image'"
            ],
            "application/vnd.google.colaboratory.intrinsic+json": {
              "type": "string"
            }
          },
          "metadata": {}
        },
        {
          "output_type": "stream",
          "name": "stdout",
          "text": [
            "\n",
            "/n########################################\n"
          ]
        },
        {
          "output_type": "display_data",
          "data": {
            "text/plain": [
              "array([[[ 38,  49,  57],\n",
              "        [ 35,  47,  53],\n",
              "        [ 30,  42,  48],\n",
              "        ...,\n",
              "        [ 85, 129, 182],\n",
              "        [ 85, 131, 185],\n",
              "        [ 87, 132, 189]],\n",
              "\n",
              "       [[ 25,  34,  43],\n",
              "        [ 26,  36,  43],\n",
              "        [ 26,  36,  43],\n",
              "        ...,\n",
              "        [109, 142, 181],\n",
              "        [102, 137, 180],\n",
              "        [ 99, 134, 178]],\n",
              "\n",
              "       [[ 26,  31,  40],\n",
              "        [ 26,  31,  40],\n",
              "        [ 30,  35,  44],\n",
              "        ...,\n",
              "        [172, 186, 208],\n",
              "        [168, 182, 205],\n",
              "        [154, 169, 195]],\n",
              "\n",
              "       ...,\n",
              "\n",
              "       [[ 17,  21,  22],\n",
              "        [ 17,  21,  22],\n",
              "        [ 22,  23,  27],\n",
              "        ...,\n",
              "        [ 86,  95, 104],\n",
              "        [ 83,  92, 101],\n",
              "        [ 92, 103, 111]],\n",
              "\n",
              "       [[ 21,  23,  23],\n",
              "        [ 20,  22,  23],\n",
              "        [ 22,  24,  25],\n",
              "        ...,\n",
              "        [ 92, 101, 111],\n",
              "        [ 86,  97, 105],\n",
              "        [ 91, 104, 112]],\n",
              "\n",
              "       [[ 23,  25,  25],\n",
              "        [ 22,  24,  24],\n",
              "        [ 24,  26,  27],\n",
              "        ...,\n",
              "        [ 96, 106, 116],\n",
              "        [ 88, 100, 112],\n",
              "        [ 91, 103, 113]]], dtype=uint8)"
            ]
          },
          "metadata": {}
        },
        {
          "output_type": "display_data",
          "data": {
            "text/plain": [
              "'anomaly image'"
            ],
            "application/vnd.google.colaboratory.intrinsic+json": {
              "type": "string"
            }
          },
          "metadata": {}
        },
        {
          "output_type": "stream",
          "name": "stdout",
          "text": [
            "height = 900, width = 900\n",
            "resized image shape =  (256, 256, 3)height = 900, width = 900height = 900, width = 900\n",
            "\n",
            "/n########################################\n",
            "\n",
            "resized image shape = resized image shape =  (256, 256, 3)\n",
            " "
          ]
        },
        {
          "output_type": "display_data",
          "data": {
            "text/plain": [
              "array([[[106, 111, 190],\n",
              "        [108, 113, 192],\n",
              "        [107, 111, 192],\n",
              "        ...,\n",
              "        [ 90,  71, 218],\n",
              "        [101,  84, 225],\n",
              "        [104,  93, 220]],\n",
              "\n",
              "       [[102, 107, 186],\n",
              "        [104, 109, 188],\n",
              "        [103, 107, 188],\n",
              "        ...,\n",
              "        [ 98,  81, 222],\n",
              "        [ 92,  78, 214],\n",
              "        [106,  97, 218]],\n",
              "\n",
              "       [[ 96, 101, 180],\n",
              "        [ 97, 102, 181],\n",
              "        [ 97, 101, 182],\n",
              "        ...,\n",
              "        [ 97,  84, 216],\n",
              "        [100,  89, 216],\n",
              "        [122, 116, 229]],\n",
              "\n",
              "       ...,\n",
              "\n",
              "       [[ 76,  76, 152],\n",
              "        [ 93,  94, 168],\n",
              "        [107, 106, 180],\n",
              "        ...,\n",
              "        [120, 123, 228],\n",
              "        [ 95,  96, 208],\n",
              "        [ 89,  90, 202]],\n",
              "\n",
              "       [[ 58,  59, 139],\n",
              "        [ 78,  80, 158],\n",
              "        [100,  98, 174],\n",
              "        ...,\n",
              "        [162, 168, 255],\n",
              "        [153, 157, 255],\n",
              "        [149, 154, 255]],\n",
              "\n",
              "       [[ 43,  44, 125],\n",
              "        [ 66,  67, 147],\n",
              "        [ 94,  91, 170],\n",
              "        ...,\n",
              "        [137, 143, 238],\n",
              "        [120, 124, 226],\n",
              "        [ 96, 101, 204]]], dtype=uint8)"
            ]
          },
          "metadata": {}
        },
        {
          "output_type": "stream",
          "name": "stdout",
          "text": [
            "(256, 256, 3)/n########################################"
          ]
        },
        {
          "output_type": "display_data",
          "data": {
            "text/plain": [
              "'anomaly image'"
            ],
            "application/vnd.google.colaboratory.intrinsic+json": {
              "type": "string"
            }
          },
          "metadata": {}
        },
        {
          "output_type": "stream",
          "name": "stdout",
          "text": [
            "\n",
            "\n",
            "/n########################################\n"
          ]
        },
        {
          "output_type": "display_data",
          "data": {
            "text/plain": [
              "array([[[ 56,  78,  89],\n",
              "        [129, 156, 166],\n",
              "        [ 88, 118, 129],\n",
              "        ...,\n",
              "        [201, 216, 219],\n",
              "        [ 84, 101, 104],\n",
              "        [130, 147, 150]],\n",
              "\n",
              "       [[ 39,  61,  72],\n",
              "        [ 76, 101, 111],\n",
              "        [ 52,  82,  93],\n",
              "        ...,\n",
              "        [218, 233, 236],\n",
              "        [162, 179, 182],\n",
              "        [116, 133, 136]],\n",
              "\n",
              "       [[ 35,  57,  68],\n",
              "        [ 61,  86,  96],\n",
              "        [ 78, 108, 119],\n",
              "        ...,\n",
              "        [137, 152, 155],\n",
              "        [228, 245, 248],\n",
              "        [120, 137, 140]],\n",
              "\n",
              "       ...,\n",
              "\n",
              "       [[  8,  70, 110],\n",
              "        [  8,  70, 110],\n",
              "        [  8,  70, 110],\n",
              "        ...,\n",
              "        [ 14,  89, 128],\n",
              "        [ 14,  89, 128],\n",
              "        [ 14,  89, 128]],\n",
              "\n",
              "       [[  8,  70, 110],\n",
              "        [  8,  70, 110],\n",
              "        [  8,  70, 110],\n",
              "        ...,\n",
              "        [ 14,  89, 128],\n",
              "        [ 14,  89, 128],\n",
              "        [ 14,  89, 128]],\n",
              "\n",
              "       [[  8,  70, 110],\n",
              "        [  8,  70, 110],\n",
              "        [  8,  70, 110],\n",
              "        ...,\n",
              "        [ 14,  89, 128],\n",
              "        [ 14,  89, 128],\n",
              "        [ 14,  89, 128]]], dtype=uint8)"
            ]
          },
          "metadata": {}
        },
        {
          "output_type": "display_data",
          "data": {
            "text/plain": [
              "'anomaly image'"
            ],
            "application/vnd.google.colaboratory.intrinsic+json": {
              "type": "string"
            }
          },
          "metadata": {}
        },
        {
          "output_type": "display_data",
          "data": {
            "text/plain": [
              "array([[[197, 174, 172],\n",
              "        [199, 176, 174],\n",
              "        [200, 177, 175],\n",
              "        ...,\n",
              "        [ 15, 125, 101],\n",
              "        [ 15, 123, 104],\n",
              "        [ 15, 123, 104]],\n",
              "\n",
              "       [[188, 165, 163],\n",
              "        [186, 165, 163],\n",
              "        [186, 163, 161],\n",
              "        ...,\n",
              "        [ 15, 125, 101],\n",
              "        [ 11, 119, 100],\n",
              "        [ 11, 119, 100]],\n",
              "\n",
              "       [[177, 156, 155],\n",
              "        [175, 155, 154],\n",
              "        [172, 151, 150],\n",
              "        ...,\n",
              "        [ 15, 125, 101],\n",
              "        [  9, 117,  98],\n",
              "        [  9, 117,  98]],\n",
              "\n",
              "       ...,\n",
              "\n",
              "       [[111,  96,  94],\n",
              "        [107,  92,  90],\n",
              "        [105,  90,  88],\n",
              "        ...,\n",
              "        [129, 119, 125],\n",
              "        [120, 113, 116],\n",
              "        [118, 113, 115]],\n",
              "\n",
              "       [[117,  99,  98],\n",
              "        [110,  92,  91],\n",
              "        [104,  86,  85],\n",
              "        ...,\n",
              "        [123, 113, 119],\n",
              "        [116, 109, 112],\n",
              "        [114, 109, 111]],\n",
              "\n",
              "       [[125, 107, 106],\n",
              "        [116,  98,  97],\n",
              "        [107,  89,  88],\n",
              "        ...,\n",
              "        [117, 107, 113],\n",
              "        [116, 109, 112],\n",
              "        [115, 110, 112]]], dtype=uint8)"
            ]
          },
          "metadata": {}
        },
        {
          "output_type": "display_data",
          "data": {
            "text/plain": [
              "'anomaly image'"
            ],
            "application/vnd.google.colaboratory.intrinsic+json": {
              "type": "string"
            }
          },
          "metadata": {}
        },
        {
          "output_type": "stream",
          "name": "stdout",
          "text": [
            "height = 900, width = 900\n",
            "resized image shape =  (256, 256, 3)\n",
            "/n########################################\n"
          ]
        },
        {
          "output_type": "display_data",
          "data": {
            "text/plain": [
              "array([[[183, 182, 184],\n",
              "        [117, 116, 118],\n",
              "        [132, 131, 133],\n",
              "        ...,\n",
              "        [236, 236, 236],\n",
              "        [246, 246, 246],\n",
              "        [251, 251, 251]],\n",
              "\n",
              "       [[105, 104, 106],\n",
              "        [ 25,  24,  26],\n",
              "        [ 30,  29,  31],\n",
              "        ...,\n",
              "        [255, 255, 255],\n",
              "        [234, 234, 234],\n",
              "        [249, 249, 249]],\n",
              "\n",
              "       [[122, 121, 123],\n",
              "        [ 27,  26,  28],\n",
              "        [ 22,  21,  23],\n",
              "        ...,\n",
              "        [157, 157, 157],\n",
              "        [237, 237, 237],\n",
              "        [239, 239, 239]],\n",
              "\n",
              "       ...,\n",
              "\n",
              "       [[111, 113, 114],\n",
              "        [ 17,  19,  20],\n",
              "        [ 13,  15,  16],\n",
              "        ...,\n",
              "        [ 13,  15,  16],\n",
              "        [ 13,  15,  16],\n",
              "        [ 13,  15,  16]],\n",
              "\n",
              "       [[109, 111, 112],\n",
              "        [ 15,  17,  18],\n",
              "        [ 12,  14,  15],\n",
              "        ...,\n",
              "        [ 14,  16,  17],\n",
              "        [ 14,  16,  17],\n",
              "        [ 14,  16,  17]],\n",
              "\n",
              "       [[108, 110, 111],\n",
              "        [ 14,  16,  17],\n",
              "        [ 11,  13,  14],\n",
              "        ...,\n",
              "        [ 15,  17,  18],\n",
              "        [ 15,  17,  18],\n",
              "        [ 15,  17,  18]]], dtype=uint8)"
            ]
          },
          "metadata": {}
        },
        {
          "output_type": "display_data",
          "data": {
            "text/plain": [
              "'anomaly image'"
            ],
            "application/vnd.google.colaboratory.intrinsic+json": {
              "type": "string"
            }
          },
          "metadata": {}
        },
        {
          "output_type": "stream",
          "name": "stdout",
          "text": [
            "height = 900, width = 900\n",
            "resized image shape =  (256, 256, 3)height = 900, width = 900\n",
            "\n",
            "resized image shape =  (256, 256, 3)\n",
            "/n########################################/n########################################\n",
            "\n",
            "height = 900, width = 900height = 900, width = 900"
          ]
        },
        {
          "output_type": "display_data",
          "data": {
            "text/plain": [
              "array([[[162,  86, 118],\n",
              "        [160,  84, 116],\n",
              "        [160,  84, 118],\n",
              "        ...,\n",
              "        [158,  91, 136],\n",
              "        [156,  89, 134],\n",
              "        [153,  86, 131]],\n",
              "\n",
              "       [[161,  82, 115],\n",
              "        [158,  82, 114],\n",
              "        [160,  83, 117],\n",
              "        ...,\n",
              "        [162,  95, 140],\n",
              "        [161,  94, 139],\n",
              "        [163,  96, 141]],\n",
              "\n",
              "       [[161,  80, 113],\n",
              "        [159,  80, 113],\n",
              "        [160,  80, 115],\n",
              "        ...,\n",
              "        [167,  99, 146],\n",
              "        [171, 103, 150],\n",
              "        [174, 106, 153]],\n",
              "\n",
              "       ...,\n",
              "\n",
              "       [[147,  57, 100],\n",
              "        [148,  58, 101],\n",
              "        [146,  59, 103],\n",
              "        ...,\n",
              "        [199, 180, 223],\n",
              "        [194, 175, 218],\n",
              "        [189, 169, 212]],\n",
              "\n",
              "       [[143,  51,  92],\n",
              "        [142,  53,  93],\n",
              "        [142,  53,  96],\n",
              "        ...,\n",
              "        [196, 178, 219],\n",
              "        [191, 175, 216],\n",
              "        [193, 175, 216]],\n",
              "\n",
              "       [[140,  48,  89],\n",
              "        [137,  48,  88],\n",
              "        [139,  49,  92],\n",
              "        ...,\n",
              "        [191, 176, 214],\n",
              "        [191, 176, 214],\n",
              "        [197, 179, 218]]], dtype=uint8)"
            ]
          },
          "metadata": {}
        },
        {
          "output_type": "display_data",
          "data": {
            "text/plain": [
              "'anomaly image'"
            ],
            "application/vnd.google.colaboratory.intrinsic+json": {
              "type": "string"
            }
          },
          "metadata": {}
        },
        {
          "output_type": "stream",
          "name": "stdout",
          "text": [
            "\n",
            "\n",
            "resized image shape = resized image shape =   (256, 256, 3)(256, 256, 3)\n",
            "\n",
            "/n########################################/n########################################\n",
            "\n"
          ]
        },
        {
          "output_type": "display_data",
          "data": {
            "text/plain": [
              "array([[[ 97, 205, 246],\n",
              "        [146, 220, 246],\n",
              "        [211, 235, 247],\n",
              "        ...,\n",
              "        [ 54, 205, 242],\n",
              "        [ 57, 207, 244],\n",
              "        [ 58, 208, 245]],\n",
              "\n",
              "       [[ 92, 206, 242],\n",
              "        [130, 214, 240],\n",
              "        [181, 226, 237],\n",
              "        ...,\n",
              "        [ 58, 208, 245],\n",
              "        [ 57, 207, 244],\n",
              "        [ 57, 207, 244]],\n",
              "\n",
              "       [[ 87, 205, 240],\n",
              "        [101, 206, 233],\n",
              "        [134, 213, 226],\n",
              "        ...,\n",
              "        [ 59, 209, 246],\n",
              "        [ 59, 209, 246],\n",
              "        [ 58, 208, 245]],\n",
              "\n",
              "       ...,\n",
              "\n",
              "       [[  9, 191, 227],\n",
              "        [  4, 188, 224],\n",
              "        [  2, 188, 223],\n",
              "        ...,\n",
              "        [ 62, 201, 228],\n",
              "        [100, 208, 232],\n",
              "        [125, 212, 232]],\n",
              "\n",
              "       [[ 10, 192, 228],\n",
              "        [  5, 189, 225],\n",
              "        [  3, 189, 224],\n",
              "        ...,\n",
              "        [ 88, 208, 230],\n",
              "        [132, 218, 236],\n",
              "        [162, 223, 237]],\n",
              "\n",
              "       [[ 13, 192, 229],\n",
              "        [  8, 190, 226],\n",
              "        [  5, 189, 225],\n",
              "        ...,\n",
              "        [100, 212, 232],\n",
              "        [144, 222, 235],\n",
              "        [181, 226, 239]]], dtype=uint8)"
            ]
          },
          "metadata": {}
        },
        {
          "output_type": "display_data",
          "data": {
            "text/plain": [
              "array([[[33, 32, 34],\n",
              "        [39, 38, 40],\n",
              "        [36, 35, 37],\n",
              "        ...,\n",
              "        [26, 29, 20],\n",
              "        [20, 25, 16],\n",
              "        [22, 28, 17]],\n",
              "\n",
              "       [[35, 34, 36],\n",
              "        [37, 36, 38],\n",
              "        [37, 36, 38],\n",
              "        ...,\n",
              "        [31, 34, 25],\n",
              "        [22, 27, 18],\n",
              "        [24, 30, 19]],\n",
              "\n",
              "       [[35, 35, 35],\n",
              "        [35, 35, 35],\n",
              "        [38, 38, 38],\n",
              "        ...,\n",
              "        [31, 34, 25],\n",
              "        [24, 29, 20],\n",
              "        [28, 34, 23]],\n",
              "\n",
              "       ...,\n",
              "\n",
              "       [[49, 48, 52],\n",
              "        [45, 44, 46],\n",
              "        [49, 47, 47],\n",
              "        ...,\n",
              "        [16, 20, 31],\n",
              "        [11, 15, 26],\n",
              "        [ 7, 11, 22]],\n",
              "\n",
              "       [[49, 46, 48],\n",
              "        [45, 42, 44],\n",
              "        [51, 46, 47],\n",
              "        ...,\n",
              "        [10, 14, 25],\n",
              "        [ 8, 12, 23],\n",
              "        [ 7, 11, 22]],\n",
              "\n",
              "       [[43, 40, 42],\n",
              "        [41, 39, 39],\n",
              "        [54, 49, 50],\n",
              "        ...,\n",
              "        [ 5,  9, 20],\n",
              "        [ 7, 11, 22],\n",
              "        [ 9, 13, 24]]], dtype=uint8)"
            ]
          },
          "metadata": {}
        },
        {
          "output_type": "display_data",
          "data": {
            "text/plain": [
              "'anomaly image'"
            ],
            "application/vnd.google.colaboratory.intrinsic+json": {
              "type": "string"
            }
          },
          "metadata": {}
        },
        {
          "output_type": "display_data",
          "data": {
            "text/plain": [
              "'anomaly image'"
            ],
            "application/vnd.google.colaboratory.intrinsic+json": {
              "type": "string"
            }
          },
          "metadata": {}
        },
        {
          "output_type": "display_data",
          "data": {
            "text/plain": [
              "array([[[ 62,  98, 144],\n",
              "        [ 52,  89, 133],\n",
              "        [ 39,  74, 118],\n",
              "        ...,\n",
              "        [ 43,  92, 138],\n",
              "        [ 43,  92, 138],\n",
              "        [ 43,  94, 137]],\n",
              "\n",
              "       [[ 70, 106, 152],\n",
              "        [ 63, 100, 144],\n",
              "        [ 54,  89, 133],\n",
              "        ...,\n",
              "        [ 30,  74, 121],\n",
              "        [ 30,  76, 123],\n",
              "        [ 34,  81, 125]],\n",
              "\n",
              "       [[ 74, 113, 158],\n",
              "        [ 71, 110, 154],\n",
              "        [ 67, 104, 148],\n",
              "        ...,\n",
              "        [ 17,  56, 101],\n",
              "        [ 22,  63, 108],\n",
              "        [ 29,  70, 115]],\n",
              "\n",
              "       ...,\n",
              "\n",
              "       [[ 93, 140, 178],\n",
              "        [ 90, 137, 175],\n",
              "        [ 90, 135, 172],\n",
              "        ...,\n",
              "        [ 25,  36,  64],\n",
              "        [ 16,  25,  52],\n",
              "        [ 10,  15,  40]],\n",
              "\n",
              "       [[106, 161, 200],\n",
              "        [117, 172, 209],\n",
              "        [132, 185, 222],\n",
              "        ...,\n",
              "        [ 10,  15,  40],\n",
              "        [  1,   6,  27],\n",
              "        [  0,   0,  18]],\n",
              "\n",
              "       [[ 95, 156, 196],\n",
              "        [107, 169, 207],\n",
              "        [120, 179, 218],\n",
              "        ...,\n",
              "        [  0,   4,  25],\n",
              "        [  0,   0,  15],\n",
              "        [  0,   0,  11]]], dtype=uint8)"
            ]
          },
          "metadata": {}
        },
        {
          "output_type": "display_data",
          "data": {
            "text/plain": [
              "'anomaly image'"
            ],
            "application/vnd.google.colaboratory.intrinsic+json": {
              "type": "string"
            }
          },
          "metadata": {}
        },
        {
          "output_type": "stream",
          "name": "stdout",
          "text": [
            "height = 900, width = 900\n",
            "resized image shape =  (256, 256, 3)\n",
            "/n########################################\n"
          ]
        },
        {
          "output_type": "display_data",
          "data": {
            "text/plain": [
              "array([[[126, 128, 128],\n",
              "        [121, 123, 123],\n",
              "        [122, 124, 124],\n",
              "        ...,\n",
              "        [128, 130, 130],\n",
              "        [129, 131, 131],\n",
              "        [129, 131, 131]],\n",
              "\n",
              "       [[134, 136, 136],\n",
              "        [129, 131, 131],\n",
              "        [130, 132, 132],\n",
              "        ...,\n",
              "        [127, 129, 129],\n",
              "        [127, 129, 129],\n",
              "        [127, 129, 129]],\n",
              "\n",
              "       [[141, 143, 143],\n",
              "        [136, 138, 138],\n",
              "        [137, 139, 139],\n",
              "        ...,\n",
              "        [123, 125, 125],\n",
              "        [124, 126, 126],\n",
              "        [125, 127, 127]],\n",
              "\n",
              "       ...,\n",
              "\n",
              "       [[112, 117, 118],\n",
              "        [112, 117, 118],\n",
              "        [112, 117, 118],\n",
              "        ...,\n",
              "        [171, 173, 174],\n",
              "        [169, 171, 172],\n",
              "        [168, 170, 171]],\n",
              "\n",
              "       [[112, 117, 118],\n",
              "        [112, 117, 118],\n",
              "        [112, 117, 118],\n",
              "        ...,\n",
              "        [172, 174, 175],\n",
              "        [171, 173, 174],\n",
              "        [170, 172, 173]],\n",
              "\n",
              "       [[112, 117, 118],\n",
              "        [112, 117, 118],\n",
              "        [112, 117, 118],\n",
              "        ...,\n",
              "        [176, 178, 179],\n",
              "        [175, 177, 178],\n",
              "        [174, 176, 177]]], dtype=uint8)"
            ]
          },
          "metadata": {}
        },
        {
          "output_type": "display_data",
          "data": {
            "text/plain": [
              "'anomaly image'"
            ],
            "application/vnd.google.colaboratory.intrinsic+json": {
              "type": "string"
            }
          },
          "metadata": {}
        },
        {
          "output_type": "stream",
          "name": "stdout",
          "text": [
            "height = 900, width = 900\n",
            "resized image shape =  (256, 256, 3)\n",
            "/n########################################\n"
          ]
        },
        {
          "output_type": "display_data",
          "data": {
            "text/plain": [
              "array([[[199, 182, 195],\n",
              "        [200, 186, 198],\n",
              "        [199, 185, 191],\n",
              "        ...,\n",
              "        [144, 149, 182],\n",
              "        [130, 136, 171],\n",
              "        [116, 122, 159]],\n",
              "\n",
              "       [[186, 174, 186],\n",
              "        [190, 179, 189],\n",
              "        [193, 181, 187],\n",
              "        ...,\n",
              "        [123, 131, 161],\n",
              "        [118, 124, 159],\n",
              "        [130, 136, 173]],\n",
              "\n",
              "       [[189, 181, 192],\n",
              "        [192, 184, 194],\n",
              "        [202, 195, 200],\n",
              "        ...,\n",
              "        [126, 134, 164],\n",
              "        [120, 127, 160],\n",
              "        [131, 140, 174]],\n",
              "\n",
              "       ...,\n",
              "\n",
              "       [[194, 184, 174],\n",
              "        [182, 172, 162],\n",
              "        [190, 179, 171],\n",
              "        ...,\n",
              "        [121, 113, 124],\n",
              "        [123, 116, 129],\n",
              "        [107, 103, 115]],\n",
              "\n",
              "       [[190, 184, 173],\n",
              "        [189, 180, 170],\n",
              "        [192, 183, 174],\n",
              "        ...,\n",
              "        [119, 111, 121],\n",
              "        [120, 114, 125],\n",
              "        [103,  99, 110]],\n",
              "\n",
              "       [[185, 181, 170],\n",
              "        [188, 184, 173],\n",
              "        [193, 186, 177],\n",
              "        ...,\n",
              "        [121, 114, 121],\n",
              "        [120, 116, 122],\n",
              "        [101,  98, 107]]], dtype=uint8)"
            ]
          },
          "metadata": {}
        },
        {
          "output_type": "display_data",
          "data": {
            "text/plain": [
              "'anomaly image'"
            ],
            "application/vnd.google.colaboratory.intrinsic+json": {
              "type": "string"
            }
          },
          "metadata": {}
        },
        {
          "output_type": "stream",
          "name": "stdout",
          "text": [
            "height = 900, width = 900height = 900, width = 900\n",
            "resized image shape =  (256, 256, 3)\n",
            "\n",
            "/n########################################\n",
            "resized image shape =  (256, 256, 3)"
          ]
        },
        {
          "output_type": "display_data",
          "data": {
            "text/plain": [
              "array([[[ 70, 100, 127],\n",
              "        [ 64,  94, 121],\n",
              "        [ 68, 100, 129],\n",
              "        ...,\n",
              "        [ 91, 120, 141],\n",
              "        [ 92, 127, 147],\n",
              "        [106, 144, 162]],\n",
              "\n",
              "       [[ 65,  95, 122],\n",
              "        [ 59,  92, 118],\n",
              "        [ 68, 100, 129],\n",
              "        ...,\n",
              "        [109, 140, 163],\n",
              "        [110, 147, 167],\n",
              "        [114, 156, 175]],\n",
              "\n",
              "       [[ 71, 103, 132],\n",
              "        [ 66, 100, 129],\n",
              "        [ 76, 111, 137],\n",
              "        ...,\n",
              "        [110, 146, 170],\n",
              "        [111, 153, 176],\n",
              "        [111, 158, 180]],\n",
              "\n",
              "       ...,\n",
              "\n",
              "       [[ 71, 110, 142],\n",
              "        [ 72, 111, 143],\n",
              "        [ 75, 115, 144],\n",
              "        ...,\n",
              "        [107, 116, 126],\n",
              "        [ 51,  50,  54],\n",
              "        [ 38,  32,  33]],\n",
              "\n",
              "       [[ 71, 110, 142],\n",
              "        [ 77, 116, 148],\n",
              "        [ 82, 122, 151],\n",
              "        ...,\n",
              "        [128, 140, 152],\n",
              "        [ 92,  95, 100],\n",
              "        [ 56,  55,  59]],\n",
              "\n",
              "       [[ 74, 113, 145],\n",
              "        [ 77, 116, 148],\n",
              "        [ 81, 120, 152],\n",
              "        ...,\n",
              "        [142, 155, 169],\n",
              "        [125, 132, 141],\n",
              "        [101, 105, 110]]], dtype=uint8)"
            ]
          },
          "metadata": {}
        },
        {
          "output_type": "stream",
          "name": "stdout",
          "text": [
            "\n",
            "/n########################################\n"
          ]
        },
        {
          "output_type": "display_data",
          "data": {
            "text/plain": [
              "'anomaly image'"
            ],
            "application/vnd.google.colaboratory.intrinsic+json": {
              "type": "string"
            }
          },
          "metadata": {}
        },
        {
          "output_type": "display_data",
          "data": {
            "text/plain": [
              "array([[[124, 134, 158],\n",
              "        [118, 128, 152],\n",
              "        [115, 125, 149],\n",
              "        ...,\n",
              "        [176, 185, 205],\n",
              "        [178, 187, 207],\n",
              "        [179, 188, 208]],\n",
              "\n",
              "       [[106, 115, 142],\n",
              "        [109, 118, 145],\n",
              "        [117, 126, 153],\n",
              "        ...,\n",
              "        [175, 184, 204],\n",
              "        [177, 186, 206],\n",
              "        [178, 187, 207]],\n",
              "\n",
              "       [[113, 124, 152],\n",
              "        [122, 133, 161],\n",
              "        [132, 143, 171],\n",
              "        ...,\n",
              "        [174, 183, 203],\n",
              "        [176, 185, 205],\n",
              "        [177, 186, 206]],\n",
              "\n",
              "       ...,\n",
              "\n",
              "       [[172, 186, 205],\n",
              "        [172, 186, 205],\n",
              "        [171, 185, 204],\n",
              "        ...,\n",
              "        [152, 161, 188],\n",
              "        [152, 161, 188],\n",
              "        [153, 162, 189]],\n",
              "\n",
              "       [[173, 187, 206],\n",
              "        [173, 187, 206],\n",
              "        [172, 186, 205],\n",
              "        ...,\n",
              "        [152, 161, 188],\n",
              "        [152, 161, 188],\n",
              "        [153, 162, 189]],\n",
              "\n",
              "       [[174, 188, 207],\n",
              "        [173, 187, 206],\n",
              "        [172, 186, 205],\n",
              "        ...,\n",
              "        [152, 161, 188],\n",
              "        [152, 161, 188],\n",
              "        [153, 162, 189]]], dtype=uint8)"
            ]
          },
          "metadata": {}
        },
        {
          "output_type": "display_data",
          "data": {
            "text/plain": [
              "'anomaly image'"
            ],
            "application/vnd.google.colaboratory.intrinsic+json": {
              "type": "string"
            }
          },
          "metadata": {}
        },
        {
          "output_type": "stream",
          "name": "stdout",
          "text": [
            "height = 900, width = 900\n",
            "resized image shape =  (256, 256, 3)\n",
            "/n########################################\n"
          ]
        },
        {
          "output_type": "display_data",
          "data": {
            "text/plain": [
              "array([[[101, 118, 115],\n",
              "        [101, 118, 115],\n",
              "        [100, 117, 114],\n",
              "        ...,\n",
              "        [127, 131, 132],\n",
              "        [127, 131, 132],\n",
              "        [127, 131, 132]],\n",
              "\n",
              "       [[100, 114, 113],\n",
              "        [100, 117, 114],\n",
              "        [103, 117, 116],\n",
              "        ...,\n",
              "        [127, 131, 132],\n",
              "        [127, 131, 132],\n",
              "        [127, 131, 132]],\n",
              "\n",
              "       [[101, 113, 115],\n",
              "        [103, 117, 116],\n",
              "        [107, 119, 121],\n",
              "        ...,\n",
              "        [127, 131, 132],\n",
              "        [127, 131, 132],\n",
              "        [127, 131, 132]],\n",
              "\n",
              "       ...,\n",
              "\n",
              "       [[110, 135,  97],\n",
              "        [109, 134,  96],\n",
              "        [108, 134,  94],\n",
              "        ...,\n",
              "        [164, 152, 148],\n",
              "        [163, 151, 147],\n",
              "        [163, 151, 147]],\n",
              "\n",
              "       [[112, 137,  99],\n",
              "        [111, 136,  98],\n",
              "        [109, 135,  95],\n",
              "        ...,\n",
              "        [163, 151, 147],\n",
              "        [162, 150, 146],\n",
              "        [162, 150, 146]],\n",
              "\n",
              "       [[112, 137,  99],\n",
              "        [111, 136,  98],\n",
              "        [109, 135,  95],\n",
              "        ...,\n",
              "        [163, 151, 147],\n",
              "        [162, 150, 146],\n",
              "        [162, 150, 146]]], dtype=uint8)"
            ]
          },
          "metadata": {}
        },
        {
          "output_type": "display_data",
          "data": {
            "text/plain": [
              "'anomaly image'"
            ],
            "application/vnd.google.colaboratory.intrinsic+json": {
              "type": "string"
            }
          },
          "metadata": {}
        }
      ],
      "source": [
        "import os\n",
        "def get_lr(optimizer):\n",
        "    for param_group in optimizer.param_groups:\n",
        "        return param_group['lr']\n",
        "\n",
        "def weights_init(m):\n",
        "    classname = m.__class__.__name__\n",
        "    if classname.find('Conv') != -1:\n",
        "        m.weight.data.normal_(0.0, 0.02)\n",
        "    elif classname.find('BatchNorm') != -1:\n",
        "        m.weight.data.normal_(1.0, 0.02)\n",
        "        m.bias.data.fill_(0)\n",
        "\n",
        "def train_on_device(obj_names):\n",
        "\n",
        "\n",
        "    if not os.path.exists(checkpoint_path):\n",
        "        os.makedirs(checkpoint_path)\n",
        "\n",
        "    if not os.path.exists(log_path):\n",
        "        os.makedirs(log_path)\n",
        "\n",
        "    for obj_name in obj_names:\n",
        "#         print(\"data path = \",data_path)\n",
        "#         print(\"obj_name= \",obj_name)\n",
        "#         dataset = MVTecDRAEMTrainDataset(data_path + obj_name + \"/train/good/\", anomaly_source_path, resize_shape=[256, 256])\n",
        "\n",
        "#         dataloader = DataLoader(dataset, batch_size=bs,\n",
        "#                                 shuffle=True, num_workers=16)\n",
        "\n",
        "\n",
        "#         os.exit()\n",
        "\n",
        "\n",
        "\n",
        "        run_name = 'DRAEM_test_'+str(lr)+'_'+str(epochs)+'_bs'+str(bs)+\"_\"+obj_name+'_'\n",
        "\n",
        "#         visualizer = TensorboardVisualizer(log_dir=os.path.join(log_path, run_name+\"/\"))\n",
        "\n",
        "        model = ReconstructiveSubNetwork(in_channels=3, out_channels=3)\n",
        "#         model.cuda()\n",
        "        model.apply(weights_init)\n",
        "\n",
        "        model_seg = DiscriminativeSubNetwork(in_channels=6, out_channels=2)\n",
        "#         model_seg.cuda()\n",
        "        model_seg.apply(weights_init)\n",
        "\n",
        "        optimizer = torch.optim.Adam([\n",
        "                                      {\"params\": model.parameters(), \"lr\": lr},\n",
        "                                      {\"params\": model_seg.parameters(), \"lr\": lr}])\n",
        "\n",
        "        scheduler = optim.lr_scheduler.MultiStepLR(optimizer,[epochs*0.8,epochs*0.9],gamma=0.2, last_epoch=-1)\n",
        "\n",
        "        loss_l2 = torch.nn.modules.loss.MSELoss()\n",
        "        loss_ssim = SSIM()\n",
        "        loss_focal = FocalLoss()\n",
        "\n",
        "        dataset = MVTecDRAEMTrainDataset(data_path + obj_name + \"/train/good/\", anomaly_source_path, resize_shape=[256, 256])\n",
        "\n",
        "        dataloader = DataLoader(dataset, batch_size=bs,\n",
        "                                shuffle=True, num_workers=16)\n",
        "\n",
        "        n_iter = 0\n",
        "        for epoch in range(epochs):\n",
        "            print(\"Epoch: \"+str(epoch))\n",
        "            for i_batch, sample_batched in enumerate(dataloader):\n",
        "                gray_batch = sample_batched[\"image\"]#.cuda()\n",
        "                aug_gray_batch = sample_batched[\"augmented_image\"]#.cuda()\n",
        "                anomaly_mask = sample_batched[\"anomaly_mask\"]#.cuda()\n",
        "#                 os.exit()\n",
        "\n",
        "                gray_rec = model(aug_gray_batch)\n",
        "                joined_in = torch.cat((gray_rec, aug_gray_batch), dim=1)\n",
        "\n",
        "                out_mask = model_seg(joined_in)\n",
        "                out_mask_sm = torch.softmax(out_mask, dim=1)\n",
        "\n",
        "                l2_loss = loss_l2(gray_rec,gray_batch)\n",
        "                ssim_loss = loss_ssim(gray_rec, gray_batch)\n",
        "\n",
        "                segment_loss = loss_focal(out_mask_sm, anomaly_mask)\n",
        "                loss = l2_loss + ssim_loss + segment_loss\n",
        "\n",
        "                optimizer.zero_grad()\n",
        "\n",
        "                loss.backward()\n",
        "                optimizer.step()\n",
        "\n",
        "#                 if visualize and n_iter % 200 == 0:\n",
        "#                     visualizer.plot_loss(l2_loss, n_iter, loss_name='l2_loss')\n",
        "#                     visualizer.plot_loss(ssim_loss, n_iter, loss_name='ssim_loss')\n",
        "#                     visualizer.plot_loss(segment_loss, n_iter, loss_name='segment_loss')\n",
        "#                 if visualize and n_iter % 400 == 0:\n",
        "#                     t_mask = out_mask_sm[:, 1:, :, :]\n",
        "#                     visualizer.visualize_image_batch(aug_gray_batch, n_iter, image_name='batch_augmented')\n",
        "#                     visualizer.visualize_image_batch(gray_batch, n_iter, image_name='batch_recon_target')\n",
        "#                     visualizer.visualize_image_batch(gray_rec, n_iter, image_name='batch_recon_out')\n",
        "#                     visualizer.visualize_image_batch(anomaly_mask, n_iter, image_name='mask_target')\n",
        "#                     visualizer.visualize_image_batch(t_mask, n_iter, image_name='mask_out')\n",
        "\n",
        "\n",
        "                n_iter +=1\n",
        "\n",
        "            scheduler.step()\n",
        "\n",
        "            torch.save(model.state_dict(), os.path.join(checkpoint_path, run_name+\".pckl\"))\n",
        "            torch.save(model_seg.state_dict(), os.path.join(checkpoint_path, run_name+\"_seg.pckl\"))\n",
        "\n",
        "\n",
        "if __name__==\"__main__\":\n",
        "    if int(obj_id) == -1:\n",
        "        obj_list = ['bottle']\n",
        "#         obj_list = ['capsule',\n",
        "#                      'bottle',\n",
        "#                      'carpet',\n",
        "#                      'leather',\n",
        "#                      'pill',\n",
        "#                      'transistor',\n",
        "#                      'tile',\n",
        "#                      'cable',\n",
        "#                      'zipper',\n",
        "#                      'toothbrush',\n",
        "#                      'metal_nut',\n",
        "#                      'hazelnut',\n",
        "#                      'screw',\n",
        "#                      'grid',\n",
        "#                      'wood'\n",
        "#                      ]\n",
        "        picked_classes = obj_list\n",
        "    else:\n",
        "        pass\n",
        "\n",
        "#     with torch.device(\"cuda:0\" if torch.cuda.is_available() else \"cpu\"):#.cuda.device(gpu_id):\n",
        "    train_on_device(picked_classes)\n",
        "\n"
      ]
    },
    {
      "cell_type": "code",
      "source": [
        "# import sys"
      ],
      "metadata": {
        "id": "eW7cIoKTGt4v"
      },
      "execution_count": 21,
      "outputs": []
    },
    {
      "cell_type": "markdown",
      "metadata": {
        "id": "I5aIK98YEDm_"
      },
      "source": [
        "#Testing Script"
      ]
    },
    {
      "cell_type": "code",
      "execution_count": null,
      "metadata": {
        "id": "UtKKqB5xcwo4"
      },
      "outputs": [],
      "source": [
        "\n",
        "checkpoint_path='./checkpoints/DRAEM_checkpoints/'\n",
        "def write_results_to_file(run_name, image_auc, pixel_auc, image_ap, pixel_ap):\n",
        "    if not os.path.exists('./outputs/'):\n",
        "        os.makedirs('./outputs/')\n",
        "\n",
        "    fin_str = \"img_auc,\"+run_name\n",
        "    for i in image_auc:\n",
        "        fin_str += \",\" + str(np.round(i, 3))\n",
        "    fin_str += \",\"+str(np.round(np.mean(image_auc), 3))\n",
        "    fin_str += \"\\n\"\n",
        "    fin_str += \"pixel_auc,\"+run_name\n",
        "    for i in pixel_auc:\n",
        "        fin_str += \",\" + str(np.round(i, 3))\n",
        "    fin_str += \",\"+str(np.round(np.mean(pixel_auc), 3))\n",
        "    fin_str += \"\\n\"\n",
        "    fin_str += \"img_ap,\"+run_name\n",
        "    for i in image_ap:\n",
        "        fin_str += \",\" + str(np.round(i, 3))\n",
        "    fin_str += \",\"+str(np.round(np.mean(image_ap), 3))\n",
        "    fin_str += \"\\n\"\n",
        "    fin_str += \"pixel_ap,\"+run_name\n",
        "    for i in pixel_ap:\n",
        "        fin_str += \",\" + str(np.round(i, 3))\n",
        "    fin_str += \",\"+str(np.round(np.mean(pixel_ap), 3))\n",
        "    fin_str += \"\\n\"\n",
        "    fin_str += \"--------------------------\\n\"\n",
        "\n",
        "    with open(\"./outputs/results.txt\",'a+') as file:\n",
        "        file.write(fin_str)\n",
        "\n",
        "\n",
        "def test(obj_names, mvtec_path, checkpoint_path, base_model_name):\n",
        "    obj_ap_pixel_list = []\n",
        "    obj_auroc_pixel_list = []\n",
        "    obj_ap_image_list = []\n",
        "    obj_auroc_image_list = []\n",
        "    for obj_name in obj_names:\n",
        "        img_dim = 256\n",
        "        run_name = base_model_name+\"_\"+obj_name+'_'\n",
        "\n",
        "        model = ReconstructiveSubNetwork(in_channels=3, out_channels=3)\n",
        "        model.load_state_dict(torch.load(os.path.join(checkpoint_path,run_name+\".pckl\"), map_location='cuda:0'))\n",
        "        model.cuda()\n",
        "        model.eval()\n",
        "\n",
        "        model_seg = DiscriminativeSubNetwork(in_channels=6, out_channels=2)\n",
        "        model_seg.load_state_dict(torch.load(os.path.join(checkpoint_path, run_name+\"_seg.pckl\"), map_location='cuda:0'))\n",
        "        model_seg.cuda()\n",
        "        model_seg.eval()\n",
        "\n",
        "        dataset = MVTecDRAEMTestDataset(mvtec_path + obj_name + \"/test/\", resize_shape=[img_dim, img_dim])\n",
        "        dataloader = DataLoader(dataset, batch_size=1,\n",
        "                                shuffle=False, num_workers=0)\n",
        "\n",
        "        total_pixel_scores = np.zeros((img_dim * img_dim * len(dataset)))\n",
        "        total_gt_pixel_scores = np.zeros((img_dim * img_dim * len(dataset)))\n",
        "        mask_cnt = 0\n",
        "\n",
        "        anomaly_score_gt = []\n",
        "        anomaly_score_prediction = []\n",
        "\n",
        "        display_images = torch.zeros((16 ,3 ,256 ,256)).cuda()\n",
        "        display_gt_images = torch.zeros((16 ,3 ,256 ,256)).cuda()\n",
        "        display_out_masks = torch.zeros((16 ,1 ,256 ,256)).cuda()\n",
        "        display_in_masks = torch.zeros((16 ,1 ,256 ,256)).cuda()\n",
        "        cnt_display = 0\n",
        "        display_indices = np.random.randint(len(dataloader), size=(16,))\n",
        "\n",
        "\n",
        "        for i_batch, sample_batched in enumerate(dataloader):\n",
        "\n",
        "            gray_batch = sample_batched[\"image\"].cuda()\n",
        "\n",
        "            is_normal = sample_batched[\"has_anomaly\"].detach().numpy()[0 ,0]\n",
        "            anomaly_score_gt.append(is_normal)\n",
        "            true_mask = sample_batched[\"mask\"]\n",
        "            true_mask_cv = true_mask.detach().numpy()[0, :, :, :].transpose((1, 2, 0))\n",
        "\n",
        "            gray_rec = model(gray_batch)\n",
        "            joined_in = torch.cat((gray_rec.detach(), gray_batch), dim=1)\n",
        "\n",
        "            out_mask = model_seg(joined_in)\n",
        "            out_mask_sm = torch.softmax(out_mask, dim=1)\n",
        "\n",
        "\n",
        "            if i_batch in display_indices:\n",
        "                t_mask = out_mask_sm[:, 1:, :, :]\n",
        "                display_images[cnt_display] = gray_rec[0].cpu().detach()\n",
        "                display_gt_images[cnt_display] = gray_batch[0].cpu().detach()\n",
        "                display_out_masks[cnt_display] = t_mask[0].cpu().detach()\n",
        "                display_in_masks[cnt_display] = true_mask[0].cpu().detach()\n",
        "                cnt_display += 1\n",
        "\n",
        "\n",
        "            out_mask_cv = out_mask_sm[0 ,1 ,: ,:].detach().cpu().numpy()\n",
        "\n",
        "            out_mask_averaged = torch.nn.functional.avg_pool2d(out_mask_sm[: ,1: ,: ,:], 21, stride=1,\n",
        "                                                               padding=21 // 2).cpu().detach().numpy()\n",
        "            image_score = np.max(out_mask_averaged)\n",
        "\n",
        "            anomaly_score_prediction.append(image_score)\n",
        "\n",
        "            flat_true_mask = true_mask_cv.flatten()\n",
        "            flat_out_mask = out_mask_cv.flatten()\n",
        "            total_pixel_scores[mask_cnt * img_dim * img_dim:(mask_cnt + 1) * img_dim * img_dim] = flat_out_mask\n",
        "            total_gt_pixel_scores[mask_cnt * img_dim * img_dim:(mask_cnt + 1) * img_dim * img_dim] = flat_true_mask\n",
        "            mask_cnt += 1\n",
        "\n",
        "        anomaly_score_prediction = np.array(anomaly_score_prediction)\n",
        "        anomaly_score_gt = np.array(anomaly_score_gt)\n",
        "        auroc = roc_auc_score(anomaly_score_gt, anomaly_score_prediction)\n",
        "        ap = average_precision_score(anomaly_score_gt, anomaly_score_prediction)\n",
        "\n",
        "        total_gt_pixel_scores = total_gt_pixel_scores.astype(np.uint8)\n",
        "        total_gt_pixel_scores = total_gt_pixel_scores[:img_dim * img_dim * mask_cnt]\n",
        "        total_pixel_scores = total_pixel_scores[:img_dim * img_dim * mask_cnt]\n",
        "        auroc_pixel = roc_auc_score(total_gt_pixel_scores, total_pixel_scores)\n",
        "        ap_pixel = average_precision_score(total_gt_pixel_scores, total_pixel_scores)\n",
        "        obj_ap_pixel_list.append(ap_pixel)\n",
        "        obj_auroc_pixel_list.append(auroc_pixel)\n",
        "        obj_auroc_image_list.append(auroc)\n",
        "        obj_ap_image_list.append(ap)\n",
        "        print(obj_name)\n",
        "        print(\"AUC Image:  \" +str(auroc))\n",
        "        print(\"AP Image:  \" +str(ap))\n",
        "        print(\"AUC Pixel:  \" +str(auroc_pixel))\n",
        "        print(\"AP Pixel:  \" +str(ap_pixel))\n",
        "        print(\"==============================\")\n",
        "\n",
        "    print(run_name)\n",
        "    print(\"AUC Image mean:  \" + str(np.mean(obj_auroc_image_list)))\n",
        "    print(\"AP Image mean:  \" + str(np.mean(obj_ap_image_list)))\n",
        "    print(\"AUC Pixel mean:  \" + str(np.mean(obj_auroc_pixel_list)))\n",
        "    print(\"AP Pixel mean:  \" + str(np.mean(obj_ap_pixel_list)))\n",
        "\n",
        "    write_results_to_file(run_name, obj_auroc_image_list, obj_auroc_pixel_list, obj_ap_image_list, obj_ap_pixel_list)\n",
        "\n",
        "if __name__==\"__main__\":\n",
        "\n",
        "\n",
        "\n",
        "\n",
        "    obj_list = ['capsule',\n",
        "                 'bottle',\n",
        "                 'carpet',\n",
        "                 'leather',\n",
        "                 'pill',\n",
        "                 'transistor',\n",
        "                 'tile',\n",
        "                 'cable',\n",
        "                 'zipper',\n",
        "                 'toothbrush',\n",
        "                 'metal_nut',\n",
        "                 'hazelnut',\n",
        "                 'screw',\n",
        "                 'grid',\n",
        "                 'wood'\n",
        "                 ]\n",
        "\n",
        "    with torch.cuda.device(gpu_id):\n",
        "        test(obj_list,data_path, checkpoint_path, base_model_name)\n"
      ]
    },
    {
      "cell_type": "code",
      "execution_count": null,
      "metadata": {
        "id": "BPM6IjjmFTj9"
      },
      "outputs": [],
      "source": []
    }
  ],
  "metadata": {
    "accelerator": "GPU",
    "colab": {
      "provenance": []
    },
    "gpuClass": "standard",
    "kernelspec": {
      "display_name": "Python 3 (ipykernel)",
      "language": "python",
      "name": "python3"
    },
    "language_info": {
      "codemirror_mode": {
        "name": "ipython",
        "version": 3
      },
      "file_extension": ".py",
      "mimetype": "text/x-python",
      "name": "python",
      "nbconvert_exporter": "python",
      "pygments_lexer": "ipython3",
      "version": "3.8.10"
    }
  },
  "nbformat": 4,
  "nbformat_minor": 0
}