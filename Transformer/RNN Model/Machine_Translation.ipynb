{
  "nbformat": 4,
  "nbformat_minor": 0,
  "metadata": {
    "colab": {
      "provenance": [],
      "gpuType": "T4"
    },
    "kernelspec": {
      "name": "python3",
      "display_name": "Python 3"
    },
    "language_info": {
      "name": "python"
    },
    "accelerator": "GPU"
  },
  "cells": [
    {
      "cell_type": "code",
      "source": [
        "! pip install kaggle"
      ],
      "metadata": {
        "id": "hQ8PD9QOwUhA"
      },
      "execution_count": null,
      "outputs": []
    },
    {
      "cell_type": "code",
      "source": [
        "! mkdir ~/.kaggle"
      ],
      "metadata": {
        "id": "x2zT19RmwUeO"
      },
      "execution_count": null,
      "outputs": []
    },
    {
      "cell_type": "code",
      "source": [
        "! cp kaggle.json ~/.kaggle/"
      ],
      "metadata": {
        "id": "TTr7hwLEwd23"
      },
      "execution_count": null,
      "outputs": []
    },
    {
      "cell_type": "code",
      "source": [
        "! chmod 600 ~/.kaggle/kaggle.json"
      ],
      "metadata": {
        "id": "WpSBjojfwd0e"
      },
      "execution_count": null,
      "outputs": []
    },
    {
      "cell_type": "code",
      "source": [
        "! kaggle datasets download alincijov/bilingual-sentence-pairs"
      ],
      "metadata": {
        "colab": {
          "base_uri": "https://localhost:8080/"
        },
        "id": "_DqdPIrbwdyM",
        "outputId": "618424bb-cc77-4043-bdfe-8d8495489167"
      },
      "execution_count": 2,
      "outputs": [
        {
          "output_type": "stream",
          "name": "stdout",
          "text": [
            "bilingual-sentence-pairs.zip: Skipping, found more recently modified local copy (use --force to force download)\n"
          ]
        }
      ]
    },
    {
      "cell_type": "code",
      "source": [
        "!mkdir Dataset"
      ],
      "metadata": {
        "id": "EYDFrMojwy-i",
        "colab": {
          "base_uri": "https://localhost:8080/"
        },
        "outputId": "c7575db8-184a-4a29-c9d8-a5b227c3e558"
      },
      "execution_count": 3,
      "outputs": [
        {
          "output_type": "stream",
          "name": "stdout",
          "text": [
            "mkdir: cannot create directory ‘Dataset’: File exists\n"
          ]
        }
      ]
    },
    {
      "cell_type": "code",
      "source": [
        "cd Dataset"
      ],
      "metadata": {
        "colab": {
          "base_uri": "https://localhost:8080/"
        },
        "id": "3H8fL9qXzPCl",
        "outputId": "b29a6315-81ee-4422-cf16-3a8969b49276"
      },
      "execution_count": 4,
      "outputs": [
        {
          "output_type": "stream",
          "name": "stdout",
          "text": [
            "/content/Dataset\n"
          ]
        }
      ]
    },
    {
      "cell_type": "code",
      "source": [
        "!unzip bilingual-sentence-pairs.zip"
      ],
      "metadata": {
        "colab": {
          "base_uri": "https://localhost:8080/"
        },
        "id": "rhPQ7CfBwoP7",
        "outputId": "cff4c372-e072-47f1-e2e2-810871c9b9ec"
      },
      "execution_count": 5,
      "outputs": [
        {
          "output_type": "stream",
          "name": "stdout",
          "text": [
            "unzip:  cannot find or open bilingual-sentence-pairs.zip, bilingual-sentence-pairs.zip.zip or bilingual-sentence-pairs.zip.ZIP.\n"
          ]
        }
      ]
    },
    {
      "cell_type": "code",
      "source": [
        "cd .."
      ],
      "metadata": {
        "colab": {
          "base_uri": "https://localhost:8080/"
        },
        "id": "LEqJxsHPw3AE",
        "outputId": "65b6532a-026d-4338-a10b-317d8dc64ec9"
      },
      "execution_count": 6,
      "outputs": [
        {
          "output_type": "stream",
          "name": "stdout",
          "text": [
            "/content\n"
          ]
        }
      ]
    },
    {
      "cell_type": "code",
      "source": [
        "!pip install tensorflow_gpu//"
      ],
      "metadata": {
        "colab": {
          "base_uri": "https://localhost:8080/"
        },
        "id": "Jj-Joz8rx_oE",
        "outputId": "903caded-75a8-4a9b-919f-32f0a02ada22"
      },
      "execution_count": 7,
      "outputs": [
        {
          "output_type": "stream",
          "name": "stdout",
          "text": [
            "\u001b[31mERROR: Invalid requirement: 'tensorflow_gpu//'\n",
            "Hint: It looks like a path. File 'tensorflow_gpu//' does not exist.\u001b[0m\u001b[31m\n",
            "\u001b[0m"
          ]
        }
      ]
    },
    {
      "cell_type": "code",
      "execution_count": 8,
      "metadata": {
        "id": "JdC_C6IzvXCx"
      },
      "outputs": [],
      "source": [
        "import string\n",
        "import re\n",
        "from numpy import array, argmax, random, take\n",
        "import numpy as np\n",
        "import pandas as pd\n",
        "from keras.models import Sequential\n",
        "from keras.layers import Dense, LSTM, Embedding, RepeatVector\n",
        "from keras.preprocessing.text import Tokenizer\n",
        "from keras.callbacks import ModelCheckpoint\n",
        "from keras.utils import pad_sequences\n",
        "from keras.models import load_model\n",
        "from keras import optimizers\n",
        "import matplotlib.pyplot as plt\n",
        "%matplotlib inline\n",
        "pd.set_option('display.max_colwidth', 200)"
      ]
    },
    {
      "cell_type": "code",
      "source": [
        "def read_text(filename):\n",
        "        file = open(filename, mode='rt', encoding='utf-8')\n",
        "        text = file.read()\n",
        "        file.close()\n",
        "        return text"
      ],
      "metadata": {
        "id": "BZihUdKxv7-s"
      },
      "execution_count": 9,
      "outputs": []
    },
    {
      "cell_type": "code",
      "source": [
        "def to_lines(text):\n",
        "    sents = text.strip().split('\\n')\n",
        "    sents = [i.split('\\t') for i in sents]\n",
        "    return sents"
      ],
      "metadata": {
        "id": "-Zo2Qm8ywGR4"
      },
      "execution_count": 10,
      "outputs": []
    },
    {
      "cell_type": "code",
      "source": [
        "cd content"
      ],
      "metadata": {
        "colab": {
          "base_uri": "https://localhost:8080/"
        },
        "id": "5VKHecXKr5Ih",
        "outputId": "0fe7eb5d-0339-49b5-ea49-f2caaf4bfe74"
      },
      "execution_count": 11,
      "outputs": [
        {
          "output_type": "stream",
          "name": "stdout",
          "text": [
            "[Errno 2] No such file or directory: 'content'\n",
            "/content\n"
          ]
        }
      ]
    },
    {
      "cell_type": "code",
      "source": [],
      "metadata": {
        "id": "HYG7O55MsH-F"
      },
      "execution_count": 11,
      "outputs": []
    },
    {
      "cell_type": "code",
      "source": [
        "data = read_text(\"deu.txt\")"
      ],
      "metadata": {
        "id": "LWQAJOP46fSA"
      },
      "execution_count": 12,
      "outputs": []
    },
    {
      "cell_type": "code",
      "source": [
        "type(data)"
      ],
      "metadata": {
        "colab": {
          "base_uri": "https://localhost:8080/"
        },
        "id": "3lhbzY9y78qA",
        "outputId": "9123c7af-d3ab-4fd5-bf39-50652f9e2392"
      },
      "execution_count": 13,
      "outputs": [
        {
          "output_type": "execute_result",
          "data": {
            "text/plain": [
              "str"
            ]
          },
          "metadata": {},
          "execution_count": 13
        }
      ]
    },
    {
      "cell_type": "code",
      "source": [
        "data[0:100]"
      ],
      "metadata": {
        "colab": {
          "base_uri": "https://localhost:8080/",
          "height": 35
        },
        "id": "pldW3rPk7_A9",
        "outputId": "7813bcc5-b494-4ae0-9df8-080b83a585d4"
      },
      "execution_count": 14,
      "outputs": [
        {
          "output_type": "execute_result",
          "data": {
            "text/plain": [
              "'Go.\\tGeh.\\tCC-BY 2.0 (France) Attribution: tatoeba.org #2877272 (CM) & #8597805 (Roujin)\\nHi.\\tHallo!\\tCC'"
            ],
            "application/vnd.google.colaboratory.intrinsic+json": {
              "type": "string"
            }
          },
          "metadata": {},
          "execution_count": 14
        }
      ]
    },
    {
      "cell_type": "code",
      "source": [
        "data"
      ],
      "metadata": {
        "id": "VdCmm2ct6hRD"
      },
      "execution_count": 15,
      "outputs": []
    },
    {
      "cell_type": "code",
      "source": [
        "deu_eng = to_lines(data)\n",
        "deu_eng = array(deu_eng)"
      ],
      "metadata": {
        "id": "jrWGHxDmwIVI",
        "colab": {
          "base_uri": "https://localhost:8080/",
          "height": 193
        },
        "outputId": "2a380eec-c4bf-44f3-b08d-21dd84e1ed09"
      },
      "execution_count": 1,
      "outputs": [
        {
          "output_type": "error",
          "ename": "NameError",
          "evalue": "ignored",
          "traceback": [
            "\u001b[0;31m---------------------------------------------------------------------------\u001b[0m",
            "\u001b[0;31mNameError\u001b[0m                                 Traceback (most recent call last)",
            "\u001b[0;32m<ipython-input-1-d79070124bb2>\u001b[0m in \u001b[0;36m<cell line: 1>\u001b[0;34m()\u001b[0m\n\u001b[0;32m----> 1\u001b[0;31m \u001b[0mdeu_eng\u001b[0m \u001b[0;34m=\u001b[0m \u001b[0mto_lines\u001b[0m\u001b[0;34m(\u001b[0m\u001b[0mdata\u001b[0m\u001b[0;34m)\u001b[0m\u001b[0;34m\u001b[0m\u001b[0;34m\u001b[0m\u001b[0m\n\u001b[0m\u001b[1;32m      2\u001b[0m \u001b[0mdeu_eng\u001b[0m \u001b[0;34m=\u001b[0m \u001b[0marray\u001b[0m\u001b[0;34m(\u001b[0m\u001b[0mdeu_eng\u001b[0m\u001b[0;34m)\u001b[0m\u001b[0;34m\u001b[0m\u001b[0;34m\u001b[0m\u001b[0m\n",
            "\u001b[0;31mNameError\u001b[0m: name 'to_lines' is not defined"
          ]
        }
      ]
    },
    {
      "cell_type": "code",
      "source": [
        "deu_eng[0:10]"
      ],
      "metadata": {
        "id": "0g9a1WFP8R38"
      },
      "execution_count": null,
      "outputs": []
    },
    {
      "cell_type": "code",
      "source": [
        "type(deu_eng)"
      ],
      "metadata": {
        "id": "chdMRC7c8RcI"
      },
      "execution_count": null,
      "outputs": []
    },
    {
      "cell_type": "markdown",
      "source": [
        "## 구두점 제거 PreProcessing"
      ],
      "metadata": {
        "id": "WlsmbE3NwIyI"
      }
    },
    {
      "cell_type": "code",
      "source": [
        "deu_eng[:,0] = [s.translate(str.maketrans('', '', string.punctuation)) for s in deu_eng[:,0]]\n",
        "deu_eng[:,1] = [s.translate(str.maketrans('', '', string.punctuation)) for s in deu_eng[:,1]]"
      ],
      "metadata": {
        "id": "iMipb1T5wJtX"
      },
      "execution_count": null,
      "outputs": []
    },
    {
      "cell_type": "code",
      "source": [
        "deu_eng[0:10]"
      ],
      "metadata": {
        "id": "HgCjFMUiv-pv"
      },
      "execution_count": null,
      "outputs": []
    },
    {
      "cell_type": "markdown",
      "source": [
        "## 같은 lower로"
      ],
      "metadata": {
        "id": "PdpTRh8mwar7"
      }
    },
    {
      "cell_type": "code",
      "source": [
        "for i in range(len(deu_eng)):\n",
        "    deu_eng[i,0] = deu_eng[i,0].lower()\n",
        "    deu_eng[i,1] = deu_eng[i,1].lower()"
      ],
      "metadata": {
        "id": "Il4FEQF5xBXB"
      },
      "execution_count": null,
      "outputs": []
    },
    {
      "cell_type": "markdown",
      "source": [
        "## 문장당 길이를 check # 단어 수"
      ],
      "metadata": {
        "id": "tXhK7CVDwjAO"
      }
    },
    {
      "cell_type": "code",
      "source": [
        "eng_l = []\n",
        "deu_l = []\n",
        "\n",
        "for i in deu_eng[:,0]:\n",
        "      eng_l.append(len(i.split()))\n",
        "\n",
        "for i in deu_eng[:,1]:\n",
        "      deu_l.append(len(i.split()))"
      ],
      "metadata": {
        "id": "MUCticlhxDGo"
      },
      "execution_count": null,
      "outputs": []
    },
    {
      "cell_type": "code",
      "source": [
        "def tokenization(lines):\n",
        "    tokenizer = Tokenizer()\n",
        "    tokenizer.fit_on_texts(lines)\n",
        "    return tokenizer"
      ],
      "metadata": {
        "id": "rWVnTIqKxHf_"
      },
      "execution_count": null,
      "outputs": []
    },
    {
      "cell_type": "code",
      "source": [
        "eng_tokenizer = tokenization(deu_eng[:, 0])\n",
        "eng_vocab_size = len(eng_tokenizer.word_index) + 1\n",
        "\n",
        "eng_length = 8\n",
        "print('English Vocabulary Size: %d' % eng_vocab_size)"
      ],
      "metadata": {
        "id": "jMDecMFJxIxn"
      },
      "execution_count": null,
      "outputs": []
    },
    {
      "cell_type": "code",
      "source": [
        "deu_tokenizer = tokenization(deu_eng[:, 1])\n",
        "deu_vocab_size = len(deu_tokenizer.word_index) + 1\n",
        "\n",
        "deu_length = 8\n",
        "print('Korea Vocabulary Size: %d' % deu_vocab_size)"
      ],
      "metadata": {
        "id": "CZ0Pqhq6xKD2"
      },
      "execution_count": null,
      "outputs": []
    },
    {
      "cell_type": "code",
      "source": [
        "def encode_sequences(tokenizer, length, lines):\n",
        "    seq = tokenizer.texts_to_sequences(lines)\n",
        "    seq = pad_sequences(seq, maxlen=length, padding='post')\n",
        "    return seq"
      ],
      "metadata": {
        "id": "p0c2qX38xLUO"
      },
      "execution_count": null,
      "outputs": []
    },
    {
      "cell_type": "code",
      "source": [
        "from sklearn.model_selection import train_test_split\n",
        "## korea 문장을 train,test set으로 분할\n",
        "train, test = train_test_split(deu_eng, test_size=0.2, random_state = 12)"
      ],
      "metadata": {
        "id": "j4BmWAmtxMbu"
      },
      "execution_count": null,
      "outputs": []
    },
    {
      "cell_type": "code",
      "source": [
        "trainX = encode_sequences(deu_tokenizer, deu_length, train[:, 1])\n",
        "trainY = encode_sequences(eng_tokenizer, eng_length, train[:, 0])\n",
        "\n",
        "testX = encode_sequences(deu_tokenizer, deu_length, test[:, 1])\n",
        "testY = encode_sequences(eng_tokenizer, eng_length, test[:, 0])"
      ],
      "metadata": {
        "id": "DvPdcgEuxOSN"
      },
      "execution_count": null,
      "outputs": []
    },
    {
      "cell_type": "markdown",
      "source": [
        "![image.png](data:image/png;base64,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)"
      ],
      "metadata": {
        "id": "pmmb2FH63PUt"
      }
    },
    {
      "cell_type": "code",
      "source": [
        "def define_model(in_vocab,out_vocab, in_timesteps,out_timesteps,units):\n",
        "    # in vocab : 문장의 최대 길이 , out_vocab : 문장 output 최대 길이\n",
        "    model = Sequential()\n",
        "    ## units : 임베딩 레이어에 얼마나 많은 뉴런이 있는지.!\n",
        "    ## 즉 mask_zero 는 invocab의 길이가 같지 않으면 문장끝에 0 을추가한다.\n",
        "    model.add(Embedding(in_vocab, units, input_length=in_timesteps, mask_zero=True))\n",
        "    ## 동일한 수의 LSTM 추가\n",
        "    model.add(LSTM(units))\n",
        "    ## repeatVector -> 입력을 여러번 반복\n",
        "    ## out_timestpes : out_timestpe만큼 반복\n",
        "    model.add(RepeatVector(out_timesteps))\n",
        "    ## LSTM # return sequence True => 모델에게 값 전달\n",
        "    model.add(LSTM(units, return_sequences=True))\n",
        "    ## out_vocab vector에서 softmax로 각각의 확률값으로 ouput 값 나오는\n",
        "    model.add(Dense(out_vocab, activation='softmax'))\n",
        "    return model"
      ],
      "metadata": {
        "id": "O-hPUTN5xPnl"
      },
      "execution_count": null,
      "outputs": []
    },
    {
      "cell_type": "code",
      "source": [
        "model = define_model(deu_vocab_size, eng_vocab_size, deu_length, eng_length, 512)"
      ],
      "metadata": {
        "id": "1VWlcEzTxRFU"
      },
      "execution_count": null,
      "outputs": []
    },
    {
      "cell_type": "code",
      "source": [
        "model.summary()"
      ],
      "metadata": {
        "id": "20lxRrQF3etW"
      },
      "execution_count": null,
      "outputs": []
    },
    {
      "cell_type": "markdown",
      "source": [
        "## Cost Function\n",
        "### RSM\n",
        "### loss 는 softmax이므로 sparse_categorical_crossentropy"
      ],
      "metadata": {
        "id": "vG8rFmak4Ogf"
      }
    },
    {
      "cell_type": "code",
      "source": [
        "rms = optimizers.RMSprop(lr=0.001)\n",
        "model.compile(optimizer=rms, loss='sparse_categorical_crossentropy')"
      ],
      "metadata": {
        "id": "j0-LjCgYxSZ0"
      },
      "execution_count": null,
      "outputs": []
    },
    {
      "cell_type": "markdown",
      "source": [
        "## model Checkpoint 설정 및 학습"
      ],
      "metadata": {
        "id": "JgZI175L4ZkK"
      }
    },
    {
      "cell_type": "code",
      "source": [
        "filename = 'model.h5'\n",
        "checkpoint = ModelCheckpoint(filename, monitor='val_loss', verbose=1, save_best_only=True, mode='min')\n",
        "\n",
        "history = model.fit(trainX, trainY.reshape(trainY.shape[0], trainY.shape[1], 1),\n",
        "                    epochs=20, batch_size=512, validation_split = 0.2,callbacks=[checkpoint],\n",
        "                    verbose=1)"
      ],
      "metadata": {
        "id": "lAJ3G4_xxTos"
      },
      "execution_count": null,
      "outputs": []
    },
    {
      "cell_type": "code",
      "source": [
        "plt.plot(history.history['loss'])\n",
        "plt.plot(history.history['val_loss'])\n",
        "plt.legend(['train','validation'])\n",
        "plt.show()"
      ],
      "metadata": {
        "id": "vyDK_05rxVvz"
      },
      "execution_count": null,
      "outputs": []
    },
    {
      "cell_type": "code",
      "source": [
        "model = load_model('model.h5')"
      ],
      "metadata": {
        "id": "-ASl-H7N2Sc4"
      },
      "execution_count": null,
      "outputs": []
    },
    {
      "cell_type": "code",
      "source": [
        "testX1 = testX[0:100]"
      ],
      "metadata": {
        "id": "nmgHL7PaBa3Q"
      },
      "execution_count": null,
      "outputs": []
    },
    {
      "cell_type": "code",
      "source": [
        "testX1[0]"
      ],
      "metadata": {
        "id": "GqIjVXoqBa0t"
      },
      "execution_count": null,
      "outputs": []
    },
    {
      "cell_type": "code",
      "source": [
        "preds = model.predict(testX1.reshape((testX1.shape[0],testX1.shape[1])))\n",
        "preds=np.argmax(preds,axis=1)"
      ],
      "metadata": {
        "id": "okI2tL2WxY8T"
      },
      "execution_count": null,
      "outputs": []
    },
    {
      "cell_type": "code",
      "source": [
        "def get_word(n, tokenizer):\n",
        "    for word, index in tokenizer.word_index.items():\n",
        "        if index == n:\n",
        "            return word\n",
        "    return None"
      ],
      "metadata": {
        "id": "yRe0s1CW2QRd"
      },
      "execution_count": null,
      "outputs": []
    },
    {
      "cell_type": "code",
      "source": [
        "preds_text = []\n",
        "for i in preds:\n",
        "    temp = []\n",
        "    for j in range(len(i)):\n",
        "        t = get_word(i[j], eng_tokenizer)\n",
        "        if j > 0:\n",
        "            if (t == get_word(i[j-1], eng_tokenizer)) or (t == None):\n",
        "                temp.append('')\n",
        "            else:\n",
        "                temp.append(t)\n",
        "        else:\n",
        "            if(t == None):\n",
        "                temp.append('')\n",
        "            else:\n",
        "                temp.append(t)\n",
        "\n",
        "    preds_text.append(' '.join(temp))"
      ],
      "metadata": {
        "id": "GPCLz-li2YL7"
      },
      "execution_count": null,
      "outputs": []
    },
    {
      "cell_type": "code",
      "source": [
        "test[0]"
      ],
      "metadata": {
        "id": "_CdjzURzGsKU"
      },
      "execution_count": null,
      "outputs": []
    },
    {
      "cell_type": "code",
      "source": [
        "preds_text[0]"
      ],
      "metadata": {
        "id": "p1t7-T07G5ox"
      },
      "execution_count": null,
      "outputs": []
    },
    {
      "cell_type": "code",
      "source": [],
      "metadata": {
        "id": "7DGQW94bG-uw"
      },
      "execution_count": null,
      "outputs": []
    }
  ]
}