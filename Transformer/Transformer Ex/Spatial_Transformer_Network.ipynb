{
  "nbformat": 4,
  "nbformat_minor": 0,
  "metadata": {
    "colab": {
      "provenance": []
    },
    "kernelspec": {
      "name": "python3",
      "display_name": "Python 3"
    },
    "language_info": {
      "name": "python"
    },
    "accelerator": "GPU",
    "gpuClass": "standard"
  },
  "cells": [
    {
      "cell_type": "markdown",
      "source": [
        "# Spatial Transformer Netowrk\n",
        "# STN\n",
        "## Vision 및 이미지 처리\n",
        "\n",
        "## 이미지/비디오 프레임이 회전하거나 일정하지 않은경우 STN으로 정적이미지를 가지고 분류기 실행 가능\n",
        "\n",
        "###2가지 주요 구성요소\n",
        "### Localization Net\n",
        "#### 관심 객체가 어디에 있는지 알아내는것\n",
        "#### 목표가 어디에 있는지 알아냄\n",
        "#### 그다음 개체에서 그리드 생성\n",
        "#### 그다음 샘플러를 통해 안정적 이미지를 가짐\n",
        "\n"
      ],
      "metadata": {
        "id": "NL7XNkMRY5BF"
      }
    },
    {
      "cell_type": "markdown",
      "source": [
        "#즉 훈련데이터 세트의 성능향상을 목표로하는 Transformer Network임"
      ],
      "metadata": {
        "id": "PY8wExSuecd4"
      }
    },
    {
      "cell_type": "code",
      "execution_count": 1,
      "metadata": {
        "id": "flUHxkfWLx-u"
      },
      "outputs": [],
      "source": [
        "from sklearn.model_selection import train_test_split\n",
        "from matplotlib import pyplot as plt\n",
        "from scipy.io.matlab import loadmat\n",
        "import os\n",
        "import tensorflow as tf\n",
        "import numpy as np\n",
        "import datetime"
      ]
    },
    {
      "cell_type": "code",
      "source": [
        "!wget -c https://www.cs.toronto.edu/~tijmen/affNIST/32x/transformed/training_and_validation_batches.zip"
      ],
      "metadata": {
        "colab": {
          "base_uri": "https://localhost:8080/"
        },
        "id": "tlyk_FShL7tB",
        "outputId": "13616b9c-a656-42db-e2f1-a7d0c95e2019"
      },
      "execution_count": 2,
      "outputs": [
        {
          "output_type": "stream",
          "name": "stdout",
          "text": [
            "--2023-06-30 08:20:54--  https://www.cs.toronto.edu/~tijmen/affNIST/32x/transformed/training_and_validation_batches.zip\n",
            "Resolving www.cs.toronto.edu (www.cs.toronto.edu)... 128.100.3.30\n",
            "Connecting to www.cs.toronto.edu (www.cs.toronto.edu)|128.100.3.30|:443... connected.\n",
            "HTTP request sent, awaiting response... 200 OK\n",
            "Length: 730609891 (697M) [application/zip]\n",
            "Saving to: ‘training_and_validation_batches.zip’\n",
            "\n",
            "training_and_valida 100%[===================>] 696.76M  13.5MB/s    in 52s     \n",
            "\n",
            "2023-06-30 08:21:47 (13.3 MB/s) - ‘training_and_validation_batches.zip’ saved [730609891/730609891]\n",
            "\n"
          ]
        }
      ]
    },
    {
      "cell_type": "code",
      "source": [
        "! unzip training_and_validation_batches.zip"
      ],
      "metadata": {
        "colab": {
          "base_uri": "https://localhost:8080/"
        },
        "id": "FfCFEY3AL96l",
        "outputId": "edcf7bb0-e254-46e4-ec8e-fe4f60ab7e47"
      },
      "execution_count": 3,
      "outputs": [
        {
          "output_type": "stream",
          "name": "stdout",
          "text": [
            "Archive:  training_and_validation_batches.zip\n",
            "   creating: training_and_validation_batches/\n",
            "  inflating: training_and_validation_batches/1.mat  \n",
            "  inflating: training_and_validation_batches/2.mat  \n",
            "  inflating: training_and_validation_batches/3.mat  \n",
            "  inflating: training_and_validation_batches/4.mat  \n",
            "  inflating: training_and_validation_batches/5.mat  \n",
            "  inflating: training_and_validation_batches/6.mat  \n",
            "  inflating: training_and_validation_batches/7.mat  \n",
            "  inflating: training_and_validation_batches/8.mat  \n",
            "  inflating: training_and_validation_batches/9.mat  \n",
            "  inflating: training_and_validation_batches/10.mat  \n",
            "  inflating: training_and_validation_batches/11.mat  \n",
            "  inflating: training_and_validation_batches/12.mat  \n",
            "  inflating: training_and_validation_batches/13.mat  \n",
            "  inflating: training_and_validation_batches/14.mat  \n",
            "  inflating: training_and_validation_batches/15.mat  \n",
            "  inflating: training_and_validation_batches/16.mat  \n",
            "  inflating: training_and_validation_batches/17.mat  \n",
            "  inflating: training_and_validation_batches/18.mat  \n",
            "  inflating: training_and_validation_batches/19.mat  \n",
            "  inflating: training_and_validation_batches/20.mat  \n",
            "  inflating: training_and_validation_batches/21.mat  \n",
            "  inflating: training_and_validation_batches/22.mat  \n",
            "  inflating: training_and_validation_batches/23.mat  \n",
            "  inflating: training_and_validation_batches/24.mat  \n",
            "  inflating: training_and_validation_batches/25.mat  \n",
            "  inflating: training_and_validation_batches/26.mat  \n",
            "  inflating: training_and_validation_batches/27.mat  \n",
            "  inflating: training_and_validation_batches/28.mat  \n",
            "  inflating: training_and_validation_batches/29.mat  \n",
            "  inflating: training_and_validation_batches/30.mat  \n",
            "  inflating: training_and_validation_batches/31.mat  \n",
            "  inflating: training_and_validation_batches/32.mat  \n"
          ]
        }
      ]
    },
    {
      "cell_type": "code",
      "source": [
        "image_data_path = 'training_and_validation_batches/1.mat'\n",
        "temp = loadmat(image_data_path)\n",
        "## affNISTData?\n",
        "### Matlab의 Data Array\n",
        "x = temp['affNISTdata']['image'][0][0].reshape(40, 40, 60000)\n",
        "x = np.moveaxis(x, -1, 0)\n",
        "x = (np.expand_dims(x, axis=-1)) / 255\n",
        "\n",
        "y = temp['affNISTdata']['label_int'][0][0]\n",
        "y = np.moveaxis(y, -1, 0).astype(np.int32)"
      ],
      "metadata": {
        "id": "R0Kog_JYMC89"
      },
      "execution_count": 4,
      "outputs": []
    },
    {
      "cell_type": "code",
      "source": [
        "temp"
      ],
      "metadata": {
        "colab": {
          "base_uri": "https://localhost:8080/"
        },
        "id": "ulmhnmt5adzc",
        "outputId": "1516d6a8-a77b-41da-e603-cfdec257e4f9"
      },
      "execution_count": 18,
      "outputs": [
        {
          "output_type": "execute_result",
          "data": {
            "text/plain": [
              "{'__header__': b'MATLAB 5.0 MAT-file Platform: posix, Created on: Tue Jul 30 17:40:01 2013',\n",
              " '__version__': '1.0',\n",
              " '__globals__': [],\n",
              " 'affNISTdata': array([[(array([[  0.89156558,   1.22424824,   1.07444537, ...,   0.84506806,\n",
              "                   0.84181203,   1.01685128],\n",
              "                [  0.20984936,   0.09023881,   0.35236942, ...,  -0.10444246,\n",
              "                  -0.38555402,  -0.36578185],\n",
              "                [ -1.26476551, -19.79984702,  -4.67021712, ...,  -1.24599817,\n",
              "                   9.86595301,   7.51251838],\n",
              "                [ -0.17483301,  -0.02143027,  -0.31830479, ...,  -0.06015251,\n",
              "                   0.20168488,   0.25395146],\n",
              "                [  0.99727444,   0.9962823 ,   0.87274986, ...,   1.05586096,\n",
              "                   0.85924446,   0.93983876],\n",
              "                [ -5.93082082,   4.60322027,   2.7601324 , ...,   5.63800333,\n",
              "                  -0.21749138, -18.41544233]]), array([[ 1.07717478e+00,  8.15534765e-01,  8.31283035e-01, ...,\n",
              "                  1.19172756e+00,  1.07260389e+00,  8.96307709e-01],\n",
              "                [-2.26662225e-01, -7.38675032e-02, -3.35627344e-01, ...,\n",
              "                  1.17881954e-01,  4.81291139e-01,  3.48839723e-01],\n",
              "                [ 1.80804730e-02,  1.64874920e+01,  4.80864817e+00, ...,\n",
              "                  8.20271509e-01, -1.04775829e+01, -3.09490337e-01],\n",
              "                [ 1.88840403e-01,  1.75423455e-02,  3.03181224e-01, ...,\n",
              "                  6.78928483e-02, -2.51765353e-01, -2.42189044e-01],\n",
              "                [ 9.62996669e-01,  1.00214267e+00,  1.02339542e+00, ...,\n",
              "                  9.53810145e-01,  1.05084281e+00,  9.69753204e-01],\n",
              "                [ 5.95019953e+00, -4.26574769e+00, -1.40878472e+00, ...,\n",
              "                 -5.29299040e+00,  2.71245439e+00,  1.96778838e+01]]), array([[0, 0, 0, ..., 0, 0, 0],\n",
              "                [0, 0, 0, ..., 0, 0, 0],\n",
              "                [0, 0, 0, ..., 0, 0, 0],\n",
              "                ...,\n",
              "                [0, 0, 0, ..., 0, 0, 0],\n",
              "                [0, 0, 0, ..., 0, 0, 0],\n",
              "                [0, 0, 0, ..., 0, 0, 0]], dtype=uint8), array([[    1,     2,     3, ..., 59998, 59999, 60000]]), array([[1., 0., 0., ..., 0., 0., 0.],\n",
              "                [0., 1., 0., ..., 0., 0., 1.],\n",
              "                [0., 0., 0., ..., 0., 0., 0.],\n",
              "                ...,\n",
              "                [0., 0., 1., ..., 0., 1., 0.],\n",
              "                [0., 0., 0., ..., 0., 0., 0.],\n",
              "                [0., 0., 0., ..., 0., 0., 0.]], dtype=float32), array([[0, 1, 7, ..., 3, 7, 1]]), array([[ 1.10947272e+01,  1.00285094e+00,  1.65019398e+01, ...,\n",
              "                  4.07148511e+00, -1.34732061e+01, -1.40223821e+01],\n",
              "                [-1.37585321e-02, -7.29550325e-02, -9.60118765e-02, ...,\n",
              "                  1.71303682e-01,  1.88828685e-01,  1.27099471e-01],\n",
              "                [ 1.10065978e+00,  8.16702686e-01,  8.92376796e-01, ...,\n",
              "                  1.18035019e+00,  1.15522106e+00,  9.54122952e-01],\n",
              "                [ 9.81337497e-01,  1.00229619e+00,  1.06735985e+00, ...,\n",
              "                  9.56223421e-01,  1.08058151e+00,  9.99538298e-01],\n",
              "                [-8.00000000e+00,  7.00000000e+00, -8.00000000e+00, ...,\n",
              "                 -1.00000000e+00, -9.00000000e+00, -3.00000000e+00],\n",
              "                [ 2.00000000e+00, -1.00000000e+01, -3.00000000e+00, ...,\n",
              "                 -1.10000000e+01, -6.00000000e+00,  1.00000000e+01]]), array([[    1,     2,     3, ..., 59998, 59999, 60000]]))                                 ]],\n",
              "       dtype=[('matrix_new_to_old', 'O'), ('matrix_old_to_new', 'O'), ('image', 'O'), ('affNIST_id', 'O'), ('label_one_of_n', 'O'), ('label_int', 'O'), ('human_readable_transform', 'O'), ('original_id', 'O')])}"
            ]
          },
          "metadata": {},
          "execution_count": 18
        }
      ]
    },
    {
      "cell_type": "code",
      "source": [
        "temp[\"affNISTdata\"]['image'].shape"
      ],
      "metadata": {
        "colab": {
          "base_uri": "https://localhost:8080/"
        },
        "id": "XPa7jmY3ccKv",
        "outputId": "34c38115-692a-468b-b282-c9f686a4d3ac"
      },
      "execution_count": 5,
      "outputs": [
        {
          "output_type": "execute_result",
          "data": {
            "text/plain": [
              "(1, 1)"
            ]
          },
          "metadata": {},
          "execution_count": 5
        }
      ]
    },
    {
      "cell_type": "code",
      "source": [
        "# import tensorflow_datasets as tfds\n",
        "# (mnist_train_ds, mnist_test_ds), ds_info = tfds.load(\n",
        "#     'mnist',\n",
        "#     split=['train', 'test'],\n",
        "#     shuffle_files=True,\n",
        "#     as_supervised=True,\n",
        "#     with_info=True,\n",
        "# )\n",
        "\n",
        "# (28,28)"
      ],
      "metadata": {
        "id": "uVmUPfj9WnI7"
      },
      "execution_count": 6,
      "outputs": []
    },
    {
      "cell_type": "code",
      "source": [
        "X_train, X_test, y_train, y_test = train_test_split(x, y, test_size=0.1, random_state=42)"
      ],
      "metadata": {
        "id": "-mXqwbfZMGGY"
      },
      "execution_count": 7,
      "outputs": []
    },
    {
      "cell_type": "code",
      "source": [
        "mnist_train_ds = tf.data.Dataset.from_tensor_slices((X_train, y_train))\n",
        "mnist_train_ds = mnist_train_ds.shuffle(5000).batch(128)"
      ],
      "metadata": {
        "id": "hK6KG6a_MI5G"
      },
      "execution_count": 8,
      "outputs": []
    },
    {
      "cell_type": "code",
      "source": [
        "class LocalizationNetwork(tf.keras.layers.Layer):\n",
        "\n",
        "    def __init__(self):\n",
        "        super(LocalizationNetwork, self).__init__()\n",
        "        ## 더 복잡한 LocalizationNet을 얻길 원하면 pool,conv 복\n",
        "        self.pool1 = tf.keras.layers.MaxPool2D()\n",
        "        self.conv1 = tf.keras.layers.Conv2D(20, [5, 5], activation='relu')\n",
        "        self.pool2 = tf.keras.layers.MaxPool2D()\n",
        "        self.conv2 = tf.keras.layers.Conv2D(20, [5, 5], activation='relu')\n",
        "        self.pool3 = tf.keras.layers.MaxPool2D()\n",
        "        self.conv3 = tf.keras.layers.Conv2D(20, [5, 5], activation='relu')\n",
        "        self.flatten = tf.keras.layers.Flatten()\n",
        "        self.fc1 = tf.keras.layers.Dense(20, activation='relu')\n",
        "        self.fc2 = tf.keras.layers.Dense(6, activation=None, bias_initializer=tf.keras.initializers.constant([1.0, 0.0, 0.0, 0.0, 1.0, 0.0]), kernel_initializer='zeros')\n",
        "\n",
        "    def build(self, input_shape):\n",
        "        print(\"Building Localization Network with input shape:\", input_shape)\n",
        "\n",
        "    def compute_output_shape(self, input_shape):\n",
        "        return [None, 6]\n",
        "\n",
        "    def call(self, inputs):\n",
        "        x = self.conv1(inputs)\n",
        "        x = self.pool1(x)\n",
        "        x = self.conv2(x)\n",
        "        x = self.pool2(x)\n",
        "        x = self.conv3(x)\n",
        "        x = self.pool3(x)\n",
        "        x = self.flatten(x)\n",
        "        x = self.fc1(x)\n",
        "        theta = self.fc2(x)\n",
        "        theta = tf.keras.layers.Reshape((2, 3))(theta)\n",
        "        return theta"
      ],
      "metadata": {
        "id": "KvBiOiBJML8g"
      },
      "execution_count": 9,
      "outputs": []
    },
    {
      "cell_type": "markdown",
      "source": [
        "# BilinearInterpolation\n",
        "## Grid Generator를 찾는것\n"
      ],
      "metadata": {
        "id": "YcBH0atCbwzD"
      }
    },
    {
      "cell_type": "code",
      "source": [
        "class BilinearInterpolation(tf.keras.layers.Layer):\n",
        "    def __init__(self, height=40, width=40):#들어오는 iamge size\n",
        "        super(BilinearInterpolation, self).__init__()\n",
        "        self.height = height\n",
        "        self.width = width\n",
        "\n",
        "    def compute_output_shape(self, input_shape):\n",
        "        return [None, self.height, self.width, 1]\n",
        "\n",
        "    def get_config(self):\n",
        "        return {\n",
        "            'height': self.height,\n",
        "            'width': self.width,\n",
        "        }\n",
        "\n",
        "    def build(self, input_shape):\n",
        "        print(\"Building Bilinear Interpolation Layer with input shape:\", input_shape)\n",
        "\n",
        "    ## generator에서 index를 여러번 알아내는 용도로 사용\n",
        "    def advance_indexing(self, inputs, x, y):\n",
        "        shape = tf.shape(inputs)\n",
        "        batch_size, _, _ = shape[0], shape[1], shape[2]\n",
        "\n",
        "        batch_idx = tf.range(0, batch_size)\n",
        "        batch_idx = tf.reshape(batch_idx, (batch_size, 1, 1))\n",
        "        b = tf.tile(batch_idx, (1, self.height, self.width))\n",
        "        indices = tf.stack([b, y, x], 3)\n",
        "        return tf.gather_nd(inputs, indices)\n",
        "\n",
        "    def call(self, inputs):\n",
        "        images, theta = inputs\n",
        "        homogenous_coordinates = self.grid_generator(batch=tf.shape(images)[0])\n",
        "        return self.interpolate(images, homogenous_coordinates, theta)\n",
        "\n",
        "    # 관심 객체 주위에 grid 생성\n",
        "    def grid_generator(self, batch):\n",
        "        x = tf.linspace(-1, 1, self.width)\n",
        "        y = tf.linspace(-1, 1, self.height)\n",
        "\n",
        "        xx, yy = tf.meshgrid(x, y)\n",
        "        xx = tf.reshape(xx, (-1,))\n",
        "        yy = tf.reshape(yy, (-1,))\n",
        "        homogenous_coordinates = tf.stack([xx, yy, tf.ones_like(xx)])\n",
        "        homogenous_coordinates = tf.expand_dims(homogenous_coordinates, axis=0)\n",
        "        homogenous_coordinates = tf.tile(homogenous_coordinates, [batch, 1, 1])\n",
        "        homogenous_coordinates = tf.cast(homogenous_coordinates, dtype=tf.float32)\n",
        "        return homogenous_coordinates\n",
        "    ## pixel을 변환하는 것\n",
        "    def interpolate(self, images, homogenous_coordinates, theta):\n",
        "\n",
        "        with tf.name_scope(\"Transformation\"):\n",
        "            transformed = tf.matmul(theta, homogenous_coordinates)\n",
        "            transformed = tf.transpose(transformed, perm=[0, 2, 1])\n",
        "            transformed = tf.reshape(transformed, [-1, self.height, self.width, 2])\n",
        "\n",
        "            x_transformed = transformed[:, :, :, 0]\n",
        "            y_transformed = transformed[:, :, :, 1]\n",
        "\n",
        "            x = ((x_transformed + 1.) * tf.cast(self.width, dtype=tf.float32)) * 0.5\n",
        "            y = ((y_transformed + 1.) * tf.cast(self.height, dtype=tf.float32)) * 0.5\n",
        "\n",
        "        with tf.name_scope(\"VariableCasting\"):\n",
        "            x0 = tf.cast(tf.math.floor(x), dtype=tf.int32)\n",
        "            x1 = x0 + 1\n",
        "            y0 = tf.cast(tf.math.floor(y), dtype=tf.int32)\n",
        "            y1 = y0 + 1\n",
        "\n",
        "            x0 = tf.clip_by_value(x0, 0, self.width-1)\n",
        "            x1 = tf.clip_by_value(x1, 0, self.width-1)\n",
        "            y0 = tf.clip_by_value(y0, 0, self.height-1)\n",
        "            y1 = tf.clip_by_value(y1, 0, self.height-1)\n",
        "            x = tf.clip_by_value(x, 0, tf.cast(self.width, dtype=tf.float32)-1.0)\n",
        "            y = tf.clip_by_value(y, 0, tf.cast(self.height, dtype=tf.float32)-1)\n",
        "\n",
        "        with tf.name_scope(\"AdvanceIndexing\"):\n",
        "            Ia = self.advance_indexing(images, x0, y0)\n",
        "            Ib = self.advance_indexing(images, x0, y1)\n",
        "            Ic = self.advance_indexing(images, x1, y0)\n",
        "            Id = self.advance_indexing(images, x1, y1)\n",
        "\n",
        "        with tf.name_scope(\"Interpolation\"):\n",
        "            x0 = tf.cast(x0, dtype=tf.float32)\n",
        "            x1 = tf.cast(x1, dtype=tf.float32)\n",
        "            y0 = tf.cast(y0, dtype=tf.float32)\n",
        "            y1 = tf.cast(y1, dtype=tf.float32)\n",
        "\n",
        "            wa = (x1-x) * (y1-y)\n",
        "            wb = (x1-x) * (y-y0)\n",
        "            wc = (x-x0) * (y1-y)\n",
        "            wd = (x-x0) * (y-y0)\n",
        "\n",
        "            wa = tf.expand_dims(wa, axis=3)\n",
        "            wb = tf.expand_dims(wb, axis=3)\n",
        "            wc = tf.expand_dims(wc, axis=3)\n",
        "            wd = tf.expand_dims(wd, axis=3)\n",
        "\n",
        "        return tf.math.add_n([wa*Ia + wb*Ib + wc*Ic + wd*Id])"
      ],
      "metadata": {
        "id": "PNaR-B5lMO9S"
      },
      "execution_count": 10,
      "outputs": []
    },
    {
      "cell_type": "code",
      "source": [
        "bi = BilinearInterpolation()"
      ],
      "metadata": {
        "id": "HlHpRlC6MSr9"
      },
      "execution_count": 11,
      "outputs": []
    },
    {
      "cell_type": "markdown",
      "source": [
        "## 먼저 Localization Network으로 전달후\n",
        "### BilinearInterpolation 수행"
      ],
      "metadata": {
        "id": "LtWJ61PAc27Q"
      }
    },
    {
      "cell_type": "code",
      "source": [
        "input_shape = (40, 40, 1)\n",
        "image = tf.keras.layers.Input(shape=input_shape)\n",
        "theta = LocalizationNetwork()(image)\n",
        "x = BilinearInterpolation(height=input_shape[0], width=input_shape[1])([image, theta])\n",
        "x = tf.keras.layers.Conv2D(64, [9, 9], activation='relu')(x)\n",
        "x = tf.keras.layers.MaxPool2D()(x)\n",
        "x = tf.keras.layers.Conv2D(64, [7, 7], activation='relu')(x)\n",
        "x = tf.keras.layers.MaxPool2D()(x)\n",
        "## Dense에 들어가기 전에 Flatten 해주는 것이 정말 중요\n",
        "x = tf.keras.layers.Flatten()(x)\n",
        "x = tf.keras.layers.Dense(64, activation='relu')(x)\n",
        "x = tf.keras.layers.Dense(32, activation='relu')(x)\n",
        "x = tf.keras.layers.Dense(10, activation='softmax')(x)\n",
        "\n",
        "model = tf.keras.models.Model(inputs=image, outputs=x)"
      ],
      "metadata": {
        "id": "j3-Yb_X7Mauf",
        "colab": {
          "base_uri": "https://localhost:8080/"
        },
        "outputId": "fab7458d-3141-4a6b-f189-c17f44120134"
      },
      "execution_count": 12,
      "outputs": [
        {
          "output_type": "stream",
          "name": "stdout",
          "text": [
            "Building Localization Network with input shape: (None, 40, 40, 1)\n",
            "Building Bilinear Interpolation Layer with input shape: [TensorShape([None, 40, 40, 1]), TensorShape([None, 2, 3])]\n"
          ]
        }
      ]
    },
    {
      "cell_type": "code",
      "source": [
        "# from_logits 여러개의 출력을 가지게 된다.\n",
        "model.compile(\n",
        "    optimizer='adam',\n",
        "    loss=tf.keras.losses.SparseCategoricalCrossentropy(from_logits=True),\n",
        "    metrics=['accuracy']\n",
        ")"
      ],
      "metadata": {
        "id": "rJnX_tv3MeXn"
      },
      "execution_count": 13,
      "outputs": []
    },
    {
      "cell_type": "code",
      "source": [
        "history = model.fit(mnist_train_ds, epochs=10)"
      ],
      "metadata": {
        "colab": {
          "base_uri": "https://localhost:8080/"
        },
        "id": "91S51sHwMkL1",
        "outputId": "dffb8496-9245-49b8-c970-e37566e4976b"
      },
      "execution_count": 14,
      "outputs": [
        {
          "output_type": "stream",
          "name": "stdout",
          "text": [
            "Epoch 1/10\n"
          ]
        },
        {
          "output_type": "stream",
          "name": "stderr",
          "text": [
            "/usr/local/lib/python3.10/dist-packages/keras/backend.py:5612: UserWarning: \"`sparse_categorical_crossentropy` received `from_logits=True`, but the `output` argument was produced by a Softmax activation and thus does not represent logits. Was this intended?\n",
            "  output, from_logits = _get_logits(\n"
          ]
        },
        {
          "output_type": "stream",
          "name": "stdout",
          "text": [
            "422/422 [==============================] - 43s 57ms/step - loss: 0.5708 - accuracy: 0.8093\n",
            "Epoch 2/10\n",
            "422/422 [==============================] - 19s 45ms/step - loss: 0.1249 - accuracy: 0.9621\n",
            "Epoch 3/10\n",
            "422/422 [==============================] - 18s 44ms/step - loss: 0.0861 - accuracy: 0.9736\n",
            "Epoch 4/10\n",
            "422/422 [==============================] - 15s 35ms/step - loss: 0.0682 - accuracy: 0.9789\n",
            "Epoch 5/10\n",
            "422/422 [==============================] - 19s 45ms/step - loss: 0.0586 - accuracy: 0.9820\n",
            "Epoch 6/10\n",
            "422/422 [==============================] - 16s 37ms/step - loss: 0.0513 - accuracy: 0.9841\n",
            "Epoch 7/10\n",
            "422/422 [==============================] - 15s 36ms/step - loss: 0.0485 - accuracy: 0.9840\n",
            "Epoch 8/10\n",
            "422/422 [==============================] - 14s 34ms/step - loss: 0.0458 - accuracy: 0.9856\n",
            "Epoch 9/10\n",
            "422/422 [==============================] - 15s 36ms/step - loss: 0.0402 - accuracy: 0.9872\n",
            "Epoch 10/10\n",
            "422/422 [==============================] - 14s 34ms/step - loss: 0.0380 - accuracy: 0.9878\n"
          ]
        }
      ]
    },
    {
      "cell_type": "markdown",
      "source": [
        "# outputs=[model.layers[1].output, model.layers[2].output]\n",
        "### layer1.output=> Localization에 의한것\n",
        "### layer2.output=> Bilinear interpolation에 의한것"
      ],
      "metadata": {
        "id": "9WI8jMbQd1ly"
      }
    },
    {
      "cell_type": "code",
      "source": [
        "model = tf.keras.models.Model(inputs=model.inputs, outputs=[model.layers[1].output, model.layers[2].output])"
      ],
      "metadata": {
        "id": "tj0asyq9VQWT"
      },
      "execution_count": 15,
      "outputs": []
    },
    {
      "cell_type": "code",
      "source": [
        "theta, prediction = model.predict(X_test)"
      ],
      "metadata": {
        "id": "6_lNmzhpMlq2",
        "colab": {
          "base_uri": "https://localhost:8080/"
        },
        "outputId": "8ba4b164-6084-420c-fd4f-6f2a9c544fd5"
      },
      "execution_count": 16,
      "outputs": [
        {
          "output_type": "stream",
          "name": "stdout",
          "text": [
            "188/188 [==============================] - 2s 7ms/step\n"
          ]
        }
      ]
    },
    {
      "cell_type": "code",
      "source": [
        "prediction[0].shape"
      ],
      "metadata": {
        "colab": {
          "base_uri": "https://localhost:8080/"
        },
        "id": "3G2vnYyMdd8C",
        "outputId": "c51a100f-acfd-4c58-dc7f-f1f0d893fde0"
      },
      "execution_count": 26,
      "outputs": [
        {
          "output_type": "execute_result",
          "data": {
            "text/plain": [
              "(40, 40, 1)"
            ]
          },
          "metadata": {},
          "execution_count": 26
        }
      ]
    },
    {
      "cell_type": "markdown",
      "source": [
        "## 즉 이것은 훈련데이터 세트를 향상시키기위한\n",
        "### Spatial Transformer Network를 사용하는 방법"
      ],
      "metadata": {
        "id": "Cf8gYspweQXf"
      }
    },
    {
      "cell_type": "code",
      "source": [
        "plt.subplot(1,2,1)\n",
        "plt.imshow(X_test[12, :, :, 0], cmap='gray')\n",
        "\n",
        "plt.subplot(1, 2, 2)\n",
        "plt.imshow(prediction[12, :, :, 0], cmap='gray')"
      ],
      "metadata": {
        "colab": {
          "base_uri": "https://localhost:8080/",
          "height": 306
        },
        "id": "V7g1_k25VAJX",
        "outputId": "95266ac2-1f70-47a1-8339-69106ec5cf16"
      },
      "execution_count": 17,
      "outputs": [
        {
          "output_type": "execute_result",
          "data": {
            "text/plain": [
              "<matplotlib.image.AxesImage at 0x7f3635651c00>"
            ]
          },
          "metadata": {},
          "execution_count": 17
        },
        {
          "output_type": "display_data",
          "data": {
            "text/plain": [
              "<Figure size 640x480 with 2 Axes>"
            ],
            "image/png": "[encoded data removed]"
          },
          "metadata": {}
        }
      ]
    },
    {
      "cell_type": "code",
      "source": [],
      "metadata": {
        "id": "z_jt_vzcV-t8"
      },
      "execution_count": 17,
      "outputs": []
    }
  ]
}