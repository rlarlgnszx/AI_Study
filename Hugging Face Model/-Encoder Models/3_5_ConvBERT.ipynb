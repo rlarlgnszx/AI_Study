{
  "nbformat": 4,
  "nbformat_minor": 0,
  "metadata": {
    "colab": {
      "provenance": []
    },
    "kernelspec": {
      "name": "python3",
      "display_name": "Python 3"
    },
    "language_info": {
      "name": "python"
    }
  },
  "cells": [
    {
      "cell_type": "code",
      "execution_count": null,
      "metadata": {
        "id": "rh2UCR-k-N-S",
        "colab": {
          "base_uri": "https://localhost:8080/"
        },
        "outputId": "14694d0e-e698-4dc5-c309-e34bab312d2e"
      },
      "outputs": [
        {
          "output_type": "stream",
          "name": "stdout",
          "text": [
            "Collecting transformers\n",
            "  Downloading transformers-4.30.2-py3-none-any.whl (7.2 MB)\n",
            "\u001b[2K     \u001b[90m━━━━━━━━━━━━━━━━━━━━━━━━━━━━━━━━━━━━━━━━\u001b[0m \u001b[32m7.2/7.2 MB\u001b[0m \u001b[31m64.1 MB/s\u001b[0m eta \u001b[36m0:00:00\u001b[0m\n",
            "\u001b[?25hRequirement already satisfied: filelock in /usr/local/lib/python3.10/dist-packages (from transformers) (3.12.2)\n",
            "Collecting huggingface-hub<1.0,>=0.14.1 (from transformers)\n",
            "  Downloading huggingface_hub-0.16.4-py3-none-any.whl (268 kB)\n",
            "\u001b[2K     \u001b[90m━━━━━━━━━━━━━━━━━━━━━━━━━━━━━━━━━━━━━━\u001b[0m \u001b[32m268.8/268.8 kB\u001b[0m \u001b[31m36.2 MB/s\u001b[0m eta \u001b[36m0:00:00\u001b[0m\n",
            "\u001b[?25hRequirement already satisfied: numpy>=1.17 in /usr/local/lib/python3.10/dist-packages (from transformers) (1.22.4)\n",
            "Requirement already satisfied: packaging>=20.0 in /usr/local/lib/python3.10/dist-packages (from transformers) (23.1)\n",
            "Requirement already satisfied: pyyaml>=5.1 in /usr/local/lib/python3.10/dist-packages (from transformers) (6.0)\n",
            "Requirement already satisfied: regex!=2019.12.17 in /usr/local/lib/python3.10/dist-packages (from transformers) (2022.10.31)\n",
            "Requirement already satisfied: requests in /usr/local/lib/python3.10/dist-packages (from transformers) (2.27.1)\n",
            "Collecting tokenizers!=0.11.3,<0.14,>=0.11.1 (from transformers)\n",
            "  Downloading tokenizers-0.13.3-cp310-cp310-manylinux_2_17_x86_64.manylinux2014_x86_64.whl (7.8 MB)\n",
            "\u001b[2K     \u001b[90m━━━━━━━━━━━━━━━━━━━━━━━━━━━━━━━━━━━━━━━━\u001b[0m \u001b[32m7.8/7.8 MB\u001b[0m \u001b[31m124.9 MB/s\u001b[0m eta \u001b[36m0:00:00\u001b[0m\n",
            "\u001b[?25hCollecting safetensors>=0.3.1 (from transformers)\n",
            "  Downloading safetensors-0.3.1-cp310-cp310-manylinux_2_17_x86_64.manylinux2014_x86_64.whl (1.3 MB)\n",
            "\u001b[2K     \u001b[90m━━━━━━━━━━━━━━━━━━━━━━━━━━━━━━━━━━━━━━━━\u001b[0m \u001b[32m1.3/1.3 MB\u001b[0m \u001b[31m93.8 MB/s\u001b[0m eta \u001b[36m0:00:00\u001b[0m\n",
            "\u001b[?25hRequirement already satisfied: tqdm>=4.27 in /usr/local/lib/python3.10/dist-packages (from transformers) (4.65.0)\n",
            "Requirement already satisfied: fsspec in /usr/local/lib/python3.10/dist-packages (from huggingface-hub<1.0,>=0.14.1->transformers) (2023.6.0)\n",
            "Requirement already satisfied: typing-extensions>=3.7.4.3 in /usr/local/lib/python3.10/dist-packages (from huggingface-hub<1.0,>=0.14.1->transformers) (4.7.1)\n",
            "Requirement already satisfied: urllib3<1.27,>=1.21.1 in /usr/local/lib/python3.10/dist-packages (from requests->transformers) (1.26.16)\n",
            "Requirement already satisfied: certifi>=2017.4.17 in /usr/local/lib/python3.10/dist-packages (from requests->transformers) (2023.5.7)\n",
            "Requirement already satisfied: charset-normalizer~=2.0.0 in /usr/local/lib/python3.10/dist-packages (from requests->transformers) (2.0.12)\n",
            "Requirement already satisfied: idna<4,>=2.5 in /usr/local/lib/python3.10/dist-packages (from requests->transformers) (3.4)\n",
            "Installing collected packages: tokenizers, safetensors, huggingface-hub, transformers\n",
            "Successfully installed huggingface-hub-0.16.4 safetensors-0.3.1 tokenizers-0.13.3 transformers-4.30.2\n"
          ]
        }
      ],
      "source": [
        "!pip install transformers"
      ]
    },
    {
      "cell_type": "code",
      "source": [
        "from transformers import ConvBertTokenizer, ConvBertForMaskedLM\n",
        "import torch"
      ],
      "metadata": {
        "id": "kd-varh6-Ygn"
      },
      "execution_count": null,
      "outputs": []
    },
    {
      "cell_type": "code",
      "source": [
        "def predict_next_word(sentence):\n",
        "    # Load ConvBERT tokenizer and model\n",
        "    tokenizer = ConvBertTokenizer.from_pretrained('YituTech/conv-bert-base')\n",
        "    model = ConvBertForMaskedLM.from_pretrained('YituTech/conv-bert-base')\n",
        "\n",
        "    # Tokenize input sentence\n",
        "    tokens = tokenizer.encode(sentence, add_special_tokens=True, return_tensors='pt')\n",
        "\n",
        "    # Find the masked token\n",
        "    masked_index = torch.where(tokens == tokenizer.mask_token_id)[1].tolist()[0]\n",
        "\n",
        "    # Generate predictions for the masked token\n",
        "    with torch.no_grad():\n",
        "        outputs = model(tokens)\n",
        "        predictions = outputs.logits[0, masked_index]\n",
        "\n",
        "    # Get the top-k predicted tokens and their probabilities\n",
        "    top_predictions = torch.topk(predictions, k=5)\n",
        "    predicted_tokens = tokenizer.convert_ids_to_tokens(top_predictions.indices.tolist())\n",
        "    probabilities = top_predictions.values.exp().tolist()\n",
        "\n",
        "    return predicted_tokens, probabilities"
      ],
      "metadata": {
        "id": "LOTQMMH8-b0b"
      },
      "execution_count": null,
      "outputs": []
    },
    {
      "cell_type": "code",
      "source": [
        "sentence = \"I want to [MASK] a car\"\n",
        "\n",
        "predicted_tokens, probabilities = predict_next_word(sentence)\n",
        "for token, prob in zip(predicted_tokens, probabilities):\n",
        "    print(f\"Token: {token}, Probability: {prob}\")"
      ],
      "metadata": {
        "colab": {
          "base_uri": "https://localhost:8080/"
        },
        "id": "gGviZ9nL-OV7",
        "outputId": "07f65351-c124-4899-ed0b-2d7653164c0c"
      },
      "execution_count": null,
      "outputs": [
        {
          "output_type": "stream",
          "name": "stderr",
          "text": [
            "Some weights of ConvBertForMaskedLM were not initialized from the model checkpoint at YituTech/conv-bert-base and are newly initialized: ['generator_predictions.LayerNorm.bias', 'generator_predictions.LayerNorm.weight', 'generator_predictions.dense.weight', 'generator_lm_head.bias', 'generator_predictions.dense.bias']\n",
            "You should probably TRAIN this model on a down-stream task to be able to use it for predictions and inference.\n"
          ]
        },
        {
          "output_type": "stream",
          "name": "stdout",
          "text": [
            "Token: attendant, Probability: 2424.0068359375\n",
            "Token: ##grounds, Probability: 463.6900939941406\n",
            "Token: sergeant, Probability: 363.5892028808594\n",
            "Token: ##posed, Probability: 301.9273681640625\n",
            "Token: versa, Probability: 281.9667053222656\n"
          ]
        }
      ]
    },
    {
      "cell_type": "markdown",
      "source": [
        "## 더정확한 예측 conv-bert-large 사용"
      ],
      "metadata": {
        "id": "xG15AVXPrnVq"
      }
    },
    {
      "cell_type": "code",
      "source": [],
      "metadata": {
        "id": "w--0XgAT-fBu"
      },
      "execution_count": null,
      "outputs": []
    }
  ]
}