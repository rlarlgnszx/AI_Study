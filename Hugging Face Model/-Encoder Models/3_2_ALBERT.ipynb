{
  "nbformat": 4,
  "nbformat_minor": 0,
  "metadata": {
    "colab": {
      "provenance": []
    },
    "kernelspec": {
      "name": "python3",
      "display_name": "Python 3"
    },
    "language_info": {
      "name": "python"
    }
  },
  "cells": [
    {
      "cell_type": "markdown",
      "source": [
        "## Self-supervised learning을 위한 \"경량화\" Bert"
      ],
      "metadata": {
        "id": "2m20Z-xRAf52"
      }
    },
    {
      "cell_type": "markdown",
      "source": [
        "## bert는 매우 큰 모델이라 해결책이나 문제 또는 프로젝트를 위해서 Bert를 파인튜닝하는 것은 어려움\n",
        "\n",
        "### Albert : A Lite Bert\n",
        "#### 모바일이나 엣지장치에서 배포 가능"
      ],
      "metadata": {
        "id": "fSCmyn8yAqTZ"
      }
    },
    {
      "cell_type": "code",
      "execution_count": 12,
      "metadata": {
        "colab": {
          "base_uri": "https://localhost:8080/"
        },
        "id": "ds-O-AFNJUQN",
        "outputId": "abdd60c1-f339-46a6-c873-a1a2e73d18da"
      },
      "outputs": [
        {
          "output_type": "stream",
          "name": "stdout",
          "text": [
            "Requirement already satisfied: transformers in /usr/local/lib/python3.10/dist-packages (4.30.2)\n",
            "Requirement already satisfied: filelock in /usr/local/lib/python3.10/dist-packages (from transformers) (3.12.2)\n",
            "Requirement already satisfied: huggingface-hub<1.0,>=0.14.1 in /usr/local/lib/python3.10/dist-packages (from transformers) (0.16.4)\n",
            "Requirement already satisfied: numpy>=1.17 in /usr/local/lib/python3.10/dist-packages (from transformers) (1.22.4)\n",
            "Requirement already satisfied: packaging>=20.0 in /usr/local/lib/python3.10/dist-packages (from transformers) (23.1)\n",
            "Requirement already satisfied: pyyaml>=5.1 in /usr/local/lib/python3.10/dist-packages (from transformers) (6.0)\n",
            "Requirement already satisfied: regex!=2019.12.17 in /usr/local/lib/python3.10/dist-packages (from transformers) (2022.10.31)\n",
            "Requirement already satisfied: requests in /usr/local/lib/python3.10/dist-packages (from transformers) (2.27.1)\n",
            "Requirement already satisfied: tokenizers!=0.11.3,<0.14,>=0.11.1 in /usr/local/lib/python3.10/dist-packages (from transformers) (0.13.3)\n",
            "Requirement already satisfied: safetensors>=0.3.1 in /usr/local/lib/python3.10/dist-packages (from transformers) (0.3.1)\n",
            "Requirement already satisfied: tqdm>=4.27 in /usr/local/lib/python3.10/dist-packages (from transformers) (4.65.0)\n",
            "Requirement already satisfied: fsspec in /usr/local/lib/python3.10/dist-packages (from huggingface-hub<1.0,>=0.14.1->transformers) (2023.6.0)\n",
            "Requirement already satisfied: typing-extensions>=3.7.4.3 in /usr/local/lib/python3.10/dist-packages (from huggingface-hub<1.0,>=0.14.1->transformers) (4.7.1)\n",
            "Requirement already satisfied: urllib3<1.27,>=1.21.1 in /usr/local/lib/python3.10/dist-packages (from requests->transformers) (1.26.16)\n",
            "Requirement already satisfied: certifi>=2017.4.17 in /usr/local/lib/python3.10/dist-packages (from requests->transformers) (2023.5.7)\n",
            "Requirement already satisfied: charset-normalizer~=2.0.0 in /usr/local/lib/python3.10/dist-packages (from requests->transformers) (2.0.12)\n",
            "Requirement already satisfied: idna<4,>=2.5 in /usr/local/lib/python3.10/dist-packages (from requests->transformers) (3.4)\n"
          ]
        }
      ],
      "source": [
        "!pip install transformers"
      ]
    },
    {
      "cell_type": "code",
      "source": [
        "!pip install SentencePiece"
      ],
      "metadata": {
        "colab": {
          "base_uri": "https://localhost:8080/"
        },
        "id": "cfVkWcVJJ5Xo",
        "outputId": "27cbd2ec-cd0a-4fe6-d41c-1c61810fe603"
      },
      "execution_count": 13,
      "outputs": [
        {
          "output_type": "stream",
          "name": "stdout",
          "text": [
            "Requirement already satisfied: SentencePiece in /usr/local/lib/python3.10/dist-packages (0.1.99)\n"
          ]
        }
      ]
    },
    {
      "cell_type": "code",
      "source": [
        "import torch\n",
        "from transformers import AlbertTokenizer, AlbertForMaskedLM"
      ],
      "metadata": {
        "id": "JZPwCsysJgPD"
      },
      "execution_count": 14,
      "outputs": []
    },
    {
      "cell_type": "code",
      "source": [
        "# Load the pretrained ALBERT model and tokenizer\n",
        "model_name = 'albert-base-v2'\n",
        "tokenizer = AlbertTokenizer.from_pretrained(model_name)\n",
        "model = AlbertForMaskedLM.from_pretrained(model_name)"
      ],
      "metadata": {
        "id": "9Zsv7ywrJgkd"
      },
      "execution_count": 15,
      "outputs": []
    },
    {
      "cell_type": "markdown",
      "source": [
        "# 나머지는 이전 Bert와 똑같음"
      ],
      "metadata": {
        "id": "uDap0xF9Bgyx"
      }
    },
    {
      "cell_type": "code",
      "source": [
        "# Set device (CPU or GPU)\n",
        "device = torch.device('cuda' if torch.cuda.is_available() else 'cpu')"
      ],
      "metadata": {
        "id": "Tyk0c2CiJjR6"
      },
      "execution_count": 16,
      "outputs": []
    },
    {
      "cell_type": "code",
      "source": [
        "# Next word prediction function\n",
        "def predict_next_word(text):\n",
        "    # Tokenize input text\n",
        "    tokenized_text = tokenizer.tokenize(text)\n",
        "    masked_index = tokenized_text.index('[MASK]')\n",
        "    indexed_tokens = tokenizer.convert_tokens_to_ids(tokenized_text)\n",
        "\n",
        "    # Convert tokens to tensor\n",
        "    tokens_tensor = torch.tensor([indexed_tokens]).to(device)\n",
        "\n",
        "    # Forward pass through the model\n",
        "    with torch.no_grad():\n",
        "        outputs = model(tokens_tensor)\n",
        "\n",
        "    predictions = outputs[0][0, masked_index].topk(k=5).indices.tolist()\n",
        "\n",
        "    predicted_tokens = []\n",
        "    for token_index in predictions:\n",
        "        predicted_token = tokenizer.convert_ids_to_tokens([token_index])[0]\n",
        "        predicted_tokens.append(predicted_token)\n",
        "\n",
        "    return predicted_tokens"
      ],
      "metadata": {
        "id": "b2BCOybrJlp-"
      },
      "execution_count": 17,
      "outputs": []
    },
    {
      "cell_type": "code",
      "source": [
        "# Example usage\n",
        "text_with_mask = \"I want to [MASK] a pizza for dinner.\"\n",
        "predicted_tokens = predict_next_word(text_with_mask)\n",
        "\n",
        "# Print the predicted tokens\n",
        "print(predicted_tokens)"
      ],
      "metadata": {
        "colab": {
          "base_uri": "https://localhost:8080/"
        },
        "id": "MxjKWOBxJens",
        "outputId": "feffc1e1-6937-45dd-d8c2-0d66040d860f"
      },
      "execution_count": 18,
      "outputs": [
        {
          "output_type": "stream",
          "name": "stdout",
          "text": [
            "['▁my', '▁the', '▁our', '▁your', '▁fro']\n"
          ]
        }
      ]
    },
    {
      "cell_type": "markdown",
      "source": [
        "## 예측이 구리다\n",
        "## 따라서 Albert를 조정하는 것 필요\n",
        "### 파인튜닝\n",
        "### 다만 여기선 label로써 분류하는 작업을 했음"
      ],
      "metadata": {
        "id": "OiXKUazwCMqt"
      }
    },
    {
      "cell_type": "code",
      "source": [],
      "metadata": {
        "id": "EQI7ov2sNbQV"
      },
      "execution_count": 18,
      "outputs": []
    },
    {
      "cell_type": "code",
      "source": [
        "import torch\n",
        "import torch.nn as nn\n",
        "from torch.utils.data import DataLoader\n",
        "from transformers import AlbertTokenizer, AlbertForSequenceClassification, AdamW\n",
        "\n",
        "# Load the pretrained ALBERT model and tokenizer\n",
        "model_name = 'albert-base-v2'\n",
        "tokenizer = AlbertTokenizer.from_pretrained(model_name)\n",
        "model = AlbertForSequenceClassification.from_pretrained(model_name, num_labels=2)\n",
        "\n",
        "# 같은 모델을 가져온다.\n",
        "\n",
        "# Set device (CPU or GPU)\n",
        "device = torch.device('cuda' if torch.cuda.is_available() else 'cpu')\n",
        "\n",
        "# Define your own dataset and dataloader\n",
        "## 파이토치를 사용해서 Dataset 설정하려면 torch.utils.Dataset필요\n",
        "\n",
        "class MyDataset(torch.utils.data.Dataset):\n",
        "    def __init__(self, texts, labels):\n",
        "        self.texts = texts\n",
        "        self.labels = labels\n",
        "\n",
        "    def __getitem__(self, index):\n",
        "        text = self.texts[index]\n",
        "        label = self.labels[index]\n",
        "        return text, label\n",
        "\n",
        "    def __len__(self):\n",
        "        return len(self.texts)\n",
        "\n",
        "# Example training data\n",
        "## 단순히 예제용 , 자신만의 데이터셋 필요\n",
        "train_texts = ['This is the first sentence.', 'This is the second sentence.']\n",
        "train_labels = [0, 1]\n",
        "\n",
        "# Create the dataset and dataloader\n",
        "train_dataset = MyDataset(train_texts, train_labels)\n",
        "train_dataloader = DataLoader(train_dataset, batch_size=16, shuffle=True)\n",
        "\n",
        "# Move the model to the device\n",
        "model.to(device)\n",
        "\n",
        "# Training settings\n",
        "epochs = 10\n",
        "lr = 2e-5\n",
        "optimizer = AdamW(model.parameters(), lr=lr)\n",
        "## 분류문제이기 때뭉네\n",
        "loss_fn = nn.CrossEntropyLoss()\n",
        "\n",
        "# Training loop\n",
        "for epoch in range(epochs):\n",
        "    total_loss = 0\n",
        "    model.train()\n",
        "\n",
        "    for texts, labels in train_dataloader:\n",
        "        # Tokenize input texts\n",
        "        input_ids = []\n",
        "        attention_masks = []\n",
        "        for text in texts:\n",
        "            encoded = tokenizer.encode_plus(\n",
        "                text,\n",
        "                add_special_tokens=True,\n",
        "                padding='max_length',\n",
        "                truncation=True,\n",
        "                max_length=128,\n",
        "                return_tensors='pt'\n",
        "            )\n",
        "            input_ids.append(encoded['input_ids'].squeeze())\n",
        "            attention_masks.append(encoded['attention_mask'].squeeze())\n",
        "        # 모두 넣은후 stack으로 행렬화 해서 한번에 전달\n",
        "        input_ids = torch.stack(input_ids).to(device)\n",
        "        attention_masks = torch.stack(attention_masks).to(device)\n",
        "        labels = torch.tensor(labels).to(device)\n",
        "\n",
        "        # Forward pass\n",
        "        outputs = model(input_ids, attention_mask=attention_masks)\n",
        "        logits = outputs.logits\n",
        "\n",
        "        # Compute loss\n",
        "        loss = loss_fn(logits, labels)\n",
        "        total_loss += loss.item()\n",
        "\n",
        "        # Backward pass and optimization\n",
        "        optimizer.zero_grad()\n",
        "        loss.backward()\n",
        "        optimizer.step()\n",
        "\n",
        "    average_loss = total_loss / len(train_dataloader)\n",
        "    print(f\"Epoch {epoch+1}/{epochs} - Loss: {average_loss:.4f}\")\n",
        "\n",
        "# Save the fine-tuned model\n",
        "model.save_pretrained('path/to/save/model')\n",
        "tokenizer.save_pretrained('path/to/save/tokenizer')\n"
      ],
      "metadata": {
        "colab": {
          "base_uri": "https://localhost:8080/"
        },
        "id": "FV4C3axVJnyp",
        "outputId": "dd43e367-20bc-4eae-a2bb-bf6b97b62f68"
      },
      "execution_count": 19,
      "outputs": [
        {
          "output_type": "stream",
          "name": "stderr",
          "text": [
            "Some weights of the model checkpoint at albert-base-v2 were not used when initializing AlbertForSequenceClassification: ['predictions.dense.bias', 'predictions.LayerNorm.bias', 'predictions.decoder.bias', 'predictions.LayerNorm.weight', 'predictions.bias', 'predictions.dense.weight']\n",
            "- This IS expected if you are initializing AlbertForSequenceClassification from the checkpoint of a model trained on another task or with another architecture (e.g. initializing a BertForSequenceClassification model from a BertForPreTraining model).\n",
            "- This IS NOT expected if you are initializing AlbertForSequenceClassification from the checkpoint of a model that you expect to be exactly identical (initializing a BertForSequenceClassification model from a BertForSequenceClassification model).\n",
            "Some weights of AlbertForSequenceClassification were not initialized from the model checkpoint at albert-base-v2 and are newly initialized: ['classifier.weight', 'classifier.bias']\n",
            "You should probably TRAIN this model on a down-stream task to be able to use it for predictions and inference.\n",
            "/usr/local/lib/python3.10/dist-packages/transformers/optimization.py:411: FutureWarning: This implementation of AdamW is deprecated and will be removed in a future version. Use the PyTorch implementation torch.optim.AdamW instead, or set `no_deprecation_warning=True` to disable this warning\n",
            "  warnings.warn(\n",
            "<ipython-input-19-57ba587e1fcb>:68: UserWarning: To copy construct from a tensor, it is recommended to use sourceTensor.clone().detach() or sourceTensor.clone().detach().requires_grad_(True), rather than torch.tensor(sourceTensor).\n",
            "  labels = torch.tensor(labels).to(device)\n"
          ]
        },
        {
          "output_type": "stream",
          "name": "stdout",
          "text": [
            "Epoch 1/10 - Loss: 0.7318\n",
            "Epoch 2/10 - Loss: 0.7358\n",
            "Epoch 3/10 - Loss: 0.6278\n",
            "Epoch 4/10 - Loss: 0.5126\n",
            "Epoch 5/10 - Loss: 0.5879\n",
            "Epoch 6/10 - Loss: 0.3802\n",
            "Epoch 7/10 - Loss: 0.4190\n",
            "Epoch 8/10 - Loss: 0.3830\n",
            "Epoch 9/10 - Loss: 0.2662\n",
            "Epoch 10/10 - Loss: 0.2022\n"
          ]
        },
        {
          "output_type": "execute_result",
          "data": {
            "text/plain": [
              "('path/to/save/tokenizer/tokenizer_config.json',\n",
              " 'path/to/save/tokenizer/special_tokens_map.json',\n",
              " 'path/to/save/tokenizer/spiece.model',\n",
              " 'path/to/save/tokenizer/added_tokens.json')"
            ]
          },
          "metadata": {},
          "execution_count": 19
        }
      ]
    },
    {
      "cell_type": "code",
      "source": [
        "2e-5"
      ],
      "metadata": {
        "colab": {
          "base_uri": "https://localhost:8080/"
        },
        "id": "uL8xB45ZNZEG",
        "outputId": "5ddff1e6-20a2-45ed-c0f5-6d21bc55bf25"
      },
      "execution_count": 20,
      "outputs": [
        {
          "output_type": "execute_result",
          "data": {
            "text/plain": [
              "2e-05"
            ]
          },
          "metadata": {},
          "execution_count": 20
        }
      ]
    },
    {
      "cell_type": "markdown",
      "source": [
        "## finetuning 하고 사용해보는 부분\n",
        "## 오류가 난이유\n",
        "### label을 2개로 설정하고 분류하는 작업을한다.\n",
        "## 이후 model의 prediction을 통하면 2개의 label 나오는데 기존의 masked된 부분을 넘어선 index를 통해 예측을 하려고 하여 오류가 남"
      ],
      "metadata": {
        "id": "gcp2_mFYFORF"
      }
    },
    {
      "cell_type": "code",
      "source": [
        "model_name = 'path/to/save/'\n",
        "tokenizer = AlbertTokenizer.from_pretrained(model_name+'tokenizer')\n",
        "model = AlbertForSequenceClassification.from_pretrained(model_name+'model')"
      ],
      "metadata": {
        "id": "9cpasW1tPRl1"
      },
      "execution_count": 32,
      "outputs": []
    },
    {
      "cell_type": "code",
      "source": [
        "# Next word prediction function\n",
        "def predict_next_word(text):\n",
        "    # Tokenize input text\n",
        "    tokenized_text = tokenizer.tokenize(text)\n",
        "    masked_index = tokenized_text.index('[MASK]')\n",
        "    indexed_tokens = tokenizer.convert_tokens_to_ids(tokenized_text)\n",
        "\n",
        "    # Convert tokens to tensor\n",
        "    tokens_tensor = torch.tensor([indexed_tokens]).to(device)\n",
        "    print(tokens_tensor)\n",
        "    # Forward pass through the model\n",
        "    with torch.no_grad():\n",
        "        outputs = model(tokens_tensor)\n",
        "    print(outputs)\n",
        "\n",
        "    predictions = outputs[0][0, masked_index].topk(k=5).indices.tolist()\n",
        "\n",
        "    predicted_tokens = []\n",
        "    for token_index in predictions:\n",
        "        predicted_token = tokenizer.convert_ids_to_tokens([token_index])[0]\n",
        "        predicted_tokens.append(predicted_token)\n",
        "\n",
        "    return predicted_tokens"
      ],
      "metadata": {
        "id": "zC_jsK_yEBy-"
      },
      "execution_count": 33,
      "outputs": []
    },
    {
      "cell_type": "code",
      "source": [
        "# Example usage\n",
        "text_with_mask = \"I want to [MASK] a pizza for dinner.\"\n",
        "predicted_tokens = predict_next_word(text_with_mask)\n",
        "\n",
        "# Print the predicted tokens\n",
        "print(predicted_tokens)"
      ],
      "metadata": {
        "colab": {
          "base_uri": "https://localhost:8080/",
          "height": 408
        },
        "id": "Dc8x4c20EH-7",
        "outputId": "452b132c-5af1-4936-ebc6-e768b0c446a9"
      },
      "execution_count": 34,
      "outputs": [
        {
          "output_type": "stream",
          "name": "stdout",
          "text": [
            "tensor([[   31,   259,    20,     4,    21, 10684,    26,  2860,     9]])\n",
            "SequenceClassifierOutput(loss=None, logits=tensor([[0.1506, 0.9279]]), hidden_states=None, attentions=None)\n"
          ]
        },
        {
          "output_type": "error",
          "ename": "IndexError",
          "evalue": "ignored",
          "traceback": [
            "\u001b[0;31m---------------------------------------------------------------------------\u001b[0m",
            "\u001b[0;31mIndexError\u001b[0m                                Traceback (most recent call last)",
            "\u001b[0;32m<ipython-input-34-50e01ee1a2db>\u001b[0m in \u001b[0;36m<cell line: 3>\u001b[0;34m()\u001b[0m\n\u001b[1;32m      1\u001b[0m \u001b[0;31m# Example usage\u001b[0m\u001b[0;34m\u001b[0m\u001b[0;34m\u001b[0m\u001b[0m\n\u001b[1;32m      2\u001b[0m \u001b[0mtext_with_mask\u001b[0m \u001b[0;34m=\u001b[0m \u001b[0;34m\"I want to [MASK] a pizza for dinner.\"\u001b[0m\u001b[0;34m\u001b[0m\u001b[0;34m\u001b[0m\u001b[0m\n\u001b[0;32m----> 3\u001b[0;31m \u001b[0mpredicted_tokens\u001b[0m \u001b[0;34m=\u001b[0m \u001b[0mpredict_next_word\u001b[0m\u001b[0;34m(\u001b[0m\u001b[0mtext_with_mask\u001b[0m\u001b[0;34m)\u001b[0m\u001b[0;34m\u001b[0m\u001b[0;34m\u001b[0m\u001b[0m\n\u001b[0m\u001b[1;32m      4\u001b[0m \u001b[0;34m\u001b[0m\u001b[0m\n\u001b[1;32m      5\u001b[0m \u001b[0;31m# Print the predicted tokens\u001b[0m\u001b[0;34m\u001b[0m\u001b[0;34m\u001b[0m\u001b[0m\n",
            "\u001b[0;32m<ipython-input-33-35b796cb4ca6>\u001b[0m in \u001b[0;36mpredict_next_word\u001b[0;34m(text)\u001b[0m\n\u001b[1;32m     14\u001b[0m     \u001b[0mprint\u001b[0m\u001b[0;34m(\u001b[0m\u001b[0moutputs\u001b[0m\u001b[0;34m)\u001b[0m\u001b[0;34m\u001b[0m\u001b[0;34m\u001b[0m\u001b[0m\n\u001b[1;32m     15\u001b[0m \u001b[0;34m\u001b[0m\u001b[0m\n\u001b[0;32m---> 16\u001b[0;31m     \u001b[0mpredictions\u001b[0m \u001b[0;34m=\u001b[0m \u001b[0moutputs\u001b[0m\u001b[0;34m[\u001b[0m\u001b[0;36m0\u001b[0m\u001b[0;34m]\u001b[0m\u001b[0;34m[\u001b[0m\u001b[0;36m0\u001b[0m\u001b[0;34m,\u001b[0m \u001b[0mmasked_index\u001b[0m\u001b[0;34m]\u001b[0m\u001b[0;34m.\u001b[0m\u001b[0mtopk\u001b[0m\u001b[0;34m(\u001b[0m\u001b[0mk\u001b[0m\u001b[0;34m=\u001b[0m\u001b[0;36m5\u001b[0m\u001b[0;34m)\u001b[0m\u001b[0;34m.\u001b[0m\u001b[0mindices\u001b[0m\u001b[0;34m.\u001b[0m\u001b[0mtolist\u001b[0m\u001b[0;34m(\u001b[0m\u001b[0;34m)\u001b[0m\u001b[0;34m\u001b[0m\u001b[0;34m\u001b[0m\u001b[0m\n\u001b[0m\u001b[1;32m     17\u001b[0m \u001b[0;34m\u001b[0m\u001b[0m\n\u001b[1;32m     18\u001b[0m     \u001b[0mpredicted_tokens\u001b[0m \u001b[0;34m=\u001b[0m \u001b[0;34m[\u001b[0m\u001b[0;34m]\u001b[0m\u001b[0;34m\u001b[0m\u001b[0;34m\u001b[0m\u001b[0m\n",
            "\u001b[0;31mIndexError\u001b[0m: index 3 is out of bounds for dimension 1 with size 2"
          ]
        }
      ]
    }
  ]
}