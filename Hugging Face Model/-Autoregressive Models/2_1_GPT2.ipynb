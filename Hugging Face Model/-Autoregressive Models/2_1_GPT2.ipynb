{
  "nbformat": 4,
  "nbformat_minor": 0,
  "metadata": {
    "colab": {
      "provenance": []
    },
    "kernelspec": {
      "name": "python3",
      "display_name": "Python 3"
    },
    "accelerator": "GPU",
    "widgets": {
      "application/vnd.jupyter.widget-state+json": {
        "e4313674eacc4d5eaa1067263f83b698": {
          "model_module": "@jupyter-widgets/controls",
          "model_name": "HBoxModel",
          "model_module_version": "1.5.0",
          "state": {
            "_dom_classes": [],
            "_model_module": "@jupyter-widgets/controls",
            "_model_module_version": "1.5.0",
            "_model_name": "HBoxModel",
            "_view_count": null,
            "_view_module": "@jupyter-widgets/controls",
            "_view_module_version": "1.5.0",
            "_view_name": "HBoxView",
            "box_style": "",
            "children": [
              "IPY_MODEL_a29c1fcf01ab46808492fb9134650cc2",
              "IPY_MODEL_29632134c76647bdbda294e5f39fde4a",
              "IPY_MODEL_f36e67f721c44bdd9b3484058ffa9f56"
            ],
            "layout": "IPY_MODEL_8aa0909001d54a15869b29d9a1abd229"
          }
        },
        "a29c1fcf01ab46808492fb9134650cc2": {
          "model_module": "@jupyter-widgets/controls",
          "model_name": "HTMLModel",
          "model_module_version": "1.5.0",
          "state": {
            "_dom_classes": [],
            "_model_module": "@jupyter-widgets/controls",
            "_model_module_version": "1.5.0",
            "_model_name": "HTMLModel",
            "_view_count": null,
            "_view_module": "@jupyter-widgets/controls",
            "_view_module_version": "1.5.0",
            "_view_name": "HTMLView",
            "description": "",
            "description_tooltip": null,
            "layout": "IPY_MODEL_330a1e7eaeeb4b5fab0ca694c6768350",
            "placeholder": "​",
            "style": "IPY_MODEL_4e9de8e953e7401c936473fd15b63190",
            "value": "Downloading (…)olve/main/vocab.json: 100%"
          }
        },
        "29632134c76647bdbda294e5f39fde4a": {
          "model_module": "@jupyter-widgets/controls",
          "model_name": "FloatProgressModel",
          "model_module_version": "1.5.0",
          "state": {
            "_dom_classes": [],
            "_model_module": "@jupyter-widgets/controls",
            "_model_module_version": "1.5.0",
            "_model_name": "FloatProgressModel",
            "_view_count": null,
            "_view_module": "@jupyter-widgets/controls",
            "_view_module_version": "1.5.0",
            "_view_name": "ProgressView",
            "bar_style": "success",
            "description": "",
            "description_tooltip": null,
            "layout": "IPY_MODEL_c70204cd83e540a1848bb4fbbf53ab17",
            "max": 1042301,
            "min": 0,
            "orientation": "horizontal",
            "style": "IPY_MODEL_ab7986e9f6f54b62b6be1bfdf78ccd67",
            "value": 1042301
          }
        },
        "f36e67f721c44bdd9b3484058ffa9f56": {
          "model_module": "@jupyter-widgets/controls",
          "model_name": "HTMLModel",
          "model_module_version": "1.5.0",
          "state": {
            "_dom_classes": [],
            "_model_module": "@jupyter-widgets/controls",
            "_model_module_version": "1.5.0",
            "_model_name": "HTMLModel",
            "_view_count": null,
            "_view_module": "@jupyter-widgets/controls",
            "_view_module_version": "1.5.0",
            "_view_name": "HTMLView",
            "description": "",
            "description_tooltip": null,
            "layout": "IPY_MODEL_ca2bfaed42d74a799f6dc01e4df012de",
            "placeholder": "​",
            "style": "IPY_MODEL_c7227d15ef8a48c1ba33162f1aad7085",
            "value": " 1.04M/1.04M [00:00&lt;00:00, 4.77MB/s]"
          }
        },
        "8aa0909001d54a15869b29d9a1abd229": {
          "model_module": "@jupyter-widgets/base",
          "model_name": "LayoutModel",
          "model_module_version": "1.2.0",
          "state": {
            "_model_module": "@jupyter-widgets/base",
            "_model_module_version": "1.2.0",
            "_model_name": "LayoutModel",
            "_view_count": null,
            "_view_module": "@jupyter-widgets/base",
            "_view_module_version": "1.2.0",
            "_view_name": "LayoutView",
            "align_content": null,
            "align_items": null,
            "align_self": null,
            "border": null,
            "bottom": null,
            "display": null,
            "flex": null,
            "flex_flow": null,
            "grid_area": null,
            "grid_auto_columns": null,
            "grid_auto_flow": null,
            "grid_auto_rows": null,
            "grid_column": null,
            "grid_gap": null,
            "grid_row": null,
            "grid_template_areas": null,
            "grid_template_columns": null,
            "grid_template_rows": null,
            "height": null,
            "justify_content": null,
            "justify_items": null,
            "left": null,
            "margin": null,
            "max_height": null,
            "max_width": null,
            "min_height": null,
            "min_width": null,
            "object_fit": null,
            "object_position": null,
            "order": null,
            "overflow": null,
            "overflow_x": null,
            "overflow_y": null,
            "padding": null,
            "right": null,
            "top": null,
            "visibility": null,
            "width": null
          }
        },
        "330a1e7eaeeb4b5fab0ca694c6768350": {
          "model_module": "@jupyter-widgets/base",
          "model_name": "LayoutModel",
          "model_module_version": "1.2.0",
          "state": {
            "_model_module": "@jupyter-widgets/base",
            "_model_module_version": "1.2.0",
            "_model_name": "LayoutModel",
            "_view_count": null,
            "_view_module": "@jupyter-widgets/base",
            "_view_module_version": "1.2.0",
            "_view_name": "LayoutView",
            "align_content": null,
            "align_items": null,
            "align_self": null,
            "border": null,
            "bottom": null,
            "display": null,
            "flex": null,
            "flex_flow": null,
            "grid_area": null,
            "grid_auto_columns": null,
            "grid_auto_flow": null,
            "grid_auto_rows": null,
            "grid_column": null,
            "grid_gap": null,
            "grid_row": null,
            "grid_template_areas": null,
            "grid_template_columns": null,
            "grid_template_rows": null,
            "height": null,
            "justify_content": null,
            "justify_items": null,
            "left": null,
            "margin": null,
            "max_height": null,
            "max_width": null,
            "min_height": null,
            "min_width": null,
            "object_fit": null,
            "object_position": null,
            "order": null,
            "overflow": null,
            "overflow_x": null,
            "overflow_y": null,
            "padding": null,
            "right": null,
            "top": null,
            "visibility": null,
            "width": null
          }
        },
        "4e9de8e953e7401c936473fd15b63190": {
          "model_module": "@jupyter-widgets/controls",
          "model_name": "DescriptionStyleModel",
          "model_module_version": "1.5.0",
          "state": {
            "_model_module": "@jupyter-widgets/controls",
            "_model_module_version": "1.5.0",
            "_model_name": "DescriptionStyleModel",
            "_view_count": null,
            "_view_module": "@jupyter-widgets/base",
            "_view_module_version": "1.2.0",
            "_view_name": "StyleView",
            "description_width": ""
          }
        },
        "c70204cd83e540a1848bb4fbbf53ab17": {
          "model_module": "@jupyter-widgets/base",
          "model_name": "LayoutModel",
          "model_module_version": "1.2.0",
          "state": {
            "_model_module": "@jupyter-widgets/base",
            "_model_module_version": "1.2.0",
            "_model_name": "LayoutModel",
            "_view_count": null,
            "_view_module": "@jupyter-widgets/base",
            "_view_module_version": "1.2.0",
            "_view_name": "LayoutView",
            "align_content": null,
            "align_items": null,
            "align_self": null,
            "border": null,
            "bottom": null,
            "display": null,
            "flex": null,
            "flex_flow": null,
            "grid_area": null,
            "grid_auto_columns": null,
            "grid_auto_flow": null,
            "grid_auto_rows": null,
            "grid_column": null,
            "grid_gap": null,
            "grid_row": null,
            "grid_template_areas": null,
            "grid_template_columns": null,
            "grid_template_rows": null,
            "height": null,
            "justify_content": null,
            "justify_items": null,
            "left": null,
            "margin": null,
            "max_height": null,
            "max_width": null,
            "min_height": null,
            "min_width": null,
            "object_fit": null,
            "object_position": null,
            "order": null,
            "overflow": null,
            "overflow_x": null,
            "overflow_y": null,
            "padding": null,
            "right": null,
            "top": null,
            "visibility": null,
            "width": null
          }
        },
        "ab7986e9f6f54b62b6be1bfdf78ccd67": {
          "model_module": "@jupyter-widgets/controls",
          "model_name": "ProgressStyleModel",
          "model_module_version": "1.5.0",
          "state": {
            "_model_module": "@jupyter-widgets/controls",
            "_model_module_version": "1.5.0",
            "_model_name": "ProgressStyleModel",
            "_view_count": null,
            "_view_module": "@jupyter-widgets/base",
            "_view_module_version": "1.2.0",
            "_view_name": "StyleView",
            "bar_color": null,
            "description_width": ""
          }
        },
        "ca2bfaed42d74a799f6dc01e4df012de": {
          "model_module": "@jupyter-widgets/base",
          "model_name": "LayoutModel",
          "model_module_version": "1.2.0",
          "state": {
            "_model_module": "@jupyter-widgets/base",
            "_model_module_version": "1.2.0",
            "_model_name": "LayoutModel",
            "_view_count": null,
            "_view_module": "@jupyter-widgets/base",
            "_view_module_version": "1.2.0",
            "_view_name": "LayoutView",
            "align_content": null,
            "align_items": null,
            "align_self": null,
            "border": null,
            "bottom": null,
            "display": null,
            "flex": null,
            "flex_flow": null,
            "grid_area": null,
            "grid_auto_columns": null,
            "grid_auto_flow": null,
            "grid_auto_rows": null,
            "grid_column": null,
            "grid_gap": null,
            "grid_row": null,
            "grid_template_areas": null,
            "grid_template_columns": null,
            "grid_template_rows": null,
            "height": null,
            "justify_content": null,
            "justify_items": null,
            "left": null,
            "margin": null,
            "max_height": null,
            "max_width": null,
            "min_height": null,
            "min_width": null,
            "object_fit": null,
            "object_position": null,
            "order": null,
            "overflow": null,
            "overflow_x": null,
            "overflow_y": null,
            "padding": null,
            "right": null,
            "top": null,
            "visibility": null,
            "width": null
          }
        },
        "c7227d15ef8a48c1ba33162f1aad7085": {
          "model_module": "@jupyter-widgets/controls",
          "model_name": "DescriptionStyleModel",
          "model_module_version": "1.5.0",
          "state": {
            "_model_module": "@jupyter-widgets/controls",
            "_model_module_version": "1.5.0",
            "_model_name": "DescriptionStyleModel",
            "_view_count": null,
            "_view_module": "@jupyter-widgets/base",
            "_view_module_version": "1.2.0",
            "_view_name": "StyleView",
            "description_width": ""
          }
        },
        "f2d7c66c4fdf4f129f09db13955d462b": {
          "model_module": "@jupyter-widgets/controls",
          "model_name": "HBoxModel",
          "model_module_version": "1.5.0",
          "state": {
            "_dom_classes": [],
            "_model_module": "@jupyter-widgets/controls",
            "_model_module_version": "1.5.0",
            "_model_name": "HBoxModel",
            "_view_count": null,
            "_view_module": "@jupyter-widgets/controls",
            "_view_module_version": "1.5.0",
            "_view_name": "HBoxView",
            "box_style": "",
            "children": [
              "IPY_MODEL_594f039c3ee5439dbe7f65f59fdd07b9",
              "IPY_MODEL_eea8bb6276514e149f89569810632bfe",
              "IPY_MODEL_87a50f0d2139440bab522a5d7db83428"
            ],
            "layout": "IPY_MODEL_7343d52a45654f0aace7263409a72dee"
          }
        },
        "594f039c3ee5439dbe7f65f59fdd07b9": {
          "model_module": "@jupyter-widgets/controls",
          "model_name": "HTMLModel",
          "model_module_version": "1.5.0",
          "state": {
            "_dom_classes": [],
            "_model_module": "@jupyter-widgets/controls",
            "_model_module_version": "1.5.0",
            "_model_name": "HTMLModel",
            "_view_count": null,
            "_view_module": "@jupyter-widgets/controls",
            "_view_module_version": "1.5.0",
            "_view_name": "HTMLView",
            "description": "",
            "description_tooltip": null,
            "layout": "IPY_MODEL_306f7b4289f24106bef87d26d25be732",
            "placeholder": "​",
            "style": "IPY_MODEL_819aa5ecbd7b44879b3c94f59f8974e5",
            "value": "Downloading (…)olve/main/merges.txt: 100%"
          }
        },
        "eea8bb6276514e149f89569810632bfe": {
          "model_module": "@jupyter-widgets/controls",
          "model_name": "FloatProgressModel",
          "model_module_version": "1.5.0",
          "state": {
            "_dom_classes": [],
            "_model_module": "@jupyter-widgets/controls",
            "_model_module_version": "1.5.0",
            "_model_name": "FloatProgressModel",
            "_view_count": null,
            "_view_module": "@jupyter-widgets/controls",
            "_view_module_version": "1.5.0",
            "_view_name": "ProgressView",
            "bar_style": "success",
            "description": "",
            "description_tooltip": null,
            "layout": "IPY_MODEL_980e3d788f0c409ba575cea30c351702",
            "max": 456318,
            "min": 0,
            "orientation": "horizontal",
            "style": "IPY_MODEL_62bdb52f69cd494b80ffd777498c36b2",
            "value": 456318
          }
        },
        "87a50f0d2139440bab522a5d7db83428": {
          "model_module": "@jupyter-widgets/controls",
          "model_name": "HTMLModel",
          "model_module_version": "1.5.0",
          "state": {
            "_dom_classes": [],
            "_model_module": "@jupyter-widgets/controls",
            "_model_module_version": "1.5.0",
            "_model_name": "HTMLModel",
            "_view_count": null,
            "_view_module": "@jupyter-widgets/controls",
            "_view_module_version": "1.5.0",
            "_view_name": "HTMLView",
            "description": "",
            "description_tooltip": null,
            "layout": "IPY_MODEL_1a5436144bc146d3b8681f38523dd4b6",
            "placeholder": "​",
            "style": "IPY_MODEL_a02a809ded834a128c21d07520025997",
            "value": " 456k/456k [00:00&lt;00:00, 718kB/s]"
          }
        },
        "7343d52a45654f0aace7263409a72dee": {
          "model_module": "@jupyter-widgets/base",
          "model_name": "LayoutModel",
          "model_module_version": "1.2.0",
          "state": {
            "_model_module": "@jupyter-widgets/base",
            "_model_module_version": "1.2.0",
            "_model_name": "LayoutModel",
            "_view_count": null,
            "_view_module": "@jupyter-widgets/base",
            "_view_module_version": "1.2.0",
            "_view_name": "LayoutView",
            "align_content": null,
            "align_items": null,
            "align_self": null,
            "border": null,
            "bottom": null,
            "display": null,
            "flex": null,
            "flex_flow": null,
            "grid_area": null,
            "grid_auto_columns": null,
            "grid_auto_flow": null,
            "grid_auto_rows": null,
            "grid_column": null,
            "grid_gap": null,
            "grid_row": null,
            "grid_template_areas": null,
            "grid_template_columns": null,
            "grid_template_rows": null,
            "height": null,
            "justify_content": null,
            "justify_items": null,
            "left": null,
            "margin": null,
            "max_height": null,
            "max_width": null,
            "min_height": null,
            "min_width": null,
            "object_fit": null,
            "object_position": null,
            "order": null,
            "overflow": null,
            "overflow_x": null,
            "overflow_y": null,
            "padding": null,
            "right": null,
            "top": null,
            "visibility": null,
            "width": null
          }
        },
        "306f7b4289f24106bef87d26d25be732": {
          "model_module": "@jupyter-widgets/base",
          "model_name": "LayoutModel",
          "model_module_version": "1.2.0",
          "state": {
            "_model_module": "@jupyter-widgets/base",
            "_model_module_version": "1.2.0",
            "_model_name": "LayoutModel",
            "_view_count": null,
            "_view_module": "@jupyter-widgets/base",
            "_view_module_version": "1.2.0",
            "_view_name": "LayoutView",
            "align_content": null,
            "align_items": null,
            "align_self": null,
            "border": null,
            "bottom": null,
            "display": null,
            "flex": null,
            "flex_flow": null,
            "grid_area": null,
            "grid_auto_columns": null,
            "grid_auto_flow": null,
            "grid_auto_rows": null,
            "grid_column": null,
            "grid_gap": null,
            "grid_row": null,
            "grid_template_areas": null,
            "grid_template_columns": null,
            "grid_template_rows": null,
            "height": null,
            "justify_content": null,
            "justify_items": null,
            "left": null,
            "margin": null,
            "max_height": null,
            "max_width": null,
            "min_height": null,
            "min_width": null,
            "object_fit": null,
            "object_position": null,
            "order": null,
            "overflow": null,
            "overflow_x": null,
            "overflow_y": null,
            "padding": null,
            "right": null,
            "top": null,
            "visibility": null,
            "width": null
          }
        },
        "819aa5ecbd7b44879b3c94f59f8974e5": {
          "model_module": "@jupyter-widgets/controls",
          "model_name": "DescriptionStyleModel",
          "model_module_version": "1.5.0",
          "state": {
            "_model_module": "@jupyter-widgets/controls",
            "_model_module_version": "1.5.0",
            "_model_name": "DescriptionStyleModel",
            "_view_count": null,
            "_view_module": "@jupyter-widgets/base",
            "_view_module_version": "1.2.0",
            "_view_name": "StyleView",
            "description_width": ""
          }
        },
        "980e3d788f0c409ba575cea30c351702": {
          "model_module": "@jupyter-widgets/base",
          "model_name": "LayoutModel",
          "model_module_version": "1.2.0",
          "state": {
            "_model_module": "@jupyter-widgets/base",
            "_model_module_version": "1.2.0",
            "_model_name": "LayoutModel",
            "_view_count": null,
            "_view_module": "@jupyter-widgets/base",
            "_view_module_version": "1.2.0",
            "_view_name": "LayoutView",
            "align_content": null,
            "align_items": null,
            "align_self": null,
            "border": null,
            "bottom": null,
            "display": null,
            "flex": null,
            "flex_flow": null,
            "grid_area": null,
            "grid_auto_columns": null,
            "grid_auto_flow": null,
            "grid_auto_rows": null,
            "grid_column": null,
            "grid_gap": null,
            "grid_row": null,
            "grid_template_areas": null,
            "grid_template_columns": null,
            "grid_template_rows": null,
            "height": null,
            "justify_content": null,
            "justify_items": null,
            "left": null,
            "margin": null,
            "max_height": null,
            "max_width": null,
            "min_height": null,
            "min_width": null,
            "object_fit": null,
            "object_position": null,
            "order": null,
            "overflow": null,
            "overflow_x": null,
            "overflow_y": null,
            "padding": null,
            "right": null,
            "top": null,
            "visibility": null,
            "width": null
          }
        },
        "62bdb52f69cd494b80ffd777498c36b2": {
          "model_module": "@jupyter-widgets/controls",
          "model_name": "ProgressStyleModel",
          "model_module_version": "1.5.0",
          "state": {
            "_model_module": "@jupyter-widgets/controls",
            "_model_module_version": "1.5.0",
            "_model_name": "ProgressStyleModel",
            "_view_count": null,
            "_view_module": "@jupyter-widgets/base",
            "_view_module_version": "1.2.0",
            "_view_name": "StyleView",
            "bar_color": null,
            "description_width": ""
          }
        },
        "1a5436144bc146d3b8681f38523dd4b6": {
          "model_module": "@jupyter-widgets/base",
          "model_name": "LayoutModel",
          "model_module_version": "1.2.0",
          "state": {
            "_model_module": "@jupyter-widgets/base",
            "_model_module_version": "1.2.0",
            "_model_name": "LayoutModel",
            "_view_count": null,
            "_view_module": "@jupyter-widgets/base",
            "_view_module_version": "1.2.0",
            "_view_name": "LayoutView",
            "align_content": null,
            "align_items": null,
            "align_self": null,
            "border": null,
            "bottom": null,
            "display": null,
            "flex": null,
            "flex_flow": null,
            "grid_area": null,
            "grid_auto_columns": null,
            "grid_auto_flow": null,
            "grid_auto_rows": null,
            "grid_column": null,
            "grid_gap": null,
            "grid_row": null,
            "grid_template_areas": null,
            "grid_template_columns": null,
            "grid_template_rows": null,
            "height": null,
            "justify_content": null,
            "justify_items": null,
            "left": null,
            "margin": null,
            "max_height": null,
            "max_width": null,
            "min_height": null,
            "min_width": null,
            "object_fit": null,
            "object_position": null,
            "order": null,
            "overflow": null,
            "overflow_x": null,
            "overflow_y": null,
            "padding": null,
            "right": null,
            "top": null,
            "visibility": null,
            "width": null
          }
        },
        "a02a809ded834a128c21d07520025997": {
          "model_module": "@jupyter-widgets/controls",
          "model_name": "DescriptionStyleModel",
          "model_module_version": "1.5.0",
          "state": {
            "_model_module": "@jupyter-widgets/controls",
            "_model_module_version": "1.5.0",
            "_model_name": "DescriptionStyleModel",
            "_view_count": null,
            "_view_module": "@jupyter-widgets/base",
            "_view_module_version": "1.2.0",
            "_view_name": "StyleView",
            "description_width": ""
          }
        },
        "0b863487e63f4605a4bde997a33fdcb9": {
          "model_module": "@jupyter-widgets/controls",
          "model_name": "HBoxModel",
          "model_module_version": "1.5.0",
          "state": {
            "_dom_classes": [],
            "_model_module": "@jupyter-widgets/controls",
            "_model_module_version": "1.5.0",
            "_model_name": "HBoxModel",
            "_view_count": null,
            "_view_module": "@jupyter-widgets/controls",
            "_view_module_version": "1.5.0",
            "_view_name": "HBoxView",
            "box_style": "",
            "children": [
              "IPY_MODEL_4deb39f8ed0e41a0ac9f13f978e5d995",
              "IPY_MODEL_21c35a298b8f4427b84bfe258232a71c",
              "IPY_MODEL_a013d75c203a49a2bb8db03e2d69d649"
            ],
            "layout": "IPY_MODEL_549cd0f98e044bbd989b4d36572b543b"
          }
        },
        "4deb39f8ed0e41a0ac9f13f978e5d995": {
          "model_module": "@jupyter-widgets/controls",
          "model_name": "HTMLModel",
          "model_module_version": "1.5.0",
          "state": {
            "_dom_classes": [],
            "_model_module": "@jupyter-widgets/controls",
            "_model_module_version": "1.5.0",
            "_model_name": "HTMLModel",
            "_view_count": null,
            "_view_module": "@jupyter-widgets/controls",
            "_view_module_version": "1.5.0",
            "_view_name": "HTMLView",
            "description": "",
            "description_tooltip": null,
            "layout": "IPY_MODEL_10a6e35c2f4949d3a872454c8518bd01",
            "placeholder": "​",
            "style": "IPY_MODEL_81e697fa20fd49b19f01072189ae644b",
            "value": "Downloading (…)lve/main/config.json: 100%"
          }
        },
        "21c35a298b8f4427b84bfe258232a71c": {
          "model_module": "@jupyter-widgets/controls",
          "model_name": "FloatProgressModel",
          "model_module_version": "1.5.0",
          "state": {
            "_dom_classes": [],
            "_model_module": "@jupyter-widgets/controls",
            "_model_module_version": "1.5.0",
            "_model_name": "FloatProgressModel",
            "_view_count": null,
            "_view_module": "@jupyter-widgets/controls",
            "_view_module_version": "1.5.0",
            "_view_name": "ProgressView",
            "bar_style": "success",
            "description": "",
            "description_tooltip": null,
            "layout": "IPY_MODEL_f9c419d96dbe498da409ba768d8e9ea8",
            "max": 665,
            "min": 0,
            "orientation": "horizontal",
            "style": "IPY_MODEL_855983a5367344fe90d852ca31fcbfa7",
            "value": 665
          }
        },
        "a013d75c203a49a2bb8db03e2d69d649": {
          "model_module": "@jupyter-widgets/controls",
          "model_name": "HTMLModel",
          "model_module_version": "1.5.0",
          "state": {
            "_dom_classes": [],
            "_model_module": "@jupyter-widgets/controls",
            "_model_module_version": "1.5.0",
            "_model_name": "HTMLModel",
            "_view_count": null,
            "_view_module": "@jupyter-widgets/controls",
            "_view_module_version": "1.5.0",
            "_view_name": "HTMLView",
            "description": "",
            "description_tooltip": null,
            "layout": "IPY_MODEL_e3e199bb1ebd4e1ba04c9b58a939fc50",
            "placeholder": "​",
            "style": "IPY_MODEL_c8f2bf9a7ffd4ccca78bbba57f3e4c3d",
            "value": " 665/665 [00:00&lt;00:00, 16.0kB/s]"
          }
        },
        "549cd0f98e044bbd989b4d36572b543b": {
          "model_module": "@jupyter-widgets/base",
          "model_name": "LayoutModel",
          "model_module_version": "1.2.0",
          "state": {
            "_model_module": "@jupyter-widgets/base",
            "_model_module_version": "1.2.0",
            "_model_name": "LayoutModel",
            "_view_count": null,
            "_view_module": "@jupyter-widgets/base",
            "_view_module_version": "1.2.0",
            "_view_name": "LayoutView",
            "align_content": null,
            "align_items": null,
            "align_self": null,
            "border": null,
            "bottom": null,
            "display": null,
            "flex": null,
            "flex_flow": null,
            "grid_area": null,
            "grid_auto_columns": null,
            "grid_auto_flow": null,
            "grid_auto_rows": null,
            "grid_column": null,
            "grid_gap": null,
            "grid_row": null,
            "grid_template_areas": null,
            "grid_template_columns": null,
            "grid_template_rows": null,
            "height": null,
            "justify_content": null,
            "justify_items": null,
            "left": null,
            "margin": null,
            "max_height": null,
            "max_width": null,
            "min_height": null,
            "min_width": null,
            "object_fit": null,
            "object_position": null,
            "order": null,
            "overflow": null,
            "overflow_x": null,
            "overflow_y": null,
            "padding": null,
            "right": null,
            "top": null,
            "visibility": null,
            "width": null
          }
        },
        "10a6e35c2f4949d3a872454c8518bd01": {
          "model_module": "@jupyter-widgets/base",
          "model_name": "LayoutModel",
          "model_module_version": "1.2.0",
          "state": {
            "_model_module": "@jupyter-widgets/base",
            "_model_module_version": "1.2.0",
            "_model_name": "LayoutModel",
            "_view_count": null,
            "_view_module": "@jupyter-widgets/base",
            "_view_module_version": "1.2.0",
            "_view_name": "LayoutView",
            "align_content": null,
            "align_items": null,
            "align_self": null,
            "border": null,
            "bottom": null,
            "display": null,
            "flex": null,
            "flex_flow": null,
            "grid_area": null,
            "grid_auto_columns": null,
            "grid_auto_flow": null,
            "grid_auto_rows": null,
            "grid_column": null,
            "grid_gap": null,
            "grid_row": null,
            "grid_template_areas": null,
            "grid_template_columns": null,
            "grid_template_rows": null,
            "height": null,
            "justify_content": null,
            "justify_items": null,
            "left": null,
            "margin": null,
            "max_height": null,
            "max_width": null,
            "min_height": null,
            "min_width": null,
            "object_fit": null,
            "object_position": null,
            "order": null,
            "overflow": null,
            "overflow_x": null,
            "overflow_y": null,
            "padding": null,
            "right": null,
            "top": null,
            "visibility": null,
            "width": null
          }
        },
        "81e697fa20fd49b19f01072189ae644b": {
          "model_module": "@jupyter-widgets/controls",
          "model_name": "DescriptionStyleModel",
          "model_module_version": "1.5.0",
          "state": {
            "_model_module": "@jupyter-widgets/controls",
            "_model_module_version": "1.5.0",
            "_model_name": "DescriptionStyleModel",
            "_view_count": null,
            "_view_module": "@jupyter-widgets/base",
            "_view_module_version": "1.2.0",
            "_view_name": "StyleView",
            "description_width": ""
          }
        },
        "f9c419d96dbe498da409ba768d8e9ea8": {
          "model_module": "@jupyter-widgets/base",
          "model_name": "LayoutModel",
          "model_module_version": "1.2.0",
          "state": {
            "_model_module": "@jupyter-widgets/base",
            "_model_module_version": "1.2.0",
            "_model_name": "LayoutModel",
            "_view_count": null,
            "_view_module": "@jupyter-widgets/base",
            "_view_module_version": "1.2.0",
            "_view_name": "LayoutView",
            "align_content": null,
            "align_items": null,
            "align_self": null,
            "border": null,
            "bottom": null,
            "display": null,
            "flex": null,
            "flex_flow": null,
            "grid_area": null,
            "grid_auto_columns": null,
            "grid_auto_flow": null,
            "grid_auto_rows": null,
            "grid_column": null,
            "grid_gap": null,
            "grid_row": null,
            "grid_template_areas": null,
            "grid_template_columns": null,
            "grid_template_rows": null,
            "height": null,
            "justify_content": null,
            "justify_items": null,
            "left": null,
            "margin": null,
            "max_height": null,
            "max_width": null,
            "min_height": null,
            "min_width": null,
            "object_fit": null,
            "object_position": null,
            "order": null,
            "overflow": null,
            "overflow_x": null,
            "overflow_y": null,
            "padding": null,
            "right": null,
            "top": null,
            "visibility": null,
            "width": null
          }
        },
        "855983a5367344fe90d852ca31fcbfa7": {
          "model_module": "@jupyter-widgets/controls",
          "model_name": "ProgressStyleModel",
          "model_module_version": "1.5.0",
          "state": {
            "_model_module": "@jupyter-widgets/controls",
            "_model_module_version": "1.5.0",
            "_model_name": "ProgressStyleModel",
            "_view_count": null,
            "_view_module": "@jupyter-widgets/base",
            "_view_module_version": "1.2.0",
            "_view_name": "StyleView",
            "bar_color": null,
            "description_width": ""
          }
        },
        "e3e199bb1ebd4e1ba04c9b58a939fc50": {
          "model_module": "@jupyter-widgets/base",
          "model_name": "LayoutModel",
          "model_module_version": "1.2.0",
          "state": {
            "_model_module": "@jupyter-widgets/base",
            "_model_module_version": "1.2.0",
            "_model_name": "LayoutModel",
            "_view_count": null,
            "_view_module": "@jupyter-widgets/base",
            "_view_module_version": "1.2.0",
            "_view_name": "LayoutView",
            "align_content": null,
            "align_items": null,
            "align_self": null,
            "border": null,
            "bottom": null,
            "display": null,
            "flex": null,
            "flex_flow": null,
            "grid_area": null,
            "grid_auto_columns": null,
            "grid_auto_flow": null,
            "grid_auto_rows": null,
            "grid_column": null,
            "grid_gap": null,
            "grid_row": null,
            "grid_template_areas": null,
            "grid_template_columns": null,
            "grid_template_rows": null,
            "height": null,
            "justify_content": null,
            "justify_items": null,
            "left": null,
            "margin": null,
            "max_height": null,
            "max_width": null,
            "min_height": null,
            "min_width": null,
            "object_fit": null,
            "object_position": null,
            "order": null,
            "overflow": null,
            "overflow_x": null,
            "overflow_y": null,
            "padding": null,
            "right": null,
            "top": null,
            "visibility": null,
            "width": null
          }
        },
        "c8f2bf9a7ffd4ccca78bbba57f3e4c3d": {
          "model_module": "@jupyter-widgets/controls",
          "model_name": "DescriptionStyleModel",
          "model_module_version": "1.5.0",
          "state": {
            "_model_module": "@jupyter-widgets/controls",
            "_model_module_version": "1.5.0",
            "_model_name": "DescriptionStyleModel",
            "_view_count": null,
            "_view_module": "@jupyter-widgets/base",
            "_view_module_version": "1.2.0",
            "_view_name": "StyleView",
            "description_width": ""
          }
        },
        "ae11bcd046e1433ebec9d1bebf805d7d": {
          "model_module": "@jupyter-widgets/controls",
          "model_name": "HBoxModel",
          "model_module_version": "1.5.0",
          "state": {
            "_dom_classes": [],
            "_model_module": "@jupyter-widgets/controls",
            "_model_module_version": "1.5.0",
            "_model_name": "HBoxModel",
            "_view_count": null,
            "_view_module": "@jupyter-widgets/controls",
            "_view_module_version": "1.5.0",
            "_view_name": "HBoxView",
            "box_style": "",
            "children": [
              "IPY_MODEL_13e5eb30068e4e03a1b1c201c7f3b380",
              "IPY_MODEL_206ad8c7800f4726afa00aa3d2e11098",
              "IPY_MODEL_d3c03438a4944ffb898e9c39e9b4738a"
            ],
            "layout": "IPY_MODEL_b47d35b7deba42ff92342a7599fc56ac"
          }
        },
        "13e5eb30068e4e03a1b1c201c7f3b380": {
          "model_module": "@jupyter-widgets/controls",
          "model_name": "HTMLModel",
          "model_module_version": "1.5.0",
          "state": {
            "_dom_classes": [],
            "_model_module": "@jupyter-widgets/controls",
            "_model_module_version": "1.5.0",
            "_model_name": "HTMLModel",
            "_view_count": null,
            "_view_module": "@jupyter-widgets/controls",
            "_view_module_version": "1.5.0",
            "_view_name": "HTMLView",
            "description": "",
            "description_tooltip": null,
            "layout": "IPY_MODEL_615f47d2ceb24e98985f273fd03826fe",
            "placeholder": "​",
            "style": "IPY_MODEL_009edf2ede894092b5f356e8ce6a72f1",
            "value": "Downloading model.safetensors: 100%"
          }
        },
        "206ad8c7800f4726afa00aa3d2e11098": {
          "model_module": "@jupyter-widgets/controls",
          "model_name": "FloatProgressModel",
          "model_module_version": "1.5.0",
          "state": {
            "_dom_classes": [],
            "_model_module": "@jupyter-widgets/controls",
            "_model_module_version": "1.5.0",
            "_model_name": "FloatProgressModel",
            "_view_count": null,
            "_view_module": "@jupyter-widgets/controls",
            "_view_module_version": "1.5.0",
            "_view_name": "ProgressView",
            "bar_style": "success",
            "description": "",
            "description_tooltip": null,
            "layout": "IPY_MODEL_f25a37fbb40149398370aa7e0db884fd",
            "max": 548105171,
            "min": 0,
            "orientation": "horizontal",
            "style": "IPY_MODEL_d98a8bdede034b538836e57ade040fd9",
            "value": 548105171
          }
        },
        "d3c03438a4944ffb898e9c39e9b4738a": {
          "model_module": "@jupyter-widgets/controls",
          "model_name": "HTMLModel",
          "model_module_version": "1.5.0",
          "state": {
            "_dom_classes": [],
            "_model_module": "@jupyter-widgets/controls",
            "_model_module_version": "1.5.0",
            "_model_name": "HTMLModel",
            "_view_count": null,
            "_view_module": "@jupyter-widgets/controls",
            "_view_module_version": "1.5.0",
            "_view_name": "HTMLView",
            "description": "",
            "description_tooltip": null,
            "layout": "IPY_MODEL_404a617b44d34b4288766e76c9bc94f7",
            "placeholder": "​",
            "style": "IPY_MODEL_70fc0f137cbc41479b3c6e00965bd8c3",
            "value": " 548M/548M [00:02&lt;00:00, 207MB/s]"
          }
        },
        "b47d35b7deba42ff92342a7599fc56ac": {
          "model_module": "@jupyter-widgets/base",
          "model_name": "LayoutModel",
          "model_module_version": "1.2.0",
          "state": {
            "_model_module": "@jupyter-widgets/base",
            "_model_module_version": "1.2.0",
            "_model_name": "LayoutModel",
            "_view_count": null,
            "_view_module": "@jupyter-widgets/base",
            "_view_module_version": "1.2.0",
            "_view_name": "LayoutView",
            "align_content": null,
            "align_items": null,
            "align_self": null,
            "border": null,
            "bottom": null,
            "display": null,
            "flex": null,
            "flex_flow": null,
            "grid_area": null,
            "grid_auto_columns": null,
            "grid_auto_flow": null,
            "grid_auto_rows": null,
            "grid_column": null,
            "grid_gap": null,
            "grid_row": null,
            "grid_template_areas": null,
            "grid_template_columns": null,
            "grid_template_rows": null,
            "height": null,
            "justify_content": null,
            "justify_items": null,
            "left": null,
            "margin": null,
            "max_height": null,
            "max_width": null,
            "min_height": null,
            "min_width": null,
            "object_fit": null,
            "object_position": null,
            "order": null,
            "overflow": null,
            "overflow_x": null,
            "overflow_y": null,
            "padding": null,
            "right": null,
            "top": null,
            "visibility": null,
            "width": null
          }
        },
        "615f47d2ceb24e98985f273fd03826fe": {
          "model_module": "@jupyter-widgets/base",
          "model_name": "LayoutModel",
          "model_module_version": "1.2.0",
          "state": {
            "_model_module": "@jupyter-widgets/base",
            "_model_module_version": "1.2.0",
            "_model_name": "LayoutModel",
            "_view_count": null,
            "_view_module": "@jupyter-widgets/base",
            "_view_module_version": "1.2.0",
            "_view_name": "LayoutView",
            "align_content": null,
            "align_items": null,
            "align_self": null,
            "border": null,
            "bottom": null,
            "display": null,
            "flex": null,
            "flex_flow": null,
            "grid_area": null,
            "grid_auto_columns": null,
            "grid_auto_flow": null,
            "grid_auto_rows": null,
            "grid_column": null,
            "grid_gap": null,
            "grid_row": null,
            "grid_template_areas": null,
            "grid_template_columns": null,
            "grid_template_rows": null,
            "height": null,
            "justify_content": null,
            "justify_items": null,
            "left": null,
            "margin": null,
            "max_height": null,
            "max_width": null,
            "min_height": null,
            "min_width": null,
            "object_fit": null,
            "object_position": null,
            "order": null,
            "overflow": null,
            "overflow_x": null,
            "overflow_y": null,
            "padding": null,
            "right": null,
            "top": null,
            "visibility": null,
            "width": null
          }
        },
        "009edf2ede894092b5f356e8ce6a72f1": {
          "model_module": "@jupyter-widgets/controls",
          "model_name": "DescriptionStyleModel",
          "model_module_version": "1.5.0",
          "state": {
            "_model_module": "@jupyter-widgets/controls",
            "_model_module_version": "1.5.0",
            "_model_name": "DescriptionStyleModel",
            "_view_count": null,
            "_view_module": "@jupyter-widgets/base",
            "_view_module_version": "1.2.0",
            "_view_name": "StyleView",
            "description_width": ""
          }
        },
        "f25a37fbb40149398370aa7e0db884fd": {
          "model_module": "@jupyter-widgets/base",
          "model_name": "LayoutModel",
          "model_module_version": "1.2.0",
          "state": {
            "_model_module": "@jupyter-widgets/base",
            "_model_module_version": "1.2.0",
            "_model_name": "LayoutModel",
            "_view_count": null,
            "_view_module": "@jupyter-widgets/base",
            "_view_module_version": "1.2.0",
            "_view_name": "LayoutView",
            "align_content": null,
            "align_items": null,
            "align_self": null,
            "border": null,
            "bottom": null,
            "display": null,
            "flex": null,
            "flex_flow": null,
            "grid_area": null,
            "grid_auto_columns": null,
            "grid_auto_flow": null,
            "grid_auto_rows": null,
            "grid_column": null,
            "grid_gap": null,
            "grid_row": null,
            "grid_template_areas": null,
            "grid_template_columns": null,
            "grid_template_rows": null,
            "height": null,
            "justify_content": null,
            "justify_items": null,
            "left": null,
            "margin": null,
            "max_height": null,
            "max_width": null,
            "min_height": null,
            "min_width": null,
            "object_fit": null,
            "object_position": null,
            "order": null,
            "overflow": null,
            "overflow_x": null,
            "overflow_y": null,
            "padding": null,
            "right": null,
            "top": null,
            "visibility": null,
            "width": null
          }
        },
        "d98a8bdede034b538836e57ade040fd9": {
          "model_module": "@jupyter-widgets/controls",
          "model_name": "ProgressStyleModel",
          "model_module_version": "1.5.0",
          "state": {
            "_model_module": "@jupyter-widgets/controls",
            "_model_module_version": "1.5.0",
            "_model_name": "ProgressStyleModel",
            "_view_count": null,
            "_view_module": "@jupyter-widgets/base",
            "_view_module_version": "1.2.0",
            "_view_name": "StyleView",
            "bar_color": null,
            "description_width": ""
          }
        },
        "404a617b44d34b4288766e76c9bc94f7": {
          "model_module": "@jupyter-widgets/base",
          "model_name": "LayoutModel",
          "model_module_version": "1.2.0",
          "state": {
            "_model_module": "@jupyter-widgets/base",
            "_model_module_version": "1.2.0",
            "_model_name": "LayoutModel",
            "_view_count": null,
            "_view_module": "@jupyter-widgets/base",
            "_view_module_version": "1.2.0",
            "_view_name": "LayoutView",
            "align_content": null,
            "align_items": null,
            "align_self": null,
            "border": null,
            "bottom": null,
            "display": null,
            "flex": null,
            "flex_flow": null,
            "grid_area": null,
            "grid_auto_columns": null,
            "grid_auto_flow": null,
            "grid_auto_rows": null,
            "grid_column": null,
            "grid_gap": null,
            "grid_row": null,
            "grid_template_areas": null,
            "grid_template_columns": null,
            "grid_template_rows": null,
            "height": null,
            "justify_content": null,
            "justify_items": null,
            "left": null,
            "margin": null,
            "max_height": null,
            "max_width": null,
            "min_height": null,
            "min_width": null,
            "object_fit": null,
            "object_position": null,
            "order": null,
            "overflow": null,
            "overflow_x": null,
            "overflow_y": null,
            "padding": null,
            "right": null,
            "top": null,
            "visibility": null,
            "width": null
          }
        },
        "70fc0f137cbc41479b3c6e00965bd8c3": {
          "model_module": "@jupyter-widgets/controls",
          "model_name": "DescriptionStyleModel",
          "model_module_version": "1.5.0",
          "state": {
            "_model_module": "@jupyter-widgets/controls",
            "_model_module_version": "1.5.0",
            "_model_name": "DescriptionStyleModel",
            "_view_count": null,
            "_view_module": "@jupyter-widgets/base",
            "_view_module_version": "1.2.0",
            "_view_name": "StyleView",
            "description_width": ""
          }
        }
      }
    }
  },
  "cells": [
    {
      "cell_type": "code",
      "metadata": {
        "id": "XbzZ_IVTtoQe",
        "colab": {
          "base_uri": "https://localhost:8080/"
        },
        "outputId": "e08847cb-7721-4523-8a8d-d63108b9e741"
      },
      "source": [
        "!pip install -q git+https://github.com/huggingface/transformers.git\n",
        "!pip install -q tensorflow"
      ],
      "execution_count": 1,
      "outputs": [
        {
          "output_type": "stream",
          "name": "stdout",
          "text": [
            "  Installing build dependencies ... \u001b[?25l\u001b[?25hdone\n",
            "  Getting requirements to build wheel ... \u001b[?25l\u001b[?25hdone\n",
            "  Preparing metadata (pyproject.toml) ... \u001b[?25l\u001b[?25hdone\n",
            "\u001b[2K     \u001b[90m━━━━━━━━━━━━━━━━━━━━━━━━━━━━━━━━━━━━━━\u001b[0m \u001b[32m268.8/268.8 kB\u001b[0m \u001b[31m16.6 MB/s\u001b[0m eta \u001b[36m0:00:00\u001b[0m\n",
            "\u001b[2K     \u001b[90m━━━━━━━━━━━━━━━━━━━━━━━━━━━━━━━━━━━━━━━━\u001b[0m \u001b[32m7.8/7.8 MB\u001b[0m \u001b[31m73.8 MB/s\u001b[0m eta \u001b[36m0:00:00\u001b[0m\n",
            "\u001b[2K     \u001b[90m━━━━━━━━━━━━━━━━━━━━━━━━━━━━━━━━━━━━━━━━\u001b[0m \u001b[32m1.3/1.3 MB\u001b[0m \u001b[31m62.8 MB/s\u001b[0m eta \u001b[36m0:00:00\u001b[0m\n",
            "\u001b[?25h  Building wheel for transformers (pyproject.toml) ... \u001b[?25l\u001b[?25hdone\n"
          ]
        }
      ]
    },
    {
      "cell_type": "code",
      "metadata": {
        "id": "ue2kOQhXTAMU",
        "colab": {
          "base_uri": "https://localhost:8080/",
          "height": 237,
          "referenced_widgets": [
            "e4313674eacc4d5eaa1067263f83b698",
            "a29c1fcf01ab46808492fb9134650cc2",
            "29632134c76647bdbda294e5f39fde4a",
            "f36e67f721c44bdd9b3484058ffa9f56",
            "8aa0909001d54a15869b29d9a1abd229",
            "330a1e7eaeeb4b5fab0ca694c6768350",
            "4e9de8e953e7401c936473fd15b63190",
            "c70204cd83e540a1848bb4fbbf53ab17",
            "ab7986e9f6f54b62b6be1bfdf78ccd67",
            "ca2bfaed42d74a799f6dc01e4df012de",
            "c7227d15ef8a48c1ba33162f1aad7085",
            "f2d7c66c4fdf4f129f09db13955d462b",
            "594f039c3ee5439dbe7f65f59fdd07b9",
            "eea8bb6276514e149f89569810632bfe",
            "87a50f0d2139440bab522a5d7db83428",
            "7343d52a45654f0aace7263409a72dee",
            "306f7b4289f24106bef87d26d25be732",
            "819aa5ecbd7b44879b3c94f59f8974e5",
            "980e3d788f0c409ba575cea30c351702",
            "62bdb52f69cd494b80ffd777498c36b2",
            "1a5436144bc146d3b8681f38523dd4b6",
            "a02a809ded834a128c21d07520025997",
            "0b863487e63f4605a4bde997a33fdcb9",
            "4deb39f8ed0e41a0ac9f13f978e5d995",
            "21c35a298b8f4427b84bfe258232a71c",
            "a013d75c203a49a2bb8db03e2d69d649",
            "549cd0f98e044bbd989b4d36572b543b",
            "10a6e35c2f4949d3a872454c8518bd01",
            "81e697fa20fd49b19f01072189ae644b",
            "f9c419d96dbe498da409ba768d8e9ea8",
            "855983a5367344fe90d852ca31fcbfa7",
            "e3e199bb1ebd4e1ba04c9b58a939fc50",
            "c8f2bf9a7ffd4ccca78bbba57f3e4c3d",
            "ae11bcd046e1433ebec9d1bebf805d7d",
            "13e5eb30068e4e03a1b1c201c7f3b380",
            "206ad8c7800f4726afa00aa3d2e11098",
            "d3c03438a4944ffb898e9c39e9b4738a",
            "b47d35b7deba42ff92342a7599fc56ac",
            "615f47d2ceb24e98985f273fd03826fe",
            "009edf2ede894092b5f356e8ce6a72f1",
            "f25a37fbb40149398370aa7e0db884fd",
            "d98a8bdede034b538836e57ade040fd9",
            "404a617b44d34b4288766e76c9bc94f7",
            "70fc0f137cbc41479b3c6e00965bd8c3"
          ]
        },
        "outputId": "7b273f09-0c6b-4015-8230-ca6a340f598d"
      },
      "source": [
        "import tensorflow as tf\n",
        "from transformers import TFGPT2LMHeadModel, GPT2Tokenizer\n",
        "## 모델과 토크나이져 가져옴\n",
        "## 그러나 거대모델이기때문에 Gpt2의 예측헤드 모델만 사용하여 예측하고 텍스트 생성\n",
        "tokenizer = GPT2Tokenizer.from_pretrained(\"gpt2\")\n",
        "\n",
        "# add the EOS token as PAD token to avoid warnings\n",
        "model = TFGPT2LMHeadModel.from_pretrained(\"gpt2\", pad_token_id=tokenizer.eos_token_id)"
      ],
      "execution_count": 2,
      "outputs": [
        {
          "output_type": "display_data",
          "data": {
            "text/plain": [
              "Downloading (…)olve/main/vocab.json:   0%|          | 0.00/1.04M [00:00<?, ?B/s]"
            ],
            "application/vnd.jupyter.widget-view+json": {
              "version_major": 2,
              "version_minor": 0,
              "model_id": "e4313674eacc4d5eaa1067263f83b698"
            }
          },
          "metadata": {}
        },
        {
          "output_type": "display_data",
          "data": {
            "text/plain": [
              "Downloading (…)olve/main/merges.txt:   0%|          | 0.00/456k [00:00<?, ?B/s]"
            ],
            "application/vnd.jupyter.widget-view+json": {
              "version_major": 2,
              "version_minor": 0,
              "model_id": "f2d7c66c4fdf4f129f09db13955d462b"
            }
          },
          "metadata": {}
        },
        {
          "output_type": "display_data",
          "data": {
            "text/plain": [
              "Downloading (…)lve/main/config.json:   0%|          | 0.00/665 [00:00<?, ?B/s]"
            ],
            "application/vnd.jupyter.widget-view+json": {
              "version_major": 2,
              "version_minor": 0,
              "model_id": "0b863487e63f4605a4bde997a33fdcb9"
            }
          },
          "metadata": {}
        },
        {
          "output_type": "display_data",
          "data": {
            "text/plain": [
              "Downloading model.safetensors:   0%|          | 0.00/548M [00:00<?, ?B/s]"
            ],
            "application/vnd.jupyter.widget-view+json": {
              "version_major": 2,
              "version_minor": 0,
              "model_id": "ae11bcd046e1433ebec9d1bebf805d7d"
            }
          },
          "metadata": {}
        },
        {
          "output_type": "stream",
          "name": "stderr",
          "text": [
            "All PyTorch model weights were used when initializing TFGPT2LMHeadModel.\n",
            "\n",
            "All the weights of TFGPT2LMHeadModel were initialized from the PyTorch model.\n",
            "If your task is similar to the task the model of the checkpoint was trained on, you can already use TFGPT2LMHeadModel for predictions without further training.\n"
          ]
        }
      ]
    },
    {
      "cell_type": "markdown",
      "source": [
        "## 아래는 PIpline을 이용해서 모델 로딩"
      ],
      "metadata": {
        "id": "azJqm1TOggCt"
      }
    },
    {
      "cell_type": "code",
      "source": [
        "from transformers import pipeline, set_seed\n",
        "generator = pipeline('text-generation', model='gpt2')\n",
        "set_seed(42)\n",
        "generator(\"Hello, I'm a language model,\", max_length=50, num_return_sequences=5)"
      ],
      "metadata": {
        "colab": {
          "base_uri": "https://localhost:8080/"
        },
        "id": "m0Sy9Q4_f7Zr",
        "outputId": "a80aa058-bf67-483f-ccf9-ad4d3cf0a72b"
      },
      "execution_count": 10,
      "outputs": [
        {
          "output_type": "stream",
          "name": "stderr",
          "text": [
            "Setting `pad_token_id` to `eos_token_id`:50256 for open-end generation.\n"
          ]
        },
        {
          "output_type": "execute_result",
          "data": {
            "text/plain": [
              "[{'generated_text': \"Hello, I'm a language model, but what I'm really doing is making a human-readable document. There are other languages, but those are the ones I like the most. To do your research, please contact me, this isn't your\"},\n",
              " {'generated_text': \"Hello, I'm a language model, not a syntax model. That's why I like it. I've done a lot of programming projects.\\n\\nBut my job as a C programmer is to sort through every single line of the script so I\"},\n",
              " {'generated_text': \"Hello, I'm a language model, and I'll do it in no time!\\n\\nOne of the things we learned from talking to my friend from college a bit earlier, and in the context of the current language model I think it's important\"},\n",
              " {'generated_text': 'Hello, I\\'m a language model, not a command line tool.\\n\\nIf my code is simple enough:\\n\\nif (use (string-replace \"\\\\r\" ))) {\\n\\nconsole. log\\n\\n}\\n\\nthat\\'s'},\n",
              " {'generated_text': \"Hello, I'm a language model, I've been using Language in all my work. Just a small example, let's see a simplified example. I'm making an API for a game where I want a character to play a little bit of a\"}]"
            ]
          },
          "metadata": {},
          "execution_count": 10
        }
      ]
    },
    {
      "cell_type": "code",
      "source": [
        "tokenizer.eos_token_id"
      ],
      "metadata": {
        "colab": {
          "base_uri": "https://localhost:8080/"
        },
        "id": "E2OHHnR9Q_7h",
        "outputId": "c643ec35-69fa-49e9-c316-c709ddd75a97"
      },
      "execution_count": 3,
      "outputs": [
        {
          "output_type": "execute_result",
          "data": {
            "text/plain": [
              "50256"
            ]
          },
          "metadata": {},
          "execution_count": 3
        }
      ]
    },
    {
      "cell_type": "markdown",
      "source": [
        "# 2가지 접근 방식\n",
        "## vim vs greedy![image.png](data:image/png;base64,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)"
      ],
      "metadata": {
        "id": "ylsmUJyqhSw7"
      }
    },
    {
      "cell_type": "markdown",
      "source": [
        "## Greedy\n",
        "### 가장 높은 확률을 가지는 것을 선택\n",
        "\n",
        "## VIm\n",
        "### 가능성이 높은 빔의 수를 유지함으로써 숨겨진 높은 확률의 단어 시퀀스를 놓칠 위험을 줄인다."
      ],
      "metadata": {
        "id": "GGiXdAA9heBo"
      }
    },
    {
      "cell_type": "code",
      "metadata": {
        "id": "OWLd_J6lXz_t",
        "colab": {
          "base_uri": "https://localhost:8080/"
        },
        "outputId": "778ce885-42d5-4612-a5f4-85bea3e1f0f1"
      },
      "source": [
        "# encode context the generation is conditioned on\n",
        "input_ids = tokenizer.encode('My name is Hasnain and I am a software engineer.', return_tensors='tf')\n",
        "\n",
        "# generate text until the output length (which includes the context length) reaches 50\n",
        "greedy_output = model.generate(input_ids, max_length=50)\n",
        "input_ids"
      ],
      "execution_count": 9,
      "outputs": [
        {
          "output_type": "execute_result",
          "data": {
            "text/plain": [
              "<tf.Tensor: shape=(1, 13), dtype=int32, numpy=\n",
              "array([[ 3666,  1438,   318,  7875,    77,   391,   290,   314,   716,\n",
              "          257,  3788, 11949,    13]], dtype=int32)>"
            ]
          },
          "metadata": {},
          "execution_count": 9
        }
      ]
    },
    {
      "cell_type": "markdown",
      "source": [
        "# Output을 보면 그리디 방식을 사용하기 때문에 같은 답을 계속해서 반복함"
      ],
      "metadata": {
        "id": "-Rg2vCUeh0F9"
      }
    },
    {
      "cell_type": "code",
      "source": [
        "print(\"Output:\\n\")\n",
        "print(tokenizer.decode(greedy_output[0]))"
      ],
      "metadata": {
        "colab": {
          "base_uri": "https://localhost:8080/"
        },
        "id": "EJOBVKULO8Op",
        "outputId": "0a704895-9474-42ec-9389-b3eed606d867"
      },
      "execution_count": 5,
      "outputs": [
        {
          "output_type": "stream",
          "name": "stdout",
          "text": [
            "Output:\n",
            "\n",
            "My name is Hasnain and I am a software engineer. I am a member of the Open Source Software Foundation. I am a member of the Open Source Software Foundation. I am a member of the Open Source Software Foundation. I am a member\n"
          ]
        }
      ]
    },
    {
      "cell_type": "code",
      "metadata": {
        "id": "jy3iVJgfnkMi"
      },
      "source": [
        "# set no_repeat_ngram_size to 2\n",
        "beam_output = model.generate(\n",
        "    input_ids,\n",
        "    max_length=50,\n",
        "    num_beams=5,\n",
        "    no_repeat_ngram_size=2,\n",
        "    early_stopping=True\n",
        ")"
      ],
      "execution_count": 6,
      "outputs": []
    },
    {
      "cell_type": "markdown",
      "source": [
        "## Greedy 방식과 비교했을때 나은 결과를 제공"
      ],
      "metadata": {
        "id": "6-_nsAcJiHjq"
      }
    },
    {
      "cell_type": "code",
      "source": [
        "print(\"Output:\\n\")\n",
        "print(tokenizer.decode(beam_output[0], skip_special_tokens=True))"
      ],
      "metadata": {
        "colab": {
          "base_uri": "https://localhost:8080/"
        },
        "id": "yZ2N28_ZPZsd",
        "outputId": "fc87b661-db57-4afa-fbbd-48b97ebeed02"
      },
      "execution_count": 7,
      "outputs": [
        {
          "output_type": "stream",
          "name": "stdout",
          "text": [
            "Output:\n",
            "\n",
            "My name is Hasnain and I am a software engineer. I have been working in the IT industry for over 20 years.\n",
            "\n",
            "I have a passion for software development and have worked on many projects over the past few years, including:\n",
            "\n"
          ]
        }
      ]
    },
    {
      "cell_type": "code",
      "source": [],
      "metadata": {
        "id": "x4r7X9s7RgL6"
      },
      "execution_count": 7,
      "outputs": []
    }
  ]
}